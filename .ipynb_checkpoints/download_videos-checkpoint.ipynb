{
 "cells": [
  {
   "cell_type": "code",
   "execution_count": 85,
   "metadata": {
    "collapsed": false
   },
   "outputs": [],
   "source": [
    "from bs4 import BeautifulSoup\n",
    "import urllib.request\n",
    "import urllib.parse\n",
    "from pytube import YouTube\n",
    "import re\n",
    "import pytube\n",
    "import subprocess as sp\n",
    "import os\n",
    "import sys\n",
    "\n",
    "try:\n",
    "    from urllib.request import Request, urlopen  # Python 3\n",
    "except:\n",
    "    from urllib2 import Request, urlopen  # Python 2\n",
    "    \n",
    "    \n",
    "\n",
    "def get_urls_videos(query):\n",
    "    query = query.replace(\" \", \"+\")\n",
    "    base_url = \"https://www.youtube.com/results?search_query=\"+query\n",
    "    watch_url = \"https://www.youtube.com\"\n",
    "    user_agent = 'Mozilla/5.0 (Windows NT 6.1; Win64; x64)'\n",
    "\n",
    "    headers = {'User-Agent': user_agent}\n",
    "    req = Request(base_url, headers=headers)\n",
    "    webpage = urlopen(req).read()\n",
    "\n",
    "    soup = BeautifulSoup(webpage)\n",
    "    \n",
    "    urls = soup.find(\"div\", {\"id\": \"results\"}).find_all(\"a\")\n",
    "    return [watch_url + url[\"href\"] for url in urls if \"watch?v=\" in url[\"href\"]]\n",
    "\n",
    "def downloading_video(path, class_name, url):\n",
    "    yt = YouTube(url)\n",
    "    outputpath= path + class_name + \"/\" + url.split(\"=\")[-1] + \"/\"\n",
    "    filename = path + class_name + \"/tmp_1\"\n",
    "    \n",
    "    #cmd0 = \"mkdir \" + filename\n",
    "    #print(cmd0)\n",
    "    #os.system(cmd0)\n",
    "    #sp.call(cmd0,shell=True)    \n",
    "    \n",
    "    try:\n",
    "        video = yt.get('mp4')\n",
    "    except pytube.exceptions.MultipleObjectsReturned:\n",
    "        video = yt.get('mp4', '720p')\n",
    " \n",
    "    \n",
    "    video.download(filename)\n",
    "\n",
    "    \n",
    "\n",
    "    cmd1 = \"mkdir \" + outputpath\n",
    "    os.system(cmd1)\n",
    "    #sp.call(cmd1,shell=True)\n",
    "\n",
    "    outputfile = outputpath + \"f\"\n",
    "    cmd2='ffmpeg -i '+filename+' -r 1 -s 224x224 ' + outputfile + '_%04d.jpg'\n",
    "    #sp.call(cmd2,shell=True)\n",
    "    os.system(cmd2)\n",
    "    sys.stdout.write(\"Saved it at \" + outputfile +\"\\n\")\n",
    "    \n",
    "    cmd3 = \"rm \" + filename\n",
    "    os.system(cmd3)\n",
    "    #sp.call(cmd3,shell=True)\n",
    "\n",
    "def video_pipeline(path, query_dict):\n",
    "    for class_name, queries in list(query_dict.items()):\n",
    "        cmd = \"mkdir \" + path + class_name\n",
    "        os.system(cmd)\n",
    "        for query in queries:\n",
    "            urls = get_urls_videos(query)\n",
    "            for url in urls:\n",
    "                downloading_video(path, class_name, url)\n",
    "                "
   ]
  },
  {
   "cell_type": "code",
   "execution_count": 87,
   "metadata": {
    "collapsed": true
   },
   "outputs": [],
   "source": [
    "q_d = {\"Cocacola\": [\"cocacola ad\", \"coca cola commercial\"],\n",
    "       \"Pepsi\":[\"pepsi ad\", \"pepsi commercial\"],\n",
    "       \"Nike\":[\"nike reviews\",\"nike ad\", \"nike commercial\"]}"
   ]
  },
  {
   "cell_type": "code",
   "execution_count": null,
   "metadata": {
    "collapsed": false
   },
   "outputs": [
    {
     "name": "stderr",
     "output_type": "stream",
     "text": [
      "/Library/Frameworks/Python.framework/Versions/3.5/lib/python3.5/site-packages/bs4/__init__.py:181: UserWarning: No parser was explicitly specified, so I'm using the best available HTML parser for this system (\"html.parser\"). This usually isn't a problem, but if you run this code on another system, or in a different virtual environment, it may use a different parser and behave differently.\n",
      "\n",
      "The code that caused this warning is on line 184 of the file /Library/Frameworks/Python.framework/Versions/3.5/lib/python3.5/runpy.py. To get rid of this warning, change code that looks like this:\n",
      "\n",
      " BeautifulSoup([your markup])\n",
      "\n",
      "to this:\n",
      "\n",
      " BeautifulSoup([your markup], \"html.parser\")\n",
      "\n",
      "  markup_type=markup_type))\n"
     ]
    },
    {
     "name": "stdout",
     "output_type": "stream",
     "text": [
      "dir created\n",
      "Saved it at /Users/francescoferrari/Downloads/video_dataset/Nike/J0Mb4lHtQTE/f\n",
      "dir created\n",
      "Saved it at /Users/francescoferrari/Downloads/video_dataset/Nike/J0Mb4lHtQTE/f\n",
      "dir created\n",
      "Saved it at /Users/francescoferrari/Downloads/video_dataset/Nike/aA58VtC-84Q/f\n",
      "dir created\n",
      "Saved it at /Users/francescoferrari/Downloads/video_dataset/Nike/aA58VtC-84Q/f\n",
      "dir created\n",
      "Saved it at /Users/francescoferrari/Downloads/video_dataset/Nike/ZF6xsqGBCOc/f\n",
      "dir created\n",
      "Saved it at /Users/francescoferrari/Downloads/video_dataset/Nike/ZF6xsqGBCOc/f\n",
      "dir created\n",
      "Saved it at /Users/francescoferrari/Downloads/video_dataset/Nike/FgRyvBpn3B4/f\n",
      "dir created\n",
      "Saved it at /Users/francescoferrari/Downloads/video_dataset/Nike/FgRyvBpn3B4/f\n",
      "dir created\n",
      "Saved it at /Users/francescoferrari/Downloads/video_dataset/Nike/MmjW2kCM6dc/f\n",
      "dir created\n",
      "Saved it at /Users/francescoferrari/Downloads/video_dataset/Nike/MmjW2kCM6dc/f\n",
      "dir created\n",
      "Saved it at /Users/francescoferrari/Downloads/video_dataset/Nike/7rG2iTc8c4A/f\n",
      "dir created\n",
      "Saved it at /Users/francescoferrari/Downloads/video_dataset/Nike/7rG2iTc8c4A/f\n",
      "dir created\n",
      "Saved it at /Users/francescoferrari/Downloads/video_dataset/Nike/-N7veRPY-WU/f\n",
      "dir created\n",
      "Saved it at /Users/francescoferrari/Downloads/video_dataset/Nike/-N7veRPY-WU/f\n",
      "dir created\n",
      "Saved it at /Users/francescoferrari/Downloads/video_dataset/Nike/-dWACa2-SE0/f\n",
      "dir created\n",
      "Saved it at /Users/francescoferrari/Downloads/video_dataset/Nike/-dWACa2-SE0/f\n",
      "dir created\n",
      "Saved it at /Users/francescoferrari/Downloads/video_dataset/Nike/TvFrhvraUMI/f\n",
      "dir created\n",
      "Saved it at /Users/francescoferrari/Downloads/video_dataset/Nike/TvFrhvraUMI/f\n",
      "dir created\n",
      "Saved it at /Users/francescoferrari/Downloads/video_dataset/Nike/jyaT6zmsKsA/f\n",
      "dir created\n",
      "Saved it at /Users/francescoferrari/Downloads/video_dataset/Nike/jyaT6zmsKsA/f\n",
      "dir created\n",
      "Saved it at /Users/francescoferrari/Downloads/video_dataset/Nike/MhPGZ2-nf-0/f\n",
      "dir created\n",
      "Saved it at /Users/francescoferrari/Downloads/video_dataset/Nike/MhPGZ2-nf-0/f\n",
      "dir created\n",
      "Saved it at /Users/francescoferrari/Downloads/video_dataset/Nike/Ql0hEqFRFNY/f\n",
      "dir created\n",
      "Saved it at /Users/francescoferrari/Downloads/video_dataset/Nike/Ql0hEqFRFNY/f\n",
      "dir created\n",
      "Saved it at /Users/francescoferrari/Downloads/video_dataset/Nike/2c3oHx1sr9s/f\n",
      "dir created\n",
      "Saved it at /Users/francescoferrari/Downloads/video_dataset/Nike/2c3oHx1sr9s/f\n",
      "dir created\n",
      "Saved it at /Users/francescoferrari/Downloads/video_dataset/Nike/WsdwVn_i-VY/f\n",
      "dir created\n",
      "Saved it at /Users/francescoferrari/Downloads/video_dataset/Nike/WsdwVn_i-VY/f\n",
      "dir created\n",
      "Saved it at /Users/francescoferrari/Downloads/video_dataset/Nike/WmherAYm_A0/f\n",
      "dir created\n",
      "Saved it at /Users/francescoferrari/Downloads/video_dataset/Nike/WmherAYm_A0/f\n",
      "dir created\n",
      "Saved it at /Users/francescoferrari/Downloads/video_dataset/Nike/R2keHnHhWnU/f\n",
      "dir created\n",
      "Saved it at /Users/francescoferrari/Downloads/video_dataset/Nike/R2keHnHhWnU/f\n",
      "dir created\n",
      "Saved it at /Users/francescoferrari/Downloads/video_dataset/Nike/7qNXdiMinZQ/f\n",
      "dir created\n",
      "Saved it at /Users/francescoferrari/Downloads/video_dataset/Nike/7qNXdiMinZQ/f\n",
      "dir created\n"
     ]
    }
   ],
   "source": [
    "video_pipeline(\"/Users/francescoferrari/Downloads/video_dataset/\", q_d)"
   ]
  },
  {
   "cell_type": "code",
   "execution_count": null,
   "metadata": {
    "collapsed": true
   },
   "outputs": [],
   "source": []
  },
  {
   "cell_type": "code",
   "execution_count": null,
   "metadata": {
    "collapsed": true
   },
   "outputs": [],
   "source": []
  }
 ],
 "metadata": {
  "kernelspec": {
   "display_name": "Python 3",
   "language": "python",
   "name": "python3"
  },
  "language_info": {
   "codemirror_mode": {
    "name": "ipython",
    "version": 3
   },
   "file_extension": ".py",
   "mimetype": "text/x-python",
   "name": "python",
   "nbconvert_exporter": "python",
   "pygments_lexer": "ipython3",
   "version": "3.5.2"
  }
 },
 "nbformat": 4,
 "nbformat_minor": 1
}
