{
 "cells": [
  {
   "cell_type": "code",
   "execution_count": 6,
   "metadata": {
    "collapsed": false
   },
   "outputs": [],
   "source": [
    "from keras.models import Sequential\n",
    "from keras.layers.core import Flatten, Dense, Dropout\n",
    "from keras.layers.convolutional import Convolution2D, MaxPooling2D, ZeroPadding2D\n",
    "from keras.layers.wrappers import TimeDistributed\n",
    "from keras.layers.recurrent import SimpleRNN, LSTM, GRU\n",
    "from keras.layers.core import Dense, Activation, Dropout, Reshape, Flatten\n",
    "from keras.models import Model\n",
    "from keras.layers import Input\n",
    "from keras.applications.vgg19 import VGG19\n",
    "from keras.layers import Dense, GlobalAveragePooling2D\n",
    "\n",
    "from keras.models import Sequential, ask_to_proceed_with_overwrite\n",
    "from keras.layers import Dense\n",
    "from keras.layers.core import Activation, Dense\n",
    "from keras.layers import SimpleRNN, LSTM,  GRU,SeparableConvolution2D\n",
    "from keras.callbacks import ModelCheckpoint,EarlyStopping\n",
    "\n",
    "from keras.layers.wrappers import TimeDistributed\n",
    "\n",
    "import keras\n",
    "from keras.applications import VGG16\n",
    "from keras.models import Model\n",
    "from keras.layers.core import Activation, Dense\n",
    "import tensorflow as tf\n",
    "import glob\n",
    "\n",
    "import scipy\n",
    "import numpy as np\n",
    "from PIL import Image\n",
    "import random\n",
    "import pandas as pd\n",
    "import random"
   ]
  },
  {
   "cell_type": "code",
   "execution_count": 63,
   "metadata": {
    "collapsed": false
   },
   "outputs": [],
   "source": [
    "\n",
    "def getModel2( output_dim ):\n",
    "    ''' \n",
    "        * output_dim: the number of classes (int)\n",
    "        \n",
    "        * return: compiled model (keras.engine.training.Model)\n",
    "    '''\n",
    "    #vgg_model = VGG16( weights='imagenet', include_top=False )\n",
    "    vgg_model = VGG16(weights='imagenet', include_top=False)\n",
    "\n",
    "#     for layer in vgg_model.layers:\n",
    "#         layer.trainable = False\n",
    "\n",
    "    x = vgg_model.output\n",
    "    x = GlobalAveragePooling2D()(x)\n",
    "    # let's add a fully-connected layer\n",
    "    x = Dense(1024, activation='relu')(x)\n",
    "    \n",
    "    predictions = Dense(output_dim ,activation='softmax')(x)\n",
    "\n",
    "# this is the model we will train\n",
    "    model = Model(input=vgg_model.input, output=predictions)\n",
    "\n",
    "    #Freeze all layers of VGG16 and Compile the model\n",
    "    #Confirm the model is appropriate\n",
    "\n",
    "    return model    \n",
    "\n",
    "def load_model(weights_path, output_dim):\n",
    "\n",
    "    model = getModel2( output_dim ) \n",
    "    for k,layer in model.layers_by_depth.items()[:]:\n",
    "        layer[0].trainable = False\n",
    "#     for layer in model.layers:\n",
    "#         layer.trainable = False\n",
    "        \n",
    "    model.load_weights(weights_path)\n",
    "    model.compile(loss='categorical_crossentropy',\n",
    "              optimizer='adam',\n",
    "              metrics=['accuracy', 'categorical_crossentropy'])   \n",
    "    return model\n",
    "\n",
    "def load_rnn_model(weights):\n",
    "    model_rnn3=Sequential()\n",
    "\n",
    "    model_rnn3.add(TimeDistributed(trained_model, input_shape=(max_frames,224,224,3)))\n",
    "    model_rnn3.add(GRU(output_dim=100,return_sequences=True))\n",
    "    model_rnn3.add(GRU(output_dim=50,return_sequences=False))\n",
    "    model_rnn3.add(Dropout(.2))\n",
    "    model_rnn3.add(Dense(number_of_brands,activation='softmax'))\n",
    "    model_rnn3.load_weights(weights)\n",
    "\n",
    "    model_rnn3.compile(optimizer='adam', loss='categorical_crossentropy',metrics=['accuracy', 'categorical_crossentropy'])\n",
    "\n",
    "    return model_rnn3\n",
    "\n",
    "labels_dict = {'apple': 2, 'cocacola': 0, 'nike': 4, 'pepsi': 1, 'starbucks': 3}\n",
    "reversed_dict = dict([(x[1],x[0]) for x in labels_dict.items()])\n",
    "\n",
    "def get_brand(softmaxes):\n",
    "    print np.max(softmaxes.mean(axis=0))\n",
    "    return reversed_dict[np.argmax(softmaxes.mean(axis=0))]\n"
   ]
  },
  {
   "cell_type": "code",
   "execution_count": 8,
   "metadata": {
    "collapsed": false
   },
   "outputs": [
    {
     "name": "stderr",
     "output_type": "stream",
     "text": [
      "/home/ubuntu/.local/lib/python2.7/site-packages/ipykernel/__main__.py:22: UserWarning: Update your `Model` call to the Keras 2 API: `Model(outputs=Tensor(\"de..., inputs=Tensor(\"in...)`\n"
     ]
    }
   ],
   "source": [
    "trained_model = load_model(\"weights-improvement-VGG16-LOGO5-04-0.9940.hdf5\", 5)"
   ]
  },
  {
   "cell_type": "code",
   "execution_count": 11,
   "metadata": {
    "collapsed": false
   },
   "outputs": [
    {
     "name": "stderr",
     "output_type": "stream",
     "text": [
      "/home/ubuntu/.local/lib/python2.7/site-packages/ipykernel/__main__.py:47: UserWarning: Update your `GRU` call to the Keras 2 API: `GRU(units=100, return_sequences=True)`\n",
      "/home/ubuntu/.local/lib/python2.7/site-packages/ipykernel/__main__.py:48: UserWarning: Update your `GRU` call to the Keras 2 API: `GRU(units=50, return_sequences=False)`\n"
     ]
    }
   ],
   "source": [
    "max_frames = 5\n",
    "number_of_brands = 5\n",
    "rnn_model = load_rnn_model(\"RNN-05-0.8704.hdf5\")"
   ]
  },
  {
   "cell_type": "code",
   "execution_count": 12,
   "metadata": {
    "collapsed": true
   },
   "outputs": [],
   "source": [
    "## Download Video"
   ]
  },
  {
   "cell_type": "code",
   "execution_count": 65,
   "metadata": {
    "collapsed": true
   },
   "outputs": [],
   "source": [
    "url = \"https://www.youtube.com/watch?v=uc9Bi52ZQ7A\""
   ]
  },
  {
   "cell_type": "code",
   "execution_count": 66,
   "metadata": {
    "collapsed": false
   },
   "outputs": [],
   "source": [
    "from pytube import YouTube\n",
    "yt = YouTube(url)"
   ]
  },
  {
   "cell_type": "code",
   "execution_count": 67,
   "metadata": {
    "collapsed": true
   },
   "outputs": [],
   "source": [
    "video = yt.get('mp4', '720p')"
   ]
  },
  {
   "cell_type": "code",
   "execution_count": 68,
   "metadata": {
    "collapsed": false
   },
   "outputs": [],
   "source": [
    "cmd1 = \"rm /tmp/tmp_1\"\n",
    "sp.call(cmd1,shell=True)\n",
    "video.download('/tmp/tmp_1')"
   ]
  },
  {
   "cell_type": "code",
   "execution_count": 53,
   "metadata": {
    "collapsed": true
   },
   "outputs": [],
   "source": [
    "## Format video"
   ]
  },
  {
   "cell_type": "code",
   "execution_count": 54,
   "metadata": {
    "collapsed": true
   },
   "outputs": [],
   "source": [
    "import subprocess as sp\n",
    "import sys"
   ]
  },
  {
   "cell_type": "code",
   "execution_count": 69,
   "metadata": {
    "collapsed": false
   },
   "outputs": [
    {
     "name": "stdout",
     "output_type": "stream",
     "text": [
      "Saved it at /tmp/tmp_1_1/f\n"
     ]
    }
   ],
   "source": [
    "filename = \"/tmp/tmp_1\"\n",
    "\n",
    "cmd1 = \"rm -r /tmp/tmp_1_1\"\n",
    "sp.call(cmd1,shell=True)\n",
    "\n",
    "cmd1 = \"mkdir /tmp/tmp_1_1\"\n",
    "sp.call(cmd1,shell=True)\n",
    "outputpath= \"/tmp/tmp_1_1/\"\n",
    "        \n",
    "outputfile = outputpath + \"f\"\n",
    "cmd2='ffmpeg -i '+filename+' -vframes 100  -r 2 -s 224x224 ' + outputfile + '_%04d.jpg'\n",
    "sp.call(cmd2,shell=True)\n",
    "sys.stdout.write(\"Saved it at \" + outputfile +\"\\n\")"
   ]
  },
  {
   "cell_type": "code",
   "execution_count": 70,
   "metadata": {
    "collapsed": true
   },
   "outputs": [],
   "source": [
    "## Get top sliding window"
   ]
  },
  {
   "cell_type": "code",
   "execution_count": 71,
   "metadata": {
    "collapsed": true
   },
   "outputs": [],
   "source": [
    "import glob"
   ]
  },
  {
   "cell_type": "code",
   "execution_count": 72,
   "metadata": {
    "collapsed": true
   },
   "outputs": [],
   "source": [
    "frames = glob.glob(\"/tmp/tmp_1_1/*\")\n",
    "x_mean = 0.39533365588770686"
   ]
  },
  {
   "cell_type": "code",
   "execution_count": 73,
   "metadata": {
    "collapsed": false
   },
   "outputs": [],
   "source": [
    "imgs = []\n",
    "for frame in frames:\n",
    "    img = np.asarray(Image.open(frame))/255.\n",
    "    imgs.append(img)\n",
    "    \n",
    "imgs = np.array(imgs) - x_mean\n",
    "    \n",
    "    \n",
    "    \n",
    "    "
   ]
  },
  {
   "cell_type": "code",
   "execution_count": 74,
   "metadata": {
    "collapsed": true
   },
   "outputs": [],
   "source": [
    "softmaxes = trained_model.predict(imgs)"
   ]
  },
  {
   "cell_type": "code",
   "execution_count": 40,
   "metadata": {
    "collapsed": false
   },
   "outputs": [],
   "source": [
    "avgs = []\n",
    "for i in range(0, len(softmaxes)-max_frames ):\n",
    "    avgs.append(softmaxes[i:i+max_frames].mean(axis=0))"
   ]
  },
  {
   "cell_type": "code",
   "execution_count": 75,
   "metadata": {
    "collapsed": false
   },
   "outputs": [
    {
     "name": "stdout",
     "output_type": "stream",
     "text": [
      "0.572072\n"
     ]
    },
    {
     "data": {
      "text/plain": [
       "'apple'"
      ]
     },
     "execution_count": 75,
     "metadata": {},
     "output_type": "execute_result"
    }
   ],
   "source": [
    "get_brand(softmaxes)"
   ]
  },
  {
   "cell_type": "code",
   "execution_count": null,
   "metadata": {
    "collapsed": true
   },
   "outputs": [],
   "source": []
  }
 ],
 "metadata": {
  "kernelspec": {
   "display_name": "Python 2",
   "language": "python",
   "name": "python2"
  },
  "language_info": {
   "codemirror_mode": {
    "name": "ipython",
    "version": 2
   },
   "file_extension": ".py",
   "mimetype": "text/x-python",
   "name": "python",
   "nbconvert_exporter": "python",
   "pygments_lexer": "ipython2",
   "version": "2.7.12"
  }
 },
 "nbformat": 4,
 "nbformat_minor": 2
}
