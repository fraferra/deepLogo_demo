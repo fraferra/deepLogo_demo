{
 "cells": [
  {
   "cell_type": "code",
   "execution_count": 48,
   "metadata": {
    "collapsed": false
   },
   "outputs": [],
   "source": [
    "from bs4 import BeautifulSoup\n",
    "import urllib.request\n",
    "import urllib.parse\n",
    "import urllib\n",
    "import re\n",
    "import os\n",
    "try:\n",
    "    from urllib.request import Request, urlopen  # Python 3\n",
    "except:\n",
    "    from urllib2 import Request, urlopen  # Python 2\n",
    "\n",
    "def get_urls_from_divs(divs):\n",
    "    return list(map(lambda div: re.search(r\"url\\(//([\\w\\d\\./]+)\", str(div)).group().replace(\"url(//\", \"http://\"), divs))\n",
    "\n",
    "def get_url_imgs_flickr(queries):\n",
    "    queries = [q.replace(\" \", \"%20\") for q in queries]\n",
    "    base_url = \"https://www.flickr.com/search/?orientation=square&view_all=1&text=\"\n",
    "    urls = [base_url + q for q in queries]\n",
    "    results = []\n",
    "    \n",
    "    user_agent = 'Mozilla/5.0 (Windows NT 6.1; Win64; x64)'\n",
    "\n",
    "    headers = {'User-Agent': user_agent}\n",
    "    for url in urls:\n",
    "        req = Request(url, headers=headers)\n",
    "        webpage = urlopen(req).read()\n",
    "\n",
    "        soup = BeautifulSoup(webpage)\n",
    "        mydivs = soup.findAll(\"div\", { \"class\" : \"photo-list-photo-view\" })\n",
    "        results += get_urls_from_divs(mydivs)\n",
    "    return results\n",
    "\n",
    "\n",
    "def get_urls_imgs_google(queries):\n",
    "    queries = [q.replace(\" \", \"+\") for q in queries]\n",
    "    base_url = \"https://www.google.com/search?source=lnms&tbm=isch&sa=X&q=\"\n",
    "    urls = [base_url + q for q in queries]\n",
    "    results = []\n",
    "    \n",
    "    user_agent = 'Mozilla/5.0 (Windows NT 6.1; Win64; x64)'\n",
    "\n",
    "    headers = {'User-Agent': user_agent}\n",
    "    for url in urls:\n",
    "        req = Request(url, headers=headers)\n",
    "        webpage = urlopen(req).read()\n",
    "\n",
    "        soup = BeautifulSoup(webpage)\n",
    "        mydivs = [x.find(\"img\")[\"src\"] for x in soup.findAll(\"a\") if x.find(\"img\") != None]\n",
    "        results += mydivs\n",
    "    return results  \n",
    "\n",
    "def download_imgs(path, class_name, url_imgs):\n",
    "    cmd = \"mkdir \"+path+class_name\n",
    "    os.system(cmd)\n",
    "    for url in url_imgs:\n",
    "        if \"images?q=tbn:\" in url:\n",
    "            urllib.request.urlretrieve(url,path+class_name+\"/\"+url.split(\"images?q=tbn:\")[-1] + \".jpg\" )\n",
    "        else:\n",
    "            urllib.request.urlretrieve(url,path+class_name+\"/\"+url.split(\"/\")[-1] )\n",
    "        \n",
    "def pipeline(queries_dict, path):\n",
    "    for class_name, queries in list(queries_dict.items()):\n",
    "        urls = set(get_url_imgs_flickr(queries) + get_urls_imgs_google(queries))\n",
    "        download_imgs(path, class_name, urls)\n",
    "        print(\"saved \" + class_name)"
   ]
  },
  {
   "cell_type": "code",
   "execution_count": 49,
   "metadata": {
    "collapsed": false
   },
   "outputs": [],
   "source": [
    "q_d = {\"Cocacola\": [\"cocacola\", \"coca cola\", \"cocacola sign\", \"coca cola sign\", \"Merchandising cocacola\"],\n",
    "       \"Pepsi\":[\"pepsi\", \"pepsi sign\", \"pepsi drink\",\"Merchandising pepsi\"],\n",
    "       \"Nike\":[\"nike\",\"nike shoes\", \"nike brand\", \"Merchandising nike\"]}"
   ]
  },
  {
   "cell_type": "code",
   "execution_count": null,
   "metadata": {
    "collapsed": false
   },
   "outputs": [
    {
     "name": "stderr",
     "output_type": "stream",
     "text": [
      "/Library/Frameworks/Python.framework/Versions/3.5/lib/python3.5/site-packages/bs4/__init__.py:181: UserWarning: No parser was explicitly specified, so I'm using the best available HTML parser for this system (\"html.parser\"). This usually isn't a problem, but if you run this code on another system, or in a different virtual environment, it may use a different parser and behave differently.\n",
      "\n",
      "The code that caused this warning is on line 184 of the file /Library/Frameworks/Python.framework/Versions/3.5/lib/python3.5/runpy.py. To get rid of this warning, change code that looks like this:\n",
      "\n",
      " BeautifulSoup([your markup])\n",
      "\n",
      "to this:\n",
      "\n",
      " BeautifulSoup([your markup], \"html.parser\")\n",
      "\n",
      "  markup_type=markup_type))\n"
     ]
    },
    {
     "name": "stdout",
     "output_type": "stream",
     "text": [
      "saved Cocacola\n",
      "saved Nike\n"
     ]
    }
   ],
   "source": [
    "pipeline(q_d, \"/Users/francescoferrari/Downloads/logo_dataset/\")"
   ]
  }
 ],
 "metadata": {
  "kernelspec": {
   "display_name": "Python 3",
   "language": "python",
   "name": "python3"
  },
  "language_info": {
   "codemirror_mode": {
    "name": "ipython",
    "version": 3
   },
   "file_extension": ".py",
   "mimetype": "text/x-python",
   "name": "python",
   "nbconvert_exporter": "python",
   "pygments_lexer": "ipython3",
   "version": "3.5.2"
  }
 },
 "nbformat": 4,
 "nbformat_minor": 1
}
