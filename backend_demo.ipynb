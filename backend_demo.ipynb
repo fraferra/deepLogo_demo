{
 "cells": [
  {
   "cell_type": "code",
   "execution_count": 6,
   "metadata": {
    "collapsed": false,
    "deletable": true,
    "editable": true
   },
   "outputs": [],
   "source": [
    "from keras.models import Sequential\n",
    "from keras.layers.core import Flatten, Dense, Dropout\n",
    "from keras.layers.convolutional import Convolution2D, MaxPooling2D, ZeroPadding2D\n",
    "from keras.layers.wrappers import TimeDistributed\n",
    "from keras.layers.recurrent import SimpleRNN, LSTM, GRU\n",
    "from keras.layers.core import Dense, Activation, Dropout, Reshape, Flatten\n",
    "from keras.models import Model\n",
    "from keras.layers import Input\n",
    "from keras.applications.vgg19 import VGG19\n",
    "from keras.layers import Dense, GlobalAveragePooling2D\n",
    "\n",
    "from keras.models import Sequential, ask_to_proceed_with_overwrite\n",
    "from keras.layers import Dense\n",
    "from keras.layers.core import Activation, Dense\n",
    "from keras.layers import SimpleRNN, LSTM,  GRU,SeparableConvolution2D\n",
    "from keras.callbacks import ModelCheckpoint,EarlyStopping\n",
    "\n",
    "from keras.layers.wrappers import TimeDistributed\n",
    "\n",
    "import keras\n",
    "from keras.applications import VGG16\n",
    "from keras.models import Model\n",
    "from keras.layers.core import Activation, Dense\n",
    "import tensorflow as tf\n",
    "import glob\n",
    "\n",
    "import scipy\n",
    "import numpy as np\n",
    "from PIL import Image\n",
    "import random\n",
    "import pandas as pd\n",
    "import random"
   ]
  },
  {
   "cell_type": "code",
   "execution_count": 79,
   "metadata": {
    "collapsed": false,
    "deletable": true,
    "editable": true
   },
   "outputs": [],
   "source": [
    "\n",
    "def getModel2( output_dim ):\n",
    "    ''' \n",
    "        * output_dim: the number of classes (int)\n",
    "        \n",
    "        * return: compiled model (keras.engine.training.Model)\n",
    "    '''\n",
    "    #vgg_model = VGG16( weights='imagenet', include_top=False )\n",
    "    vgg_model = VGG16(weights='imagenet', include_top=False)\n",
    "\n",
    "#     for layer in vgg_model.layers:\n",
    "#         layer.trainable = False\n",
    "\n",
    "    x = vgg_model.output\n",
    "    x = GlobalAveragePooling2D()(x)\n",
    "    # let's add a fully-connected layer\n",
    "    x = Dense(1024, activation='relu')(x)\n",
    "    \n",
    "    predictions = Dense(output_dim ,activation='softmax')(x)\n",
    "\n",
    "# this is the model we will train\n",
    "    model = Model(input=vgg_model.input, output=predictions)\n",
    "\n",
    "    #Freeze all layers of VGG16 and Compile the model\n",
    "    #Confirm the model is appropriate\n",
    "\n",
    "    return model    \n",
    "\n",
    "def load_model(weights_path, output_dim):\n",
    "\n",
    "    model = getModel2( output_dim ) \n",
    "    for k,layer in model.layers_by_depth.items()[:]:\n",
    "        layer[0].trainable = False\n",
    "#     for layer in model.layers:\n",
    "#         layer.trainable = False\n",
    "        \n",
    "    model.load_weights(weights_path)\n",
    "    model.compile(loss='categorical_crossentropy',\n",
    "              optimizer='adam',\n",
    "              metrics=['accuracy', 'categorical_crossentropy'])   \n",
    "    return model\n",
    "\n",
    "def load_rnn_model(weights):\n",
    "    model_rnn3=Sequential()\n",
    "\n",
    "    model_rnn3.add(TimeDistributed(trained_model, input_shape=(max_frames,224,224,3)))\n",
    "    model_rnn3.add(GRU(output_dim=100,return_sequences=True))\n",
    "    model_rnn3.add(GRU(output_dim=50,return_sequences=False))\n",
    "    model_rnn3.add(Dropout(.2))\n",
    "    model_rnn3.add(Dense(number_of_brands,activation='softmax'))\n",
    "    model_rnn3.load_weights(weights)\n",
    "\n",
    "    model_rnn3.compile(optimizer='adam', loss='categorical_crossentropy',metrics=['accuracy', 'categorical_crossentropy'])\n",
    "\n",
    "    return model_rnn3\n",
    "\n",
    "labels_dict = {'apple': 2, 'cocacola': 0, 'nike': 4, 'pepsi': 1, 'starbucks': 3}\n",
    "reversed_dict = dict([(x[1],x[0]) for x in labels_dict.items()])\n",
    "\n",
    "def get_brand(softmaxes):\n",
    "    v = np.max(softmaxes.mean(axis=0))\n",
    "    if v > 0.6:\n",
    "        return reversed_dict[np.argmax(softmaxes.mean(axis=0))]\n",
    "    return \"Noise\"\n"
   ]
  },
  {
   "cell_type": "code",
   "execution_count": 8,
   "metadata": {
    "collapsed": false,
    "deletable": true,
    "editable": true
   },
   "outputs": [
    {
     "name": "stderr",
     "output_type": "stream",
     "text": [
      "/home/ubuntu/.local/lib/python2.7/site-packages/ipykernel/__main__.py:22: UserWarning: Update your `Model` call to the Keras 2 API: `Model(outputs=Tensor(\"de..., inputs=Tensor(\"in...)`\n"
     ]
    }
   ],
   "source": [
    "trained_model = load_model(\"weights-improvement-VGG16-LOGO5-04-0.9940.hdf5\", 5)"
   ]
  },
  {
   "cell_type": "code",
   "execution_count": 11,
   "metadata": {
    "collapsed": false,
    "deletable": true,
    "editable": true
   },
   "outputs": [
    {
     "name": "stderr",
     "output_type": "stream",
     "text": [
      "/home/ubuntu/.local/lib/python2.7/site-packages/ipykernel/__main__.py:47: UserWarning: Update your `GRU` call to the Keras 2 API: `GRU(units=100, return_sequences=True)`\n",
      "/home/ubuntu/.local/lib/python2.7/site-packages/ipykernel/__main__.py:48: UserWarning: Update your `GRU` call to the Keras 2 API: `GRU(units=50, return_sequences=False)`\n"
     ]
    }
   ],
   "source": [
    "max_frames = 5\n",
    "number_of_brands = 5\n",
    "rnn_model = load_rnn_model(\"RNN-05-0.8704.hdf5\")"
   ]
  },
  {
   "cell_type": "code",
   "execution_count": 12,
   "metadata": {
    "collapsed": true,
    "deletable": true,
    "editable": true
   },
   "outputs": [],
   "source": [
    "## Download Video"
   ]
  },
  {
   "cell_type": "code",
   "execution_count": 131,
   "metadata": {
    "collapsed": true,
    "deletable": true,
    "editable": true
   },
   "outputs": [],
   "source": [
    "url = \"https://www.youtube.com/watch?v=vWD2U0CUB8o\""
   ]
  },
  {
   "cell_type": "code",
   "execution_count": 132,
   "metadata": {
    "collapsed": false,
    "deletable": true,
    "editable": true
   },
   "outputs": [],
   "source": [
    "from pytube import YouTube\n",
    "yt = YouTube(url)"
   ]
  },
  {
   "cell_type": "code",
   "execution_count": 133,
   "metadata": {
    "collapsed": true,
    "deletable": true,
    "editable": true
   },
   "outputs": [],
   "source": [
    "video = yt.get('mp4', '720p')"
   ]
  },
  {
   "cell_type": "code",
   "execution_count": 134,
   "metadata": {
    "collapsed": false,
    "deletable": true,
    "editable": true
   },
   "outputs": [],
   "source": [
    "cmd1 = \"rm /tmp/tmp_1\"\n",
    "sp.call(cmd1,shell=True)\n",
    "video.download('/tmp/tmp_1')"
   ]
  },
  {
   "cell_type": "code",
   "execution_count": 135,
   "metadata": {
    "collapsed": true,
    "deletable": true,
    "editable": true
   },
   "outputs": [],
   "source": [
    "## Format video"
   ]
  },
  {
   "cell_type": "code",
   "execution_count": 136,
   "metadata": {
    "collapsed": true,
    "deletable": true,
    "editable": true
   },
   "outputs": [],
   "source": [
    "import subprocess as sp\n",
    "import sys"
   ]
  },
  {
   "cell_type": "code",
   "execution_count": 137,
   "metadata": {
    "collapsed": false,
    "deletable": true,
    "editable": true
   },
   "outputs": [
    {
     "name": "stdout",
     "output_type": "stream",
     "text": [
      "Saved it at /tmp/tmp_1_1/f\n"
     ]
    }
   ],
   "source": [
    "filename = \"/tmp/tmp_1\"\n",
    "\n",
    "cmd1 = \"rm -r /tmp/tmp_1_1\"\n",
    "sp.call(cmd1,shell=True)\n",
    "\n",
    "cmd1 = \"mkdir /tmp/tmp_1_1\"\n",
    "sp.call(cmd1,shell=True)\n",
    "outputpath= \"/tmp/tmp_1_1/\"\n",
    "        \n",
    "outputfile = outputpath + \"f\"\n",
    "cmd2='ffmpeg -i '+filename+' -vframes 100  -r 2 -s 224x224 ' + outputfile + '_%04d.jpg'\n",
    "sp.call(cmd2,shell=True)\n",
    "sys.stdout.write(\"Saved it at \" + outputfile +\"\\n\")"
   ]
  },
  {
   "cell_type": "code",
   "execution_count": 138,
   "metadata": {
    "collapsed": true,
    "deletable": true,
    "editable": true
   },
   "outputs": [],
   "source": [
    "## Get top sliding window"
   ]
  },
  {
   "cell_type": "code",
   "execution_count": 139,
   "metadata": {
    "collapsed": true,
    "deletable": true,
    "editable": true
   },
   "outputs": [],
   "source": [
    "import glob"
   ]
  },
  {
   "cell_type": "code",
   "execution_count": 140,
   "metadata": {
    "collapsed": true,
    "deletable": true,
    "editable": true
   },
   "outputs": [],
   "source": [
    "frames = glob.glob(\"/tmp/tmp_1_1/*\")\n",
    "x_mean = 0.39533365588770686"
   ]
  },
  {
   "cell_type": "code",
   "execution_count": 141,
   "metadata": {
    "collapsed": false,
    "deletable": true,
    "editable": true
   },
   "outputs": [],
   "source": [
    "imgs = []\n",
    "for frame in frames:\n",
    "    img = np.asarray(Image.open(frame))/255.\n",
    "    imgs.append(img)\n",
    "    \n",
    "imgs = np.array(imgs) - x_mean\n",
    "    \n",
    "    \n",
    "    \n",
    "    "
   ]
  },
  {
   "cell_type": "code",
   "execution_count": 142,
   "metadata": {
    "collapsed": true,
    "deletable": true,
    "editable": true
   },
   "outputs": [],
   "source": [
    "softmaxes = trained_model.predict(imgs)"
   ]
  },
  {
   "cell_type": "code",
   "execution_count": 145,
   "metadata": {
    "collapsed": false,
    "deletable": true,
    "editable": true
   },
   "outputs": [
    {
     "data": {
      "text/plain": [
       "array([[  1.13027580e-02,   9.85687554e-01,   3.41692619e-04,\n",
       "          2.89327204e-06,   2.66503519e-03],\n",
       "       [  1.59143692e-05,   2.26134494e-01,   7.60171175e-01,\n",
       "          9.51263337e-06,   1.36689423e-02],\n",
       "       [  2.86663471e-10,   2.40629817e-07,   9.99999404e-01,\n",
       "          1.74327173e-13,   3.20528869e-07],\n",
       "       [  2.45911215e-04,   7.71836579e-01,   1.62884146e-01,\n",
       "          2.30583100e-05,   6.50102645e-02],\n",
       "       [  5.65120445e-07,   1.16335330e-04,   9.99877572e-01,\n",
       "          3.18504357e-15,   5.52421534e-06],\n",
       "       [  6.17952883e-01,   3.81364912e-01,   6.26906456e-07,\n",
       "          2.91565811e-07,   6.81250822e-04],\n",
       "       [  2.29232285e-07,   8.31683341e-04,   9.02126670e-01,\n",
       "          8.62154259e-09,   9.70413685e-02],\n",
       "       [  2.53962865e-03,   9.95535970e-01,   9.58174351e-04,\n",
       "          7.15285807e-07,   9.65528248e-04],\n",
       "       [  5.31988358e-03,   3.98098491e-02,   5.04799536e-04,\n",
       "          6.04517911e-12,   9.54365432e-01],\n",
       "       [  7.29533611e-03,   9.83362675e-01,   6.70149107e-04,\n",
       "          5.79480215e-08,   8.67180713e-03],\n",
       "       [  2.05863127e-03,   7.81366415e-03,   7.23852441e-02,\n",
       "          1.44195074e-08,   9.17742431e-01],\n",
       "       [  2.22202819e-02,   8.57238889e-01,   9.95265543e-02,\n",
       "          9.70268738e-05,   2.09173001e-02],\n",
       "       [  1.18467987e-01,   5.58440685e-01,   1.78706702e-02,\n",
       "          1.49784482e-03,   3.03722739e-01],\n",
       "       [  2.26218572e-06,   2.17130384e-03,   2.51459574e-06,\n",
       "          6.20447270e-13,   9.97823954e-01],\n",
       "       [  2.30061090e-07,   9.99999762e-01,   4.45054340e-08,\n",
       "          1.53299179e-11,   7.24306393e-09],\n",
       "       [  2.58910775e-01,   7.37887204e-01,   3.36259632e-06,\n",
       "          1.51138568e-06,   3.19718663e-03],\n",
       "       [  1.15266765e-08,   9.49851042e-09,   9.99918818e-01,\n",
       "          9.31198800e-16,   8.11350474e-05],\n",
       "       [  1.24213123e-03,   9.98726666e-01,   1.44911619e-05,\n",
       "          1.63571479e-09,   1.66563823e-05],\n",
       "       [  6.81518484e-03,   9.38123465e-01,   3.44133303e-02,\n",
       "          2.24361565e-06,   2.06458867e-02],\n",
       "       [  1.79895952e-01,   6.90606117e-01,   3.06984354e-02,\n",
       "          1.75967885e-04,   9.86235663e-02],\n",
       "       [  8.01392730e-10,   3.65017650e-06,   9.99984503e-01,\n",
       "          1.01543030e-14,   1.17785548e-05],\n",
       "       [  6.63426146e-02,   3.18291306e-01,   3.68411124e-01,\n",
       "          7.58574635e-04,   2.46196344e-01],\n",
       "       [  3.36191570e-03,   9.93409038e-01,   7.10431137e-04,\n",
       "          4.31353982e-07,   2.51815165e-03],\n",
       "       [  9.12087401e-08,   6.81737065e-03,   8.54540050e-01,\n",
       "          1.09855064e-13,   1.38642460e-01],\n",
       "       [  2.56148487e-05,   3.95363240e-05,   1.33105605e-05,\n",
       "          1.19623371e-15,   9.99921560e-01],\n",
       "       [  1.12436619e-03,   9.52471197e-01,   4.06685621e-02,\n",
       "          4.91844639e-06,   5.73097635e-03],\n",
       "       [  5.20097464e-02,   9.41282630e-01,   6.18976774e-03,\n",
       "          3.22628524e-09,   5.17791777e-04],\n",
       "       [  6.31346822e-01,   3.62121075e-01,   8.87351860e-07,\n",
       "          1.69242583e-06,   6.52943691e-03],\n",
       "       [  2.44418130e-09,   1.47127665e-07,   9.99788225e-01,\n",
       "          1.75116478e-16,   2.11686434e-04],\n",
       "       [  3.00106331e-05,   2.62329937e-03,   2.16180254e-02,\n",
       "          9.60701313e-14,   9.75728691e-01],\n",
       "       [  6.02791086e-03,   9.73022521e-01,   1.03184329e-02,\n",
       "          4.27972691e-06,   1.06268786e-02],\n",
       "       [  2.41107261e-03,   9.90907431e-01,   6.63243234e-03,\n",
       "          5.51883296e-11,   4.90803759e-05],\n",
       "       [  3.83436009e-02,   8.72790158e-01,   3.47011462e-02,\n",
       "          4.83789117e-05,   5.41166961e-02],\n",
       "       [  4.97400265e-07,   2.15434920e-04,   9.99363482e-01,\n",
       "          2.03257658e-13,   4.20600642e-04],\n",
       "       [  7.57331145e-05,   9.99811709e-01,   4.99536691e-05,\n",
       "          9.80176912e-11,   6.25145985e-05],\n",
       "       [  8.83710920e-04,   1.96082011e-01,   7.89560795e-01,\n",
       "          1.64152203e-09,   1.34735238e-02],\n",
       "       [  1.19937370e-02,   9.87033486e-01,   4.13627677e-05,\n",
       "          5.54034933e-08,   9.31436138e-04],\n",
       "       [  1.30224181e-02,   9.77851570e-01,   2.64918432e-03,\n",
       "          1.68900297e-05,   6.45992579e-03],\n",
       "       [  1.85652710e-02,   9.69587803e-01,   2.48384359e-03,\n",
       "          4.57074202e-06,   9.35847405e-03],\n",
       "       [  6.29366639e-08,   2.18421612e-02,   9.78151083e-01,\n",
       "          6.66328311e-18,   6.62704906e-06],\n",
       "       [  1.73534165e-08,   5.67671954e-08,   9.99980807e-01,\n",
       "          5.91767100e-14,   1.92233183e-05],\n",
       "       [  6.06401004e-02,   8.95382643e-01,   8.66980467e-04,\n",
       "          1.06195534e-04,   4.30041216e-02],\n",
       "       [  4.78757992e-02,   7.15170026e-01,   1.04363523e-01,\n",
       "          3.74399155e-04,   1.32216170e-01],\n",
       "       [  1.62241325e-12,   7.50502924e-11,   9.99999762e-01,\n",
       "          6.59272319e-16,   2.47080237e-07],\n",
       "       [  1.92703009e-02,   9.50164378e-01,   3.62046459e-03,\n",
       "          6.80217199e-05,   2.68767755e-02],\n",
       "       [  7.36131653e-08,   3.44647844e-07,   9.99790609e-01,\n",
       "          3.63715905e-15,   2.08901896e-04],\n",
       "       [  2.23081955e-03,   7.29458332e-01,   2.64774531e-01,\n",
       "          1.20078056e-07,   3.53623088e-03],\n",
       "       [  2.04098418e-01,   7.79881001e-01,   2.23556955e-04,\n",
       "          3.70917260e-05,   1.57598890e-02],\n",
       "       [  1.03515260e-01,   8.38803947e-01,   2.38775155e-09,\n",
       "          1.24596409e-06,   5.76795712e-02],\n",
       "       [  5.76485954e-02,   8.17315280e-01,   1.01936869e-01,\n",
       "          1.90126821e-06,   2.30972711e-02],\n",
       "       [  1.66101415e-06,   2.85365492e-01,   7.11595356e-01,\n",
       "          4.01793848e-10,   3.03741707e-03],\n",
       "       [  2.81235315e-02,   5.33156432e-02,   1.41331889e-02,\n",
       "          1.33246118e-07,   9.04427469e-01],\n",
       "       [  2.04965726e-01,   4.56563234e-01,   1.31487066e-03,\n",
       "          1.93329566e-08,   3.37156177e-01],\n",
       "       [  1.37686552e-02,   9.84800816e-01,   1.80967676e-04,\n",
       "          2.09406267e-06,   1.24749378e-03],\n",
       "       [  1.30811625e-03,   4.50598896e-02,   1.86588336e-03,\n",
       "          2.59507904e-09,   9.51766133e-01],\n",
       "       [  1.58880145e-08,   1.16431083e-05,   5.14258265e-01,\n",
       "          1.80680737e-09,   4.85730022e-01],\n",
       "       [  3.09492141e-01,   3.45453531e-01,   5.07385303e-05,\n",
       "          1.23389145e-06,   3.45002353e-01],\n",
       "       [  1.60407282e-07,   2.19145641e-05,   7.97940046e-03,\n",
       "          2.13401644e-10,   9.91998494e-01],\n",
       "       [  4.11346264e-05,   1.57007633e-03,   9.70482051e-01,\n",
       "          6.43343798e-12,   2.79067867e-02],\n",
       "       [  3.35918716e-03,   1.95515990e-01,   2.28361085e-01,\n",
       "          1.44163860e-04,   5.72619617e-01],\n",
       "       [  8.00593644e-02,   4.24203485e-01,   4.60675746e-01,\n",
       "          8.15133608e-05,   3.49799469e-02],\n",
       "       [  6.15695398e-03,   3.58571485e-02,   9.51946735e-01,\n",
       "          6.86307722e-09,   6.03920920e-03],\n",
       "       [  2.09171907e-03,   2.36899897e-01,   2.97117501e-01,\n",
       "          3.04668411e-05,   4.63860422e-01],\n",
       "       [  3.30389594e-03,   1.91851109e-01,   2.29887933e-01,\n",
       "          1.45300306e-04,   5.74811757e-01],\n",
       "       [  1.46621736e-02,   9.66276884e-01,   4.51989938e-03,\n",
       "          1.74582165e-05,   1.45235555e-02],\n",
       "       [  5.78414245e-07,   6.22146181e-05,   1.40494444e-06,\n",
       "          1.37431000e-15,   9.99935746e-01],\n",
       "       [  4.15703116e-09,   7.71635769e-06,   7.94270250e-07,\n",
       "          2.36063847e-14,   9.99991536e-01],\n",
       "       [  9.92784432e-09,   3.20404033e-05,   4.21372615e-02,\n",
       "          5.03259545e-10,   9.57830667e-01],\n",
       "       [  5.93774430e-02,   8.08487177e-01,   1.09283984e-01,\n",
       "          2.02518572e-06,   2.28493493e-02],\n",
       "       [  3.22611281e-03,   9.83869493e-01,   9.07333475e-03,\n",
       "          2.57955617e-06,   3.82848689e-03],\n",
       "       [  1.27130444e-03,   8.06106441e-03,   1.31052099e-02,\n",
       "          1.30078792e-08,   9.77562428e-01],\n",
       "       [  4.14843526e-04,   9.99182045e-01,   1.82307067e-05,\n",
       "          7.27672766e-09,   3.84906976e-04],\n",
       "       [  7.41094127e-02,   8.80076110e-01,   9.33004823e-03,\n",
       "          5.21383990e-05,   3.64322811e-02],\n",
       "       [  2.31028825e-01,   7.27728546e-01,   7.79762119e-03,\n",
       "          4.20413635e-05,   3.34029198e-02],\n",
       "       [  2.43148003e-02,   9.73799527e-01,   4.11675813e-08,\n",
       "          3.13447771e-07,   1.88527757e-03],\n",
       "       [  8.40197423e-09,   9.99999881e-01,   1.18298331e-07,\n",
       "          1.25796224e-13,   1.51565371e-09],\n",
       "       [  1.19908983e-02,   9.38372612e-01,   3.35950255e-02,\n",
       "          6.66476171e-06,   1.60347726e-02],\n",
       "       [  8.49468168e-03,   7.04003215e-01,   1.20352022e-01,\n",
       "          3.19688894e-07,   1.67149737e-01],\n",
       "       [  1.56755513e-03,   7.86838457e-02,   1.00380951e-03,\n",
       "          1.95799399e-09,   9.18744862e-01],\n",
       "       [  1.84259061e-02,   9.69185531e-01,   3.42891253e-05,\n",
       "          2.95931341e-06,   1.23512708e-02],\n",
       "       [  1.45767415e-02,   9.53933418e-01,   1.16059631e-02,\n",
       "          1.34949096e-05,   1.98703334e-02],\n",
       "       [  9.76332449e-05,   1.38507010e-02,   9.74050343e-01,\n",
       "          4.22588113e-04,   1.15786670e-02],\n",
       "       [  2.45584715e-07,   9.18524922e-04,   9.98836815e-01,\n",
       "          4.70999596e-13,   2.44443858e-04],\n",
       "       [  1.08308785e-04,   5.18037900e-02,   3.88996862e-03,\n",
       "          2.28025173e-13,   9.44197953e-01],\n",
       "       [  1.07491891e-04,   1.14445269e-01,   8.80275130e-01,\n",
       "          9.23058451e-06,   5.16290637e-03],\n",
       "       [  2.17280863e-03,   9.97219324e-01,   1.09185421e-04,\n",
       "          3.53132901e-09,   4.98651934e-04],\n",
       "       [  3.30300489e-03,   1.54221207e-01,   5.20007908e-02,\n",
       "          6.05089845e-05,   7.90414572e-01],\n",
       "       [  2.52522852e-07,   9.99986529e-01,   1.31644001e-05,\n",
       "          6.39952371e-12,   1.15671677e-08],\n",
       "       [  7.66365556e-04,   2.57934593e-02,   3.38462517e-02,\n",
       "          2.24966116e-05,   9.39571381e-01],\n",
       "       [  4.73620503e-07,   1.74220389e-04,   9.67748106e-01,\n",
       "          2.99478785e-13,   3.20772566e-02],\n",
       "       [  7.45973289e-02,   2.55732447e-01,   5.85880019e-02,\n",
       "          2.15625340e-09,   6.11082196e-01],\n",
       "       [  2.60771427e-04,   1.86743528e-01,   8.03403914e-01,\n",
       "          1.70737549e-05,   9.57465172e-03],\n",
       "       [  7.55389966e-03,   9.70261931e-01,   1.13996211e-02,\n",
       "          1.79110188e-07,   1.07842712e-02],\n",
       "       [  3.39180883e-03,   2.00598195e-01,   1.22745469e-01,\n",
       "          1.17210671e-04,   6.73147261e-01],\n",
       "       [  6.37006758e-09,   5.53254586e-06,   9.99838591e-01,\n",
       "          2.76971430e-15,   1.55953850e-04],\n",
       "       [  3.12051661e-02,   9.28044558e-01,   5.67901705e-04,\n",
       "          2.27806822e-06,   4.01799977e-02],\n",
       "       [  4.46362235e-03,   9.85982835e-01,   6.45858143e-03,\n",
       "          8.42771533e-06,   3.08642816e-03],\n",
       "       [  9.24310014e-02,   9.04850364e-01,   7.84532749e-05,\n",
       "          3.39551391e-08,   2.64012278e-03],\n",
       "       [  8.05053674e-03,   9.65894043e-01,   2.30145492e-02,\n",
       "          1.05376021e-05,   3.03032203e-03],\n",
       "       [  3.40367435e-03,   9.38274860e-01,   3.40192243e-02,\n",
       "          6.94858215e-07,   2.43015867e-02]], dtype=float32)"
      ]
     },
     "execution_count": 145,
     "metadata": {},
     "output_type": "execute_result"
    }
   ],
   "source": [
    "softmaxes"
   ]
  },
  {
   "cell_type": "code",
   "execution_count": 144,
   "metadata": {
    "collapsed": false,
    "deletable": true,
    "editable": true
   },
   "outputs": [],
   "source": [
    "avgs = []\n",
    "for i in range(0, len(softmaxes)-max_frames ):\n",
    "    avgs.append(softmaxes[i:i+max_frames].mean(axis=0))\n",
    "    \n",
    "avgs = np.array(avgs)\n",
    "top_idxs = []\n",
    "for i in range(number_of_brands):\n",
    "    #print np.argmax(avgs[:,i])\n",
    "    top_idxs.append(np.argmax(avgs[:,i]))\n",
    "\n"
   ]
  },
  {
   "cell_type": "code",
   "execution_count": 146,
   "metadata": {
    "collapsed": true,
    "deletable": true,
    "editable": true
   },
   "outputs": [],
   "source": [
    "sequences = []\n",
    "\n",
    "for top_f in top_idxs:\n",
    "    sequences.append(imgs[top_f:top_f+max_frames])\n",
    "\n",
    "sequences = np.array(sequences)"
   ]
  },
  {
   "cell_type": "code",
   "execution_count": 147,
   "metadata": {
    "collapsed": false,
    "deletable": true,
    "editable": true
   },
   "outputs": [
    {
     "data": {
      "text/plain": [
       "(5, 5, 224, 224, 3)"
      ]
     },
     "execution_count": 147,
     "metadata": {},
     "output_type": "execute_result"
    }
   ],
   "source": [
    "sequences.shape"
   ]
  },
  {
   "cell_type": "code",
   "execution_count": 148,
   "metadata": {
    "collapsed": false,
    "deletable": true,
    "editable": true
   },
   "outputs": [],
   "source": [
    "ps = rnn_model.predict(sequences)"
   ]
  },
  {
   "cell_type": "code",
   "execution_count": 151,
   "metadata": {
    "collapsed": false,
    "deletable": true,
    "editable": true
   },
   "outputs": [
    {
     "data": {
      "text/plain": [
       "array([[ 0.10456314,  0.19670339,  0.2299431 ,  0.01223137,  0.45655906],\n",
       "       [ 0.05979851,  0.79685622,  0.04873443,  0.02369591,  0.07091497],\n",
       "       [ 0.05335395,  0.46952891,  0.4394865 ,  0.00750573,  0.03012501],\n",
       "       [ 0.04925825,  0.14136173,  0.11072086,  0.01747943,  0.68117976],\n",
       "       [ 0.00798998,  0.03510812,  0.0463621 ,  0.00384198,  0.90669787]], dtype=float32)"
      ]
     },
     "execution_count": 151,
     "metadata": {},
     "output_type": "execute_result"
    }
   ],
   "source": [
    "ps"
   ]
  },
  {
   "cell_type": "code",
   "execution_count": 155,
   "metadata": {
    "collapsed": false,
    "deletable": true,
    "editable": true
   },
   "outputs": [
    {
     "data": {
      "text/plain": [
       "4"
      ]
     },
     "execution_count": 155,
     "metadata": {},
     "output_type": "execute_result"
    }
   ],
   "source": [
    "np.argmax(ps)/ number_of_brands"
   ]
  },
  {
   "cell_type": "code",
   "execution_count": 150,
   "metadata": {
    "collapsed": false,
    "deletable": true,
    "editable": true
   },
   "outputs": [
    {
     "data": {
      "text/plain": [
       "0.90669787"
      ]
     },
     "execution_count": 150,
     "metadata": {},
     "output_type": "execute_result"
    }
   ],
   "source": [
    "ps.flatten()[np.argmax(ps)]"
   ]
  },
  {
   "cell_type": "code",
   "execution_count": 108,
   "metadata": {
    "collapsed": false,
    "deletable": true,
    "editable": true
   },
   "outputs": [
    {
     "data": {
      "text/plain": [
       "array([  6.05653549e-05,   1.38390504e-04,   1.38393138e-04,\n",
       "         1.39819138e-04,   1.40504621e-04,   2.21002410e-04,\n",
       "         6.70960348e-04,   8.83733388e-04,   3.39805149e-03,\n",
       "         1.89154729e-01,   1.89013779e-01,   1.88486010e-01,\n",
       "         1.89327389e-01,   1.86811626e-01,   1.05423713e-03,\n",
       "         4.82060295e-03,   4.82058711e-03,   3.80246597e-03,\n",
       "         4.56987787e-03,   6.46532401e-02,   6.08869903e-02,\n",
       "         6.08869977e-02,   6.08509853e-02,   6.02137931e-02,\n",
       "         1.30432265e-04,   1.20727420e-01,   1.20729826e-01,\n",
       "         1.20738350e-01,   1.26925290e-01,   1.26925886e-01,\n",
       "         6.32875692e-03,   6.32633548e-03,   6.31779805e-03,\n",
       "         1.35171562e-04,   1.34621660e-04,   1.44198682e-04,\n",
       "         1.44197227e-04,   1.44580816e-04,   1.06869929e-05,\n",
       "         1.06319567e-05,   6.50129659e-05,   2.23479699e-04,\n",
       "         2.23234150e-04,   2.22587769e-04,   2.22577102e-04,\n",
       "         1.58618699e-04,   4.76569539e-06,   4.69076667e-06,\n",
       "         3.37898091e-04,   3.82724684e-04,   3.82724509e-04,\n",
       "         3.78111261e-04,   3.78041004e-04,   4.48361534e-05,\n",
       "         1.73645191e-07,   6.19677547e-03,   6.29883725e-03,\n",
       "         1.13170251e-01,   1.13170251e-01,   1.16578721e-01,\n",
       "         1.10382818e-01,   1.10281430e-01,   3.41008720e-03,\n",
       "         3.41008720e-03,   1.45525996e-06,   1.55405758e-06,\n",
       "         8.83480880e-07,   8.00461748e-07,   1.07728316e-04,\n",
       "         1.11480782e-04,   1.33709222e-01,   1.33759409e-01,\n",
       "         1.33759409e-01,   1.33718342e-01,   1.33777097e-01,\n",
       "         4.22617944e-04,   4.76130837e-04,   4.76147281e-04,\n",
       "         4.11073968e-04,   3.48668837e-04,   1.15545758e-04,\n",
       "         1.18615899e-05,   1.18964026e-05,   1.11138797e-05,\n",
       "         5.78874126e-02,   5.83231859e-02,   5.88165224e-02,\n",
       "         5.88164553e-02,   5.88164553e-02,   1.37938708e-02,\n",
       "         1.34291230e-02,   2.43288558e-02,   2.48873811e-02,\n",
       "         2.48873793e-02,   1.22999158e-02], dtype=float32)"
      ]
     },
     "execution_count": 108,
     "metadata": {},
     "output_type": "execute_result"
    }
   ],
   "source": [
    "avgs[:,1]"
   ]
  },
  {
   "cell_type": "code",
   "execution_count": 93,
   "metadata": {
    "collapsed": false,
    "deletable": true,
    "editable": true
   },
   "outputs": [
    {
     "data": {
      "text/plain": [
       "'Noise'"
      ]
     },
     "execution_count": 93,
     "metadata": {},
     "output_type": "execute_result"
    }
   ],
   "source": [
    "get_brand(softmaxes)"
   ]
  },
  {
   "cell_type": "code",
   "execution_count": 132,
   "metadata": {
    "collapsed": false,
    "deletable": true,
    "editable": true
   },
   "outputs": [],
   "source": [
    "from keras.models import Sequential\n",
    "from keras.layers.core import Flatten, Dense, Dropout\n",
    "from keras.layers.convolutional import Convolution2D, MaxPooling2D, ZeroPadding2D\n",
    "from keras.layers.wrappers import TimeDistributed\n",
    "from keras.layers.recurrent import SimpleRNN, LSTM, GRU\n",
    "from keras.layers.core import Dense, Activation, Dropout, Reshape, Flatten, Lambda\n",
    "from keras.models import Model\n",
    "from keras.layers import Input\n",
    "from keras.applications.vgg19 import VGG19\n",
    "from keras.layers import Dense, GlobalAveragePooling2D\n",
    "\n",
    "from keras.models import Sequential, ask_to_proceed_with_overwrite\n",
    "from keras.layers import Dense\n",
    "from keras.layers.core import Activation, Dense\n",
    "from keras.layers import SimpleRNN, LSTM,  GRU,SeparableConvolution2D\n",
    "from keras.callbacks import ModelCheckpoint,EarlyStopping\n",
    "\n",
    "from keras.layers.wrappers import TimeDistributed\n",
    "\n",
    "import keras\n",
    "from keras.applications import VGG16\n",
    "from keras.models import Model\n",
    "from keras.layers.core import Activation, Dense\n",
    "import tensorflow as tf\n",
    "import glob\n",
    "\n",
    "import scipy\n",
    "import numpy as np\n",
    "from PIL import Image\n",
    "import random\n",
    "import pandas as pd\n",
    "import random\n",
    "import subprocess as sp\n",
    "import sys\n",
    "import glob\n",
    "import math\n",
    "from pytube import YouTube\n",
    "import pytube\n",
    "max_frames = 10\n",
    "number_of_brands = 5\n",
    "\n",
    "\n",
    "def getModel2( output_dim ):\n",
    "    ''' \n",
    "        * output_dim: the number of classes (int)\n",
    "        \n",
    "        * return: compiled model (keras.engine.training.Model)\n",
    "    '''\n",
    "    #vgg_model = VGG16( weights='imagenet', include_top=False )\n",
    "    vgg_model = VGG16(weights='imagenet', include_top=False)\n",
    "\n",
    "#     for layer in vgg_model.layers:\n",
    "#         layer.trainable = False\n",
    "\n",
    "    x = vgg_model.output\n",
    "    x = GlobalAveragePooling2D()(x)\n",
    "    # let's add a fully-connected layer\n",
    "    x = Dense(1024, activation='relu')(x)\n",
    "    \n",
    "    predictions = Dense(output_dim ,activation='softmax')(x)\n",
    "    #predictions = Lambda(lambda x:x/1.5)(predictions)\n",
    "# this is the model we will train\n",
    "    model = Model(input=vgg_model.input, output=predictions)\n",
    "    #model.add(Lambda(lambda x: x / 2.0))\n",
    "\n",
    "    #Freeze all layers of VGG16 and Compile the model\n",
    "    #Confirm the model is appropriate\n",
    "\n",
    "    return model    \n",
    "\n",
    "def load_model(weights_path, output_dim):\n",
    "\n",
    "    model = getModel2( output_dim ) \n",
    "\n",
    "    for k,layer in model.layers_by_depth.items()[:]:\n",
    "        layer[0].trainable = False\n",
    "#     for layer in model.layers:\n",
    "#         layer.trainable = False\n",
    "        \n",
    "    model.load_weights(weights_path)\n",
    "    model.compile(loss='categorical_crossentropy',\n",
    "              optimizer='adam',\n",
    "              metrics=['accuracy', 'categorical_crossentropy'])   \n",
    "    return model\n",
    "\n",
    "\n",
    "#labels_dict = {'apple': 2, 'cocacola': 0, 'nike': 4, 'pepsi': 1, 'starbucks': 3, \"noise\":5}\n",
    "labels_dict = {'apple': 2, 'cocacola': 0, 'nike': 3, 'pepsi': 1, \"noise\":4}\n",
    "\n",
    "reversed_dict = dict([(x[1],x[0]) for x in labels_dict.items()])\n",
    "\n",
    "def get_brand(softmaxes):\n",
    "    v = np.max(softmaxes.mean(axis=0))\n",
    "    \n",
    "    print v\n",
    "    \n",
    "    print reversed_dict[np.argmax(softmaxes.mean(axis=0))]\n",
    "    if v > 0.6:\n",
    "        return reversed_dict[np.argmax(softmaxes.mean(axis=0))]\n",
    "    return \"Noise\"\n",
    "\n",
    "\n",
    "def get_brand_2(results):\n",
    "    v1 = np.argmax(results)% number_of_brands\n",
    "    v2 = np.argmax(results.mean(axis=0))\n",
    "    print np.max(results)\n",
    "    if v1 == v2:\n",
    "        return reversed_dict[v1]\n",
    "    elif v1 == 4 and v2 != 4:\n",
    "        return reversed_dict[v2]\n",
    "    elif v1 !=4 and v2 ==4:\n",
    "        return reversed_dict[v1]\n",
    "    else:\n",
    "        return reversed_dict[v1]\n",
    "\n",
    "\n",
    "def load_rnn_model(weights, cnn):\n",
    "    model_rnn3=Sequential()\n",
    "\n",
    "    model_rnn3.add(TimeDistributed(cnn, input_shape=(max_frames,224,224,3)))\n",
    "#     model_rnn3.add(GRU(output_dim=100,return_sequences=True))\n",
    "#     model_rnn3.add(GRU(output_dim=50,return_sequences=False))\n",
    "#     model_rnn3.add(Dropout(.2))\n",
    "#     model_rnn3.add(Dense(number_of_brands,activation='softmax'))\n",
    "#     model_rnn3.load_weights(weights)\n",
    "\n",
    "#     model_rnn3.compile(optimizer='adam', loss='categorical_crossentropy',metrics=['accuracy', 'categorical_crossentropy'])\n",
    "\n",
    "\n",
    "    #model_rnn3.add(GRU(output_dim=200,return_sequences=True))\n",
    "    model_rnn3.add(GRU(output_dim=100,return_sequences=True))\n",
    "    model_rnn3.add(GRU(output_dim=50,return_sequences=False))\n",
    "    model_rnn3.add(Dropout(.2))\n",
    "    model_rnn3.add(Dense(number_of_brands,activation='softmax'))\n",
    "    model_rnn3.compile(optimizer='Nadam', loss='categorical_crossentropy',metrics=['accuracy', 'categorical_crossentropy'])\n",
    "\n",
    "\n",
    "\n",
    "    \n",
    "    return model_rnn3\n",
    "\n",
    "class DeepLogo():\n",
    "    def __init__(self):\n",
    "        self.trained_model = load_model(\"weights-improvement-VGG16-LOGO6-01-0.9822.hdf5\", 5)\n",
    "        self.rnn_model = load_rnn_model(\"RNN2-07-0.4483.hdf5\", self.trained_model)\n",
    "        \n",
    "\n",
    "    def predict(self, url):\n",
    "        yt = YouTube(url)\n",
    "        try:\n",
    "            video = yt.get('mp4')\n",
    "        except pytube.exceptions.MultipleObjectsReturned:\n",
    "            video = yt.get('mp4', '720p')\n",
    "        \n",
    "        \n",
    "        cmd1 = \"rm tmp/tmp_1\"\n",
    "        sp.call(cmd1,shell=True)\n",
    "        video.download('tmp/tmp_1')\n",
    "        \n",
    "        filename = \"tmp/tmp_1\"\n",
    "\n",
    "        cmd1 = \"rm -r tmp/tmp_1_1\"\n",
    "        sp.call(cmd1,shell=True)\n",
    "\n",
    "        cmd1 = \"mkdir tmp/tmp_1_1\"\n",
    "        sp.call(cmd1,shell=True)\n",
    "        outputpath= \"tmp/tmp_1_1/\"\n",
    "\n",
    "        outputfile = outputpath + \"f\"\n",
    "        cmd2='ffmpeg -i '+filename+' -r 1 -s 224x224 ' + outputfile + '_%04d.jpg'\n",
    "        sp.call(cmd2,shell=True)\n",
    "        sys.stdout.write(\"Saved it at \" + outputfile +\"\\n\")\n",
    "        \n",
    "        frames = sorted(glob.glob(\"tmp/tmp_1_1/*\"))[3:-10]\n",
    "        x_mean = 0.39533365588770686\n",
    "        \n",
    "        imgs = []\n",
    "        for frame in frames:\n",
    "            img = np.asarray(Image.open(frame))/255.\n",
    "            imgs.append(img)\n",
    "\n",
    "        imgs = np.array(imgs)\n",
    "        imgs = imgs - x_mean#imgs.mean()\n",
    "\n",
    "        print \"predicting CNN...\"\n",
    "        softmaxes = self.trained_model.predict(imgs)\n",
    "        b1 =  get_brand(softmaxes)\n",
    "        print b1\n",
    "        avgs = []\n",
    "        for i in range(0, len(softmaxes)-max_frames ):\n",
    "            #avgs.append(softmaxes[i])\n",
    "            avgs.append(softmaxes[i:i+max_frames].mean(axis=0))\n",
    "\n",
    "        avgs = np.array(avgs)\n",
    "        top_idxs = []\n",
    "        for i in range(number_of_brands):\n",
    "            #print np.argmax(avgs[:,i])\n",
    "            top_idxs.append(np.argmax(avgs[:,i]))\n",
    "\n",
    "        print top_idxs\n",
    "        sequences = []\n",
    "\n",
    "        for top_f in top_idxs:\n",
    "            sequences.append(imgs[top_f:top_f+max_frames])\n",
    "\n",
    "        sequences = np.array(sequences)\n",
    "        #return sequences,softmaxes,imgs,frames\n",
    "        print sequences.shape\n",
    "        print \"predicting RNN...\"\n",
    "        ps = self.rnn_model.predict(sequences)\n",
    "        \n",
    "        for i in range(len(top_idxs)):\n",
    "            if i == 4:\n",
    "                ps[:,i] = ps[:,i]*0.2\n",
    "                ps[i,:] = ps[i,:]*0.2\n",
    "            else:\n",
    "                ps[:,i] = ps[:,i]*math.sqrt(avgs[top_idxs[i], i])\n",
    "                ps[i,:] = ps[i,]*math.sqrt(avgs[top_idxs[i], i])\n",
    "            print i, avgs[top_idxs[i], i],top_idxs[i] \n",
    "\n",
    "        b2 = get_brand_2(ps)\n",
    "        if b1 == b2:\n",
    "            brand =  b1\n",
    "        else:\n",
    "            brand = \"Noise\"\n",
    "        return softmaxes,imgs,frames,brand,b1,b2,ps\n"
   ]
  },
  {
   "cell_type": "code",
   "execution_count": 119,
   "metadata": {
    "collapsed": true,
    "deletable": true,
    "editable": true
   },
   "outputs": [],
   "source": [
    "max_frames = 10"
   ]
  },
  {
   "cell_type": "code",
   "execution_count": 133,
   "metadata": {
    "collapsed": false,
    "deletable": true,
    "editable": true
   },
   "outputs": [
    {
     "name": "stderr",
     "output_type": "stream",
     "text": [
      "/home/ubuntu/.local/lib/python2.7/site-packages/ipykernel/__main__.py:63: UserWarning: Update your `Model` call to the Keras 2 API: `Model(outputs=Tensor(\"de..., inputs=Tensor(\"in...)`\n",
      "/home/ubuntu/.local/lib/python2.7/site-packages/ipykernel/__main__.py:131: UserWarning: Update your `GRU` call to the Keras 2 API: `GRU(units=100, return_sequences=True)`\n",
      "/home/ubuntu/.local/lib/python2.7/site-packages/ipykernel/__main__.py:132: UserWarning: Update your `GRU` call to the Keras 2 API: `GRU(units=50, return_sequences=False)`\n"
     ]
    }
   ],
   "source": [
    "dp = DeepLogo()"
   ]
  },
  {
   "cell_type": "code",
   "execution_count": 142,
   "metadata": {
    "collapsed": false,
    "deletable": true,
    "editable": true
   },
   "outputs": [
    {
     "name": "stdout",
     "output_type": "stream",
     "text": [
      "Saved it at tmp/tmp_1_1/f\n",
      "predicting CNN...\n",
      "0.941408\n",
      "noise\n",
      "noise\n",
      "[8, 7, 33, 3, 29]\n",
      "(5, 10, 224, 224, 3)\n",
      "predicting RNN...\n",
      "0 0.179497 8\n",
      "1 0.00608149 7\n",
      "2 0.00309042 33\n",
      "3 0.0129433 3\n",
      "4 0.981539 29\n",
      "0.0370896\n"
     ]
    }
   ],
   "source": [
    "#softmaxes,imgs,frames,brand,b1,b2,\n",
    "softmaxes,imgs,frames,brand,b1,b2,ps = dp.predict(\"https://www.youtube.com/watch?v=wWBQP-bxfX0\")"
   ]
  },
  {
   "cell_type": "code",
   "execution_count": 143,
   "metadata": {
    "collapsed": false
   },
   "outputs": [
    {
     "data": {
      "text/plain": [
       "'cocacola'"
      ]
     },
     "execution_count": 143,
     "metadata": {},
     "output_type": "execute_result"
    }
   ],
   "source": [
    "b2"
   ]
  },
  {
   "cell_type": "code",
   "execution_count": 117,
   "metadata": {
    "collapsed": false
   },
   "outputs": [
    {
     "name": "stdout",
     "output_type": "stream",
     "text": [
      "0.707106781187\n"
     ]
    },
    {
     "data": {
      "text/plain": [
       "0.5738963321018875"
      ]
     },
     "execution_count": 117,
     "metadata": {},
     "output_type": "execute_result"
    }
   ],
   "source": [
    "import math\n",
    "print math.sqrt(0.5)\n",
    "\n",
    "math.sqrt(0.329357)"
   ]
  },
  {
   "cell_type": "code",
   "execution_count": 141,
   "metadata": {
    "collapsed": false,
    "deletable": true,
    "editable": true
   },
   "outputs": [
    {
     "name": "stdout",
     "output_type": "stream",
     "text": [
      "3\n",
      "0.0365831\n",
      "[ 0.01684686  0.01515436  0.01455791  0.02365792  0.01156941]\n"
     ]
    },
    {
     "data": {
      "text/plain": [
       "array([[ 0.01590489,  0.01499111,  0.01437906,  0.02271336,  0.01126967],\n",
       "       [ 0.01486365,  0.01360755,  0.01313916,  0.02095299,  0.01010065],\n",
       "       [ 0.01584668,  0.01439001,  0.01363965,  0.02176808,  0.01079499],\n",
       "       [ 0.02581007,  0.02207457,  0.02147595,  0.03658312,  0.01766511],\n",
       "       [ 0.01180902,  0.01070854,  0.01015571,  0.01627206,  0.00801663]], dtype=float32)"
      ]
     },
     "execution_count": 141,
     "metadata": {},
     "output_type": "execute_result"
    }
   ],
   "source": [
    "print np.argmax(ps)%number_of_brands\n",
    "print np.max(ps)\n",
    "ps.flatten()[np.argmax(ps)]\n",
    "print ps.mean(axis=0)\n",
    "ps"
   ]
  },
  {
   "cell_type": "code",
   "execution_count": 130,
   "metadata": {
    "collapsed": false
   },
   "outputs": [],
   "source": [
    "top_idxs=[83, 81, 81, 83, 35]\n",
    "for i in range(len(top_idxs)):\n",
    "    ps[i,:] = ps[i,:]*avgs[top_idxs[i], i]"
   ]
  },
  {
   "cell_type": "code",
   "execution_count": 84,
   "metadata": {
    "collapsed": false,
    "deletable": true,
    "editable": true
   },
   "outputs": [
    {
     "data": {
      "text/plain": [
       "array([[  1.45218233e-04,   5.14185149e-03,   5.46054402e-03,\n",
       "          5.09631913e-03,   5.18956082e-03],\n",
       "       [  1.18539231e-02,   5.94248471e-04,   1.11436741e-02,\n",
       "          9.49920248e-03,   1.06698284e-02],\n",
       "       [  1.87052451e-02,   1.73193924e-02,   1.50233845e-03,\n",
       "          1.49895446e-02,   1.68367699e-02],\n",
       "       [  6.86722472e-02,   6.41701967e-02,   6.81474730e-02,\n",
       "          2.09477805e-02,   6.47656024e-02],\n",
       "       [  2.01076239e-01,   1.87580526e-01,   2.03541055e-01,\n",
       "          2.03794435e-01,   2.02133566e-01]], dtype=float32)"
      ]
     },
     "execution_count": 84,
     "metadata": {},
     "output_type": "execute_result"
    }
   ],
   "source": [
    "ps"
   ]
  },
  {
   "cell_type": "code",
   "execution_count": 62,
   "metadata": {
    "collapsed": true,
    "deletable": true,
    "editable": true
   },
   "outputs": [],
   "source": [
    "frames = ['tmp/tmp_1_1/f_0001.jpg', 'tmp/tmp_1_1/f_0002.jpg', 'tmp/tmp_1_1/f_0003.jpg', 'tmp/tmp_1_1/f_0004.jpg', 'tmp/tmp_1_1/f_0005.jpg', 'tmp/tmp_1_1/f_0006.jpg', 'tmp/tmp_1_1/f_0007.jpg', 'tmp/tmp_1_1/f_0008.jpg', 'tmp/tmp_1_1/f_0009.jpg', 'tmp/tmp_1_1/f_0010.jpg', 'tmp/tmp_1_1/f_0011.jpg', 'tmp/tmp_1_1/f_0012.jpg', 'tmp/tmp_1_1/f_0013.jpg', 'tmp/tmp_1_1/f_0014.jpg', 'tmp/tmp_1_1/f_0015.jpg', 'tmp/tmp_1_1/f_0016.jpg', 'tmp/tmp_1_1/f_0017.jpg', 'tmp/tmp_1_1/f_0018.jpg', 'tmp/tmp_1_1/f_0019.jpg', 'tmp/tmp_1_1/f_0020.jpg', 'tmp/tmp_1_1/f_0021.jpg', 'tmp/tmp_1_1/f_0022.jpg', 'tmp/tmp_1_1/f_0023.jpg', 'tmp/tmp_1_1/f_0024.jpg', 'tmp/tmp_1_1/f_0025.jpg', 'tmp/tmp_1_1/f_0026.jpg', 'tmp/tmp_1_1/f_0027.jpg', 'tmp/tmp_1_1/f_0028.jpg', 'tmp/tmp_1_1/f_0029.jpg', 'tmp/tmp_1_1/f_0030.jpg', 'tmp/tmp_1_1/f_0031.jpg', 'tmp/tmp_1_1/f_0032.jpg', 'tmp/tmp_1_1/f_0033.jpg', 'tmp/tmp_1_1/f_0034.jpg', 'tmp/tmp_1_1/f_0035.jpg', 'tmp/tmp_1_1/f_0036.jpg', 'tmp/tmp_1_1/f_0037.jpg', 'tmp/tmp_1_1/f_0038.jpg', 'tmp/tmp_1_1/f_0039.jpg', 'tmp/tmp_1_1/f_0040.jpg', 'tmp/tmp_1_1/f_0041.jpg', 'tmp/tmp_1_1/f_0042.jpg', 'tmp/tmp_1_1/f_0043.jpg', 'tmp/tmp_1_1/f_0044.jpg', 'tmp/tmp_1_1/f_0045.jpg', 'tmp/tmp_1_1/f_0046.jpg', 'tmp/tmp_1_1/f_0047.jpg', 'tmp/tmp_1_1/f_0048.jpg', 'tmp/tmp_1_1/f_0049.jpg', 'tmp/tmp_1_1/f_0050.jpg', 'tmp/tmp_1_1/f_0051.jpg', 'tmp/tmp_1_1/f_0052.jpg', 'tmp/tmp_1_1/f_0053.jpg', 'tmp/tmp_1_1/f_0054.jpg', 'tmp/tmp_1_1/f_0055.jpg', 'tmp/tmp_1_1/f_0056.jpg', 'tmp/tmp_1_1/f_0057.jpg', 'tmp/tmp_1_1/f_0058.jpg', 'tmp/tmp_1_1/f_0059.jpg', 'tmp/tmp_1_1/f_0060.jpg', 'tmp/tmp_1_1/f_0061.jpg', 'tmp/tmp_1_1/f_0062.jpg', 'tmp/tmp_1_1/f_0063.jpg', 'tmp/tmp_1_1/f_0064.jpg', 'tmp/tmp_1_1/f_0065.jpg', 'tmp/tmp_1_1/f_0066.jpg', 'tmp/tmp_1_1/f_0067.jpg', 'tmp/tmp_1_1/f_0068.jpg', 'tmp/tmp_1_1/f_0069.jpg', 'tmp/tmp_1_1/f_0070.jpg', 'tmp/tmp_1_1/f_0071.jpg', 'tmp/tmp_1_1/f_0072.jpg', 'tmp/tmp_1_1/f_0073.jpg', 'tmp/tmp_1_1/f_0074.jpg', 'tmp/tmp_1_1/f_0075.jpg']"
   ]
  },
  {
   "cell_type": "code",
   "execution_count": 63,
   "metadata": {
    "collapsed": false,
    "deletable": true,
    "editable": true
   },
   "outputs": [
    {
     "name": "stdout",
     "output_type": "stream",
     "text": [
      "0.306195\n",
      "apple\n"
     ]
    },
    {
     "data": {
      "text/plain": [
       "'Noise'"
      ]
     },
     "execution_count": 63,
     "metadata": {},
     "output_type": "execute_result"
    }
   ],
   "source": [
    "get_brand(sf)"
   ]
  },
  {
   "cell_type": "code",
   "execution_count": 81,
   "metadata": {
    "collapsed": false,
    "deletable": true,
    "editable": true
   },
   "outputs": [],
   "source": [
    "avgs = []\n",
    "for i in range(0, len(softmaxes)-max_frames ):\n",
    "    #avgs.append(softmaxes[i])\n",
    "    avgs.append(softmaxes[i:i+max_frames].mean(axis=0))\n",
    "    #avgs.append((sum(softmaxes[i:i+max_frames])/float(number_of_brands), frames[i:i+max_frames]))\n",
    "\n",
    "avgs = np.array(avgs)"
   ]
  },
  {
   "cell_type": "code",
   "execution_count": 7,
   "metadata": {
    "collapsed": false,
    "deletable": true,
    "editable": true
   },
   "outputs": [
    {
     "data": {
      "text/plain": [
       "array([  5.17115183e-03,   2.16996409e-02,   5.49158361e-03,\n",
       "         4.13230329e-04,   1.48144111e-01,   4.85746950e-01], dtype=float32)"
      ]
     },
     "execution_count": 7,
     "metadata": {},
     "output_type": "execute_result"
    }
   ],
   "source": [
    "avgs[88]"
   ]
  },
  {
   "cell_type": "code",
   "execution_count": 9,
   "metadata": {
    "collapsed": false,
    "deletable": true,
    "editable": true
   },
   "outputs": [
    {
     "data": {
      "text/plain": [
       "array([  5.89993430e-15,   6.64835821e-15,   5.03077235e-13,\n",
       "         1.72404070e-14,   1.23124015e-12,   6.66666687e-01], dtype=float32)"
      ]
     },
     "execution_count": 9,
     "metadata": {},
     "output_type": "execute_result"
    }
   ],
   "source": [
    "avgs[1]"
   ]
  },
  {
   "cell_type": "code",
   "execution_count": 61,
   "metadata": {
    "collapsed": false,
    "deletable": true,
    "editable": true
   },
   "outputs": [
    {
     "data": {
      "text/plain": [
       "array([[[[  2.23363080e-01,  -2.36957440e-02,  -8.25192734e-02],\n",
       "         [  2.23363080e-01,  -2.36957440e-02,  -8.25192734e-02],\n",
       "         [  2.19441511e-01,  -2.76173126e-02,  -8.64408420e-02],\n",
       "         ..., \n",
       "         [ -2.00166332e-01,  -2.58989862e-01,  -3.33499666e-01],\n",
       "         [ -1.57029077e-01,  -2.15852607e-01,  -2.90362411e-01],\n",
       "         [ -8.00946949e-03,  -6.68329989e-02,  -1.41342803e-01]],\n",
       "\n",
       "        [[  2.23363080e-01,  -2.36957440e-02,  -8.25192734e-02],\n",
       "         [  2.19441511e-01,  -2.76173126e-02,  -8.64408420e-02],\n",
       "         [  2.19441511e-01,  -2.76173126e-02,  -8.64408420e-02],\n",
       "         ..., \n",
       "         [ -1.68793783e-01,  -2.27617313e-01,  -3.02127117e-01],\n",
       "         [ -3.54604499e-02,  -9.42839793e-02,  -1.68793783e-01],\n",
       "         [  7.04219031e-02,   1.15983736e-02,  -6.29114303e-02]],\n",
       "\n",
       "        [[  2.19441511e-01,  -2.76173126e-02,  -8.64408420e-02],\n",
       "         [  2.19441511e-01,  -2.76173126e-02,  -8.64408420e-02],\n",
       "         [  2.19441511e-01,  -2.76173126e-02,  -8.64408420e-02],\n",
       "         ..., \n",
       "         [ -1.49185940e-01,  -2.08009469e-01,  -2.82519273e-01],\n",
       "         [ -1.19310381e-02,  -7.07545675e-02,  -1.45264371e-01],\n",
       "         [  2.72846482e-02,  -3.15388813e-02,  -1.06048685e-01]],\n",
       "\n",
       "        ..., \n",
       "        [[  4.15519942e-01,  -9.82055479e-02,  -7.46761362e-02],\n",
       "         [  3.99833668e-01,  -1.13891822e-01,  -9.03624107e-02],\n",
       "         [  4.11598374e-01,  -1.02127117e-01,  -7.85977048e-02],\n",
       "         ..., \n",
       "         [  3.75523639e-03,  -5.11467244e-02,  -9.42839793e-02],\n",
       "         [ -7.85977048e-02,  -1.33499666e-01,  -1.84480058e-01],\n",
       "         [  1.55199423e-02,  -3.15388813e-02,  -8.64408420e-02]],\n",
       "\n",
       "        [[  4.39049354e-01,  -8.64408420e-02,  -5.89898616e-02],\n",
       "         [  4.23363080e-01,  -1.02127117e-01,  -7.46761362e-02],\n",
       "         [  4.35127785e-01,  -9.03624107e-02,  -6.29114303e-02],\n",
       "         ..., \n",
       "         [  4.29709227e-02,  -1.19310381e-02,  -5.50682930e-02],\n",
       "         [  4.29709227e-02,  -1.19310381e-02,  -5.50682930e-02],\n",
       "         [ -1.19310381e-02,  -5.89898616e-02,  -1.13891822e-01]],\n",
       "\n",
       "        [[  4.50814060e-01,  -6.68329989e-02,  -3.93820185e-02],\n",
       "         [  4.46892491e-01,  -8.25192734e-02,  -5.50682930e-02],\n",
       "         [  4.50814060e-01,  -7.85977048e-02,  -3.93820185e-02],\n",
       "         ..., \n",
       "         [  3.90493540e-02,  -1.58526067e-02,  -5.89898616e-02],\n",
       "         [  9.78728834e-02,   4.29709227e-02,  -1.66332236e-04],\n",
       "         [ -1.97741754e-02,  -6.68329989e-02,  -1.21734960e-01]]],\n",
       "\n",
       "\n",
       "       [[[  2.19441511e-01,  -2.36957440e-02,  -7.46761362e-02],\n",
       "         [  2.15519942e-01,  -2.76173126e-02,  -7.85977048e-02],\n",
       "         [  2.11598374e-01,  -3.15388813e-02,  -8.25192734e-02],\n",
       "         ..., \n",
       "         [ -2.19774175e-01,  -2.78597705e-01,  -3.53107509e-01],\n",
       "         [ -1.21734960e-01,  -1.80558489e-01,  -2.55068293e-01],\n",
       "         [  7.67680502e-03,  -5.11467244e-02,  -1.25656528e-01]],\n",
       "\n",
       "        [[  2.19441511e-01,  -2.36957440e-02,  -7.46761362e-02],\n",
       "         [  2.15519942e-01,  -2.76173126e-02,  -7.85977048e-02],\n",
       "         [  2.11598374e-01,  -3.15388813e-02,  -8.25192734e-02],\n",
       "         ..., \n",
       "         [ -1.80558489e-01,  -2.39382019e-01,  -3.13891822e-01],\n",
       "         [  1.15983736e-02,  -4.72251558e-02,  -1.21734960e-01],\n",
       "         [  5.86571972e-02,  -1.66332236e-04,  -7.46761362e-02]],\n",
       "\n",
       "        [[  2.15519942e-01,  -2.76173126e-02,  -7.85977048e-02],\n",
       "         [  2.15519942e-01,  -2.76173126e-02,  -7.85977048e-02],\n",
       "         [  2.11598374e-01,  -3.15388813e-02,  -8.25192734e-02],\n",
       "         ..., \n",
       "         [ -1.45264371e-01,  -2.04087901e-01,  -2.78597705e-01],\n",
       "         [  1.15983736e-02,  -4.72251558e-02,  -1.21734960e-01],\n",
       "         [  5.86571972e-02,  -1.66332236e-04,  -7.46761362e-02]],\n",
       "\n",
       "        ..., \n",
       "        [[  4.03755236e-01,  -8.64408420e-02,  -9.42839793e-02],\n",
       "         [  4.07676805e-01,  -8.64408420e-02,  -8.25192734e-02],\n",
       "         [  4.31206217e-01,  -6.29114303e-02,  -4.72251558e-02],\n",
       "         ..., \n",
       "         [ -1.58526067e-02,  -8.64408420e-02,  -1.25656528e-01],\n",
       "         [ -1.58526067e-02,  -9.03624107e-02,  -1.17813391e-01],\n",
       "         [ -2.36957440e-02,  -9.82055479e-02,  -1.21734960e-01]],\n",
       "\n",
       "        [[  3.99833668e-01,  -8.64408420e-02,  -8.64408420e-02],\n",
       "         [  4.07676805e-01,  -8.64408420e-02,  -7.46761362e-02],\n",
       "         [  4.31206217e-01,  -6.29114303e-02,  -4.72251558e-02],\n",
       "         ..., \n",
       "         [  7.04219031e-02,  -4.08790086e-03,  -3.15388813e-02],\n",
       "         [  7.43434717e-02,  -1.66332236e-04,  -2.36957440e-02],\n",
       "         [ -3.93820185e-02,  -1.13891822e-01,  -1.37421234e-01]],\n",
       "\n",
       "        [[  4.27284648e-01,  -5.89898616e-02,  -5.89898616e-02],\n",
       "         [  4.15519942e-01,  -7.46761362e-02,  -5.89898616e-02],\n",
       "         [  4.42970923e-01,  -5.50682930e-02,  -2.76173126e-02],\n",
       "         ..., \n",
       "         [  8.21866089e-02,   7.67680502e-03,  -1.97741754e-02],\n",
       "         [  1.09637589e-01,   3.51277854e-02,   1.15983736e-02],\n",
       "         [ -4.33035871e-02,  -1.17813391e-01,  -1.33499666e-01]]],\n",
       "\n",
       "\n",
       "       [[[  2.07676805e-01,  -4.33035871e-02,  -9.03624107e-02],\n",
       "         [  2.07676805e-01,  -4.33035871e-02,  -9.03624107e-02],\n",
       "         [  2.07676805e-01,  -4.33035871e-02,  -9.03624107e-02],\n",
       "         ..., \n",
       "         [  3.12062168e-02,  -2.76173126e-02,  -1.02127117e-01],\n",
       "         [  7.04219031e-02,   1.15983736e-02,  -6.29114303e-02],\n",
       "         [  3.12062168e-02,  -2.76173126e-02,  -1.02127117e-01]],\n",
       "\n",
       "        [[  2.11598374e-01,  -3.93820185e-02,  -8.64408420e-02],\n",
       "         [  2.11598374e-01,  -3.93820185e-02,  -8.64408420e-02],\n",
       "         [  2.11598374e-01,  -3.93820185e-02,  -8.64408420e-02],\n",
       "         ..., \n",
       "         [  7.67680502e-03,  -5.11467244e-02,  -1.25656528e-01],\n",
       "         [  6.65003344e-02,   7.67680502e-03,  -6.68329989e-02],\n",
       "         [ -1.58526067e-02,  -7.46761362e-02,  -1.49185940e-01]],\n",
       "\n",
       "        [[  2.07676805e-01,  -4.33035871e-02,  -9.03624107e-02],\n",
       "         [  2.07676805e-01,  -4.33035871e-02,  -9.03624107e-02],\n",
       "         [  2.07676805e-01,  -4.33035871e-02,  -9.03624107e-02],\n",
       "         ..., \n",
       "         [ -1.66332236e-04,  -5.89898616e-02,  -1.33499666e-01],\n",
       "         [  3.12062168e-02,  -2.76173126e-02,  -1.02127117e-01],\n",
       "         [  3.51277854e-02,  -2.36957440e-02,  -9.82055479e-02]],\n",
       "\n",
       "        ..., \n",
       "        [[  4.35127785e-01,  -3.15388813e-02,  -1.58526067e-02],\n",
       "         [  4.46892491e-01,  -1.97741754e-02,  -1.19310381e-02],\n",
       "         [  4.35127785e-01,  -3.54604499e-02,  -2.76173126e-02],\n",
       "         ..., \n",
       "         [  2.33630795e-02,  -2.36957440e-02,  -7.07545675e-02],\n",
       "         [ -2.76173126e-02,  -7.46761362e-02,  -1.21734960e-01],\n",
       "         [  1.15983736e-02,  -3.54604499e-02,  -9.03624107e-02]],\n",
       "\n",
       "        [[  4.27284648e-01,  -3.93820185e-02,  -3.15388813e-02],\n",
       "         [  4.23363080e-01,  -4.33035871e-02,  -3.54604499e-02],\n",
       "         [  4.11598374e-01,  -5.89898616e-02,  -5.50682930e-02],\n",
       "         ..., \n",
       "         [ -4.08790086e-03,  -5.11467244e-02,  -9.82055479e-02],\n",
       "         [ -1.58526067e-02,  -6.29114303e-02,  -1.09970254e-01],\n",
       "         [ -1.97741754e-02,  -6.68329989e-02,  -1.13891822e-01]],\n",
       "\n",
       "        [[  4.46892491e-01,  -1.97741754e-02,  -1.19310381e-02],\n",
       "         [  4.31206217e-01,  -3.54604499e-02,  -2.76173126e-02],\n",
       "         [  4.15519942e-01,  -5.50682930e-02,  -5.11467244e-02],\n",
       "         ..., \n",
       "         [  7.67680502e-03,  -3.93820185e-02,  -8.64408420e-02],\n",
       "         [ -4.72251558e-02,  -9.42839793e-02,  -1.41342803e-01],\n",
       "         [  4.29709227e-02,  -4.08790086e-03,  -5.11467244e-02]]],\n",
       "\n",
       "\n",
       "       ..., \n",
       "       [[[ -5.21734960e-01,  -5.37421234e-01,  -5.41342803e-01],\n",
       "         [ -5.21734960e-01,  -5.37421234e-01,  -5.41342803e-01],\n",
       "         [ -5.21734960e-01,  -5.37421234e-01,  -5.41342803e-01],\n",
       "         ..., \n",
       "         [ -5.17813391e-01,  -4.86440842e-01,  -5.29578097e-01],\n",
       "         [ -5.17813391e-01,  -4.86440842e-01,  -5.29578097e-01],\n",
       "         [ -5.17813391e-01,  -4.86440842e-01,  -5.29578097e-01]],\n",
       "\n",
       "        [[ -5.21734960e-01,  -5.37421234e-01,  -5.41342803e-01],\n",
       "         [ -5.21734960e-01,  -5.37421234e-01,  -5.41342803e-01],\n",
       "         [ -5.21734960e-01,  -5.37421234e-01,  -5.41342803e-01],\n",
       "         ..., \n",
       "         [ -4.86440842e-01,  -4.55068293e-01,  -4.98205548e-01],\n",
       "         [ -4.86440842e-01,  -4.55068293e-01,  -4.98205548e-01],\n",
       "         [ -4.86440842e-01,  -4.55068293e-01,  -4.98205548e-01]],\n",
       "\n",
       "        [[ -5.21734960e-01,  -5.37421234e-01,  -5.41342803e-01],\n",
       "         [ -5.21734960e-01,  -5.37421234e-01,  -5.41342803e-01],\n",
       "         [ -5.21734960e-01,  -5.37421234e-01,  -5.41342803e-01],\n",
       "         ..., \n",
       "         [ -4.86440842e-01,  -4.55068293e-01,  -4.98205548e-01],\n",
       "         [ -4.86440842e-01,  -4.55068293e-01,  -4.98205548e-01],\n",
       "         [ -4.86440842e-01,  -4.55068293e-01,  -4.98205548e-01]],\n",
       "\n",
       "        ..., \n",
       "        [[ -5.49185940e-01,  -5.49185940e-01,  -5.49185940e-01],\n",
       "         [ -5.49185940e-01,  -5.49185940e-01,  -5.49185940e-01],\n",
       "         [ -5.49185940e-01,  -5.49185940e-01,  -5.49185940e-01],\n",
       "         ..., \n",
       "         [ -5.49185940e-01,  -5.49185940e-01,  -5.49185940e-01],\n",
       "         [ -5.49185940e-01,  -5.49185940e-01,  -5.49185940e-01],\n",
       "         [ -5.49185940e-01,  -5.49185940e-01,  -5.49185940e-01]],\n",
       "\n",
       "        [[ -5.49185940e-01,  -5.49185940e-01,  -5.49185940e-01],\n",
       "         [ -5.49185940e-01,  -5.49185940e-01,  -5.49185940e-01],\n",
       "         [ -5.49185940e-01,  -5.49185940e-01,  -5.49185940e-01],\n",
       "         ..., \n",
       "         [ -5.49185940e-01,  -5.49185940e-01,  -5.49185940e-01],\n",
       "         [ -5.49185940e-01,  -5.49185940e-01,  -5.49185940e-01],\n",
       "         [ -5.49185940e-01,  -5.49185940e-01,  -5.49185940e-01]],\n",
       "\n",
       "        [[ -5.49185940e-01,  -5.49185940e-01,  -5.49185940e-01],\n",
       "         [ -5.49185940e-01,  -5.49185940e-01,  -5.49185940e-01],\n",
       "         [ -5.49185940e-01,  -5.49185940e-01,  -5.49185940e-01],\n",
       "         ..., \n",
       "         [ -5.49185940e-01,  -5.49185940e-01,  -5.49185940e-01],\n",
       "         [ -5.49185940e-01,  -5.49185940e-01,  -5.49185940e-01],\n",
       "         [ -5.49185940e-01,  -5.49185940e-01,  -5.49185940e-01]]],\n",
       "\n",
       "\n",
       "       [[[ -5.21734960e-01,  -5.37421234e-01,  -5.41342803e-01],\n",
       "         [ -5.21734960e-01,  -5.37421234e-01,  -5.41342803e-01],\n",
       "         [ -5.21734960e-01,  -5.37421234e-01,  -5.41342803e-01],\n",
       "         ..., \n",
       "         [ -5.21734960e-01,  -4.90362411e-01,  -5.41342803e-01],\n",
       "         [ -5.21734960e-01,  -4.90362411e-01,  -5.41342803e-01],\n",
       "         [ -5.21734960e-01,  -4.90362411e-01,  -5.41342803e-01]],\n",
       "\n",
       "        [[ -5.21734960e-01,  -5.37421234e-01,  -5.41342803e-01],\n",
       "         [ -5.21734960e-01,  -5.37421234e-01,  -5.41342803e-01],\n",
       "         [ -5.21734960e-01,  -5.37421234e-01,  -5.41342803e-01],\n",
       "         ..., \n",
       "         [ -4.90362411e-01,  -4.58989862e-01,  -5.09970254e-01],\n",
       "         [ -4.90362411e-01,  -4.58989862e-01,  -5.09970254e-01],\n",
       "         [ -4.90362411e-01,  -4.58989862e-01,  -5.09970254e-01]],\n",
       "\n",
       "        [[ -5.21734960e-01,  -5.37421234e-01,  -5.41342803e-01],\n",
       "         [ -5.21734960e-01,  -5.37421234e-01,  -5.41342803e-01],\n",
       "         [ -5.21734960e-01,  -5.37421234e-01,  -5.41342803e-01],\n",
       "         ..., \n",
       "         [ -4.90362411e-01,  -4.58989862e-01,  -5.09970254e-01],\n",
       "         [ -4.90362411e-01,  -4.58989862e-01,  -5.09970254e-01],\n",
       "         [ -4.98205548e-01,  -4.55068293e-01,  -5.09970254e-01]],\n",
       "\n",
       "        ..., \n",
       "        [[ -5.49185940e-01,  -5.49185940e-01,  -5.49185940e-01],\n",
       "         [ -5.49185940e-01,  -5.49185940e-01,  -5.49185940e-01],\n",
       "         [ -5.49185940e-01,  -5.49185940e-01,  -5.49185940e-01],\n",
       "         ..., \n",
       "         [ -5.49185940e-01,  -5.49185940e-01,  -5.49185940e-01],\n",
       "         [ -5.49185940e-01,  -5.49185940e-01,  -5.49185940e-01],\n",
       "         [ -5.49185940e-01,  -5.49185940e-01,  -5.49185940e-01]],\n",
       "\n",
       "        [[ -5.49185940e-01,  -5.49185940e-01,  -5.49185940e-01],\n",
       "         [ -5.49185940e-01,  -5.49185940e-01,  -5.49185940e-01],\n",
       "         [ -5.49185940e-01,  -5.49185940e-01,  -5.49185940e-01],\n",
       "         ..., \n",
       "         [ -5.49185940e-01,  -5.49185940e-01,  -5.49185940e-01],\n",
       "         [ -5.49185940e-01,  -5.49185940e-01,  -5.49185940e-01],\n",
       "         [ -5.49185940e-01,  -5.49185940e-01,  -5.49185940e-01]],\n",
       "\n",
       "        [[ -5.49185940e-01,  -5.49185940e-01,  -5.49185940e-01],\n",
       "         [ -5.49185940e-01,  -5.49185940e-01,  -5.49185940e-01],\n",
       "         [ -5.49185940e-01,  -5.49185940e-01,  -5.49185940e-01],\n",
       "         ..., \n",
       "         [ -5.49185940e-01,  -5.49185940e-01,  -5.49185940e-01],\n",
       "         [ -5.49185940e-01,  -5.49185940e-01,  -5.49185940e-01],\n",
       "         [ -5.49185940e-01,  -5.49185940e-01,  -5.49185940e-01]]],\n",
       "\n",
       "\n",
       "       [[[ -5.49185940e-01,  -5.49185940e-01,  -5.49185940e-01],\n",
       "         [ -5.49185940e-01,  -5.49185940e-01,  -5.49185940e-01],\n",
       "         [ -5.49185940e-01,  -5.49185940e-01,  -5.49185940e-01],\n",
       "         ..., \n",
       "         [ -5.49185940e-01,  -5.49185940e-01,  -5.49185940e-01],\n",
       "         [ -5.49185940e-01,  -5.49185940e-01,  -5.49185940e-01],\n",
       "         [ -5.49185940e-01,  -5.49185940e-01,  -5.49185940e-01]],\n",
       "\n",
       "        [[ -5.49185940e-01,  -5.49185940e-01,  -5.49185940e-01],\n",
       "         [ -5.49185940e-01,  -5.49185940e-01,  -5.49185940e-01],\n",
       "         [ -5.49185940e-01,  -5.49185940e-01,  -5.49185940e-01],\n",
       "         ..., \n",
       "         [ -5.49185940e-01,  -5.49185940e-01,  -5.49185940e-01],\n",
       "         [ -5.49185940e-01,  -5.49185940e-01,  -5.49185940e-01],\n",
       "         [ -5.49185940e-01,  -5.49185940e-01,  -5.49185940e-01]],\n",
       "\n",
       "        [[ -5.49185940e-01,  -5.49185940e-01,  -5.49185940e-01],\n",
       "         [ -5.49185940e-01,  -5.49185940e-01,  -5.49185940e-01],\n",
       "         [ -5.49185940e-01,  -5.49185940e-01,  -5.49185940e-01],\n",
       "         ..., \n",
       "         [ -5.49185940e-01,  -5.49185940e-01,  -5.49185940e-01],\n",
       "         [ -5.49185940e-01,  -5.49185940e-01,  -5.49185940e-01],\n",
       "         [ -5.49185940e-01,  -5.49185940e-01,  -5.49185940e-01]],\n",
       "\n",
       "        ..., \n",
       "        [[ -5.49185940e-01,  -5.49185940e-01,  -5.49185940e-01],\n",
       "         [ -5.49185940e-01,  -5.49185940e-01,  -5.49185940e-01],\n",
       "         [ -5.49185940e-01,  -5.49185940e-01,  -5.49185940e-01],\n",
       "         ..., \n",
       "         [ -5.49185940e-01,  -5.49185940e-01,  -5.49185940e-01],\n",
       "         [ -5.49185940e-01,  -5.49185940e-01,  -5.49185940e-01],\n",
       "         [ -5.49185940e-01,  -5.49185940e-01,  -5.49185940e-01]],\n",
       "\n",
       "        [[ -5.49185940e-01,  -5.49185940e-01,  -5.49185940e-01],\n",
       "         [ -5.49185940e-01,  -5.49185940e-01,  -5.49185940e-01],\n",
       "         [ -5.49185940e-01,  -5.49185940e-01,  -5.49185940e-01],\n",
       "         ..., \n",
       "         [ -5.49185940e-01,  -5.49185940e-01,  -5.49185940e-01],\n",
       "         [ -5.49185940e-01,  -5.49185940e-01,  -5.49185940e-01],\n",
       "         [ -5.49185940e-01,  -5.49185940e-01,  -5.49185940e-01]],\n",
       "\n",
       "        [[ -5.49185940e-01,  -5.49185940e-01,  -5.49185940e-01],\n",
       "         [ -5.49185940e-01,  -5.49185940e-01,  -5.49185940e-01],\n",
       "         [ -5.49185940e-01,  -5.49185940e-01,  -5.49185940e-01],\n",
       "         ..., \n",
       "         [ -5.49185940e-01,  -5.49185940e-01,  -5.49185940e-01],\n",
       "         [ -5.49185940e-01,  -5.49185940e-01,  -5.49185940e-01],\n",
       "         [ -5.49185940e-01,  -5.49185940e-01,  -5.49185940e-01]]]])"
      ]
     },
     "execution_count": 61,
     "metadata": {},
     "output_type": "execute_result"
    }
   ],
   "source": [
    "imgs"
   ]
  },
  {
   "cell_type": "code",
   "execution_count": 92,
   "metadata": {
    "collapsed": false,
    "deletable": true,
    "editable": true,
    "scrolled": false
   },
   "outputs": [
    {
     "name": "stdout",
     "output_type": "stream",
     "text": [
      "0 tmp/tmp_1_1/f_0004.jpg noise 0.999915 [  1.38891428e-05   7.73907348e-04   7.87803903e-03   7.22935307e-04\n",
      "   9.90611196e-01]\n",
      "1 tmp/tmp_1_1/f_0005.jpg noise 0.999804 [  1.34158590e-05   7.73894018e-04   7.87816476e-03   7.14987400e-04\n",
      "   9.90619481e-01]\n",
      "2 tmp/tmp_1_1/f_0006.jpg noise 0.999542 [  1.24111830e-05   7.71673454e-04   7.87804928e-03   6.99837110e-04\n",
      "   9.90638077e-01]\n",
      "3 tmp/tmp_1_1/f_0007.jpg noise 0.999898 [  1.32000523e-05   7.84585369e-04   8.39506183e-03   7.77116918e-04\n",
      "   9.90029991e-01]\n",
      "4 tmp/tmp_1_1/f_0008.jpg noise 0.999975 [  2.34088002e-05   8.15084786e-04   9.84093919e-03   1.04085205e-03\n",
      "   9.88279700e-01]\n",
      "5 tmp/tmp_1_1/f_0009.jpg noise 0.999299 [  3.61012935e-05   8.15144915e-04   9.84082930e-03   1.05561013e-03\n",
      "   9.88252342e-01]\n",
      "6 tmp/tmp_1_1/f_0010.jpg noise 0.914845 [  3.87566470e-05   8.79978121e-04   9.82994027e-03   1.12782023e-03\n",
      "   9.88123536e-01]\n",
      "7 tmp/tmp_1_1/f_0011.jpg noise 0.9932 [  3.89022098e-05   6.70135196e-04   2.00265273e-03   6.59656071e-04\n",
      "   9.96628761e-01]\n",
      "8 tmp/tmp_1_1/f_0012.jpg noise 0.999928 [  2.85219758e-05   1.16022959e-04   2.00169021e-03   5.49090968e-04\n",
      "   9.97304738e-01]\n",
      "9 tmp/tmp_1_1/f_0013.jpg noise 0.999706 [  2.85080314e-05   1.15902440e-04   1.99837657e-03   5.49011223e-04\n",
      "   9.97308135e-01]\n",
      "10 tmp/tmp_1_1/f_0014.jpg noise 0.999998 [  2.84817161e-05   1.15793824e-04   1.97102851e-03   6.86902262e-04\n",
      "   9.97197807e-01]\n",
      "11 tmp/tmp_1_1/f_0015.jpg noise 0.999989 [  2.84805683e-05   1.16216986e-04   1.97092560e-03   6.91113702e-04\n",
      "   9.97193336e-01]\n",
      "12 tmp/tmp_1_1/f_0016.jpg noise 0.993462 [  2.86455852e-05   1.17845586e-04   1.97317544e-03   5.99842146e-03\n",
      "   9.91881967e-01]\n",
      "13 tmp/tmp_1_1/f_0017.jpg noise 0.982395 [  2.70275377e-05   1.00986610e-04   1.45047659e-03   7.41071114e-03\n",
      "   9.91010845e-01]\n",
      "14 tmp/tmp_1_1/f_0018.jpg noise 0.999701 [  7.96226886e-05   7.22105979e-05   4.67882728e-06   7.27561023e-03\n",
      "   9.92568016e-01]\n",
      "15 tmp/tmp_1_1/f_0019.jpg noise 0.998011 [  6.67104032e-05   7.22129116e-05   4.80142535e-06   7.26514449e-03\n",
      "   9.92591202e-01]\n",
      "16 tmp/tmp_1_1/f_0020.jpg noise 0.999896 [  6.40317012e-05   4.35628726e-06   5.42598991e-06   7.13776425e-03\n",
      "   9.92788494e-01]\n",
      "17 tmp/tmp_1_1/f_0021.jpg noise 0.99996 [  6.34628959e-05   4.40937993e-06   6.43338990e-06   7.12985825e-03\n",
      "   9.92795944e-01]\n",
      "18 tmp/tmp_1_1/f_0022.jpg noise 0.999963 [  6.44447427e-05   7.05402863e-06   7.47347949e-05   7.30695948e-03\n",
      "   9.92546856e-01]\n",
      "19 tmp/tmp_1_1/f_0023.jpg noise 0.998602 [  6.88328946e-05   7.25156497e-06   8.69690120e-05   8.32174905e-03\n",
      "   9.91515279e-01]\n",
      "20 tmp/tmp_1_1/f_0024.jpg noise 0.999953 [  6.99070079e-05   7.36680977e-06   1.07202082e-04   8.77857488e-03\n",
      "   9.91037011e-01]\n",
      "21 tmp/tmp_1_1/f_0025.jpg noise 0.946876 [  1.06079948e-04   7.09126971e-06   1.07661319e-04   9.06724669e-03\n",
      "   9.90711987e-01]\n",
      "22 tmp/tmp_1_1/f_0026.jpg noise 0.984751 [  1.05944695e-04   5.97378903e-06   1.23702368e-04   3.76284053e-03\n",
      "   9.96001601e-01]\n",
      "23 tmp/tmp_1_1/f_0027.jpg noise 0.997966 [  1.12306465e-04   5.58086049e-06   1.22774189e-04   2.27580522e-03\n",
      "   9.97483552e-01]\n",
      "24 tmp/tmp_1_1/f_0028.jpg noise 0.999934 [  4.68585349e-04   9.06409878e-06   1.22795202e-04   2.77632987e-03\n",
      "   9.96623218e-01]\n",
      "25 tmp/tmp_1_1/f_0029.jpg noise 0.999984 [  4.69590595e-04   1.05160343e-05   1.22697063e-04   2.81871017e-03\n",
      "   9.96578515e-01]\n",
      "26 tmp/tmp_1_1/f_0030.jpg noise 0.99997 [  5.49003598e-04   2.70732326e-05   1.22055390e-04   3.12187779e-03\n",
      "   9.96179938e-01]\n",
      "27 tmp/tmp_1_1/f_0031.jpg noise 0.99747 [  1.30496861e-03   2.86659524e-05   1.21051678e-04   3.37579148e-03\n",
      "   9.95169520e-01]\n",
      "28 tmp/tmp_1_1/f_0032.jpg noise 0.989647 [  1.30405987e-03   2.60204943e-05   5.28285527e-05   3.20157781e-03\n",
      "   9.95415509e-01]\n",
      "29 tmp/tmp_1_1/f_0033.jpg noise 0.993819 [  1.29985134e-03   2.58593391e-05   4.05950923e-05   2.18834775e-03\n",
      "   9.96445358e-01]\n",
      "30 tmp/tmp_1_1/f_0034.jpg noise 0.996703 [  1.29912118e-03   2.57359934e-05   2.00769973e-05   1.59713184e-03\n",
      "   9.97057796e-01]\n",
      "31 tmp/tmp_1_1/f_0035.jpg noise 0.999772 [  1.27176917e-03   2.56440344e-05   1.95851426e-05   1.41003379e-03\n",
      "   9.97272968e-01]\n",
      "32 tmp/tmp_1_1/f_0036.jpg noise 0.999571 [  1.27173890e-03   2.51329384e-05   2.49419884e-07   1.40952598e-03\n",
      "   9.97293353e-01]\n",
      "33 tmp/tmp_1_1/f_0037.jpg noise 0.989363 [  1.26534642e-03   2.51184974e-05   2.59225232e-07   1.37884403e-03\n",
      "   9.97330487e-01]\n",
      "34 tmp/tmp_1_1/f_0038.jpg noise 0.999487 [  8.45833099e-04   1.98978378e-05   1.47064995e-07   7.40231830e-04\n",
      "   9.98393893e-01]\n",
      "35 tmp/tmp_1_1/f_0039.jpg noise 0.995999 [  8.44987226e-04   1.83768716e-05   5.74338060e-07   6.94768270e-04\n",
      "   9.98441339e-01]\n",
      "36 tmp/tmp_1_1/f_0040.jpg noise 0.989865 [  7.93078565e-04   2.17809134e-06   5.76454113e-07   1.89863169e-03\n",
      "   9.97305572e-01]\n",
      "37 tmp/tmp_1_1/f_0041.jpg noise 0.99993 [  3.82644212e-05   7.93202958e-07   6.11437827e-07   2.70278472e-03\n",
      "   9.97257531e-01]\n",
      "38 tmp/tmp_1_1/f_0042.jpg noise 0.999946 [  3.94793315e-05   1.37986372e-05   7.59886825e-05   2.70969677e-03\n",
      "   9.97161090e-01]\n",
      "39 tmp/tmp_1_1/f_0043.jpg noise 0.999945 [  3.93036498e-05   1.37699972e-05   7.96524619e-05   2.71196337e-03\n",
      "   9.97155309e-01]\n",
      "40 tmp/tmp_1_1/f_0044.jpg noise 0.998853 [  5.20297835e-05   1.93691776e-05   7.96938111e-05   1.21084852e-02\n",
      "   9.87740397e-01]\n",
      "41 tmp/tmp_1_1/f_0045.jpg noise 0.999976 [  2.16548826e-04   2.16996086e-05   7.98934052e-05   2.17616521e-02\n",
      "   9.77920175e-01]\n",
      "42 tmp/tmp_1_1/f_0046.jpg noise 0.999942 [  2.55732855e-04   2.17939305e-05   7.99066402e-05   2.21293811e-02\n",
      "   9.77513194e-01]\n",
      "43 tmp/tmp_1_1/f_0047.jpg noise 0.999997 [  2.57740787e-04   2.17923716e-05   7.98971596e-05   2.21320130e-02\n",
      "   9.77508545e-01]\n",
      "44 tmp/tmp_1_1/f_0048.jpg noise 0.999961 [  2.89678632e-04   2.17964298e-05   7.99000700e-05   2.21694205e-02\n",
      "   9.77439225e-01]\n",
      "45 tmp/tmp_1_1/f_0049.jpg noise 0.984641 [  2.90112948e-04   2.18266632e-05   8.11313366e-05   2.28711925e-02\n",
      "   9.76735711e-01]\n",
      "46 tmp/tmp_1_1/f_0050.jpg noise 0.989386 [  2.62692512e-04   2.14609863e-05   8.11397185e-05   2.14012600e-02\n",
      "   9.78233337e-01]\n",
      "47 tmp/tmp_1_1/f_0051.jpg noise 0.998965 [  2.62600661e-04   2.82614674e-05   9.35348726e-05   2.07167119e-02\n",
      "   9.78898883e-01]\n",
      "48 tmp/tmp_1_1/f_0052.jpg noise 0.999888 [  2.61568552e-04   1.52728771e-05   1.84738656e-05   2.13285051e-02\n",
      "   9.78376210e-01]\n",
      "49 tmp/tmp_1_1/f_0053.jpg noise 0.905796 [  2.62445275e-04   1.54192676e-05   9.03168329e-05   2.21107956e-02\n",
      "   9.77521062e-01]\n",
      "50 tmp/tmp_1_1/f_0054.jpg noise 0.900651 [  2.49589182e-04   9.83073187e-06   9.02679894e-05   1.32141802e-02\n",
      "   9.86436188e-01]\n",
      "51 tmp/tmp_1_1/f_0055.jpg noise 0.995906 [  8.39673376e-05   2.18895002e-05   9.02595566e-05   8.24952777e-03\n",
      "   9.91554260e-01]\n",
      "52 tmp/tmp_1_1/f_0056.jpg noise 0.999895 [  6.89757726e-05   2.66011102e-05   9.04235640e-05   1.21514741e-02\n",
      "   9.87662494e-01]\n",
      "53 tmp/tmp_1_1/f_0057.jpg noise 0.999304 [  6.87250067e-05   3.43853208e-05   1.73146676e-04   2.02652551e-02\n",
      "   9.79458511e-01]\n",
      "54 tmp/tmp_1_1/f_0058.jpg noise 0.992926 [  3.73489493e-05   3.43855063e-05   1.73147200e-04   2.04450674e-02\n",
      "   9.79310036e-01]\n",
      "55 tmp/tmp_1_1/f_0059.jpg noise 0.999618 [  3.82838844e-05   3.47599962e-05   1.71468913e-04   2.53053810e-02\n",
      "   9.74450111e-01]\n",
      "56 tmp/tmp_1_1/f_0060.jpg noise 0.99604 [  3.82255457e-05   3.47441965e-05   1.71464140e-04   2.54090875e-02\n",
      "   9.74346519e-01]\n",
      "57 tmp/tmp_1_1/f_0061.jpg noise 0.993738 [  6.20120671e-04   2.84839443e-05   1.59050396e-04   2.56098304e-02\n",
      "   9.73582566e-01]\n",
      "58 tmp/tmp_1_1/f_0062.jpg noise 0.991337 [  6.23208936e-04   2.85211390e-05   1.58658746e-04   2.50816103e-02\n",
      "   9.74108100e-01]\n",
      "59 tmp/tmp_1_1/f_0063.jpg noise 0.994947 [  6.36809622e-04   2.90509597e-05   8.34247476e-05   2.43917406e-02\n",
      "   9.74858940e-01]\n",
      "60 tmp/tmp_1_1/f_0064.jpg noise 0.951833 [  6.36596524e-04   2.90883709e-05   8.56595434e-05   2.39788070e-02\n",
      "   9.75269794e-01]\n",
      "61 tmp/tmp_1_1/f_0065.jpg noise 0.956987 [  7.82562420e-04   1.60207073e-05   8.68962743e-05   1.93046331e-02\n",
      "   9.79809880e-01]\n",
      "62 tmp/tmp_1_1/f_0066.jpg noise 0.917855 [  7.58467591e-04   1.12146445e-05   8.67134004e-05   1.50360037e-02\n",
      "   9.84107614e-01]\n",
      "63 tmp/tmp_1_1/f_0067.jpg noise 0.997819 [  1.26027958e-02   7.30262627e-06   4.91754108e-05   7.03814160e-03\n",
      "   9.80302513e-01]\n",
      "64 tmp/tmp_1_1/f_0068.jpg noise 0.944326 [  1.89304780e-02   1.01011437e-05   6.72274327e-05   7.03353807e-03\n",
      "   9.73958611e-01]\n",
      "65 tmp/tmp_1_1/f_0069.jpg noise 0.998582 [  1.89371686e-02   1.68794068e-05   6.72187962e-05   2.52457755e-03\n",
      "   9.78454113e-01]\n",
      "66 tmp/tmp_1_1/f_0070.jpg noise 0.9884 [  1.89814083e-02   1.70810854e-05   6.72123933e-05   2.41232384e-03\n",
      "   9.78521943e-01]\n",
      "67 tmp/tmp_1_1/f_0071.jpg noise 0.998993 [  1.85381509e-02   1.63673540e-05   6.71922680e-05   1.90521893e-03\n",
      "   9.79472995e-01]\n",
      "68 tmp/tmp_1_1/f_0072.jpg noise 0.998846 [  1.86363924e-02   1.66104674e-05   6.71893140e-05   1.94549188e-03\n",
      "   9.79334354e-01]\n",
      "69 tmp/tmp_1_1/f_0073.jpg noise 0.999056 [  1.86253153e-02   1.61214230e-05   6.69121073e-05   1.85028533e-03\n",
      "   9.79441345e-01]\n",
      "70 tmp/tmp_1_1/f_0074.jpg noise 0.997234 [  1.86270140e-02   1.62418874e-05   6.46699045e-05   1.77593087e-03\n",
      "   9.79516029e-01]\n",
      "71 tmp/tmp_1_1/f_0075.jpg noise 0.999964 [  1.84875987e-02   1.51157801e-05   6.32418305e-05   1.68566802e-03\n",
      "   9.79748368e-01]\n",
      "72 tmp/tmp_1_1/f_0076.jpg noise 0.879805 [  1.85036398e-02   1.58308485e-05   6.32418814e-05   1.71517418e-03\n",
      "   9.79702175e-01]\n",
      "73 tmp/tmp_1_1/f_0077.jpg noise 0.93438 [  6.66634971e-03   1.24083645e-05   1.80565821e-05   1.61505991e-03\n",
      "   9.91688132e-01]\n",
      "74 tmp/tmp_1_1/f_0078.jpg noise 0.989281 [  3.43923864e-04   9.86383293e-06   1.36963352e-09   1.43294723e-03\n",
      "   9.98213172e-01]\n",
      "75 tmp/tmp_1_1/f_0079.jpg noise 0.99926 [  2.24554981e-03   3.08734780e-05   7.96352542e-05   2.06976547e-03\n",
      "   9.95574176e-01]\n",
      "76 tmp/tmp_1_1/f_0080.jpg noise 0.997911 [ 0.00919188  0.01692774  0.01642004  0.06047831  0.89698201]\n",
      "77 tmp/tmp_1_1/f_0081.jpg noise 0.997605 [ 0.01604927  0.03376929  0.03285928  0.11879871  0.79852343]\n",
      "78 tmp/tmp_1_1/f_0082.jpg noise 0.999917 [ 0.0167559   0.03478758  0.05109124  0.19141047  0.70595479]\n",
      "79 tmp/tmp_1_1/f_0083.jpg noise 0.999804 [ 0.01756531  0.03580335  0.06938025  0.26411256  0.6131385 ]\n",
      "80 tmp/tmp_1_1/f_0084.jpg noise 0.999556 [ 0.01903857  0.05401083  0.08529802  0.32819375  0.51345885]\n",
      "81 tmp/tmp_1_1/f_0085.jpg noise 0.999502 [ 0.02616359  0.05414231  0.08543544  0.32928556  0.50497305]\n",
      "82 tmp/tmp_1_1/f_0086.jpg noise 0.999665 [ 0.02636298  0.05414199  0.08543544  0.32931837  0.50474119]\n",
      "83 tmp/tmp_1_1/f_0087.jpg noise 0.999631 [ 0.02639087  0.05414167  0.08543544  0.32935748  0.50467449]\n",
      "84 tmp/tmp_1_1/f_0088.jpg noise 0.962891"
     ]
    },
    {
     "ename": "IndexError",
     "evalue": "index 84 is out of bounds for axis 0 with size 84",
     "output_type": "error",
     "traceback": [
      "\u001b[0;31m---------------------------------------------------------------------------\u001b[0m",
      "\u001b[0;31mIndexError\u001b[0m                                Traceback (most recent call last)",
      "\u001b[0;32m<ipython-input-92-641242400976>\u001b[0m in \u001b[0;36m<module>\u001b[0;34m()\u001b[0m\n\u001b[1;32m      1\u001b[0m \u001b[0;32mfor\u001b[0m \u001b[0mi\u001b[0m \u001b[0;32min\u001b[0m \u001b[0mrange\u001b[0m\u001b[0;34m(\u001b[0m\u001b[0mlen\u001b[0m\u001b[0;34m(\u001b[0m\u001b[0mframes\u001b[0m\u001b[0;34m)\u001b[0m\u001b[0;34m)\u001b[0m\u001b[0;34m:\u001b[0m\u001b[0;34m\u001b[0m\u001b[0m\n\u001b[0;32m----> 2\u001b[0;31m     \u001b[0;32mprint\u001b[0m \u001b[0mi\u001b[0m\u001b[0;34m,\u001b[0m\u001b[0mframes\u001b[0m\u001b[0;34m[\u001b[0m\u001b[0mi\u001b[0m\u001b[0;34m]\u001b[0m\u001b[0;34m,\u001b[0m \u001b[0mreversed_dict\u001b[0m\u001b[0;34m[\u001b[0m\u001b[0mnp\u001b[0m\u001b[0;34m.\u001b[0m\u001b[0margmax\u001b[0m\u001b[0;34m(\u001b[0m\u001b[0msoftmaxes\u001b[0m\u001b[0;34m[\u001b[0m\u001b[0mi\u001b[0m\u001b[0;34m]\u001b[0m\u001b[0;34m)\u001b[0m\u001b[0;34m]\u001b[0m\u001b[0;34m,\u001b[0m\u001b[0mnp\u001b[0m\u001b[0;34m.\u001b[0m\u001b[0mmax\u001b[0m\u001b[0;34m(\u001b[0m\u001b[0msoftmaxes\u001b[0m\u001b[0;34m[\u001b[0m\u001b[0mi\u001b[0m\u001b[0;34m]\u001b[0m\u001b[0;34m)\u001b[0m\u001b[0;34m,\u001b[0m\u001b[0mavgs\u001b[0m\u001b[0;34m[\u001b[0m\u001b[0mi\u001b[0m\u001b[0;34m]\u001b[0m\u001b[0;34m\u001b[0m\u001b[0m\n\u001b[0m",
      "\u001b[0;31mIndexError\u001b[0m: index 84 is out of bounds for axis 0 with size 84"
     ]
    }
   ],
   "source": [
    "for i in range(len(frames)):\n",
    "    print i,frames[i], reversed_dict[np.argmax(softmaxes[i])],np.max(softmaxes[i]),avgs[i]"
   ]
  },
  {
   "cell_type": "code",
   "execution_count": 84,
   "metadata": {
    "collapsed": false,
    "deletable": true,
    "editable": true
   },
   "outputs": [
    {
     "data": {
      "text/plain": [
       "5"
      ]
     },
     "execution_count": 84,
     "metadata": {},
     "output_type": "execute_result"
    }
   ],
   "source": [
    "number_of_brands"
   ]
  },
  {
   "cell_type": "code",
   "execution_count": 83,
   "metadata": {
    "collapsed": false,
    "deletable": true,
    "editable": true
   },
   "outputs": [
    {
     "name": "stdout",
     "output_type": "stream",
     "text": [
      "[  1.48699118e-03   6.36759996e-01   3.60829026e-01   2.91857541e-05\n",
      "   8.94819095e-04]\n",
      "[  2.50881771e-03   2.45955110e-01   6.61510462e-03   1.44622363e-05\n",
      "   7.44906545e-01]\n",
      "[  1.45326578e-03   9.25543964e-01   3.37493303e-03   8.73837678e-07\n",
      "   6.96269050e-02]\n",
      "[  1.45326578e-03   9.25543964e-01   3.37493303e-03   8.73837678e-07\n",
      "   6.96269050e-02]\n",
      "[35, 63, 7, 7, 68, 63]\n"
     ]
    }
   ],
   "source": [
    "top_idxs = []\n",
    "new_avgs = np.array([[float(i) for i in x[0]] for x in avgs])\n",
    "for i in range(number_of_brands):\n",
    "    #print np.argmax(avgs[:,i])\n",
    "    try:\n",
    "        top_idxs.append(np.argmax(new_avgs[:,i])+number_of_brands)\n",
    "        print  new_avgs[np.argmax(new_avgs[:,i])+number_of_brands]\n",
    "        \n",
    "    except IndexError:\n",
    "        top_idxs.append(np.argmax(new_avgs[:,i]))\n",
    "\n",
    "print top_idxs\n",
    "sequences = []"
   ]
  },
  {
   "cell_type": "code",
   "execution_count": 28,
   "metadata": {
    "collapsed": false,
    "deletable": true,
    "editable": true
   },
   "outputs": [
    {
     "data": {
      "text/plain": [
       "(64,)"
      ]
     },
     "execution_count": 28,
     "metadata": {},
     "output_type": "execute_result"
    }
   ],
   "source": [
    "new_avgs[:,0].shape"
   ]
  },
  {
   "cell_type": "code",
   "execution_count": 30,
   "metadata": {
    "collapsed": false,
    "deletable": true,
    "editable": true
   },
   "outputs": [
    {
     "name": "stdout",
     "output_type": "stream",
     "text": [
      "(6,)\n",
      "predicting RNN...\n"
     ]
    },
    {
     "ename": "ValueError",
     "evalue": "Error when checking : expected time_distributed_1_input to have 5 dimensions, but got array with shape (6, 1)",
     "output_type": "error",
     "traceback": [
      "\u001b[0;31m---------------------------------------------------------------------------\u001b[0m",
      "\u001b[0;31mValueError\u001b[0m                                Traceback (most recent call last)",
      "\u001b[0;32m<ipython-input-30-86f8c4dad696>\u001b[0m in \u001b[0;36m<module>\u001b[0;34m()\u001b[0m\n\u001b[1;32m      7\u001b[0m \u001b[0;32mprint\u001b[0m \u001b[0msequences\u001b[0m\u001b[0;34m.\u001b[0m\u001b[0mshape\u001b[0m\u001b[0;34m\u001b[0m\u001b[0m\n\u001b[1;32m      8\u001b[0m \u001b[0;32mprint\u001b[0m \u001b[0;34m\"predicting RNN...\"\u001b[0m\u001b[0;34m\u001b[0m\u001b[0m\n\u001b[0;32m----> 9\u001b[0;31m \u001b[0mps\u001b[0m \u001b[0;34m=\u001b[0m \u001b[0mdp\u001b[0m\u001b[0;34m.\u001b[0m\u001b[0mrnn_model\u001b[0m\u001b[0;34m.\u001b[0m\u001b[0mpredict\u001b[0m\u001b[0;34m(\u001b[0m\u001b[0msequences\u001b[0m\u001b[0;34m)\u001b[0m\u001b[0;34m\u001b[0m\u001b[0m\n\u001b[0m",
      "\u001b[0;32m/home/ubuntu/.local/lib/python2.7/site-packages/keras/models.pyc\u001b[0m in \u001b[0;36mpredict\u001b[0;34m(self, x, batch_size, verbose)\u001b[0m\n\u001b[1;32m    889\u001b[0m         \u001b[0;32mif\u001b[0m \u001b[0mself\u001b[0m\u001b[0;34m.\u001b[0m\u001b[0mmodel\u001b[0m \u001b[0;32mis\u001b[0m \u001b[0mNone\u001b[0m\u001b[0;34m:\u001b[0m\u001b[0;34m\u001b[0m\u001b[0m\n\u001b[1;32m    890\u001b[0m             \u001b[0mself\u001b[0m\u001b[0;34m.\u001b[0m\u001b[0mbuild\u001b[0m\u001b[0;34m(\u001b[0m\u001b[0;34m)\u001b[0m\u001b[0;34m\u001b[0m\u001b[0m\n\u001b[0;32m--> 891\u001b[0;31m         \u001b[0;32mreturn\u001b[0m \u001b[0mself\u001b[0m\u001b[0;34m.\u001b[0m\u001b[0mmodel\u001b[0m\u001b[0;34m.\u001b[0m\u001b[0mpredict\u001b[0m\u001b[0;34m(\u001b[0m\u001b[0mx\u001b[0m\u001b[0;34m,\u001b[0m \u001b[0mbatch_size\u001b[0m\u001b[0;34m=\u001b[0m\u001b[0mbatch_size\u001b[0m\u001b[0;34m,\u001b[0m \u001b[0mverbose\u001b[0m\u001b[0;34m=\u001b[0m\u001b[0mverbose\u001b[0m\u001b[0;34m)\u001b[0m\u001b[0;34m\u001b[0m\u001b[0m\n\u001b[0m\u001b[1;32m    892\u001b[0m \u001b[0;34m\u001b[0m\u001b[0m\n\u001b[1;32m    893\u001b[0m     \u001b[0;32mdef\u001b[0m \u001b[0mpredict_on_batch\u001b[0m\u001b[0;34m(\u001b[0m\u001b[0mself\u001b[0m\u001b[0;34m,\u001b[0m \u001b[0mx\u001b[0m\u001b[0;34m)\u001b[0m\u001b[0;34m:\u001b[0m\u001b[0;34m\u001b[0m\u001b[0m\n",
      "\u001b[0;32m/home/ubuntu/.local/lib/python2.7/site-packages/keras/engine/training.pyc\u001b[0m in \u001b[0;36mpredict\u001b[0;34m(self, x, batch_size, verbose)\u001b[0m\n\u001b[1;32m   1552\u001b[0m         x = _standardize_input_data(x, self._feed_input_names,\n\u001b[1;32m   1553\u001b[0m                                     \u001b[0mself\u001b[0m\u001b[0;34m.\u001b[0m\u001b[0m_feed_input_shapes\u001b[0m\u001b[0;34m,\u001b[0m\u001b[0;34m\u001b[0m\u001b[0m\n\u001b[0;32m-> 1554\u001b[0;31m                                     check_batch_axis=False)\n\u001b[0m\u001b[1;32m   1555\u001b[0m         \u001b[0;32mif\u001b[0m \u001b[0mself\u001b[0m\u001b[0;34m.\u001b[0m\u001b[0mstateful\u001b[0m\u001b[0;34m:\u001b[0m\u001b[0;34m\u001b[0m\u001b[0m\n\u001b[1;32m   1556\u001b[0m             \u001b[0;32mif\u001b[0m \u001b[0mx\u001b[0m\u001b[0;34m[\u001b[0m\u001b[0;36m0\u001b[0m\u001b[0;34m]\u001b[0m\u001b[0;34m.\u001b[0m\u001b[0mshape\u001b[0m\u001b[0;34m[\u001b[0m\u001b[0;36m0\u001b[0m\u001b[0;34m]\u001b[0m \u001b[0;34m>\u001b[0m \u001b[0mbatch_size\u001b[0m \u001b[0;32mand\u001b[0m \u001b[0mx\u001b[0m\u001b[0;34m[\u001b[0m\u001b[0;36m0\u001b[0m\u001b[0;34m]\u001b[0m\u001b[0;34m.\u001b[0m\u001b[0mshape\u001b[0m\u001b[0;34m[\u001b[0m\u001b[0;36m0\u001b[0m\u001b[0;34m]\u001b[0m \u001b[0;34m%\u001b[0m \u001b[0mbatch_size\u001b[0m \u001b[0;34m!=\u001b[0m \u001b[0;36m0\u001b[0m\u001b[0;34m:\u001b[0m\u001b[0;34m\u001b[0m\u001b[0m\n",
      "\u001b[0;32m/home/ubuntu/.local/lib/python2.7/site-packages/keras/engine/training.pyc\u001b[0m in \u001b[0;36m_standardize_input_data\u001b[0;34m(data, names, shapes, check_batch_axis, exception_prefix)\u001b[0m\n\u001b[1;32m    119\u001b[0m                                  \u001b[0;34m' to have '\u001b[0m \u001b[0;34m+\u001b[0m \u001b[0mstr\u001b[0m\u001b[0;34m(\u001b[0m\u001b[0mlen\u001b[0m\u001b[0;34m(\u001b[0m\u001b[0mshapes\u001b[0m\u001b[0;34m[\u001b[0m\u001b[0mi\u001b[0m\u001b[0;34m]\u001b[0m\u001b[0;34m)\u001b[0m\u001b[0;34m)\u001b[0m \u001b[0;34m+\u001b[0m\u001b[0;34m\u001b[0m\u001b[0m\n\u001b[1;32m    120\u001b[0m                                  \u001b[0;34m' dimensions, but got array with shape '\u001b[0m \u001b[0;34m+\u001b[0m\u001b[0;34m\u001b[0m\u001b[0m\n\u001b[0;32m--> 121\u001b[0;31m                                  str(array.shape))\n\u001b[0m\u001b[1;32m    122\u001b[0m             \u001b[0;32mfor\u001b[0m \u001b[0mj\u001b[0m\u001b[0;34m,\u001b[0m \u001b[0;34m(\u001b[0m\u001b[0mdim\u001b[0m\u001b[0;34m,\u001b[0m \u001b[0mref_dim\u001b[0m\u001b[0;34m)\u001b[0m \u001b[0;32min\u001b[0m \u001b[0menumerate\u001b[0m\u001b[0;34m(\u001b[0m\u001b[0mzip\u001b[0m\u001b[0;34m(\u001b[0m\u001b[0marray\u001b[0m\u001b[0;34m.\u001b[0m\u001b[0mshape\u001b[0m\u001b[0;34m,\u001b[0m \u001b[0mshapes\u001b[0m\u001b[0;34m[\u001b[0m\u001b[0mi\u001b[0m\u001b[0;34m]\u001b[0m\u001b[0;34m)\u001b[0m\u001b[0;34m)\u001b[0m\u001b[0;34m:\u001b[0m\u001b[0;34m\u001b[0m\u001b[0m\n\u001b[1;32m    123\u001b[0m                 \u001b[0;32mif\u001b[0m \u001b[0;32mnot\u001b[0m \u001b[0mj\u001b[0m \u001b[0;32mand\u001b[0m \u001b[0;32mnot\u001b[0m \u001b[0mcheck_batch_axis\u001b[0m\u001b[0;34m:\u001b[0m\u001b[0;34m\u001b[0m\u001b[0m\n",
      "\u001b[0;31mValueError\u001b[0m: Error when checking : expected time_distributed_1_input to have 5 dimensions, but got array with shape (6, 1)"
     ]
    }
   ],
   "source": [
    "sequences = []\n",
    "\n",
    "for top_f in top_idxs:\n",
    "    sequences.append(imgs[top_f:top_f+max_frames])\n",
    "\n",
    "sequences = np.array(sequences)\n",
    "print sequences.shape\n",
    "print \"predicting RNN...\"\n",
    "ps = dp.rnn_model.predict(sequences)"
   ]
  },
  {
   "cell_type": "code",
   "execution_count": null,
   "metadata": {
    "collapsed": true,
    "deletable": true,
    "editable": true
   },
   "outputs": [],
   "source": []
  }
 ],
 "metadata": {
  "kernelspec": {
   "display_name": "Python 3",
   "language": "python",
   "name": "python3"
  },
  "language_info": {
   "codemirror_mode": {
    "name": "ipython",
    "version": 3
   },
   "file_extension": ".py",
   "mimetype": "text/x-python",
   "name": "python",
   "nbconvert_exporter": "python",
   "pygments_lexer": "ipython3",
   "version": "3.5.2"
  }
 },
 "nbformat": 4,
 "nbformat_minor": 2
}
