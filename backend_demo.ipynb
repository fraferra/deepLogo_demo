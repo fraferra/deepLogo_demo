{
 "cells": [
  {
   "cell_type": "code",
   "execution_count": 6,
   "metadata": {
    "collapsed": false
   },
   "outputs": [],
   "source": [
    "from keras.models import Sequential\n",
    "from keras.layers.core import Flatten, Dense, Dropout\n",
    "from keras.layers.convolutional import Convolution2D, MaxPooling2D, ZeroPadding2D\n",
    "from keras.layers.wrappers import TimeDistributed\n",
    "from keras.layers.recurrent import SimpleRNN, LSTM, GRU\n",
    "from keras.layers.core import Dense, Activation, Dropout, Reshape, Flatten\n",
    "from keras.models import Model\n",
    "from keras.layers import Input\n",
    "from keras.applications.vgg19 import VGG19\n",
    "from keras.layers import Dense, GlobalAveragePooling2D\n",
    "\n",
    "from keras.models import Sequential, ask_to_proceed_with_overwrite\n",
    "from keras.layers import Dense\n",
    "from keras.layers.core import Activation, Dense\n",
    "from keras.layers import SimpleRNN, LSTM,  GRU,SeparableConvolution2D\n",
    "from keras.callbacks import ModelCheckpoint,EarlyStopping\n",
    "\n",
    "from keras.layers.wrappers import TimeDistributed\n",
    "\n",
    "import keras\n",
    "from keras.applications import VGG16\n",
    "from keras.models import Model\n",
    "from keras.layers.core import Activation, Dense\n",
    "import tensorflow as tf\n",
    "import glob\n",
    "\n",
    "import scipy\n",
    "import numpy as np\n",
    "from PIL import Image\n",
    "import random\n",
    "import pandas as pd\n",
    "import random"
   ]
  },
  {
   "cell_type": "code",
   "execution_count": 79,
   "metadata": {
    "collapsed": false
   },
   "outputs": [],
   "source": [
    "\n",
    "def getModel2( output_dim ):\n",
    "    ''' \n",
    "        * output_dim: the number of classes (int)\n",
    "        \n",
    "        * return: compiled model (keras.engine.training.Model)\n",
    "    '''\n",
    "    #vgg_model = VGG16( weights='imagenet', include_top=False )\n",
    "    vgg_model = VGG16(weights='imagenet', include_top=False)\n",
    "\n",
    "#     for layer in vgg_model.layers:\n",
    "#         layer.trainable = False\n",
    "\n",
    "    x = vgg_model.output\n",
    "    x = GlobalAveragePooling2D()(x)\n",
    "    # let's add a fully-connected layer\n",
    "    x = Dense(1024, activation='relu')(x)\n",
    "    \n",
    "    predictions = Dense(output_dim ,activation='softmax')(x)\n",
    "\n",
    "# this is the model we will train\n",
    "    model = Model(input=vgg_model.input, output=predictions)\n",
    "\n",
    "    #Freeze all layers of VGG16 and Compile the model\n",
    "    #Confirm the model is appropriate\n",
    "\n",
    "    return model    \n",
    "\n",
    "def load_model(weights_path, output_dim):\n",
    "\n",
    "    model = getModel2( output_dim ) \n",
    "    for k,layer in model.layers_by_depth.items()[:]:\n",
    "        layer[0].trainable = False\n",
    "#     for layer in model.layers:\n",
    "#         layer.trainable = False\n",
    "        \n",
    "    model.load_weights(weights_path)\n",
    "    model.compile(loss='categorical_crossentropy',\n",
    "              optimizer='adam',\n",
    "              metrics=['accuracy', 'categorical_crossentropy'])   \n",
    "    return model\n",
    "\n",
    "def load_rnn_model(weights):\n",
    "    model_rnn3=Sequential()\n",
    "\n",
    "    model_rnn3.add(TimeDistributed(trained_model, input_shape=(max_frames,224,224,3)))\n",
    "    model_rnn3.add(GRU(output_dim=100,return_sequences=True))\n",
    "    model_rnn3.add(GRU(output_dim=50,return_sequences=False))\n",
    "    model_rnn3.add(Dropout(.2))\n",
    "    model_rnn3.add(Dense(number_of_brands,activation='softmax'))\n",
    "    model_rnn3.load_weights(weights)\n",
    "\n",
    "    model_rnn3.compile(optimizer='adam', loss='categorical_crossentropy',metrics=['accuracy', 'categorical_crossentropy'])\n",
    "\n",
    "    return model_rnn3\n",
    "\n",
    "labels_dict = {'apple': 2, 'cocacola': 0, 'nike': 4, 'pepsi': 1, 'starbucks': 3}\n",
    "reversed_dict = dict([(x[1],x[0]) for x in labels_dict.items()])\n",
    "\n",
    "def get_brand(softmaxes):\n",
    "    v = np.max(softmaxes.mean(axis=0))\n",
    "    if v > 0.6:\n",
    "        return reversed_dict[np.argmax(softmaxes.mean(axis=0))]\n",
    "    return \"Noise\"\n"
   ]
  },
  {
   "cell_type": "code",
   "execution_count": 8,
   "metadata": {
    "collapsed": false
   },
   "outputs": [
    {
     "name": "stderr",
     "output_type": "stream",
     "text": [
      "/home/ubuntu/.local/lib/python2.7/site-packages/ipykernel/__main__.py:22: UserWarning: Update your `Model` call to the Keras 2 API: `Model(outputs=Tensor(\"de..., inputs=Tensor(\"in...)`\n"
     ]
    }
   ],
   "source": [
    "trained_model = load_model(\"weights-improvement-VGG16-LOGO5-04-0.9940.hdf5\", 5)"
   ]
  },
  {
   "cell_type": "code",
   "execution_count": 11,
   "metadata": {
    "collapsed": false
   },
   "outputs": [
    {
     "name": "stderr",
     "output_type": "stream",
     "text": [
      "/home/ubuntu/.local/lib/python2.7/site-packages/ipykernel/__main__.py:47: UserWarning: Update your `GRU` call to the Keras 2 API: `GRU(units=100, return_sequences=True)`\n",
      "/home/ubuntu/.local/lib/python2.7/site-packages/ipykernel/__main__.py:48: UserWarning: Update your `GRU` call to the Keras 2 API: `GRU(units=50, return_sequences=False)`\n"
     ]
    }
   ],
   "source": [
    "max_frames = 5\n",
    "number_of_brands = 5\n",
    "rnn_model = load_rnn_model(\"RNN-05-0.8704.hdf5\")"
   ]
  },
  {
   "cell_type": "code",
   "execution_count": 12,
   "metadata": {
    "collapsed": true
   },
   "outputs": [],
   "source": [
    "## Download Video"
   ]
  },
  {
   "cell_type": "code",
   "execution_count": 131,
   "metadata": {
    "collapsed": true
   },
   "outputs": [],
   "source": [
    "url = \"https://www.youtube.com/watch?v=vWD2U0CUB8o\""
   ]
  },
  {
   "cell_type": "code",
   "execution_count": 132,
   "metadata": {
    "collapsed": false
   },
   "outputs": [],
   "source": [
    "from pytube import YouTube\n",
    "yt = YouTube(url)"
   ]
  },
  {
   "cell_type": "code",
   "execution_count": 133,
   "metadata": {
    "collapsed": true
   },
   "outputs": [],
   "source": [
    "video = yt.get('mp4', '720p')"
   ]
  },
  {
   "cell_type": "code",
   "execution_count": 134,
   "metadata": {
    "collapsed": false
   },
   "outputs": [],
   "source": [
    "cmd1 = \"rm /tmp/tmp_1\"\n",
    "sp.call(cmd1,shell=True)\n",
    "video.download('/tmp/tmp_1')"
   ]
  },
  {
   "cell_type": "code",
   "execution_count": 135,
   "metadata": {
    "collapsed": true
   },
   "outputs": [],
   "source": [
    "## Format video"
   ]
  },
  {
   "cell_type": "code",
   "execution_count": 136,
   "metadata": {
    "collapsed": true
   },
   "outputs": [],
   "source": [
    "import subprocess as sp\n",
    "import sys"
   ]
  },
  {
   "cell_type": "code",
   "execution_count": 137,
   "metadata": {
    "collapsed": false
   },
   "outputs": [
    {
     "name": "stdout",
     "output_type": "stream",
     "text": [
      "Saved it at /tmp/tmp_1_1/f\n"
     ]
    }
   ],
   "source": [
    "filename = \"/tmp/tmp_1\"\n",
    "\n",
    "cmd1 = \"rm -r /tmp/tmp_1_1\"\n",
    "sp.call(cmd1,shell=True)\n",
    "\n",
    "cmd1 = \"mkdir /tmp/tmp_1_1\"\n",
    "sp.call(cmd1,shell=True)\n",
    "outputpath= \"/tmp/tmp_1_1/\"\n",
    "        \n",
    "outputfile = outputpath + \"f\"\n",
    "cmd2='ffmpeg -i '+filename+' -vframes 100  -r 2 -s 224x224 ' + outputfile + '_%04d.jpg'\n",
    "sp.call(cmd2,shell=True)\n",
    "sys.stdout.write(\"Saved it at \" + outputfile +\"\\n\")"
   ]
  },
  {
   "cell_type": "code",
   "execution_count": 138,
   "metadata": {
    "collapsed": true
   },
   "outputs": [],
   "source": [
    "## Get top sliding window"
   ]
  },
  {
   "cell_type": "code",
   "execution_count": 139,
   "metadata": {
    "collapsed": true
   },
   "outputs": [],
   "source": [
    "import glob"
   ]
  },
  {
   "cell_type": "code",
   "execution_count": 140,
   "metadata": {
    "collapsed": true
   },
   "outputs": [],
   "source": [
    "frames = glob.glob(\"/tmp/tmp_1_1/*\")\n",
    "x_mean = 0.39533365588770686"
   ]
  },
  {
   "cell_type": "code",
   "execution_count": 141,
   "metadata": {
    "collapsed": false
   },
   "outputs": [],
   "source": [
    "imgs = []\n",
    "for frame in frames:\n",
    "    img = np.asarray(Image.open(frame))/255.\n",
    "    imgs.append(img)\n",
    "    \n",
    "imgs = np.array(imgs) - x_mean\n",
    "    \n",
    "    \n",
    "    \n",
    "    "
   ]
  },
  {
   "cell_type": "code",
   "execution_count": 142,
   "metadata": {
    "collapsed": true
   },
   "outputs": [],
   "source": [
    "softmaxes = trained_model.predict(imgs)"
   ]
  },
  {
   "cell_type": "code",
   "execution_count": 145,
   "metadata": {
    "collapsed": false
   },
   "outputs": [
    {
     "data": {
      "text/plain": [
       "array([[  1.13027580e-02,   9.85687554e-01,   3.41692619e-04,\n",
       "          2.89327204e-06,   2.66503519e-03],\n",
       "       [  1.59143692e-05,   2.26134494e-01,   7.60171175e-01,\n",
       "          9.51263337e-06,   1.36689423e-02],\n",
       "       [  2.86663471e-10,   2.40629817e-07,   9.99999404e-01,\n",
       "          1.74327173e-13,   3.20528869e-07],\n",
       "       [  2.45911215e-04,   7.71836579e-01,   1.62884146e-01,\n",
       "          2.30583100e-05,   6.50102645e-02],\n",
       "       [  5.65120445e-07,   1.16335330e-04,   9.99877572e-01,\n",
       "          3.18504357e-15,   5.52421534e-06],\n",
       "       [  6.17952883e-01,   3.81364912e-01,   6.26906456e-07,\n",
       "          2.91565811e-07,   6.81250822e-04],\n",
       "       [  2.29232285e-07,   8.31683341e-04,   9.02126670e-01,\n",
       "          8.62154259e-09,   9.70413685e-02],\n",
       "       [  2.53962865e-03,   9.95535970e-01,   9.58174351e-04,\n",
       "          7.15285807e-07,   9.65528248e-04],\n",
       "       [  5.31988358e-03,   3.98098491e-02,   5.04799536e-04,\n",
       "          6.04517911e-12,   9.54365432e-01],\n",
       "       [  7.29533611e-03,   9.83362675e-01,   6.70149107e-04,\n",
       "          5.79480215e-08,   8.67180713e-03],\n",
       "       [  2.05863127e-03,   7.81366415e-03,   7.23852441e-02,\n",
       "          1.44195074e-08,   9.17742431e-01],\n",
       "       [  2.22202819e-02,   8.57238889e-01,   9.95265543e-02,\n",
       "          9.70268738e-05,   2.09173001e-02],\n",
       "       [  1.18467987e-01,   5.58440685e-01,   1.78706702e-02,\n",
       "          1.49784482e-03,   3.03722739e-01],\n",
       "       [  2.26218572e-06,   2.17130384e-03,   2.51459574e-06,\n",
       "          6.20447270e-13,   9.97823954e-01],\n",
       "       [  2.30061090e-07,   9.99999762e-01,   4.45054340e-08,\n",
       "          1.53299179e-11,   7.24306393e-09],\n",
       "       [  2.58910775e-01,   7.37887204e-01,   3.36259632e-06,\n",
       "          1.51138568e-06,   3.19718663e-03],\n",
       "       [  1.15266765e-08,   9.49851042e-09,   9.99918818e-01,\n",
       "          9.31198800e-16,   8.11350474e-05],\n",
       "       [  1.24213123e-03,   9.98726666e-01,   1.44911619e-05,\n",
       "          1.63571479e-09,   1.66563823e-05],\n",
       "       [  6.81518484e-03,   9.38123465e-01,   3.44133303e-02,\n",
       "          2.24361565e-06,   2.06458867e-02],\n",
       "       [  1.79895952e-01,   6.90606117e-01,   3.06984354e-02,\n",
       "          1.75967885e-04,   9.86235663e-02],\n",
       "       [  8.01392730e-10,   3.65017650e-06,   9.99984503e-01,\n",
       "          1.01543030e-14,   1.17785548e-05],\n",
       "       [  6.63426146e-02,   3.18291306e-01,   3.68411124e-01,\n",
       "          7.58574635e-04,   2.46196344e-01],\n",
       "       [  3.36191570e-03,   9.93409038e-01,   7.10431137e-04,\n",
       "          4.31353982e-07,   2.51815165e-03],\n",
       "       [  9.12087401e-08,   6.81737065e-03,   8.54540050e-01,\n",
       "          1.09855064e-13,   1.38642460e-01],\n",
       "       [  2.56148487e-05,   3.95363240e-05,   1.33105605e-05,\n",
       "          1.19623371e-15,   9.99921560e-01],\n",
       "       [  1.12436619e-03,   9.52471197e-01,   4.06685621e-02,\n",
       "          4.91844639e-06,   5.73097635e-03],\n",
       "       [  5.20097464e-02,   9.41282630e-01,   6.18976774e-03,\n",
       "          3.22628524e-09,   5.17791777e-04],\n",
       "       [  6.31346822e-01,   3.62121075e-01,   8.87351860e-07,\n",
       "          1.69242583e-06,   6.52943691e-03],\n",
       "       [  2.44418130e-09,   1.47127665e-07,   9.99788225e-01,\n",
       "          1.75116478e-16,   2.11686434e-04],\n",
       "       [  3.00106331e-05,   2.62329937e-03,   2.16180254e-02,\n",
       "          9.60701313e-14,   9.75728691e-01],\n",
       "       [  6.02791086e-03,   9.73022521e-01,   1.03184329e-02,\n",
       "          4.27972691e-06,   1.06268786e-02],\n",
       "       [  2.41107261e-03,   9.90907431e-01,   6.63243234e-03,\n",
       "          5.51883296e-11,   4.90803759e-05],\n",
       "       [  3.83436009e-02,   8.72790158e-01,   3.47011462e-02,\n",
       "          4.83789117e-05,   5.41166961e-02],\n",
       "       [  4.97400265e-07,   2.15434920e-04,   9.99363482e-01,\n",
       "          2.03257658e-13,   4.20600642e-04],\n",
       "       [  7.57331145e-05,   9.99811709e-01,   4.99536691e-05,\n",
       "          9.80176912e-11,   6.25145985e-05],\n",
       "       [  8.83710920e-04,   1.96082011e-01,   7.89560795e-01,\n",
       "          1.64152203e-09,   1.34735238e-02],\n",
       "       [  1.19937370e-02,   9.87033486e-01,   4.13627677e-05,\n",
       "          5.54034933e-08,   9.31436138e-04],\n",
       "       [  1.30224181e-02,   9.77851570e-01,   2.64918432e-03,\n",
       "          1.68900297e-05,   6.45992579e-03],\n",
       "       [  1.85652710e-02,   9.69587803e-01,   2.48384359e-03,\n",
       "          4.57074202e-06,   9.35847405e-03],\n",
       "       [  6.29366639e-08,   2.18421612e-02,   9.78151083e-01,\n",
       "          6.66328311e-18,   6.62704906e-06],\n",
       "       [  1.73534165e-08,   5.67671954e-08,   9.99980807e-01,\n",
       "          5.91767100e-14,   1.92233183e-05],\n",
       "       [  6.06401004e-02,   8.95382643e-01,   8.66980467e-04,\n",
       "          1.06195534e-04,   4.30041216e-02],\n",
       "       [  4.78757992e-02,   7.15170026e-01,   1.04363523e-01,\n",
       "          3.74399155e-04,   1.32216170e-01],\n",
       "       [  1.62241325e-12,   7.50502924e-11,   9.99999762e-01,\n",
       "          6.59272319e-16,   2.47080237e-07],\n",
       "       [  1.92703009e-02,   9.50164378e-01,   3.62046459e-03,\n",
       "          6.80217199e-05,   2.68767755e-02],\n",
       "       [  7.36131653e-08,   3.44647844e-07,   9.99790609e-01,\n",
       "          3.63715905e-15,   2.08901896e-04],\n",
       "       [  2.23081955e-03,   7.29458332e-01,   2.64774531e-01,\n",
       "          1.20078056e-07,   3.53623088e-03],\n",
       "       [  2.04098418e-01,   7.79881001e-01,   2.23556955e-04,\n",
       "          3.70917260e-05,   1.57598890e-02],\n",
       "       [  1.03515260e-01,   8.38803947e-01,   2.38775155e-09,\n",
       "          1.24596409e-06,   5.76795712e-02],\n",
       "       [  5.76485954e-02,   8.17315280e-01,   1.01936869e-01,\n",
       "          1.90126821e-06,   2.30972711e-02],\n",
       "       [  1.66101415e-06,   2.85365492e-01,   7.11595356e-01,\n",
       "          4.01793848e-10,   3.03741707e-03],\n",
       "       [  2.81235315e-02,   5.33156432e-02,   1.41331889e-02,\n",
       "          1.33246118e-07,   9.04427469e-01],\n",
       "       [  2.04965726e-01,   4.56563234e-01,   1.31487066e-03,\n",
       "          1.93329566e-08,   3.37156177e-01],\n",
       "       [  1.37686552e-02,   9.84800816e-01,   1.80967676e-04,\n",
       "          2.09406267e-06,   1.24749378e-03],\n",
       "       [  1.30811625e-03,   4.50598896e-02,   1.86588336e-03,\n",
       "          2.59507904e-09,   9.51766133e-01],\n",
       "       [  1.58880145e-08,   1.16431083e-05,   5.14258265e-01,\n",
       "          1.80680737e-09,   4.85730022e-01],\n",
       "       [  3.09492141e-01,   3.45453531e-01,   5.07385303e-05,\n",
       "          1.23389145e-06,   3.45002353e-01],\n",
       "       [  1.60407282e-07,   2.19145641e-05,   7.97940046e-03,\n",
       "          2.13401644e-10,   9.91998494e-01],\n",
       "       [  4.11346264e-05,   1.57007633e-03,   9.70482051e-01,\n",
       "          6.43343798e-12,   2.79067867e-02],\n",
       "       [  3.35918716e-03,   1.95515990e-01,   2.28361085e-01,\n",
       "          1.44163860e-04,   5.72619617e-01],\n",
       "       [  8.00593644e-02,   4.24203485e-01,   4.60675746e-01,\n",
       "          8.15133608e-05,   3.49799469e-02],\n",
       "       [  6.15695398e-03,   3.58571485e-02,   9.51946735e-01,\n",
       "          6.86307722e-09,   6.03920920e-03],\n",
       "       [  2.09171907e-03,   2.36899897e-01,   2.97117501e-01,\n",
       "          3.04668411e-05,   4.63860422e-01],\n",
       "       [  3.30389594e-03,   1.91851109e-01,   2.29887933e-01,\n",
       "          1.45300306e-04,   5.74811757e-01],\n",
       "       [  1.46621736e-02,   9.66276884e-01,   4.51989938e-03,\n",
       "          1.74582165e-05,   1.45235555e-02],\n",
       "       [  5.78414245e-07,   6.22146181e-05,   1.40494444e-06,\n",
       "          1.37431000e-15,   9.99935746e-01],\n",
       "       [  4.15703116e-09,   7.71635769e-06,   7.94270250e-07,\n",
       "          2.36063847e-14,   9.99991536e-01],\n",
       "       [  9.92784432e-09,   3.20404033e-05,   4.21372615e-02,\n",
       "          5.03259545e-10,   9.57830667e-01],\n",
       "       [  5.93774430e-02,   8.08487177e-01,   1.09283984e-01,\n",
       "          2.02518572e-06,   2.28493493e-02],\n",
       "       [  3.22611281e-03,   9.83869493e-01,   9.07333475e-03,\n",
       "          2.57955617e-06,   3.82848689e-03],\n",
       "       [  1.27130444e-03,   8.06106441e-03,   1.31052099e-02,\n",
       "          1.30078792e-08,   9.77562428e-01],\n",
       "       [  4.14843526e-04,   9.99182045e-01,   1.82307067e-05,\n",
       "          7.27672766e-09,   3.84906976e-04],\n",
       "       [  7.41094127e-02,   8.80076110e-01,   9.33004823e-03,\n",
       "          5.21383990e-05,   3.64322811e-02],\n",
       "       [  2.31028825e-01,   7.27728546e-01,   7.79762119e-03,\n",
       "          4.20413635e-05,   3.34029198e-02],\n",
       "       [  2.43148003e-02,   9.73799527e-01,   4.11675813e-08,\n",
       "          3.13447771e-07,   1.88527757e-03],\n",
       "       [  8.40197423e-09,   9.99999881e-01,   1.18298331e-07,\n",
       "          1.25796224e-13,   1.51565371e-09],\n",
       "       [  1.19908983e-02,   9.38372612e-01,   3.35950255e-02,\n",
       "          6.66476171e-06,   1.60347726e-02],\n",
       "       [  8.49468168e-03,   7.04003215e-01,   1.20352022e-01,\n",
       "          3.19688894e-07,   1.67149737e-01],\n",
       "       [  1.56755513e-03,   7.86838457e-02,   1.00380951e-03,\n",
       "          1.95799399e-09,   9.18744862e-01],\n",
       "       [  1.84259061e-02,   9.69185531e-01,   3.42891253e-05,\n",
       "          2.95931341e-06,   1.23512708e-02],\n",
       "       [  1.45767415e-02,   9.53933418e-01,   1.16059631e-02,\n",
       "          1.34949096e-05,   1.98703334e-02],\n",
       "       [  9.76332449e-05,   1.38507010e-02,   9.74050343e-01,\n",
       "          4.22588113e-04,   1.15786670e-02],\n",
       "       [  2.45584715e-07,   9.18524922e-04,   9.98836815e-01,\n",
       "          4.70999596e-13,   2.44443858e-04],\n",
       "       [  1.08308785e-04,   5.18037900e-02,   3.88996862e-03,\n",
       "          2.28025173e-13,   9.44197953e-01],\n",
       "       [  1.07491891e-04,   1.14445269e-01,   8.80275130e-01,\n",
       "          9.23058451e-06,   5.16290637e-03],\n",
       "       [  2.17280863e-03,   9.97219324e-01,   1.09185421e-04,\n",
       "          3.53132901e-09,   4.98651934e-04],\n",
       "       [  3.30300489e-03,   1.54221207e-01,   5.20007908e-02,\n",
       "          6.05089845e-05,   7.90414572e-01],\n",
       "       [  2.52522852e-07,   9.99986529e-01,   1.31644001e-05,\n",
       "          6.39952371e-12,   1.15671677e-08],\n",
       "       [  7.66365556e-04,   2.57934593e-02,   3.38462517e-02,\n",
       "          2.24966116e-05,   9.39571381e-01],\n",
       "       [  4.73620503e-07,   1.74220389e-04,   9.67748106e-01,\n",
       "          2.99478785e-13,   3.20772566e-02],\n",
       "       [  7.45973289e-02,   2.55732447e-01,   5.85880019e-02,\n",
       "          2.15625340e-09,   6.11082196e-01],\n",
       "       [  2.60771427e-04,   1.86743528e-01,   8.03403914e-01,\n",
       "          1.70737549e-05,   9.57465172e-03],\n",
       "       [  7.55389966e-03,   9.70261931e-01,   1.13996211e-02,\n",
       "          1.79110188e-07,   1.07842712e-02],\n",
       "       [  3.39180883e-03,   2.00598195e-01,   1.22745469e-01,\n",
       "          1.17210671e-04,   6.73147261e-01],\n",
       "       [  6.37006758e-09,   5.53254586e-06,   9.99838591e-01,\n",
       "          2.76971430e-15,   1.55953850e-04],\n",
       "       [  3.12051661e-02,   9.28044558e-01,   5.67901705e-04,\n",
       "          2.27806822e-06,   4.01799977e-02],\n",
       "       [  4.46362235e-03,   9.85982835e-01,   6.45858143e-03,\n",
       "          8.42771533e-06,   3.08642816e-03],\n",
       "       [  9.24310014e-02,   9.04850364e-01,   7.84532749e-05,\n",
       "          3.39551391e-08,   2.64012278e-03],\n",
       "       [  8.05053674e-03,   9.65894043e-01,   2.30145492e-02,\n",
       "          1.05376021e-05,   3.03032203e-03],\n",
       "       [  3.40367435e-03,   9.38274860e-01,   3.40192243e-02,\n",
       "          6.94858215e-07,   2.43015867e-02]], dtype=float32)"
      ]
     },
     "execution_count": 145,
     "metadata": {},
     "output_type": "execute_result"
    }
   ],
   "source": [
    "softmaxes"
   ]
  },
  {
   "cell_type": "code",
   "execution_count": 144,
   "metadata": {
    "collapsed": false
   },
   "outputs": [],
   "source": [
    "avgs = []\n",
    "for i in range(0, len(softmaxes)-max_frames ):\n",
    "    avgs.append(softmaxes[i:i+max_frames].mean(axis=0))\n",
    "    \n",
    "avgs = np.array(avgs)\n",
    "top_idxs = []\n",
    "for i in range(number_of_brands):\n",
    "    #print np.argmax(avgs[:,i])\n",
    "    top_idxs.append(np.argmax(avgs[:,i]))\n",
    "\n"
   ]
  },
  {
   "cell_type": "code",
   "execution_count": 146,
   "metadata": {
    "collapsed": true
   },
   "outputs": [],
   "source": [
    "sequences = []\n",
    "\n",
    "for top_f in top_idxs:\n",
    "    sequences.append(imgs[top_f:top_f+max_frames])\n",
    "\n",
    "sequences = np.array(sequences)"
   ]
  },
  {
   "cell_type": "code",
   "execution_count": 147,
   "metadata": {
    "collapsed": false
   },
   "outputs": [
    {
     "data": {
      "text/plain": [
       "(5, 5, 224, 224, 3)"
      ]
     },
     "execution_count": 147,
     "metadata": {},
     "output_type": "execute_result"
    }
   ],
   "source": [
    "sequences.shape"
   ]
  },
  {
   "cell_type": "code",
   "execution_count": 148,
   "metadata": {
    "collapsed": false
   },
   "outputs": [],
   "source": [
    "ps = rnn_model.predict(sequences)"
   ]
  },
  {
   "cell_type": "code",
   "execution_count": 151,
   "metadata": {
    "collapsed": false
   },
   "outputs": [
    {
     "data": {
      "text/plain": [
       "array([[ 0.10456314,  0.19670339,  0.2299431 ,  0.01223137,  0.45655906],\n",
       "       [ 0.05979851,  0.79685622,  0.04873443,  0.02369591,  0.07091497],\n",
       "       [ 0.05335395,  0.46952891,  0.4394865 ,  0.00750573,  0.03012501],\n",
       "       [ 0.04925825,  0.14136173,  0.11072086,  0.01747943,  0.68117976],\n",
       "       [ 0.00798998,  0.03510812,  0.0463621 ,  0.00384198,  0.90669787]], dtype=float32)"
      ]
     },
     "execution_count": 151,
     "metadata": {},
     "output_type": "execute_result"
    }
   ],
   "source": [
    "ps"
   ]
  },
  {
   "cell_type": "code",
   "execution_count": 155,
   "metadata": {
    "collapsed": false
   },
   "outputs": [
    {
     "data": {
      "text/plain": [
       "4"
      ]
     },
     "execution_count": 155,
     "metadata": {},
     "output_type": "execute_result"
    }
   ],
   "source": [
    "np.argmax(ps)/ number_of_brands"
   ]
  },
  {
   "cell_type": "code",
   "execution_count": 150,
   "metadata": {
    "collapsed": false
   },
   "outputs": [
    {
     "data": {
      "text/plain": [
       "0.90669787"
      ]
     },
     "execution_count": 150,
     "metadata": {},
     "output_type": "execute_result"
    }
   ],
   "source": [
    "ps.flatten()[np.argmax(ps)]"
   ]
  },
  {
   "cell_type": "code",
   "execution_count": 108,
   "metadata": {
    "collapsed": false
   },
   "outputs": [
    {
     "data": {
      "text/plain": [
       "array([  6.05653549e-05,   1.38390504e-04,   1.38393138e-04,\n",
       "         1.39819138e-04,   1.40504621e-04,   2.21002410e-04,\n",
       "         6.70960348e-04,   8.83733388e-04,   3.39805149e-03,\n",
       "         1.89154729e-01,   1.89013779e-01,   1.88486010e-01,\n",
       "         1.89327389e-01,   1.86811626e-01,   1.05423713e-03,\n",
       "         4.82060295e-03,   4.82058711e-03,   3.80246597e-03,\n",
       "         4.56987787e-03,   6.46532401e-02,   6.08869903e-02,\n",
       "         6.08869977e-02,   6.08509853e-02,   6.02137931e-02,\n",
       "         1.30432265e-04,   1.20727420e-01,   1.20729826e-01,\n",
       "         1.20738350e-01,   1.26925290e-01,   1.26925886e-01,\n",
       "         6.32875692e-03,   6.32633548e-03,   6.31779805e-03,\n",
       "         1.35171562e-04,   1.34621660e-04,   1.44198682e-04,\n",
       "         1.44197227e-04,   1.44580816e-04,   1.06869929e-05,\n",
       "         1.06319567e-05,   6.50129659e-05,   2.23479699e-04,\n",
       "         2.23234150e-04,   2.22587769e-04,   2.22577102e-04,\n",
       "         1.58618699e-04,   4.76569539e-06,   4.69076667e-06,\n",
       "         3.37898091e-04,   3.82724684e-04,   3.82724509e-04,\n",
       "         3.78111261e-04,   3.78041004e-04,   4.48361534e-05,\n",
       "         1.73645191e-07,   6.19677547e-03,   6.29883725e-03,\n",
       "         1.13170251e-01,   1.13170251e-01,   1.16578721e-01,\n",
       "         1.10382818e-01,   1.10281430e-01,   3.41008720e-03,\n",
       "         3.41008720e-03,   1.45525996e-06,   1.55405758e-06,\n",
       "         8.83480880e-07,   8.00461748e-07,   1.07728316e-04,\n",
       "         1.11480782e-04,   1.33709222e-01,   1.33759409e-01,\n",
       "         1.33759409e-01,   1.33718342e-01,   1.33777097e-01,\n",
       "         4.22617944e-04,   4.76130837e-04,   4.76147281e-04,\n",
       "         4.11073968e-04,   3.48668837e-04,   1.15545758e-04,\n",
       "         1.18615899e-05,   1.18964026e-05,   1.11138797e-05,\n",
       "         5.78874126e-02,   5.83231859e-02,   5.88165224e-02,\n",
       "         5.88164553e-02,   5.88164553e-02,   1.37938708e-02,\n",
       "         1.34291230e-02,   2.43288558e-02,   2.48873811e-02,\n",
       "         2.48873793e-02,   1.22999158e-02], dtype=float32)"
      ]
     },
     "execution_count": 108,
     "metadata": {},
     "output_type": "execute_result"
    }
   ],
   "source": [
    "avgs[:,1]"
   ]
  },
  {
   "cell_type": "code",
   "execution_count": 93,
   "metadata": {
    "collapsed": false
   },
   "outputs": [
    {
     "data": {
      "text/plain": [
       "'Noise'"
      ]
     },
     "execution_count": 93,
     "metadata": {},
     "output_type": "execute_result"
    }
   ],
   "source": [
    "get_brand(softmaxes)"
   ]
  },
  {
   "cell_type": "code",
   "execution_count": 163,
   "metadata": {
    "collapsed": true
   },
   "outputs": [],
   "source": [
    "from keras.models import Sequential\n",
    "from keras.layers.core import Flatten, Dense, Dropout\n",
    "from keras.layers.convolutional import Convolution2D, MaxPooling2D, ZeroPadding2D\n",
    "from keras.layers.wrappers import TimeDistributed\n",
    "from keras.layers.recurrent import SimpleRNN, LSTM, GRU\n",
    "from keras.layers.core import Dense, Activation, Dropout, Reshape, Flatten\n",
    "from keras.models import Model\n",
    "from keras.layers import Input\n",
    "from keras.applications.vgg19 import VGG19\n",
    "from keras.layers import Dense, GlobalAveragePooling2D\n",
    "\n",
    "from keras.models import Sequential, ask_to_proceed_with_overwrite\n",
    "from keras.layers import Dense\n",
    "from keras.layers.core import Activation, Dense\n",
    "from keras.layers import SimpleRNN, LSTM,  GRU,SeparableConvolution2D\n",
    "from keras.callbacks import ModelCheckpoint,EarlyStopping\n",
    "\n",
    "from keras.layers.wrappers import TimeDistributed\n",
    "\n",
    "import keras\n",
    "from keras.applications import VGG16\n",
    "from keras.models import Model\n",
    "from keras.layers.core import Activation, Dense\n",
    "import tensorflow as tf\n",
    "import glob\n",
    "\n",
    "import scipy\n",
    "import numpy as np\n",
    "from PIL import Image\n",
    "import random\n",
    "import pandas as pd\n",
    "import random\n",
    "import subprocess as sp\n",
    "import sys\n",
    "import glob\n",
    "from pytube import YouTube\n",
    "\n",
    "max_frames = 5\n",
    "number_of_brands = 5\n",
    "\n",
    "\n",
    "def getModel2( output_dim ):\n",
    "    ''' \n",
    "        * output_dim: the number of classes (int)\n",
    "        \n",
    "        * return: compiled model (keras.engine.training.Model)\n",
    "    '''\n",
    "    #vgg_model = VGG16( weights='imagenet', include_top=False )\n",
    "    vgg_model = VGG16(weights='imagenet', include_top=False)\n",
    "\n",
    "#     for layer in vgg_model.layers:\n",
    "#         layer.trainable = False\n",
    "\n",
    "    x = vgg_model.output\n",
    "    x = GlobalAveragePooling2D()(x)\n",
    "    # let's add a fully-connected layer\n",
    "    x = Dense(1024, activation='relu')(x)\n",
    "    \n",
    "    predictions = Dense(output_dim ,activation='softmax')(x)\n",
    "\n",
    "# this is the model we will train\n",
    "    model = Model(input=vgg_model.input, output=predictions)\n",
    "\n",
    "    #Freeze all layers of VGG16 and Compile the model\n",
    "    #Confirm the model is appropriate\n",
    "\n",
    "    return model    \n",
    "\n",
    "def load_model(weights_path, output_dim):\n",
    "\n",
    "    model = getModel2( output_dim ) \n",
    "    for k,layer in model.layers_by_depth.items()[:]:\n",
    "        layer[0].trainable = False\n",
    "#     for layer in model.layers:\n",
    "#         layer.trainable = False\n",
    "        \n",
    "    model.load_weights(weights_path)\n",
    "    model.compile(loss='categorical_crossentropy',\n",
    "              optimizer='adam',\n",
    "              metrics=['accuracy', 'categorical_crossentropy'])   \n",
    "    return model\n",
    "\n",
    "\n",
    "labels_dict = {'apple': 2, 'cocacola': 0, 'nike': 4, 'pepsi': 1, 'starbucks': 3}\n",
    "reversed_dict = dict([(x[1],x[0]) for x in labels_dict.items()])\n",
    "\n",
    "def get_brand(softmaxes):\n",
    "    v = np.max(softmaxes.mean(axis=0))\n",
    "    \n",
    "    print v\n",
    "    \n",
    "    print reversed_dict[np.argmax(softmaxes.mean(axis=0))]\n",
    "    if v > 0.6:\n",
    "        return reversed_dict[np.argmax(softmaxes.mean(axis=0))]\n",
    "    return \"Noise\"\n",
    "\n",
    "\n",
    "def get_brand_2(results):\n",
    "    v = np.argmax(results)/ number_of_brands\n",
    "    return reversed_dict[v]\n",
    "\n",
    "\n",
    "class DeepLogo():\n",
    "    def __init__(self):\n",
    "        self.trained_model = load_model(\"weights-improvement-VGG16-LOGO5-04-0.9940.hdf5\", 5)\n",
    "        self.rnn_model = load_rnn_model(\"RNN-05-0.8704.hdf5\")\n",
    "\n",
    "    def predict(self, url):\n",
    "        yt = YouTube(url)\n",
    "        \n",
    "        video = yt.get('mp4', '720p')\n",
    "        \n",
    "        \n",
    "        cmd1 = \"rm /tmp/tmp_1\"\n",
    "        sp.call(cmd1,shell=True)\n",
    "        video.download('/tmp/tmp_1')\n",
    "        \n",
    "        filename = \"/tmp/tmp_1\"\n",
    "\n",
    "        cmd1 = \"rm -r /tmp/tmp_1_1\"\n",
    "        sp.call(cmd1,shell=True)\n",
    "\n",
    "        cmd1 = \"mkdir /tmp/tmp_1_1\"\n",
    "        sp.call(cmd1,shell=True)\n",
    "        outputpath= \"/tmp/tmp_1_1/\"\n",
    "\n",
    "        outputfile = outputpath + \"f\"\n",
    "        cmd2='ffmpeg -i '+filename+' -vframes 100  -r 1 -s 224x224 ' + outputfile + '_%04d.jpg'\n",
    "        sp.call(cmd2,shell=True)\n",
    "        sys.stdout.write(\"Saved it at \" + outputfile +\"\\n\")\n",
    "        \n",
    "        frames = glob.glob(\"/tmp/tmp_1_1/*\")\n",
    "        x_mean = 0.39533365588770686\n",
    "        \n",
    "        imgs = []\n",
    "        for frame in frames:\n",
    "            img = np.asarray(Image.open(frame))/255.\n",
    "            imgs.append(img)\n",
    "\n",
    "        imgs = np.array(imgs) - x_mean\n",
    "\n",
    "        print \"predicting CNN...\"\n",
    "        softmaxes = self.trained_model.predict(imgs)\n",
    "        print get_brand(softmaxes)\n",
    "        avgs = []\n",
    "        for i in range(0, len(softmaxes)-max_frames ):\n",
    "            avgs.append(softmaxes[i:i+max_frames].mean(axis=0))\n",
    "\n",
    "        avgs = np.array(avgs)\n",
    "        top_idxs = []\n",
    "        for i in range(number_of_brands):\n",
    "            #print np.argmax(avgs[:,i])\n",
    "            top_idxs.append(np.argmax(avgs[:,i]))\n",
    "\n",
    "        \n",
    "        sequences = []\n",
    "\n",
    "        for top_f in top_idxs:\n",
    "            sequences.append(imgs[top_f:top_f+max_frames])\n",
    "\n",
    "        sequences = np.array(sequences)\n",
    "        print \"predicting RNN...\"\n",
    "        ps = self.rnn_model.predict(sequences)\n",
    "        return get_brand_2(ps)\n",
    "        "
   ]
  },
  {
   "cell_type": "code",
   "execution_count": 164,
   "metadata": {
    "collapsed": false
   },
   "outputs": [
    {
     "name": "stderr",
     "output_type": "stream",
     "text": [
      "/home/ubuntu/.local/lib/python2.7/site-packages/ipykernel/__main__.py:62: UserWarning: Update your `Model` call to the Keras 2 API: `Model(outputs=Tensor(\"de..., inputs=Tensor(\"in...)`\n",
      "/home/ubuntu/.local/lib/python2.7/site-packages/ipykernel/__main__.py:47: UserWarning: Update your `GRU` call to the Keras 2 API: `GRU(units=100, return_sequences=True)`\n",
      "/home/ubuntu/.local/lib/python2.7/site-packages/ipykernel/__main__.py:48: UserWarning: Update your `GRU` call to the Keras 2 API: `GRU(units=50, return_sequences=False)`\n"
     ]
    }
   ],
   "source": [
    "dp = DeepLogo()"
   ]
  },
  {
   "cell_type": "code",
   "execution_count": 166,
   "metadata": {
    "collapsed": false
   },
   "outputs": [
    {
     "name": "stdout",
     "output_type": "stream",
     "text": [
      "Saved it at /tmp/tmp_1_1/f\n",
      "predicting CNN...\n",
      "0.491728\n",
      "apple\n",
      "Noise\n",
      "predicting RNN...\n"
     ]
    },
    {
     "data": {
      "text/plain": [
       "'apple'"
      ]
     },
     "execution_count": 166,
     "metadata": {},
     "output_type": "execute_result"
    }
   ],
   "source": [
    "dp.predict(\"https://www.youtube.com/watch?v=7-RRVdEhm_o\")"
   ]
  },
  {
   "cell_type": "code",
   "execution_count": null,
   "metadata": {
    "collapsed": true
   },
   "outputs": [],
   "source": []
  }
 ],
 "metadata": {
  "kernelspec": {
   "display_name": "Python 2",
   "language": "python",
   "name": "python2"
  },
  "language_info": {
   "codemirror_mode": {
    "name": "ipython",
    "version": 2
   },
   "file_extension": ".py",
   "mimetype": "text/x-python",
   "name": "python",
   "nbconvert_exporter": "python",
   "pygments_lexer": "ipython2",
   "version": "2.7.12"
  }
 },
 "nbformat": 4,
 "nbformat_minor": 2
}
