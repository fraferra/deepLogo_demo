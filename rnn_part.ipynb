{
 "cells": [
  {
   "cell_type": "code",
   "execution_count": 2,
   "metadata": {
    "collapsed": false
   },
   "outputs": [],
   "source": [
    "from keras.models import Sequential\n",
    "from keras.layers.convolutional import Convolution2D, MaxPooling2D, ZeroPadding2D\n",
    "from keras.layers.wrappers import TimeDistributed\n",
    "from keras.layers.recurrent import SimpleRNN, LSTM, GRU\n",
    "from keras.layers.core import Dense, Activation, Dropout, Reshape, Flatten\n",
    "from keras.models import Model\n",
    "from keras.layers import Input\n",
    "from keras.applications.vgg19 import VGG19\n",
    "from keras.layers import Dense, GlobalAveragePooling2D\n",
    "\n",
    "from keras.models import Sequential, ask_to_proceed_with_overwrite\n",
    "from keras.layers import Dense\n",
    "from keras.layers.core import Activation, Dense, Lambda\n",
    "from keras.layers import SimpleRNN, LSTM,  GRU,SeparableConvolution2D\n",
    "from keras.callbacks import ModelCheckpoint,EarlyStopping\n",
    "\n",
    "\n",
    "\n",
    "import keras\n",
    "from keras.applications import VGG16\n",
    "from keras.models import Model\n",
    "from keras.layers.core import Activation, Dense\n",
    "import tensorflow as tf\n",
    "import glob\n",
    "\n",
    "import scipy\n",
    "import numpy as np\n",
    "from PIL import Image\n",
    "import random\n",
    "import pandas as pd\n",
    "import random"
   ]
  },
  {
   "cell_type": "code",
   "execution_count": 21,
   "metadata": {
    "collapsed": true
   },
   "outputs": [],
   "source": [
    "number_of_brands=7\n",
    "inputsize=224\n",
    "max_frames=15"
   ]
  },
  {
   "cell_type": "code",
   "execution_count": 6,
   "metadata": {
    "collapsed": true
   },
   "outputs": [],
   "source": [
    "# def getModel( output_dim ):\n",
    "#     ''' \n",
    "#         * output_dim: the number of classes (int)\n",
    "        \n",
    "#         * return: compiled model (keras.engine.training.Model)\n",
    "#     '''\n",
    "#     vgg_model = VGG16( weights='imagenet', include_top=True )\n",
    "#     vgg_out = vgg_model.layers[-2].output #Last FC layer's output  \n",
    "    \n",
    "#     softmax_layer = Dense(output_dim, activation='softmax')(vgg_out)#None #Create softmax layer taking input as vgg_out\n",
    "#     #Create new transfer learning model\n",
    "#     tl_model = Model( input=vgg_model.input, output=softmax_layer )\n",
    "\n",
    "#     #Freeze all layers of VGG16 and Compile the model\n",
    "#     #Confirm the model is appropriate\n",
    "\n",
    "#     return tl_model\n",
    "\n",
    "def getModel( output_dim ):\n",
    "    ''' \n",
    "        * output_dim: the number of classes (int)\n",
    "        \n",
    "        * return: compiled model (keras.engine.training.Model)\n",
    "    '''\n",
    "    #vgg_model = VGG16( weights='imagenet', include_top=False )\n",
    "    vgg_model = VGG16(weights='imagenet', include_top=False)\n",
    "\n",
    "    for layer in vgg_model.layers[:-3]:\n",
    "        layer.trainable = False\n",
    "\n",
    "    x = vgg_model.output\n",
    "    x = GlobalAveragePooling2D()(x)\n",
    "    # let's add a fully-connected layer\n",
    "    x = Dense(1024, activation='relu')(x)\n",
    "    predictions = Dense(output_dim ,activation='softmax')(x)\n",
    "\n",
    "# this is the model we will train\n",
    "    model = Model(input=vgg_model.input, output=predictions)\n",
    "\n",
    "    #Freeze all layers of VGG16 and Compile the model\n",
    "    #Confirm the model is appropriate\n",
    "\n",
    "    return model\n",
    "\n",
    "   \n",
    "\n",
    "def getModel2( output_dim ):\n",
    "    ''' \n",
    "        * output_dim: the number of classes (int)\n",
    "        \n",
    "        * return: compiled model (keras.engine.training.Model)\n",
    "    '''\n",
    "    #vgg_model = VGG16( weights='imagenet', include_top=False )\n",
    "    vgg_model = VGG16(weights='imagenet', include_top=False)\n",
    "\n",
    "#     for layer in vgg_model.layers:\n",
    "#         layer.trainable = False\n",
    "\n",
    "    x = vgg_model.output\n",
    "    x = GlobalAveragePooling2D()(x)\n",
    "    # let's add a fully-connected layer\n",
    "    x = Dense(1024, activation='relu')(x)\n",
    "    \n",
    "    predictions = Dense(output_dim ,activation='softmax')(x)\n",
    "\n",
    "# this is the model we will train\n",
    "    model = Model(input=vgg_model.input, output=predictions)\n",
    "\n",
    "    #Freeze all layers of VGG16 and Compile the model\n",
    "    #Confirm the model is appropriate\n",
    "\n",
    "    return model    \n",
    "\n",
    "def load_model(weights_path, output_dim):\n",
    "\n",
    "    model = getModel2( output_dim ) \n",
    "    for k,layer in list(model.layers_by_depth.items())[:]:\n",
    "        layer[0].trainable = False\n",
    "#     for layer in model.layers:\n",
    "#         layer.trainable = False\n",
    "        \n",
    "    model.load_weights(weights_path)\n",
    "    model.compile(loss='categorical_crossentropy',\n",
    "              optimizer='rmsprop',\n",
    "              metrics=['accuracy', 'categorical_crossentropy'])   \n",
    "    return model"
   ]
  },
  {
   "cell_type": "code",
   "execution_count": 21,
   "metadata": {
    "collapsed": false
   },
   "outputs": [],
   "source": [
    "m =  getModel( 5 ) "
   ]
  },
  {
   "cell_type": "code",
   "execution_count": 19,
   "metadata": {
    "collapsed": false
   },
   "outputs": [
    {
     "name": "stdout",
     "output_type": "stream",
     "text": [
      "____________________________________________________________________________________________________\n",
      "Layer (type)                     Output Shape          Param #     Connected to                     \n",
      "====================================================================================================\n",
      "input_6 (InputLayer)             (None, None, None, 3) 0                                            \n",
      "____________________________________________________________________________________________________\n",
      "block1_conv1 (Convolution2D)     (None, None, None, 64 1792        input_6[0][0]                    \n",
      "____________________________________________________________________________________________________\n",
      "block1_conv2 (Convolution2D)     (None, None, None, 64 36928       block1_conv1[0][0]               \n",
      "____________________________________________________________________________________________________\n",
      "block1_pool (MaxPooling2D)       (None, None, None, 64 0           block1_conv2[0][0]               \n",
      "____________________________________________________________________________________________________\n",
      "block2_conv1 (Convolution2D)     (None, None, None, 12 73856       block1_pool[0][0]                \n",
      "____________________________________________________________________________________________________\n",
      "block2_conv2 (Convolution2D)     (None, None, None, 12 147584      block2_conv1[0][0]               \n",
      "____________________________________________________________________________________________________\n",
      "block2_pool (MaxPooling2D)       (None, None, None, 12 0           block2_conv2[0][0]               \n",
      "____________________________________________________________________________________________________\n",
      "block3_conv1 (Convolution2D)     (None, None, None, 25 295168      block2_pool[0][0]                \n",
      "____________________________________________________________________________________________________\n",
      "block3_conv2 (Convolution2D)     (None, None, None, 25 590080      block3_conv1[0][0]               \n",
      "____________________________________________________________________________________________________\n",
      "block3_conv3 (Convolution2D)     (None, None, None, 25 590080      block3_conv2[0][0]               \n",
      "____________________________________________________________________________________________________\n",
      "block3_pool (MaxPooling2D)       (None, None, None, 25 0           block3_conv3[0][0]               \n",
      "____________________________________________________________________________________________________\n",
      "block4_conv1 (Convolution2D)     (None, None, None, 51 1180160     block3_pool[0][0]                \n",
      "____________________________________________________________________________________________________\n",
      "block4_conv2 (Convolution2D)     (None, None, None, 51 2359808     block4_conv1[0][0]               \n",
      "____________________________________________________________________________________________________\n",
      "block4_conv3 (Convolution2D)     (None, None, None, 51 2359808     block4_conv2[0][0]               \n",
      "____________________________________________________________________________________________________\n",
      "block4_pool (MaxPooling2D)       (None, None, None, 51 0           block4_conv3[0][0]               \n",
      "____________________________________________________________________________________________________\n",
      "block5_conv1 (Convolution2D)     (None, None, None, 51 2359808     block4_pool[0][0]                \n",
      "____________________________________________________________________________________________________\n",
      "block5_conv2 (Convolution2D)     (None, None, None, 51 2359808     block5_conv1[0][0]               \n",
      "____________________________________________________________________________________________________\n",
      "block5_conv3 (Convolution2D)     (None, None, None, 51 2359808     block5_conv2[0][0]               \n",
      "____________________________________________________________________________________________________\n",
      "block5_pool (MaxPooling2D)       (None, None, None, 51 0           block5_conv3[0][0]               \n",
      "____________________________________________________________________________________________________\n",
      "globalaveragepooling2d_5 (Global (None, 512)           0           block5_pool[0][0]                \n",
      "____________________________________________________________________________________________________\n",
      "dense_10 (Dense)                 (None, 1024)          525312      globalaveragepooling2d_5[0][0]   \n",
      "____________________________________________________________________________________________________\n",
      "dense_11 (Dense)                 (None, 5)             5125        dense_10[0][0]                   \n",
      "====================================================================================================\n",
      "Total params: 15,245,125\n",
      "Trainable params: 530,437\n",
      "Non-trainable params: 14,714,688\n",
      "____________________________________________________________________________________________________\n"
     ]
    }
   ],
   "source": [
    "m.summary()"
   ]
  },
  {
   "cell_type": "code",
   "execution_count": 7,
   "metadata": {
    "collapsed": false
   },
   "outputs": [
    {
     "name": "stderr",
     "output_type": "stream",
     "text": [
      "/Library/Frameworks/Python.framework/Versions/3.5/lib/python3.5/site-packages/ipykernel/__main__.py:67: UserWarning: Update your `Model` call to the Keras 2 API: `Model(outputs=Tensor(\"de..., inputs=Tensor(\"in...)`\n"
     ]
    }
   ],
   "source": [
    "trained_model = load_model(\"weights-improvement-CPU-VGG16-LOGO7-02-0.8741.hdf5\", 7)"
   ]
  },
  {
   "cell_type": "code",
   "execution_count": 8,
   "metadata": {
    "collapsed": false
   },
   "outputs": [
    {
     "name": "stdout",
     "output_type": "stream",
     "text": [
      "_________________________________________________________________\n",
      "Layer (type)                 Output Shape              Param #   \n",
      "=================================================================\n",
      "input_2 (InputLayer)         (None, None, None, 3)     0         \n",
      "_________________________________________________________________\n",
      "block1_conv1 (Conv2D)        (None, None, None, 64)    1792      \n",
      "_________________________________________________________________\n",
      "block1_conv2 (Conv2D)        (None, None, None, 64)    36928     \n",
      "_________________________________________________________________\n",
      "block1_pool (MaxPooling2D)   (None, None, None, 64)    0         \n",
      "_________________________________________________________________\n",
      "block2_conv1 (Conv2D)        (None, None, None, 128)   73856     \n",
      "_________________________________________________________________\n",
      "block2_conv2 (Conv2D)        (None, None, None, 128)   147584    \n",
      "_________________________________________________________________\n",
      "block2_pool (MaxPooling2D)   (None, None, None, 128)   0         \n",
      "_________________________________________________________________\n",
      "block3_conv1 (Conv2D)        (None, None, None, 256)   295168    \n",
      "_________________________________________________________________\n",
      "block3_conv2 (Conv2D)        (None, None, None, 256)   590080    \n",
      "_________________________________________________________________\n",
      "block3_conv3 (Conv2D)        (None, None, None, 256)   590080    \n",
      "_________________________________________________________________\n",
      "block3_pool (MaxPooling2D)   (None, None, None, 256)   0         \n",
      "_________________________________________________________________\n",
      "block4_conv1 (Conv2D)        (None, None, None, 512)   1180160   \n",
      "_________________________________________________________________\n",
      "block4_conv2 (Conv2D)        (None, None, None, 512)   2359808   \n",
      "_________________________________________________________________\n",
      "block4_conv3 (Conv2D)        (None, None, None, 512)   2359808   \n",
      "_________________________________________________________________\n",
      "block4_pool (MaxPooling2D)   (None, None, None, 512)   0         \n",
      "_________________________________________________________________\n",
      "block5_conv1 (Conv2D)        (None, None, None, 512)   2359808   \n",
      "_________________________________________________________________\n",
      "block5_conv2 (Conv2D)        (None, None, None, 512)   2359808   \n",
      "_________________________________________________________________\n",
      "block5_conv3 (Conv2D)        (None, None, None, 512)   2359808   \n",
      "_________________________________________________________________\n",
      "block5_pool (MaxPooling2D)   (None, None, None, 512)   0         \n",
      "_________________________________________________________________\n",
      "global_average_pooling2d_2 ( (None, 512)               0         \n",
      "_________________________________________________________________\n",
      "dense_3 (Dense)              (None, 1024)              525312    \n",
      "_________________________________________________________________\n",
      "dense_4 (Dense)              (None, 7)                 7175      \n",
      "=================================================================\n",
      "Total params: 15,247,175.0\n",
      "Trainable params: 0.0\n",
      "Non-trainable params: 15,247,175.0\n",
      "_________________________________________________________________\n"
     ]
    }
   ],
   "source": [
    "trained_model.summary()"
   ]
  },
  {
   "cell_type": "code",
   "execution_count": 5,
   "metadata": {
    "collapsed": false
   },
   "outputs": [
    {
     "data": {
      "text/plain": [
       "<keras.layers.core.Dense at 0x7fd609f30f50>"
      ]
     },
     "execution_count": 5,
     "metadata": {},
     "output_type": "execute_result"
    }
   ],
   "source": [
    "trained_model.layers.pop()"
   ]
  },
  {
   "cell_type": "code",
   "execution_count": 9,
   "metadata": {
    "collapsed": false
   },
   "outputs": [
    {
     "name": "stderr",
     "output_type": "stream",
     "text": [
      "/Library/Frameworks/Python.framework/Versions/3.5/lib/python3.5/site-packages/ipykernel/__main__.py:4: UserWarning: Update your `GRU` call to the Keras 2 API: `GRU(units=100, return_sequences=True)`\n",
      "/Library/Frameworks/Python.framework/Versions/3.5/lib/python3.5/site-packages/ipykernel/__main__.py:6: UserWarning: Update your `GRU` call to the Keras 2 API: `GRU(units=50, return_sequences=False)`\n"
     ]
    }
   ],
   "source": [
    "model_rnn3=Sequential()\n",
    "\n",
    "model_rnn3.add(TimeDistributed(trained_model, input_shape=(max_frames,224,224,3)))\n",
    "model_rnn3.add(GRU(output_dim=100,return_sequences=True))\n",
    "model_rnn3.add(Dropout(.2))\n",
    "model_rnn3.add(GRU(output_dim=50,return_sequences=False))\n",
    "model_rnn3.add(Dropout(.2))\n",
    "model_rnn3.add(Dense(number_of_brands,activation='softmax'))\n",
    "model_rnn3.compile(optimizer='rmsprop', loss='categorical_crossentropy',metrics=['accuracy', 'categorical_crossentropy'])\n",
    "\n",
    "\n",
    "\n",
    "def load_rnn_model(weights):\n",
    "    model_rnn3=Sequential()\n",
    "\n",
    "    model_rnn3.add(TimeDistributed(trained_model, input_shape=(max_frames,224,224,3)))\n",
    "    model_rnn3.add(GRU(output_dim=100,return_sequences=True))\n",
    "    model_rnn3.add(GRU(output_dim=50,return_sequences=False))\n",
    "    model_rnn3.add(Dropout(.2))\n",
    "    model_rnn3.add(Dense(number_of_brands,activation='softmax'))\n",
    "    model_rnn3.load_weights(weights)\n",
    "\n",
    "    model_rnn3.compile(optimizer='adam', loss='categorical_crossentropy',metrics=['accuracy', 'categorical_crossentropy'])\n",
    "\n",
    "    return model_rnn3"
   ]
  },
  {
   "cell_type": "code",
   "execution_count": 9,
   "metadata": {
    "collapsed": false
   },
   "outputs": [
    {
     "name": "stdout",
     "output_type": "stream",
     "text": [
      "____________________________________________________________________________________________________\n",
      "Layer (type)                     Output Shape          Param #     Connected to                     \n",
      "====================================================================================================\n",
      "timedistributed_1 (TimeDistribute(None, 20, 4)         0           timedistributed_input_1[0][0]    \n",
      "____________________________________________________________________________________________________\n",
      "gru_1 (GRU)                      (None, 20, 100)       31500       timedistributed_1[0][0]          \n",
      "____________________________________________________________________________________________________\n",
      "dropout_1 (Dropout)              (None, 20, 100)       0           gru_1[0][0]                      \n",
      "____________________________________________________________________________________________________\n",
      "gru_2 (GRU)                      (None, 50)            22650       dropout_1[0][0]                  \n",
      "____________________________________________________________________________________________________\n",
      "dropout_2 (Dropout)              (None, 50)            0           gru_2[0][0]                      \n",
      "____________________________________________________________________________________________________\n",
      "dense_3 (Dense)                  (None, 5)             255         dropout_2[0][0]                  \n",
      "====================================================================================================\n",
      "Total params: 54405\n",
      "____________________________________________________________________________________________________\n"
     ]
    }
   ],
   "source": [
    "model_rnn3.summary()"
   ]
  },
  {
   "cell_type": "code",
   "execution_count": 7,
   "metadata": {
    "collapsed": true
   },
   "outputs": [],
   "source": [
    "## Load data"
   ]
  },
  {
   "cell_type": "code",
   "execution_count": 17,
   "metadata": {
    "collapsed": false
   },
   "outputs": [],
   "source": [
    "labels_dict = { 'cocacola': 0, 'nike': 3, 'pepsi': 1, 'noise':4}\n",
    "labels_dict = {\"cocacola\":0, \"loreal\":1,\"louisvuitton\":2,\"nike\":3,\"pepsi\":4,\"samsung\":5, \"noise\":6}"
   ]
  },
  {
   "cell_type": "code",
   "execution_count": 11,
   "metadata": {
    "collapsed": false
   },
   "outputs": [
    {
     "ename": "ImportError",
     "evalue": "No module named 'idxs'",
     "output_type": "error",
     "traceback": [
      "\u001b[0;31m---------------------------------------------------------------------------\u001b[0m",
      "\u001b[0;31mImportError\u001b[0m                               Traceback (most recent call last)",
      "\u001b[0;32m<ipython-input-11-5c8a3224d261>\u001b[0m in \u001b[0;36m<module>\u001b[0;34m()\u001b[0m\n\u001b[0;32m----> 1\u001b[0;31m \u001b[0;32mfrom\u001b[0m \u001b[0midxs\u001b[0m \u001b[0;32mimport\u001b[0m \u001b[0;34m*\u001b[0m\u001b[0;34m\u001b[0m\u001b[0m\n\u001b[0m",
      "\u001b[0;31mImportError\u001b[0m: No module named 'idxs'"
     ]
    }
   ],
   "source": [
    "from idxs import *"
   ]
  },
  {
   "cell_type": "code",
   "execution_count": 20,
   "metadata": {
    "collapsed": false
   },
   "outputs": [
    {
     "data": {
      "text/plain": [
       "4"
      ]
     },
     "execution_count": 20,
     "metadata": {},
     "output_type": "execute_result"
    }
   ],
   "source": [
    "number_of_brands"
   ]
  },
  {
   "cell_type": "code",
   "execution_count": 18,
   "metadata": {
    "collapsed": true
   },
   "outputs": [],
   "source": [
    "import re\n",
    "import math\n",
    "\n",
    "max_frames=10\n",
    "\n",
    "def closest_number_idx(l, num):\n",
    "    return l.index(min(l, key=lambda x:abs(x-num)))\n",
    "\n",
    "def get_closest_frames(files, initial_frame):\n",
    "    frames_num = [int(re.search(\"\\d\\d\\d\\d\", x).group()) for x in files]\n",
    "    closest_idx = closest_number_idx(frames_num, initial_frame)\n",
    "    #new_frames = files[closest_idx-2: closest_idx+3]\n",
    "    new_frames = files[closest_idx-3: closest_idx+7]\n",
    "    #new_frames = files[closest_idx: closest_idx+max_frames]\n",
    "\n",
    "\n",
    "    #new_frames = files[closest_idx-5: closest_idx+10]\n",
    "\n",
    "\n",
    "    return new_frames\n",
    "\n",
    "def load_frames(label, idxs, max_frames):\n",
    "    tmp_X = []\n",
    "    tmp_y = []\n",
    "    for path, initial_frame in idxs:\n",
    "        path = \"../code\" + path[1:] + \"/*\"\n",
    "        files = sorted(glob.glob(path))\n",
    "        #print len(files)\n",
    "        row_X = []\n",
    "        closest_frames = get_closest_frames(files, initial_frame)\n",
    "        #print closest_frames\n",
    "        y_row = np.zeros(number_of_brands)\n",
    "        y_row[label] = 1\n",
    "        for f in closest_frames:\n",
    "            img = np.asarray(Image.open(f))/255.\n",
    "            row_X.append(img)\n",
    "        if len(row_X) != max_frames:\n",
    "            continue\n",
    "        row_X = np.array(row_X)\n",
    "        #print row_X.shape\n",
    "        tmp_X.append(row_X)\n",
    "        tmp_y.append(y_row)\n",
    "    return (tmp_y, tmp_X)\n",
    "\n",
    "def load_new_frames(path):\n",
    "    t = pd.read_csv(\"top_frames_LOGO7_frames10.csv\", header=None).as_matrix()\n",
    "    tmp_X = []\n",
    "    tmp_y = []\n",
    "    for row in t:\n",
    "        label = labels_dict[row[0].split(\"/\")[-2].lower()]\n",
    "        all_frames = sorted(glob.glob(row[0] + \"/*.jpg\"))\n",
    "        idx_frames = all_frames.index(row[1])\n",
    "        selected_frames = all_frames[idx_frames:idx_frames+max_frames]\n",
    "        row_X = []\n",
    "        y_row = np.zeros(number_of_brands)\n",
    "        y_row[label] = 1\n",
    "        for f in selected_frames:\n",
    "            img = np.asarray(Image.open(f))/255.\n",
    "            row_X.append(img)\n",
    "        row_X = np.array(row_X)\n",
    "        #print row_X.shape\n",
    "        tmp_X.append(row_X)\n",
    "        tmp_y.append(y_row)\n",
    "    return (tmp_y, tmp_X)"
   ]
  },
  {
   "cell_type": "code",
   "execution_count": 19,
   "metadata": {
    "collapsed": false
   },
   "outputs": [],
   "source": [
    "def load_frames_test_frames(path,i):\n",
    "    frames = sorted(glob.glob(path+\"*.jpg\"))[10:10+max_frames]\n",
    "    print(frames)\n",
    "    row_X = []\n",
    "    for f in frames:\n",
    "        img = np.asarray(Image.open(f))/255.\n",
    "        row_X.append(img)\n",
    "    return np.array(row_X)"
   ]
  },
  {
   "cell_type": "code",
   "execution_count": 13,
   "metadata": {
    "collapsed": false
   },
   "outputs": [
    {
     "data": {
      "text/plain": [
       "[('./cocacola_processed/cocacola/10', 901),\n",
       " ('./cocacola_processed/cocacola/55', 201),\n",
       " ('./cocacola_processed/cocacola/147', 147),\n",
       " ('./cocacola_processed/cocacola/21', 703),\n",
       " ('./cocacola_processed/cocacola/87', 743),\n",
       " ('./cocacola_processed/cocacola/4', 509),\n",
       " ('./cocacola_processed/cocacola/126', 14),\n",
       " ('./cocacola_processed/cocacola/136', 320),\n",
       " ('./cocacola_processed/cocacola/25', 133),\n",
       " ('./cocacola_processed/cocacola/33', 528),\n",
       " ('./cocacola_processed/cocacola/100', 121),\n",
       " ('./cocacola_processed/cocacola/115', 493),\n",
       " ('./cocacola_processed/cocacola/15', 22),\n",
       " ('./cocacola_processed/cocacola/36', 95),\n",
       " ('./cocacola_processed/cocacola/65', 184),\n",
       " ('./cocacola_processed/cocacola/66', 657),\n",
       " ('./cocacola_processed/cocacola/121', 674),\n",
       " ('./cocacola_processed/cocacola/75', 0),\n",
       " ('./cocacola_processed/cocacola/84', 56),\n",
       " ('./cocacola_processed/cocacola/150', 320),\n",
       " ('./cocacola_processed/cocacola/60', 106),\n",
       " ('./cocacola_processed/cocacola/117', 489),\n",
       " ('./cocacola_processed/cocacola/64', 21),\n",
       " ('./cocacola_processed/cocacola/30', 276),\n",
       " ('./cocacola_processed/cocacola/111', 481),\n",
       " ('./cocacola_processed/cocacola/92', 174),\n",
       " ('./cocacola_processed/cocacola/97', 479),\n",
       " ('./cocacola_processed/cocacola/93', 322),\n",
       " ('./cocacola_processed/cocacola/89', 13),\n",
       " ('./cocacola_processed/cocacola/52', 793),\n",
       " ('./cocacola_processed/cocacola/59', 793),\n",
       " ('./cocacola_processed/cocacola/146', 219),\n",
       " ('./cocacola_processed/cocacola/130', 187),\n",
       " ('./cocacola_processed/cocacola/1', 779),\n",
       " ('./cocacola_processed/cocacola/120', 21),\n",
       " ('./cocacola_processed/cocacola/153', 182),\n",
       " ('./cocacola_processed/cocacola/62', 256)]"
      ]
     },
     "execution_count": 13,
     "metadata": {},
     "output_type": "execute_result"
    }
   ],
   "source": [
    "cocacola_idxs"
   ]
  },
  {
   "cell_type": "code",
   "execution_count": 22,
   "metadata": {
    "collapsed": false
   },
   "outputs": [],
   "source": [
    "y1,X1 = load_new_frames(\"top_frames_LOGO7_frames10.csv\")"
   ]
  },
  {
   "cell_type": "code",
   "execution_count": 30,
   "metadata": {
    "collapsed": false,
    "scrolled": true
   },
   "outputs": [
    {
     "name": "stdout",
     "output_type": "stream",
     "text": [
      "['/Users/francescoferrari/Downloads/junk_processed/0/f_0011.jpg', '/Users/francescoferrari/Downloads/junk_processed/0/f_0012.jpg', '/Users/francescoferrari/Downloads/junk_processed/0/f_0013.jpg', '/Users/francescoferrari/Downloads/junk_processed/0/f_0014.jpg', '/Users/francescoferrari/Downloads/junk_processed/0/f_0015.jpg', '/Users/francescoferrari/Downloads/junk_processed/0/f_0016.jpg', '/Users/francescoferrari/Downloads/junk_processed/0/f_0017.jpg', '/Users/francescoferrari/Downloads/junk_processed/0/f_0018.jpg', '/Users/francescoferrari/Downloads/junk_processed/0/f_0019.jpg', '/Users/francescoferrari/Downloads/junk_processed/0/f_0020.jpg', '/Users/francescoferrari/Downloads/junk_processed/0/f_0021.jpg', '/Users/francescoferrari/Downloads/junk_processed/0/f_0022.jpg', '/Users/francescoferrari/Downloads/junk_processed/0/f_0023.jpg', '/Users/francescoferrari/Downloads/junk_processed/0/f_0024.jpg', '/Users/francescoferrari/Downloads/junk_processed/0/f_0025.jpg']\n",
      "['/Users/francescoferrari/Downloads/junk_processed/0/f_0011.jpg', '/Users/francescoferrari/Downloads/junk_processed/0/f_0012.jpg', '/Users/francescoferrari/Downloads/junk_processed/0/f_0013.jpg', '/Users/francescoferrari/Downloads/junk_processed/0/f_0014.jpg', '/Users/francescoferrari/Downloads/junk_processed/0/f_0015.jpg', '/Users/francescoferrari/Downloads/junk_processed/0/f_0016.jpg', '/Users/francescoferrari/Downloads/junk_processed/0/f_0017.jpg', '/Users/francescoferrari/Downloads/junk_processed/0/f_0018.jpg', '/Users/francescoferrari/Downloads/junk_processed/0/f_0019.jpg', '/Users/francescoferrari/Downloads/junk_processed/0/f_0020.jpg', '/Users/francescoferrari/Downloads/junk_processed/0/f_0021.jpg', '/Users/francescoferrari/Downloads/junk_processed/0/f_0022.jpg', '/Users/francescoferrari/Downloads/junk_processed/0/f_0023.jpg', '/Users/francescoferrari/Downloads/junk_processed/0/f_0024.jpg', '/Users/francescoferrari/Downloads/junk_processed/0/f_0025.jpg']\n",
      "['/Users/francescoferrari/Downloads/junk_processed/1/f_0011.jpg', '/Users/francescoferrari/Downloads/junk_processed/1/f_0012.jpg', '/Users/francescoferrari/Downloads/junk_processed/1/f_0013.jpg', '/Users/francescoferrari/Downloads/junk_processed/1/f_0014.jpg', '/Users/francescoferrari/Downloads/junk_processed/1/f_0015.jpg', '/Users/francescoferrari/Downloads/junk_processed/1/f_0016.jpg', '/Users/francescoferrari/Downloads/junk_processed/1/f_0017.jpg', '/Users/francescoferrari/Downloads/junk_processed/1/f_0018.jpg', '/Users/francescoferrari/Downloads/junk_processed/1/f_0019.jpg', '/Users/francescoferrari/Downloads/junk_processed/1/f_0020.jpg', '/Users/francescoferrari/Downloads/junk_processed/1/f_0021.jpg', '/Users/francescoferrari/Downloads/junk_processed/1/f_0022.jpg', '/Users/francescoferrari/Downloads/junk_processed/1/f_0023.jpg', '/Users/francescoferrari/Downloads/junk_processed/1/f_0024.jpg', '/Users/francescoferrari/Downloads/junk_processed/1/f_0025.jpg']\n",
      "['/Users/francescoferrari/Downloads/junk_processed/1/f_0011.jpg', '/Users/francescoferrari/Downloads/junk_processed/1/f_0012.jpg', '/Users/francescoferrari/Downloads/junk_processed/1/f_0013.jpg', '/Users/francescoferrari/Downloads/junk_processed/1/f_0014.jpg', '/Users/francescoferrari/Downloads/junk_processed/1/f_0015.jpg', '/Users/francescoferrari/Downloads/junk_processed/1/f_0016.jpg', '/Users/francescoferrari/Downloads/junk_processed/1/f_0017.jpg', '/Users/francescoferrari/Downloads/junk_processed/1/f_0018.jpg', '/Users/francescoferrari/Downloads/junk_processed/1/f_0019.jpg', '/Users/francescoferrari/Downloads/junk_processed/1/f_0020.jpg', '/Users/francescoferrari/Downloads/junk_processed/1/f_0021.jpg', '/Users/francescoferrari/Downloads/junk_processed/1/f_0022.jpg', '/Users/francescoferrari/Downloads/junk_processed/1/f_0023.jpg', '/Users/francescoferrari/Downloads/junk_processed/1/f_0024.jpg', '/Users/francescoferrari/Downloads/junk_processed/1/f_0025.jpg']\n",
      "['/Users/francescoferrari/Downloads/junk_processed/2/f_0011.jpg', '/Users/francescoferrari/Downloads/junk_processed/2/f_0012.jpg', '/Users/francescoferrari/Downloads/junk_processed/2/f_0013.jpg', '/Users/francescoferrari/Downloads/junk_processed/2/f_0014.jpg', '/Users/francescoferrari/Downloads/junk_processed/2/f_0015.jpg', '/Users/francescoferrari/Downloads/junk_processed/2/f_0016.jpg', '/Users/francescoferrari/Downloads/junk_processed/2/f_0017.jpg', '/Users/francescoferrari/Downloads/junk_processed/2/f_0018.jpg', '/Users/francescoferrari/Downloads/junk_processed/2/f_0019.jpg', '/Users/francescoferrari/Downloads/junk_processed/2/f_0020.jpg', '/Users/francescoferrari/Downloads/junk_processed/2/f_0021.jpg', '/Users/francescoferrari/Downloads/junk_processed/2/f_0022.jpg', '/Users/francescoferrari/Downloads/junk_processed/2/f_0023.jpg', '/Users/francescoferrari/Downloads/junk_processed/2/f_0024.jpg', '/Users/francescoferrari/Downloads/junk_processed/2/f_0025.jpg']\n",
      "['/Users/francescoferrari/Downloads/junk_processed/2/f_0011.jpg', '/Users/francescoferrari/Downloads/junk_processed/2/f_0012.jpg', '/Users/francescoferrari/Downloads/junk_processed/2/f_0013.jpg', '/Users/francescoferrari/Downloads/junk_processed/2/f_0014.jpg', '/Users/francescoferrari/Downloads/junk_processed/2/f_0015.jpg', '/Users/francescoferrari/Downloads/junk_processed/2/f_0016.jpg', '/Users/francescoferrari/Downloads/junk_processed/2/f_0017.jpg', '/Users/francescoferrari/Downloads/junk_processed/2/f_0018.jpg', '/Users/francescoferrari/Downloads/junk_processed/2/f_0019.jpg', '/Users/francescoferrari/Downloads/junk_processed/2/f_0020.jpg', '/Users/francescoferrari/Downloads/junk_processed/2/f_0021.jpg', '/Users/francescoferrari/Downloads/junk_processed/2/f_0022.jpg', '/Users/francescoferrari/Downloads/junk_processed/2/f_0023.jpg', '/Users/francescoferrari/Downloads/junk_processed/2/f_0024.jpg', '/Users/francescoferrari/Downloads/junk_processed/2/f_0025.jpg']\n",
      "['/Users/francescoferrari/Downloads/junk_processed/3/f_0011.jpg', '/Users/francescoferrari/Downloads/junk_processed/3/f_0012.jpg', '/Users/francescoferrari/Downloads/junk_processed/3/f_0013.jpg', '/Users/francescoferrari/Downloads/junk_processed/3/f_0014.jpg', '/Users/francescoferrari/Downloads/junk_processed/3/f_0015.jpg', '/Users/francescoferrari/Downloads/junk_processed/3/f_0016.jpg', '/Users/francescoferrari/Downloads/junk_processed/3/f_0017.jpg', '/Users/francescoferrari/Downloads/junk_processed/3/f_0018.jpg', '/Users/francescoferrari/Downloads/junk_processed/3/f_0019.jpg', '/Users/francescoferrari/Downloads/junk_processed/3/f_0020.jpg', '/Users/francescoferrari/Downloads/junk_processed/3/f_0021.jpg', '/Users/francescoferrari/Downloads/junk_processed/3/f_0022.jpg', '/Users/francescoferrari/Downloads/junk_processed/3/f_0023.jpg', '/Users/francescoferrari/Downloads/junk_processed/3/f_0024.jpg', '/Users/francescoferrari/Downloads/junk_processed/3/f_0025.jpg']\n",
      "['/Users/francescoferrari/Downloads/junk_processed/3/f_0011.jpg', '/Users/francescoferrari/Downloads/junk_processed/3/f_0012.jpg', '/Users/francescoferrari/Downloads/junk_processed/3/f_0013.jpg', '/Users/francescoferrari/Downloads/junk_processed/3/f_0014.jpg', '/Users/francescoferrari/Downloads/junk_processed/3/f_0015.jpg', '/Users/francescoferrari/Downloads/junk_processed/3/f_0016.jpg', '/Users/francescoferrari/Downloads/junk_processed/3/f_0017.jpg', '/Users/francescoferrari/Downloads/junk_processed/3/f_0018.jpg', '/Users/francescoferrari/Downloads/junk_processed/3/f_0019.jpg', '/Users/francescoferrari/Downloads/junk_processed/3/f_0020.jpg', '/Users/francescoferrari/Downloads/junk_processed/3/f_0021.jpg', '/Users/francescoferrari/Downloads/junk_processed/3/f_0022.jpg', '/Users/francescoferrari/Downloads/junk_processed/3/f_0023.jpg', '/Users/francescoferrari/Downloads/junk_processed/3/f_0024.jpg', '/Users/francescoferrari/Downloads/junk_processed/3/f_0025.jpg']\n",
      "['/Users/francescoferrari/Downloads/junk_processed/4/f_0011.jpg', '/Users/francescoferrari/Downloads/junk_processed/4/f_0012.jpg', '/Users/francescoferrari/Downloads/junk_processed/4/f_0013.jpg', '/Users/francescoferrari/Downloads/junk_processed/4/f_0014.jpg', '/Users/francescoferrari/Downloads/junk_processed/4/f_0015.jpg', '/Users/francescoferrari/Downloads/junk_processed/4/f_0016.jpg', '/Users/francescoferrari/Downloads/junk_processed/4/f_0017.jpg', '/Users/francescoferrari/Downloads/junk_processed/4/f_0018.jpg', '/Users/francescoferrari/Downloads/junk_processed/4/f_0019.jpg', '/Users/francescoferrari/Downloads/junk_processed/4/f_0020.jpg', '/Users/francescoferrari/Downloads/junk_processed/4/f_0021.jpg', '/Users/francescoferrari/Downloads/junk_processed/4/f_0022.jpg', '/Users/francescoferrari/Downloads/junk_processed/4/f_0023.jpg', '/Users/francescoferrari/Downloads/junk_processed/4/f_0024.jpg', '/Users/francescoferrari/Downloads/junk_processed/4/f_0025.jpg']\n",
      "['/Users/francescoferrari/Downloads/junk_processed/4/f_0011.jpg', '/Users/francescoferrari/Downloads/junk_processed/4/f_0012.jpg', '/Users/francescoferrari/Downloads/junk_processed/4/f_0013.jpg', '/Users/francescoferrari/Downloads/junk_processed/4/f_0014.jpg', '/Users/francescoferrari/Downloads/junk_processed/4/f_0015.jpg', '/Users/francescoferrari/Downloads/junk_processed/4/f_0016.jpg', '/Users/francescoferrari/Downloads/junk_processed/4/f_0017.jpg', '/Users/francescoferrari/Downloads/junk_processed/4/f_0018.jpg', '/Users/francescoferrari/Downloads/junk_processed/4/f_0019.jpg', '/Users/francescoferrari/Downloads/junk_processed/4/f_0020.jpg', '/Users/francescoferrari/Downloads/junk_processed/4/f_0021.jpg', '/Users/francescoferrari/Downloads/junk_processed/4/f_0022.jpg', '/Users/francescoferrari/Downloads/junk_processed/4/f_0023.jpg', '/Users/francescoferrari/Downloads/junk_processed/4/f_0024.jpg', '/Users/francescoferrari/Downloads/junk_processed/4/f_0025.jpg']\n",
      "['/Users/francescoferrari/Downloads/junk_processed/5/f_0011.jpg', '/Users/francescoferrari/Downloads/junk_processed/5/f_0012.jpg', '/Users/francescoferrari/Downloads/junk_processed/5/f_0013.jpg', '/Users/francescoferrari/Downloads/junk_processed/5/f_0014.jpg', '/Users/francescoferrari/Downloads/junk_processed/5/f_0015.jpg', '/Users/francescoferrari/Downloads/junk_processed/5/f_0016.jpg', '/Users/francescoferrari/Downloads/junk_processed/5/f_0017.jpg', '/Users/francescoferrari/Downloads/junk_processed/5/f_0018.jpg', '/Users/francescoferrari/Downloads/junk_processed/5/f_0019.jpg', '/Users/francescoferrari/Downloads/junk_processed/5/f_0020.jpg', '/Users/francescoferrari/Downloads/junk_processed/5/f_0021.jpg', '/Users/francescoferrari/Downloads/junk_processed/5/f_0022.jpg', '/Users/francescoferrari/Downloads/junk_processed/5/f_0023.jpg', '/Users/francescoferrari/Downloads/junk_processed/5/f_0024.jpg', '/Users/francescoferrari/Downloads/junk_processed/5/f_0025.jpg']\n",
      "['/Users/francescoferrari/Downloads/junk_processed/5/f_0011.jpg', '/Users/francescoferrari/Downloads/junk_processed/5/f_0012.jpg', '/Users/francescoferrari/Downloads/junk_processed/5/f_0013.jpg', '/Users/francescoferrari/Downloads/junk_processed/5/f_0014.jpg', '/Users/francescoferrari/Downloads/junk_processed/5/f_0015.jpg', '/Users/francescoferrari/Downloads/junk_processed/5/f_0016.jpg', '/Users/francescoferrari/Downloads/junk_processed/5/f_0017.jpg', '/Users/francescoferrari/Downloads/junk_processed/5/f_0018.jpg', '/Users/francescoferrari/Downloads/junk_processed/5/f_0019.jpg', '/Users/francescoferrari/Downloads/junk_processed/5/f_0020.jpg', '/Users/francescoferrari/Downloads/junk_processed/5/f_0021.jpg', '/Users/francescoferrari/Downloads/junk_processed/5/f_0022.jpg', '/Users/francescoferrari/Downloads/junk_processed/5/f_0023.jpg', '/Users/francescoferrari/Downloads/junk_processed/5/f_0024.jpg', '/Users/francescoferrari/Downloads/junk_processed/5/f_0025.jpg']\n",
      "[]\n",
      "['/Users/francescoferrari/Downloads/junk_processed/7/f_0011.jpg', '/Users/francescoferrari/Downloads/junk_processed/7/f_0012.jpg', '/Users/francescoferrari/Downloads/junk_processed/7/f_0013.jpg', '/Users/francescoferrari/Downloads/junk_processed/7/f_0014.jpg', '/Users/francescoferrari/Downloads/junk_processed/7/f_0015.jpg', '/Users/francescoferrari/Downloads/junk_processed/7/f_0016.jpg', '/Users/francescoferrari/Downloads/junk_processed/7/f_0017.jpg', '/Users/francescoferrari/Downloads/junk_processed/7/f_0018.jpg', '/Users/francescoferrari/Downloads/junk_processed/7/f_0019.jpg', '/Users/francescoferrari/Downloads/junk_processed/7/f_0020.jpg', '/Users/francescoferrari/Downloads/junk_processed/7/f_0021.jpg', '/Users/francescoferrari/Downloads/junk_processed/7/f_0022.jpg', '/Users/francescoferrari/Downloads/junk_processed/7/f_0023.jpg', '/Users/francescoferrari/Downloads/junk_processed/7/f_0024.jpg', '/Users/francescoferrari/Downloads/junk_processed/7/f_0025.jpg']\n",
      "['/Users/francescoferrari/Downloads/junk_processed/7/f_0011.jpg', '/Users/francescoferrari/Downloads/junk_processed/7/f_0012.jpg', '/Users/francescoferrari/Downloads/junk_processed/7/f_0013.jpg', '/Users/francescoferrari/Downloads/junk_processed/7/f_0014.jpg', '/Users/francescoferrari/Downloads/junk_processed/7/f_0015.jpg', '/Users/francescoferrari/Downloads/junk_processed/7/f_0016.jpg', '/Users/francescoferrari/Downloads/junk_processed/7/f_0017.jpg', '/Users/francescoferrari/Downloads/junk_processed/7/f_0018.jpg', '/Users/francescoferrari/Downloads/junk_processed/7/f_0019.jpg', '/Users/francescoferrari/Downloads/junk_processed/7/f_0020.jpg', '/Users/francescoferrari/Downloads/junk_processed/7/f_0021.jpg', '/Users/francescoferrari/Downloads/junk_processed/7/f_0022.jpg', '/Users/francescoferrari/Downloads/junk_processed/7/f_0023.jpg', '/Users/francescoferrari/Downloads/junk_processed/7/f_0024.jpg', '/Users/francescoferrari/Downloads/junk_processed/7/f_0025.jpg']\n",
      "[]\n",
      "['/Users/francescoferrari/Downloads/junk_processed/9/f_0011.jpg', '/Users/francescoferrari/Downloads/junk_processed/9/f_0012.jpg', '/Users/francescoferrari/Downloads/junk_processed/9/f_0013.jpg', '/Users/francescoferrari/Downloads/junk_processed/9/f_0014.jpg', '/Users/francescoferrari/Downloads/junk_processed/9/f_0015.jpg', '/Users/francescoferrari/Downloads/junk_processed/9/f_0016.jpg', '/Users/francescoferrari/Downloads/junk_processed/9/f_0017.jpg', '/Users/francescoferrari/Downloads/junk_processed/9/f_0018.jpg', '/Users/francescoferrari/Downloads/junk_processed/9/f_0019.jpg', '/Users/francescoferrari/Downloads/junk_processed/9/f_0020.jpg', '/Users/francescoferrari/Downloads/junk_processed/9/f_0021.jpg', '/Users/francescoferrari/Downloads/junk_processed/9/f_0022.jpg', '/Users/francescoferrari/Downloads/junk_processed/9/f_0023.jpg', '/Users/francescoferrari/Downloads/junk_processed/9/f_0024.jpg', '/Users/francescoferrari/Downloads/junk_processed/9/f_0025.jpg']\n",
      "['/Users/francescoferrari/Downloads/junk_processed/9/f_0011.jpg', '/Users/francescoferrari/Downloads/junk_processed/9/f_0012.jpg', '/Users/francescoferrari/Downloads/junk_processed/9/f_0013.jpg', '/Users/francescoferrari/Downloads/junk_processed/9/f_0014.jpg', '/Users/francescoferrari/Downloads/junk_processed/9/f_0015.jpg', '/Users/francescoferrari/Downloads/junk_processed/9/f_0016.jpg', '/Users/francescoferrari/Downloads/junk_processed/9/f_0017.jpg', '/Users/francescoferrari/Downloads/junk_processed/9/f_0018.jpg', '/Users/francescoferrari/Downloads/junk_processed/9/f_0019.jpg', '/Users/francescoferrari/Downloads/junk_processed/9/f_0020.jpg', '/Users/francescoferrari/Downloads/junk_processed/9/f_0021.jpg', '/Users/francescoferrari/Downloads/junk_processed/9/f_0022.jpg', '/Users/francescoferrari/Downloads/junk_processed/9/f_0023.jpg', '/Users/francescoferrari/Downloads/junk_processed/9/f_0024.jpg', '/Users/francescoferrari/Downloads/junk_processed/9/f_0025.jpg']\n",
      "['/Users/francescoferrari/Downloads/junk_processed/10/f_0011.jpg', '/Users/francescoferrari/Downloads/junk_processed/10/f_0012.jpg', '/Users/francescoferrari/Downloads/junk_processed/10/f_0013.jpg', '/Users/francescoferrari/Downloads/junk_processed/10/f_0014.jpg', '/Users/francescoferrari/Downloads/junk_processed/10/f_0015.jpg', '/Users/francescoferrari/Downloads/junk_processed/10/f_0016.jpg', '/Users/francescoferrari/Downloads/junk_processed/10/f_0017.jpg', '/Users/francescoferrari/Downloads/junk_processed/10/f_0018.jpg', '/Users/francescoferrari/Downloads/junk_processed/10/f_0019.jpg', '/Users/francescoferrari/Downloads/junk_processed/10/f_0020.jpg', '/Users/francescoferrari/Downloads/junk_processed/10/f_0021.jpg', '/Users/francescoferrari/Downloads/junk_processed/10/f_0022.jpg', '/Users/francescoferrari/Downloads/junk_processed/10/f_0023.jpg', '/Users/francescoferrari/Downloads/junk_processed/10/f_0024.jpg', '/Users/francescoferrari/Downloads/junk_processed/10/f_0025.jpg']\n",
      "['/Users/francescoferrari/Downloads/junk_processed/10/f_0011.jpg', '/Users/francescoferrari/Downloads/junk_processed/10/f_0012.jpg', '/Users/francescoferrari/Downloads/junk_processed/10/f_0013.jpg', '/Users/francescoferrari/Downloads/junk_processed/10/f_0014.jpg', '/Users/francescoferrari/Downloads/junk_processed/10/f_0015.jpg', '/Users/francescoferrari/Downloads/junk_processed/10/f_0016.jpg', '/Users/francescoferrari/Downloads/junk_processed/10/f_0017.jpg', '/Users/francescoferrari/Downloads/junk_processed/10/f_0018.jpg', '/Users/francescoferrari/Downloads/junk_processed/10/f_0019.jpg', '/Users/francescoferrari/Downloads/junk_processed/10/f_0020.jpg', '/Users/francescoferrari/Downloads/junk_processed/10/f_0021.jpg', '/Users/francescoferrari/Downloads/junk_processed/10/f_0022.jpg', '/Users/francescoferrari/Downloads/junk_processed/10/f_0023.jpg', '/Users/francescoferrari/Downloads/junk_processed/10/f_0024.jpg', '/Users/francescoferrari/Downloads/junk_processed/10/f_0025.jpg']\n",
      "['/Users/francescoferrari/Downloads/junk_processed/11/f_0011.jpg', '/Users/francescoferrari/Downloads/junk_processed/11/f_0012.jpg', '/Users/francescoferrari/Downloads/junk_processed/11/f_0013.jpg', '/Users/francescoferrari/Downloads/junk_processed/11/f_0014.jpg', '/Users/francescoferrari/Downloads/junk_processed/11/f_0015.jpg', '/Users/francescoferrari/Downloads/junk_processed/11/f_0016.jpg', '/Users/francescoferrari/Downloads/junk_processed/11/f_0017.jpg', '/Users/francescoferrari/Downloads/junk_processed/11/f_0018.jpg', '/Users/francescoferrari/Downloads/junk_processed/11/f_0019.jpg', '/Users/francescoferrari/Downloads/junk_processed/11/f_0020.jpg', '/Users/francescoferrari/Downloads/junk_processed/11/f_0021.jpg', '/Users/francescoferrari/Downloads/junk_processed/11/f_0022.jpg', '/Users/francescoferrari/Downloads/junk_processed/11/f_0023.jpg', '/Users/francescoferrari/Downloads/junk_processed/11/f_0024.jpg', '/Users/francescoferrari/Downloads/junk_processed/11/f_0025.jpg']\n",
      "['/Users/francescoferrari/Downloads/junk_processed/11/f_0011.jpg', '/Users/francescoferrari/Downloads/junk_processed/11/f_0012.jpg', '/Users/francescoferrari/Downloads/junk_processed/11/f_0013.jpg', '/Users/francescoferrari/Downloads/junk_processed/11/f_0014.jpg', '/Users/francescoferrari/Downloads/junk_processed/11/f_0015.jpg', '/Users/francescoferrari/Downloads/junk_processed/11/f_0016.jpg', '/Users/francescoferrari/Downloads/junk_processed/11/f_0017.jpg', '/Users/francescoferrari/Downloads/junk_processed/11/f_0018.jpg', '/Users/francescoferrari/Downloads/junk_processed/11/f_0019.jpg', '/Users/francescoferrari/Downloads/junk_processed/11/f_0020.jpg', '/Users/francescoferrari/Downloads/junk_processed/11/f_0021.jpg', '/Users/francescoferrari/Downloads/junk_processed/11/f_0022.jpg', '/Users/francescoferrari/Downloads/junk_processed/11/f_0023.jpg', '/Users/francescoferrari/Downloads/junk_processed/11/f_0024.jpg', '/Users/francescoferrari/Downloads/junk_processed/11/f_0025.jpg']\n",
      "['/Users/francescoferrari/Downloads/junk_processed/12/f_0011.jpg', '/Users/francescoferrari/Downloads/junk_processed/12/f_0012.jpg', '/Users/francescoferrari/Downloads/junk_processed/12/f_0013.jpg', '/Users/francescoferrari/Downloads/junk_processed/12/f_0014.jpg', '/Users/francescoferrari/Downloads/junk_processed/12/f_0015.jpg', '/Users/francescoferrari/Downloads/junk_processed/12/f_0016.jpg', '/Users/francescoferrari/Downloads/junk_processed/12/f_0017.jpg', '/Users/francescoferrari/Downloads/junk_processed/12/f_0018.jpg', '/Users/francescoferrari/Downloads/junk_processed/12/f_0019.jpg', '/Users/francescoferrari/Downloads/junk_processed/12/f_0020.jpg', '/Users/francescoferrari/Downloads/junk_processed/12/f_0021.jpg', '/Users/francescoferrari/Downloads/junk_processed/12/f_0022.jpg', '/Users/francescoferrari/Downloads/junk_processed/12/f_0023.jpg', '/Users/francescoferrari/Downloads/junk_processed/12/f_0024.jpg', '/Users/francescoferrari/Downloads/junk_processed/12/f_0025.jpg']\n",
      "['/Users/francescoferrari/Downloads/junk_processed/12/f_0011.jpg', '/Users/francescoferrari/Downloads/junk_processed/12/f_0012.jpg', '/Users/francescoferrari/Downloads/junk_processed/12/f_0013.jpg', '/Users/francescoferrari/Downloads/junk_processed/12/f_0014.jpg', '/Users/francescoferrari/Downloads/junk_processed/12/f_0015.jpg', '/Users/francescoferrari/Downloads/junk_processed/12/f_0016.jpg', '/Users/francescoferrari/Downloads/junk_processed/12/f_0017.jpg', '/Users/francescoferrari/Downloads/junk_processed/12/f_0018.jpg', '/Users/francescoferrari/Downloads/junk_processed/12/f_0019.jpg', '/Users/francescoferrari/Downloads/junk_processed/12/f_0020.jpg', '/Users/francescoferrari/Downloads/junk_processed/12/f_0021.jpg', '/Users/francescoferrari/Downloads/junk_processed/12/f_0022.jpg', '/Users/francescoferrari/Downloads/junk_processed/12/f_0023.jpg', '/Users/francescoferrari/Downloads/junk_processed/12/f_0024.jpg', '/Users/francescoferrari/Downloads/junk_processed/12/f_0025.jpg']\n",
      "[]\n",
      "['/Users/francescoferrari/Downloads/junk_processed/14/f_0011.jpg', '/Users/francescoferrari/Downloads/junk_processed/14/f_0012.jpg', '/Users/francescoferrari/Downloads/junk_processed/14/f_0013.jpg', '/Users/francescoferrari/Downloads/junk_processed/14/f_0014.jpg', '/Users/francescoferrari/Downloads/junk_processed/14/f_0015.jpg', '/Users/francescoferrari/Downloads/junk_processed/14/f_0016.jpg', '/Users/francescoferrari/Downloads/junk_processed/14/f_0017.jpg', '/Users/francescoferrari/Downloads/junk_processed/14/f_0018.jpg', '/Users/francescoferrari/Downloads/junk_processed/14/f_0019.jpg', '/Users/francescoferrari/Downloads/junk_processed/14/f_0020.jpg', '/Users/francescoferrari/Downloads/junk_processed/14/f_0021.jpg', '/Users/francescoferrari/Downloads/junk_processed/14/f_0022.jpg', '/Users/francescoferrari/Downloads/junk_processed/14/f_0023.jpg', '/Users/francescoferrari/Downloads/junk_processed/14/f_0024.jpg', '/Users/francescoferrari/Downloads/junk_processed/14/f_0025.jpg']\n",
      "['/Users/francescoferrari/Downloads/junk_processed/14/f_0011.jpg', '/Users/francescoferrari/Downloads/junk_processed/14/f_0012.jpg', '/Users/francescoferrari/Downloads/junk_processed/14/f_0013.jpg', '/Users/francescoferrari/Downloads/junk_processed/14/f_0014.jpg', '/Users/francescoferrari/Downloads/junk_processed/14/f_0015.jpg', '/Users/francescoferrari/Downloads/junk_processed/14/f_0016.jpg', '/Users/francescoferrari/Downloads/junk_processed/14/f_0017.jpg', '/Users/francescoferrari/Downloads/junk_processed/14/f_0018.jpg', '/Users/francescoferrari/Downloads/junk_processed/14/f_0019.jpg', '/Users/francescoferrari/Downloads/junk_processed/14/f_0020.jpg', '/Users/francescoferrari/Downloads/junk_processed/14/f_0021.jpg', '/Users/francescoferrari/Downloads/junk_processed/14/f_0022.jpg', '/Users/francescoferrari/Downloads/junk_processed/14/f_0023.jpg', '/Users/francescoferrari/Downloads/junk_processed/14/f_0024.jpg', '/Users/francescoferrari/Downloads/junk_processed/14/f_0025.jpg']\n",
      "['/Users/francescoferrari/Downloads/junk_processed/15/f_0011.jpg', '/Users/francescoferrari/Downloads/junk_processed/15/f_0012.jpg', '/Users/francescoferrari/Downloads/junk_processed/15/f_0013.jpg', '/Users/francescoferrari/Downloads/junk_processed/15/f_0014.jpg', '/Users/francescoferrari/Downloads/junk_processed/15/f_0015.jpg', '/Users/francescoferrari/Downloads/junk_processed/15/f_0016.jpg', '/Users/francescoferrari/Downloads/junk_processed/15/f_0017.jpg', '/Users/francescoferrari/Downloads/junk_processed/15/f_0018.jpg', '/Users/francescoferrari/Downloads/junk_processed/15/f_0019.jpg', '/Users/francescoferrari/Downloads/junk_processed/15/f_0020.jpg', '/Users/francescoferrari/Downloads/junk_processed/15/f_0021.jpg', '/Users/francescoferrari/Downloads/junk_processed/15/f_0022.jpg', '/Users/francescoferrari/Downloads/junk_processed/15/f_0023.jpg', '/Users/francescoferrari/Downloads/junk_processed/15/f_0024.jpg', '/Users/francescoferrari/Downloads/junk_processed/15/f_0025.jpg']\n",
      "['/Users/francescoferrari/Downloads/junk_processed/15/f_0011.jpg', '/Users/francescoferrari/Downloads/junk_processed/15/f_0012.jpg', '/Users/francescoferrari/Downloads/junk_processed/15/f_0013.jpg', '/Users/francescoferrari/Downloads/junk_processed/15/f_0014.jpg', '/Users/francescoferrari/Downloads/junk_processed/15/f_0015.jpg', '/Users/francescoferrari/Downloads/junk_processed/15/f_0016.jpg', '/Users/francescoferrari/Downloads/junk_processed/15/f_0017.jpg', '/Users/francescoferrari/Downloads/junk_processed/15/f_0018.jpg', '/Users/francescoferrari/Downloads/junk_processed/15/f_0019.jpg', '/Users/francescoferrari/Downloads/junk_processed/15/f_0020.jpg', '/Users/francescoferrari/Downloads/junk_processed/15/f_0021.jpg', '/Users/francescoferrari/Downloads/junk_processed/15/f_0022.jpg', '/Users/francescoferrari/Downloads/junk_processed/15/f_0023.jpg', '/Users/francescoferrari/Downloads/junk_processed/15/f_0024.jpg', '/Users/francescoferrari/Downloads/junk_processed/15/f_0025.jpg']\n",
      "['/Users/francescoferrari/Downloads/junk_processed/16/f_0011.jpg', '/Users/francescoferrari/Downloads/junk_processed/16/f_0012.jpg', '/Users/francescoferrari/Downloads/junk_processed/16/f_0013.jpg', '/Users/francescoferrari/Downloads/junk_processed/16/f_0014.jpg', '/Users/francescoferrari/Downloads/junk_processed/16/f_0015.jpg', '/Users/francescoferrari/Downloads/junk_processed/16/f_0016.jpg', '/Users/francescoferrari/Downloads/junk_processed/16/f_0017.jpg', '/Users/francescoferrari/Downloads/junk_processed/16/f_0018.jpg', '/Users/francescoferrari/Downloads/junk_processed/16/f_0019.jpg', '/Users/francescoferrari/Downloads/junk_processed/16/f_0020.jpg', '/Users/francescoferrari/Downloads/junk_processed/16/f_0021.jpg', '/Users/francescoferrari/Downloads/junk_processed/16/f_0022.jpg', '/Users/francescoferrari/Downloads/junk_processed/16/f_0023.jpg', '/Users/francescoferrari/Downloads/junk_processed/16/f_0024.jpg', '/Users/francescoferrari/Downloads/junk_processed/16/f_0025.jpg']\n",
      "['/Users/francescoferrari/Downloads/junk_processed/16/f_0011.jpg', '/Users/francescoferrari/Downloads/junk_processed/16/f_0012.jpg', '/Users/francescoferrari/Downloads/junk_processed/16/f_0013.jpg', '/Users/francescoferrari/Downloads/junk_processed/16/f_0014.jpg', '/Users/francescoferrari/Downloads/junk_processed/16/f_0015.jpg', '/Users/francescoferrari/Downloads/junk_processed/16/f_0016.jpg', '/Users/francescoferrari/Downloads/junk_processed/16/f_0017.jpg', '/Users/francescoferrari/Downloads/junk_processed/16/f_0018.jpg', '/Users/francescoferrari/Downloads/junk_processed/16/f_0019.jpg', '/Users/francescoferrari/Downloads/junk_processed/16/f_0020.jpg', '/Users/francescoferrari/Downloads/junk_processed/16/f_0021.jpg', '/Users/francescoferrari/Downloads/junk_processed/16/f_0022.jpg', '/Users/francescoferrari/Downloads/junk_processed/16/f_0023.jpg', '/Users/francescoferrari/Downloads/junk_processed/16/f_0024.jpg', '/Users/francescoferrari/Downloads/junk_processed/16/f_0025.jpg']\n",
      "['/Users/francescoferrari/Downloads/junk_processed/17/f_0011.jpg', '/Users/francescoferrari/Downloads/junk_processed/17/f_0012.jpg', '/Users/francescoferrari/Downloads/junk_processed/17/f_0013.jpg', '/Users/francescoferrari/Downloads/junk_processed/17/f_0014.jpg', '/Users/francescoferrari/Downloads/junk_processed/17/f_0015.jpg', '/Users/francescoferrari/Downloads/junk_processed/17/f_0016.jpg', '/Users/francescoferrari/Downloads/junk_processed/17/f_0017.jpg', '/Users/francescoferrari/Downloads/junk_processed/17/f_0018.jpg', '/Users/francescoferrari/Downloads/junk_processed/17/f_0019.jpg', '/Users/francescoferrari/Downloads/junk_processed/17/f_0020.jpg', '/Users/francescoferrari/Downloads/junk_processed/17/f_0021.jpg', '/Users/francescoferrari/Downloads/junk_processed/17/f_0022.jpg', '/Users/francescoferrari/Downloads/junk_processed/17/f_0023.jpg', '/Users/francescoferrari/Downloads/junk_processed/17/f_0024.jpg', '/Users/francescoferrari/Downloads/junk_processed/17/f_0025.jpg']\n",
      "['/Users/francescoferrari/Downloads/junk_processed/17/f_0011.jpg', '/Users/francescoferrari/Downloads/junk_processed/17/f_0012.jpg', '/Users/francescoferrari/Downloads/junk_processed/17/f_0013.jpg', '/Users/francescoferrari/Downloads/junk_processed/17/f_0014.jpg', '/Users/francescoferrari/Downloads/junk_processed/17/f_0015.jpg', '/Users/francescoferrari/Downloads/junk_processed/17/f_0016.jpg', '/Users/francescoferrari/Downloads/junk_processed/17/f_0017.jpg', '/Users/francescoferrari/Downloads/junk_processed/17/f_0018.jpg', '/Users/francescoferrari/Downloads/junk_processed/17/f_0019.jpg', '/Users/francescoferrari/Downloads/junk_processed/17/f_0020.jpg', '/Users/francescoferrari/Downloads/junk_processed/17/f_0021.jpg', '/Users/francescoferrari/Downloads/junk_processed/17/f_0022.jpg', '/Users/francescoferrari/Downloads/junk_processed/17/f_0023.jpg', '/Users/francescoferrari/Downloads/junk_processed/17/f_0024.jpg', '/Users/francescoferrari/Downloads/junk_processed/17/f_0025.jpg']\n",
      "['/Users/francescoferrari/Downloads/junk_processed/0/f_0011.jpg', '/Users/francescoferrari/Downloads/junk_processed/0/f_0012.jpg', '/Users/francescoferrari/Downloads/junk_processed/0/f_0013.jpg', '/Users/francescoferrari/Downloads/junk_processed/0/f_0014.jpg', '/Users/francescoferrari/Downloads/junk_processed/0/f_0015.jpg', '/Users/francescoferrari/Downloads/junk_processed/0/f_0016.jpg', '/Users/francescoferrari/Downloads/junk_processed/0/f_0017.jpg', '/Users/francescoferrari/Downloads/junk_processed/0/f_0018.jpg', '/Users/francescoferrari/Downloads/junk_processed/0/f_0019.jpg', '/Users/francescoferrari/Downloads/junk_processed/0/f_0020.jpg', '/Users/francescoferrari/Downloads/junk_processed/0/f_0021.jpg', '/Users/francescoferrari/Downloads/junk_processed/0/f_0022.jpg', '/Users/francescoferrari/Downloads/junk_processed/0/f_0023.jpg', '/Users/francescoferrari/Downloads/junk_processed/0/f_0024.jpg', '/Users/francescoferrari/Downloads/junk_processed/0/f_0025.jpg']\n",
      "['/Users/francescoferrari/Downloads/junk_processed/0/f_0011.jpg', '/Users/francescoferrari/Downloads/junk_processed/0/f_0012.jpg', '/Users/francescoferrari/Downloads/junk_processed/0/f_0013.jpg', '/Users/francescoferrari/Downloads/junk_processed/0/f_0014.jpg', '/Users/francescoferrari/Downloads/junk_processed/0/f_0015.jpg', '/Users/francescoferrari/Downloads/junk_processed/0/f_0016.jpg', '/Users/francescoferrari/Downloads/junk_processed/0/f_0017.jpg', '/Users/francescoferrari/Downloads/junk_processed/0/f_0018.jpg', '/Users/francescoferrari/Downloads/junk_processed/0/f_0019.jpg', '/Users/francescoferrari/Downloads/junk_processed/0/f_0020.jpg', '/Users/francescoferrari/Downloads/junk_processed/0/f_0021.jpg', '/Users/francescoferrari/Downloads/junk_processed/0/f_0022.jpg', '/Users/francescoferrari/Downloads/junk_processed/0/f_0023.jpg', '/Users/francescoferrari/Downloads/junk_processed/0/f_0024.jpg', '/Users/francescoferrari/Downloads/junk_processed/0/f_0025.jpg']\n",
      "['/Users/francescoferrari/Downloads/junk_processed/1/f_0011.jpg', '/Users/francescoferrari/Downloads/junk_processed/1/f_0012.jpg', '/Users/francescoferrari/Downloads/junk_processed/1/f_0013.jpg', '/Users/francescoferrari/Downloads/junk_processed/1/f_0014.jpg', '/Users/francescoferrari/Downloads/junk_processed/1/f_0015.jpg', '/Users/francescoferrari/Downloads/junk_processed/1/f_0016.jpg', '/Users/francescoferrari/Downloads/junk_processed/1/f_0017.jpg', '/Users/francescoferrari/Downloads/junk_processed/1/f_0018.jpg', '/Users/francescoferrari/Downloads/junk_processed/1/f_0019.jpg', '/Users/francescoferrari/Downloads/junk_processed/1/f_0020.jpg', '/Users/francescoferrari/Downloads/junk_processed/1/f_0021.jpg', '/Users/francescoferrari/Downloads/junk_processed/1/f_0022.jpg', '/Users/francescoferrari/Downloads/junk_processed/1/f_0023.jpg', '/Users/francescoferrari/Downloads/junk_processed/1/f_0024.jpg', '/Users/francescoferrari/Downloads/junk_processed/1/f_0025.jpg']\n",
      "['/Users/francescoferrari/Downloads/junk_processed/1/f_0011.jpg', '/Users/francescoferrari/Downloads/junk_processed/1/f_0012.jpg', '/Users/francescoferrari/Downloads/junk_processed/1/f_0013.jpg', '/Users/francescoferrari/Downloads/junk_processed/1/f_0014.jpg', '/Users/francescoferrari/Downloads/junk_processed/1/f_0015.jpg', '/Users/francescoferrari/Downloads/junk_processed/1/f_0016.jpg', '/Users/francescoferrari/Downloads/junk_processed/1/f_0017.jpg', '/Users/francescoferrari/Downloads/junk_processed/1/f_0018.jpg', '/Users/francescoferrari/Downloads/junk_processed/1/f_0019.jpg', '/Users/francescoferrari/Downloads/junk_processed/1/f_0020.jpg', '/Users/francescoferrari/Downloads/junk_processed/1/f_0021.jpg', '/Users/francescoferrari/Downloads/junk_processed/1/f_0022.jpg', '/Users/francescoferrari/Downloads/junk_processed/1/f_0023.jpg', '/Users/francescoferrari/Downloads/junk_processed/1/f_0024.jpg', '/Users/francescoferrari/Downloads/junk_processed/1/f_0025.jpg']\n",
      "['/Users/francescoferrari/Downloads/junk_processed/2/f_0011.jpg', '/Users/francescoferrari/Downloads/junk_processed/2/f_0012.jpg', '/Users/francescoferrari/Downloads/junk_processed/2/f_0013.jpg', '/Users/francescoferrari/Downloads/junk_processed/2/f_0014.jpg', '/Users/francescoferrari/Downloads/junk_processed/2/f_0015.jpg', '/Users/francescoferrari/Downloads/junk_processed/2/f_0016.jpg', '/Users/francescoferrari/Downloads/junk_processed/2/f_0017.jpg', '/Users/francescoferrari/Downloads/junk_processed/2/f_0018.jpg', '/Users/francescoferrari/Downloads/junk_processed/2/f_0019.jpg', '/Users/francescoferrari/Downloads/junk_processed/2/f_0020.jpg', '/Users/francescoferrari/Downloads/junk_processed/2/f_0021.jpg', '/Users/francescoferrari/Downloads/junk_processed/2/f_0022.jpg', '/Users/francescoferrari/Downloads/junk_processed/2/f_0023.jpg', '/Users/francescoferrari/Downloads/junk_processed/2/f_0024.jpg', '/Users/francescoferrari/Downloads/junk_processed/2/f_0025.jpg']\n",
      "['/Users/francescoferrari/Downloads/junk_processed/2/f_0011.jpg', '/Users/francescoferrari/Downloads/junk_processed/2/f_0012.jpg', '/Users/francescoferrari/Downloads/junk_processed/2/f_0013.jpg', '/Users/francescoferrari/Downloads/junk_processed/2/f_0014.jpg', '/Users/francescoferrari/Downloads/junk_processed/2/f_0015.jpg', '/Users/francescoferrari/Downloads/junk_processed/2/f_0016.jpg', '/Users/francescoferrari/Downloads/junk_processed/2/f_0017.jpg', '/Users/francescoferrari/Downloads/junk_processed/2/f_0018.jpg', '/Users/francescoferrari/Downloads/junk_processed/2/f_0019.jpg', '/Users/francescoferrari/Downloads/junk_processed/2/f_0020.jpg', '/Users/francescoferrari/Downloads/junk_processed/2/f_0021.jpg', '/Users/francescoferrari/Downloads/junk_processed/2/f_0022.jpg', '/Users/francescoferrari/Downloads/junk_processed/2/f_0023.jpg', '/Users/francescoferrari/Downloads/junk_processed/2/f_0024.jpg', '/Users/francescoferrari/Downloads/junk_processed/2/f_0025.jpg']\n",
      "['/Users/francescoferrari/Downloads/junk_processed/3/f_0011.jpg', '/Users/francescoferrari/Downloads/junk_processed/3/f_0012.jpg', '/Users/francescoferrari/Downloads/junk_processed/3/f_0013.jpg', '/Users/francescoferrari/Downloads/junk_processed/3/f_0014.jpg', '/Users/francescoferrari/Downloads/junk_processed/3/f_0015.jpg', '/Users/francescoferrari/Downloads/junk_processed/3/f_0016.jpg', '/Users/francescoferrari/Downloads/junk_processed/3/f_0017.jpg', '/Users/francescoferrari/Downloads/junk_processed/3/f_0018.jpg', '/Users/francescoferrari/Downloads/junk_processed/3/f_0019.jpg', '/Users/francescoferrari/Downloads/junk_processed/3/f_0020.jpg', '/Users/francescoferrari/Downloads/junk_processed/3/f_0021.jpg', '/Users/francescoferrari/Downloads/junk_processed/3/f_0022.jpg', '/Users/francescoferrari/Downloads/junk_processed/3/f_0023.jpg', '/Users/francescoferrari/Downloads/junk_processed/3/f_0024.jpg', '/Users/francescoferrari/Downloads/junk_processed/3/f_0025.jpg']\n",
      "['/Users/francescoferrari/Downloads/junk_processed/3/f_0011.jpg', '/Users/francescoferrari/Downloads/junk_processed/3/f_0012.jpg', '/Users/francescoferrari/Downloads/junk_processed/3/f_0013.jpg', '/Users/francescoferrari/Downloads/junk_processed/3/f_0014.jpg', '/Users/francescoferrari/Downloads/junk_processed/3/f_0015.jpg', '/Users/francescoferrari/Downloads/junk_processed/3/f_0016.jpg', '/Users/francescoferrari/Downloads/junk_processed/3/f_0017.jpg', '/Users/francescoferrari/Downloads/junk_processed/3/f_0018.jpg', '/Users/francescoferrari/Downloads/junk_processed/3/f_0019.jpg', '/Users/francescoferrari/Downloads/junk_processed/3/f_0020.jpg', '/Users/francescoferrari/Downloads/junk_processed/3/f_0021.jpg', '/Users/francescoferrari/Downloads/junk_processed/3/f_0022.jpg', '/Users/francescoferrari/Downloads/junk_processed/3/f_0023.jpg', '/Users/francescoferrari/Downloads/junk_processed/3/f_0024.jpg', '/Users/francescoferrari/Downloads/junk_processed/3/f_0025.jpg']\n",
      "['/Users/francescoferrari/Downloads/junk_processed/4/f_0011.jpg', '/Users/francescoferrari/Downloads/junk_processed/4/f_0012.jpg', '/Users/francescoferrari/Downloads/junk_processed/4/f_0013.jpg', '/Users/francescoferrari/Downloads/junk_processed/4/f_0014.jpg', '/Users/francescoferrari/Downloads/junk_processed/4/f_0015.jpg', '/Users/francescoferrari/Downloads/junk_processed/4/f_0016.jpg', '/Users/francescoferrari/Downloads/junk_processed/4/f_0017.jpg', '/Users/francescoferrari/Downloads/junk_processed/4/f_0018.jpg', '/Users/francescoferrari/Downloads/junk_processed/4/f_0019.jpg', '/Users/francescoferrari/Downloads/junk_processed/4/f_0020.jpg', '/Users/francescoferrari/Downloads/junk_processed/4/f_0021.jpg', '/Users/francescoferrari/Downloads/junk_processed/4/f_0022.jpg', '/Users/francescoferrari/Downloads/junk_processed/4/f_0023.jpg', '/Users/francescoferrari/Downloads/junk_processed/4/f_0024.jpg', '/Users/francescoferrari/Downloads/junk_processed/4/f_0025.jpg']\n",
      "['/Users/francescoferrari/Downloads/junk_processed/4/f_0011.jpg', '/Users/francescoferrari/Downloads/junk_processed/4/f_0012.jpg', '/Users/francescoferrari/Downloads/junk_processed/4/f_0013.jpg', '/Users/francescoferrari/Downloads/junk_processed/4/f_0014.jpg', '/Users/francescoferrari/Downloads/junk_processed/4/f_0015.jpg', '/Users/francescoferrari/Downloads/junk_processed/4/f_0016.jpg', '/Users/francescoferrari/Downloads/junk_processed/4/f_0017.jpg', '/Users/francescoferrari/Downloads/junk_processed/4/f_0018.jpg', '/Users/francescoferrari/Downloads/junk_processed/4/f_0019.jpg', '/Users/francescoferrari/Downloads/junk_processed/4/f_0020.jpg', '/Users/francescoferrari/Downloads/junk_processed/4/f_0021.jpg', '/Users/francescoferrari/Downloads/junk_processed/4/f_0022.jpg', '/Users/francescoferrari/Downloads/junk_processed/4/f_0023.jpg', '/Users/francescoferrari/Downloads/junk_processed/4/f_0024.jpg', '/Users/francescoferrari/Downloads/junk_processed/4/f_0025.jpg']\n",
      "['/Users/francescoferrari/Downloads/junk_processed/5/f_0011.jpg', '/Users/francescoferrari/Downloads/junk_processed/5/f_0012.jpg', '/Users/francescoferrari/Downloads/junk_processed/5/f_0013.jpg', '/Users/francescoferrari/Downloads/junk_processed/5/f_0014.jpg', '/Users/francescoferrari/Downloads/junk_processed/5/f_0015.jpg', '/Users/francescoferrari/Downloads/junk_processed/5/f_0016.jpg', '/Users/francescoferrari/Downloads/junk_processed/5/f_0017.jpg', '/Users/francescoferrari/Downloads/junk_processed/5/f_0018.jpg', '/Users/francescoferrari/Downloads/junk_processed/5/f_0019.jpg', '/Users/francescoferrari/Downloads/junk_processed/5/f_0020.jpg', '/Users/francescoferrari/Downloads/junk_processed/5/f_0021.jpg', '/Users/francescoferrari/Downloads/junk_processed/5/f_0022.jpg', '/Users/francescoferrari/Downloads/junk_processed/5/f_0023.jpg', '/Users/francescoferrari/Downloads/junk_processed/5/f_0024.jpg', '/Users/francescoferrari/Downloads/junk_processed/5/f_0025.jpg']\n",
      "['/Users/francescoferrari/Downloads/junk_processed/5/f_0011.jpg', '/Users/francescoferrari/Downloads/junk_processed/5/f_0012.jpg', '/Users/francescoferrari/Downloads/junk_processed/5/f_0013.jpg', '/Users/francescoferrari/Downloads/junk_processed/5/f_0014.jpg', '/Users/francescoferrari/Downloads/junk_processed/5/f_0015.jpg', '/Users/francescoferrari/Downloads/junk_processed/5/f_0016.jpg', '/Users/francescoferrari/Downloads/junk_processed/5/f_0017.jpg', '/Users/francescoferrari/Downloads/junk_processed/5/f_0018.jpg', '/Users/francescoferrari/Downloads/junk_processed/5/f_0019.jpg', '/Users/francescoferrari/Downloads/junk_processed/5/f_0020.jpg', '/Users/francescoferrari/Downloads/junk_processed/5/f_0021.jpg', '/Users/francescoferrari/Downloads/junk_processed/5/f_0022.jpg', '/Users/francescoferrari/Downloads/junk_processed/5/f_0023.jpg', '/Users/francescoferrari/Downloads/junk_processed/5/f_0024.jpg', '/Users/francescoferrari/Downloads/junk_processed/5/f_0025.jpg']\n",
      "[]\n",
      "['/Users/francescoferrari/Downloads/junk_processed/7/f_0011.jpg', '/Users/francescoferrari/Downloads/junk_processed/7/f_0012.jpg', '/Users/francescoferrari/Downloads/junk_processed/7/f_0013.jpg', '/Users/francescoferrari/Downloads/junk_processed/7/f_0014.jpg', '/Users/francescoferrari/Downloads/junk_processed/7/f_0015.jpg', '/Users/francescoferrari/Downloads/junk_processed/7/f_0016.jpg', '/Users/francescoferrari/Downloads/junk_processed/7/f_0017.jpg', '/Users/francescoferrari/Downloads/junk_processed/7/f_0018.jpg', '/Users/francescoferrari/Downloads/junk_processed/7/f_0019.jpg', '/Users/francescoferrari/Downloads/junk_processed/7/f_0020.jpg', '/Users/francescoferrari/Downloads/junk_processed/7/f_0021.jpg', '/Users/francescoferrari/Downloads/junk_processed/7/f_0022.jpg', '/Users/francescoferrari/Downloads/junk_processed/7/f_0023.jpg', '/Users/francescoferrari/Downloads/junk_processed/7/f_0024.jpg', '/Users/francescoferrari/Downloads/junk_processed/7/f_0025.jpg']\n",
      "['/Users/francescoferrari/Downloads/junk_processed/7/f_0011.jpg', '/Users/francescoferrari/Downloads/junk_processed/7/f_0012.jpg', '/Users/francescoferrari/Downloads/junk_processed/7/f_0013.jpg', '/Users/francescoferrari/Downloads/junk_processed/7/f_0014.jpg', '/Users/francescoferrari/Downloads/junk_processed/7/f_0015.jpg', '/Users/francescoferrari/Downloads/junk_processed/7/f_0016.jpg', '/Users/francescoferrari/Downloads/junk_processed/7/f_0017.jpg', '/Users/francescoferrari/Downloads/junk_processed/7/f_0018.jpg', '/Users/francescoferrari/Downloads/junk_processed/7/f_0019.jpg', '/Users/francescoferrari/Downloads/junk_processed/7/f_0020.jpg', '/Users/francescoferrari/Downloads/junk_processed/7/f_0021.jpg', '/Users/francescoferrari/Downloads/junk_processed/7/f_0022.jpg', '/Users/francescoferrari/Downloads/junk_processed/7/f_0023.jpg', '/Users/francescoferrari/Downloads/junk_processed/7/f_0024.jpg', '/Users/francescoferrari/Downloads/junk_processed/7/f_0025.jpg']\n",
      "[]\n",
      "['/Users/francescoferrari/Downloads/junk_processed/9/f_0011.jpg', '/Users/francescoferrari/Downloads/junk_processed/9/f_0012.jpg', '/Users/francescoferrari/Downloads/junk_processed/9/f_0013.jpg', '/Users/francescoferrari/Downloads/junk_processed/9/f_0014.jpg', '/Users/francescoferrari/Downloads/junk_processed/9/f_0015.jpg', '/Users/francescoferrari/Downloads/junk_processed/9/f_0016.jpg', '/Users/francescoferrari/Downloads/junk_processed/9/f_0017.jpg', '/Users/francescoferrari/Downloads/junk_processed/9/f_0018.jpg', '/Users/francescoferrari/Downloads/junk_processed/9/f_0019.jpg', '/Users/francescoferrari/Downloads/junk_processed/9/f_0020.jpg', '/Users/francescoferrari/Downloads/junk_processed/9/f_0021.jpg', '/Users/francescoferrari/Downloads/junk_processed/9/f_0022.jpg', '/Users/francescoferrari/Downloads/junk_processed/9/f_0023.jpg', '/Users/francescoferrari/Downloads/junk_processed/9/f_0024.jpg', '/Users/francescoferrari/Downloads/junk_processed/9/f_0025.jpg']\n",
      "['/Users/francescoferrari/Downloads/junk_processed/9/f_0011.jpg', '/Users/francescoferrari/Downloads/junk_processed/9/f_0012.jpg', '/Users/francescoferrari/Downloads/junk_processed/9/f_0013.jpg', '/Users/francescoferrari/Downloads/junk_processed/9/f_0014.jpg', '/Users/francescoferrari/Downloads/junk_processed/9/f_0015.jpg', '/Users/francescoferrari/Downloads/junk_processed/9/f_0016.jpg', '/Users/francescoferrari/Downloads/junk_processed/9/f_0017.jpg', '/Users/francescoferrari/Downloads/junk_processed/9/f_0018.jpg', '/Users/francescoferrari/Downloads/junk_processed/9/f_0019.jpg', '/Users/francescoferrari/Downloads/junk_processed/9/f_0020.jpg', '/Users/francescoferrari/Downloads/junk_processed/9/f_0021.jpg', '/Users/francescoferrari/Downloads/junk_processed/9/f_0022.jpg', '/Users/francescoferrari/Downloads/junk_processed/9/f_0023.jpg', '/Users/francescoferrari/Downloads/junk_processed/9/f_0024.jpg', '/Users/francescoferrari/Downloads/junk_processed/9/f_0025.jpg']\n",
      "['/Users/francescoferrari/Downloads/junk_processed/10/f_0011.jpg', '/Users/francescoferrari/Downloads/junk_processed/10/f_0012.jpg', '/Users/francescoferrari/Downloads/junk_processed/10/f_0013.jpg', '/Users/francescoferrari/Downloads/junk_processed/10/f_0014.jpg', '/Users/francescoferrari/Downloads/junk_processed/10/f_0015.jpg', '/Users/francescoferrari/Downloads/junk_processed/10/f_0016.jpg', '/Users/francescoferrari/Downloads/junk_processed/10/f_0017.jpg', '/Users/francescoferrari/Downloads/junk_processed/10/f_0018.jpg', '/Users/francescoferrari/Downloads/junk_processed/10/f_0019.jpg', '/Users/francescoferrari/Downloads/junk_processed/10/f_0020.jpg', '/Users/francescoferrari/Downloads/junk_processed/10/f_0021.jpg', '/Users/francescoferrari/Downloads/junk_processed/10/f_0022.jpg', '/Users/francescoferrari/Downloads/junk_processed/10/f_0023.jpg', '/Users/francescoferrari/Downloads/junk_processed/10/f_0024.jpg', '/Users/francescoferrari/Downloads/junk_processed/10/f_0025.jpg']\n",
      "['/Users/francescoferrari/Downloads/junk_processed/10/f_0011.jpg', '/Users/francescoferrari/Downloads/junk_processed/10/f_0012.jpg', '/Users/francescoferrari/Downloads/junk_processed/10/f_0013.jpg', '/Users/francescoferrari/Downloads/junk_processed/10/f_0014.jpg', '/Users/francescoferrari/Downloads/junk_processed/10/f_0015.jpg', '/Users/francescoferrari/Downloads/junk_processed/10/f_0016.jpg', '/Users/francescoferrari/Downloads/junk_processed/10/f_0017.jpg', '/Users/francescoferrari/Downloads/junk_processed/10/f_0018.jpg', '/Users/francescoferrari/Downloads/junk_processed/10/f_0019.jpg', '/Users/francescoferrari/Downloads/junk_processed/10/f_0020.jpg', '/Users/francescoferrari/Downloads/junk_processed/10/f_0021.jpg', '/Users/francescoferrari/Downloads/junk_processed/10/f_0022.jpg', '/Users/francescoferrari/Downloads/junk_processed/10/f_0023.jpg', '/Users/francescoferrari/Downloads/junk_processed/10/f_0024.jpg', '/Users/francescoferrari/Downloads/junk_processed/10/f_0025.jpg']\n",
      "['/Users/francescoferrari/Downloads/junk_processed/11/f_0011.jpg', '/Users/francescoferrari/Downloads/junk_processed/11/f_0012.jpg', '/Users/francescoferrari/Downloads/junk_processed/11/f_0013.jpg', '/Users/francescoferrari/Downloads/junk_processed/11/f_0014.jpg', '/Users/francescoferrari/Downloads/junk_processed/11/f_0015.jpg', '/Users/francescoferrari/Downloads/junk_processed/11/f_0016.jpg', '/Users/francescoferrari/Downloads/junk_processed/11/f_0017.jpg', '/Users/francescoferrari/Downloads/junk_processed/11/f_0018.jpg', '/Users/francescoferrari/Downloads/junk_processed/11/f_0019.jpg', '/Users/francescoferrari/Downloads/junk_processed/11/f_0020.jpg', '/Users/francescoferrari/Downloads/junk_processed/11/f_0021.jpg', '/Users/francescoferrari/Downloads/junk_processed/11/f_0022.jpg', '/Users/francescoferrari/Downloads/junk_processed/11/f_0023.jpg', '/Users/francescoferrari/Downloads/junk_processed/11/f_0024.jpg', '/Users/francescoferrari/Downloads/junk_processed/11/f_0025.jpg']\n",
      "['/Users/francescoferrari/Downloads/junk_processed/11/f_0011.jpg', '/Users/francescoferrari/Downloads/junk_processed/11/f_0012.jpg', '/Users/francescoferrari/Downloads/junk_processed/11/f_0013.jpg', '/Users/francescoferrari/Downloads/junk_processed/11/f_0014.jpg', '/Users/francescoferrari/Downloads/junk_processed/11/f_0015.jpg', '/Users/francescoferrari/Downloads/junk_processed/11/f_0016.jpg', '/Users/francescoferrari/Downloads/junk_processed/11/f_0017.jpg', '/Users/francescoferrari/Downloads/junk_processed/11/f_0018.jpg', '/Users/francescoferrari/Downloads/junk_processed/11/f_0019.jpg', '/Users/francescoferrari/Downloads/junk_processed/11/f_0020.jpg', '/Users/francescoferrari/Downloads/junk_processed/11/f_0021.jpg', '/Users/francescoferrari/Downloads/junk_processed/11/f_0022.jpg', '/Users/francescoferrari/Downloads/junk_processed/11/f_0023.jpg', '/Users/francescoferrari/Downloads/junk_processed/11/f_0024.jpg', '/Users/francescoferrari/Downloads/junk_processed/11/f_0025.jpg']\n",
      "['/Users/francescoferrari/Downloads/junk_processed/12/f_0011.jpg', '/Users/francescoferrari/Downloads/junk_processed/12/f_0012.jpg', '/Users/francescoferrari/Downloads/junk_processed/12/f_0013.jpg', '/Users/francescoferrari/Downloads/junk_processed/12/f_0014.jpg', '/Users/francescoferrari/Downloads/junk_processed/12/f_0015.jpg', '/Users/francescoferrari/Downloads/junk_processed/12/f_0016.jpg', '/Users/francescoferrari/Downloads/junk_processed/12/f_0017.jpg', '/Users/francescoferrari/Downloads/junk_processed/12/f_0018.jpg', '/Users/francescoferrari/Downloads/junk_processed/12/f_0019.jpg', '/Users/francescoferrari/Downloads/junk_processed/12/f_0020.jpg', '/Users/francescoferrari/Downloads/junk_processed/12/f_0021.jpg', '/Users/francescoferrari/Downloads/junk_processed/12/f_0022.jpg', '/Users/francescoferrari/Downloads/junk_processed/12/f_0023.jpg', '/Users/francescoferrari/Downloads/junk_processed/12/f_0024.jpg', '/Users/francescoferrari/Downloads/junk_processed/12/f_0025.jpg']\n",
      "['/Users/francescoferrari/Downloads/junk_processed/12/f_0011.jpg', '/Users/francescoferrari/Downloads/junk_processed/12/f_0012.jpg', '/Users/francescoferrari/Downloads/junk_processed/12/f_0013.jpg', '/Users/francescoferrari/Downloads/junk_processed/12/f_0014.jpg', '/Users/francescoferrari/Downloads/junk_processed/12/f_0015.jpg', '/Users/francescoferrari/Downloads/junk_processed/12/f_0016.jpg', '/Users/francescoferrari/Downloads/junk_processed/12/f_0017.jpg', '/Users/francescoferrari/Downloads/junk_processed/12/f_0018.jpg', '/Users/francescoferrari/Downloads/junk_processed/12/f_0019.jpg', '/Users/francescoferrari/Downloads/junk_processed/12/f_0020.jpg', '/Users/francescoferrari/Downloads/junk_processed/12/f_0021.jpg', '/Users/francescoferrari/Downloads/junk_processed/12/f_0022.jpg', '/Users/francescoferrari/Downloads/junk_processed/12/f_0023.jpg', '/Users/francescoferrari/Downloads/junk_processed/12/f_0024.jpg', '/Users/francescoferrari/Downloads/junk_processed/12/f_0025.jpg']\n",
      "[]\n",
      "['/Users/francescoferrari/Downloads/junk_processed/14/f_0011.jpg', '/Users/francescoferrari/Downloads/junk_processed/14/f_0012.jpg', '/Users/francescoferrari/Downloads/junk_processed/14/f_0013.jpg', '/Users/francescoferrari/Downloads/junk_processed/14/f_0014.jpg', '/Users/francescoferrari/Downloads/junk_processed/14/f_0015.jpg', '/Users/francescoferrari/Downloads/junk_processed/14/f_0016.jpg', '/Users/francescoferrari/Downloads/junk_processed/14/f_0017.jpg', '/Users/francescoferrari/Downloads/junk_processed/14/f_0018.jpg', '/Users/francescoferrari/Downloads/junk_processed/14/f_0019.jpg', '/Users/francescoferrari/Downloads/junk_processed/14/f_0020.jpg', '/Users/francescoferrari/Downloads/junk_processed/14/f_0021.jpg', '/Users/francescoferrari/Downloads/junk_processed/14/f_0022.jpg', '/Users/francescoferrari/Downloads/junk_processed/14/f_0023.jpg', '/Users/francescoferrari/Downloads/junk_processed/14/f_0024.jpg', '/Users/francescoferrari/Downloads/junk_processed/14/f_0025.jpg']\n",
      "['/Users/francescoferrari/Downloads/junk_processed/14/f_0011.jpg', '/Users/francescoferrari/Downloads/junk_processed/14/f_0012.jpg', '/Users/francescoferrari/Downloads/junk_processed/14/f_0013.jpg', '/Users/francescoferrari/Downloads/junk_processed/14/f_0014.jpg', '/Users/francescoferrari/Downloads/junk_processed/14/f_0015.jpg', '/Users/francescoferrari/Downloads/junk_processed/14/f_0016.jpg', '/Users/francescoferrari/Downloads/junk_processed/14/f_0017.jpg', '/Users/francescoferrari/Downloads/junk_processed/14/f_0018.jpg', '/Users/francescoferrari/Downloads/junk_processed/14/f_0019.jpg', '/Users/francescoferrari/Downloads/junk_processed/14/f_0020.jpg', '/Users/francescoferrari/Downloads/junk_processed/14/f_0021.jpg', '/Users/francescoferrari/Downloads/junk_processed/14/f_0022.jpg', '/Users/francescoferrari/Downloads/junk_processed/14/f_0023.jpg', '/Users/francescoferrari/Downloads/junk_processed/14/f_0024.jpg', '/Users/francescoferrari/Downloads/junk_processed/14/f_0025.jpg']\n",
      "['/Users/francescoferrari/Downloads/junk_processed/15/f_0011.jpg', '/Users/francescoferrari/Downloads/junk_processed/15/f_0012.jpg', '/Users/francescoferrari/Downloads/junk_processed/15/f_0013.jpg', '/Users/francescoferrari/Downloads/junk_processed/15/f_0014.jpg', '/Users/francescoferrari/Downloads/junk_processed/15/f_0015.jpg', '/Users/francescoferrari/Downloads/junk_processed/15/f_0016.jpg', '/Users/francescoferrari/Downloads/junk_processed/15/f_0017.jpg', '/Users/francescoferrari/Downloads/junk_processed/15/f_0018.jpg', '/Users/francescoferrari/Downloads/junk_processed/15/f_0019.jpg', '/Users/francescoferrari/Downloads/junk_processed/15/f_0020.jpg', '/Users/francescoferrari/Downloads/junk_processed/15/f_0021.jpg', '/Users/francescoferrari/Downloads/junk_processed/15/f_0022.jpg', '/Users/francescoferrari/Downloads/junk_processed/15/f_0023.jpg', '/Users/francescoferrari/Downloads/junk_processed/15/f_0024.jpg', '/Users/francescoferrari/Downloads/junk_processed/15/f_0025.jpg']\n",
      "['/Users/francescoferrari/Downloads/junk_processed/15/f_0011.jpg', '/Users/francescoferrari/Downloads/junk_processed/15/f_0012.jpg', '/Users/francescoferrari/Downloads/junk_processed/15/f_0013.jpg', '/Users/francescoferrari/Downloads/junk_processed/15/f_0014.jpg', '/Users/francescoferrari/Downloads/junk_processed/15/f_0015.jpg', '/Users/francescoferrari/Downloads/junk_processed/15/f_0016.jpg', '/Users/francescoferrari/Downloads/junk_processed/15/f_0017.jpg', '/Users/francescoferrari/Downloads/junk_processed/15/f_0018.jpg', '/Users/francescoferrari/Downloads/junk_processed/15/f_0019.jpg', '/Users/francescoferrari/Downloads/junk_processed/15/f_0020.jpg', '/Users/francescoferrari/Downloads/junk_processed/15/f_0021.jpg', '/Users/francescoferrari/Downloads/junk_processed/15/f_0022.jpg', '/Users/francescoferrari/Downloads/junk_processed/15/f_0023.jpg', '/Users/francescoferrari/Downloads/junk_processed/15/f_0024.jpg', '/Users/francescoferrari/Downloads/junk_processed/15/f_0025.jpg']\n",
      "['/Users/francescoferrari/Downloads/junk_processed/16/f_0011.jpg', '/Users/francescoferrari/Downloads/junk_processed/16/f_0012.jpg', '/Users/francescoferrari/Downloads/junk_processed/16/f_0013.jpg', '/Users/francescoferrari/Downloads/junk_processed/16/f_0014.jpg', '/Users/francescoferrari/Downloads/junk_processed/16/f_0015.jpg', '/Users/francescoferrari/Downloads/junk_processed/16/f_0016.jpg', '/Users/francescoferrari/Downloads/junk_processed/16/f_0017.jpg', '/Users/francescoferrari/Downloads/junk_processed/16/f_0018.jpg', '/Users/francescoferrari/Downloads/junk_processed/16/f_0019.jpg', '/Users/francescoferrari/Downloads/junk_processed/16/f_0020.jpg', '/Users/francescoferrari/Downloads/junk_processed/16/f_0021.jpg', '/Users/francescoferrari/Downloads/junk_processed/16/f_0022.jpg', '/Users/francescoferrari/Downloads/junk_processed/16/f_0023.jpg', '/Users/francescoferrari/Downloads/junk_processed/16/f_0024.jpg', '/Users/francescoferrari/Downloads/junk_processed/16/f_0025.jpg']\n",
      "['/Users/francescoferrari/Downloads/junk_processed/16/f_0011.jpg', '/Users/francescoferrari/Downloads/junk_processed/16/f_0012.jpg', '/Users/francescoferrari/Downloads/junk_processed/16/f_0013.jpg', '/Users/francescoferrari/Downloads/junk_processed/16/f_0014.jpg', '/Users/francescoferrari/Downloads/junk_processed/16/f_0015.jpg', '/Users/francescoferrari/Downloads/junk_processed/16/f_0016.jpg', '/Users/francescoferrari/Downloads/junk_processed/16/f_0017.jpg', '/Users/francescoferrari/Downloads/junk_processed/16/f_0018.jpg', '/Users/francescoferrari/Downloads/junk_processed/16/f_0019.jpg', '/Users/francescoferrari/Downloads/junk_processed/16/f_0020.jpg', '/Users/francescoferrari/Downloads/junk_processed/16/f_0021.jpg', '/Users/francescoferrari/Downloads/junk_processed/16/f_0022.jpg', '/Users/francescoferrari/Downloads/junk_processed/16/f_0023.jpg', '/Users/francescoferrari/Downloads/junk_processed/16/f_0024.jpg', '/Users/francescoferrari/Downloads/junk_processed/16/f_0025.jpg']\n",
      "['/Users/francescoferrari/Downloads/junk_processed/17/f_0011.jpg', '/Users/francescoferrari/Downloads/junk_processed/17/f_0012.jpg', '/Users/francescoferrari/Downloads/junk_processed/17/f_0013.jpg', '/Users/francescoferrari/Downloads/junk_processed/17/f_0014.jpg', '/Users/francescoferrari/Downloads/junk_processed/17/f_0015.jpg', '/Users/francescoferrari/Downloads/junk_processed/17/f_0016.jpg', '/Users/francescoferrari/Downloads/junk_processed/17/f_0017.jpg', '/Users/francescoferrari/Downloads/junk_processed/17/f_0018.jpg', '/Users/francescoferrari/Downloads/junk_processed/17/f_0019.jpg', '/Users/francescoferrari/Downloads/junk_processed/17/f_0020.jpg', '/Users/francescoferrari/Downloads/junk_processed/17/f_0021.jpg', '/Users/francescoferrari/Downloads/junk_processed/17/f_0022.jpg', '/Users/francescoferrari/Downloads/junk_processed/17/f_0023.jpg', '/Users/francescoferrari/Downloads/junk_processed/17/f_0024.jpg', '/Users/francescoferrari/Downloads/junk_processed/17/f_0025.jpg']\n",
      "['/Users/francescoferrari/Downloads/junk_processed/17/f_0011.jpg', '/Users/francescoferrari/Downloads/junk_processed/17/f_0012.jpg', '/Users/francescoferrari/Downloads/junk_processed/17/f_0013.jpg', '/Users/francescoferrari/Downloads/junk_processed/17/f_0014.jpg', '/Users/francescoferrari/Downloads/junk_processed/17/f_0015.jpg', '/Users/francescoferrari/Downloads/junk_processed/17/f_0016.jpg', '/Users/francescoferrari/Downloads/junk_processed/17/f_0017.jpg', '/Users/francescoferrari/Downloads/junk_processed/17/f_0018.jpg', '/Users/francescoferrari/Downloads/junk_processed/17/f_0019.jpg', '/Users/francescoferrari/Downloads/junk_processed/17/f_0020.jpg', '/Users/francescoferrari/Downloads/junk_processed/17/f_0021.jpg', '/Users/francescoferrari/Downloads/junk_processed/17/f_0022.jpg', '/Users/francescoferrari/Downloads/junk_processed/17/f_0023.jpg', '/Users/francescoferrari/Downloads/junk_processed/17/f_0024.jpg', '/Users/francescoferrari/Downloads/junk_processed/17/f_0025.jpg']\n",
      "['/Users/francescoferrari/Downloads/junk_processed/0/f_0011.jpg', '/Users/francescoferrari/Downloads/junk_processed/0/f_0012.jpg', '/Users/francescoferrari/Downloads/junk_processed/0/f_0013.jpg', '/Users/francescoferrari/Downloads/junk_processed/0/f_0014.jpg', '/Users/francescoferrari/Downloads/junk_processed/0/f_0015.jpg', '/Users/francescoferrari/Downloads/junk_processed/0/f_0016.jpg', '/Users/francescoferrari/Downloads/junk_processed/0/f_0017.jpg', '/Users/francescoferrari/Downloads/junk_processed/0/f_0018.jpg', '/Users/francescoferrari/Downloads/junk_processed/0/f_0019.jpg', '/Users/francescoferrari/Downloads/junk_processed/0/f_0020.jpg', '/Users/francescoferrari/Downloads/junk_processed/0/f_0021.jpg', '/Users/francescoferrari/Downloads/junk_processed/0/f_0022.jpg', '/Users/francescoferrari/Downloads/junk_processed/0/f_0023.jpg', '/Users/francescoferrari/Downloads/junk_processed/0/f_0024.jpg', '/Users/francescoferrari/Downloads/junk_processed/0/f_0025.jpg']\n",
      "['/Users/francescoferrari/Downloads/junk_processed/0/f_0011.jpg', '/Users/francescoferrari/Downloads/junk_processed/0/f_0012.jpg', '/Users/francescoferrari/Downloads/junk_processed/0/f_0013.jpg', '/Users/francescoferrari/Downloads/junk_processed/0/f_0014.jpg', '/Users/francescoferrari/Downloads/junk_processed/0/f_0015.jpg', '/Users/francescoferrari/Downloads/junk_processed/0/f_0016.jpg', '/Users/francescoferrari/Downloads/junk_processed/0/f_0017.jpg', '/Users/francescoferrari/Downloads/junk_processed/0/f_0018.jpg', '/Users/francescoferrari/Downloads/junk_processed/0/f_0019.jpg', '/Users/francescoferrari/Downloads/junk_processed/0/f_0020.jpg', '/Users/francescoferrari/Downloads/junk_processed/0/f_0021.jpg', '/Users/francescoferrari/Downloads/junk_processed/0/f_0022.jpg', '/Users/francescoferrari/Downloads/junk_processed/0/f_0023.jpg', '/Users/francescoferrari/Downloads/junk_processed/0/f_0024.jpg', '/Users/francescoferrari/Downloads/junk_processed/0/f_0025.jpg']\n",
      "['/Users/francescoferrari/Downloads/junk_processed/1/f_0011.jpg', '/Users/francescoferrari/Downloads/junk_processed/1/f_0012.jpg', '/Users/francescoferrari/Downloads/junk_processed/1/f_0013.jpg', '/Users/francescoferrari/Downloads/junk_processed/1/f_0014.jpg', '/Users/francescoferrari/Downloads/junk_processed/1/f_0015.jpg', '/Users/francescoferrari/Downloads/junk_processed/1/f_0016.jpg', '/Users/francescoferrari/Downloads/junk_processed/1/f_0017.jpg', '/Users/francescoferrari/Downloads/junk_processed/1/f_0018.jpg', '/Users/francescoferrari/Downloads/junk_processed/1/f_0019.jpg', '/Users/francescoferrari/Downloads/junk_processed/1/f_0020.jpg', '/Users/francescoferrari/Downloads/junk_processed/1/f_0021.jpg', '/Users/francescoferrari/Downloads/junk_processed/1/f_0022.jpg', '/Users/francescoferrari/Downloads/junk_processed/1/f_0023.jpg', '/Users/francescoferrari/Downloads/junk_processed/1/f_0024.jpg', '/Users/francescoferrari/Downloads/junk_processed/1/f_0025.jpg']\n",
      "['/Users/francescoferrari/Downloads/junk_processed/1/f_0011.jpg', '/Users/francescoferrari/Downloads/junk_processed/1/f_0012.jpg', '/Users/francescoferrari/Downloads/junk_processed/1/f_0013.jpg', '/Users/francescoferrari/Downloads/junk_processed/1/f_0014.jpg', '/Users/francescoferrari/Downloads/junk_processed/1/f_0015.jpg', '/Users/francescoferrari/Downloads/junk_processed/1/f_0016.jpg', '/Users/francescoferrari/Downloads/junk_processed/1/f_0017.jpg', '/Users/francescoferrari/Downloads/junk_processed/1/f_0018.jpg', '/Users/francescoferrari/Downloads/junk_processed/1/f_0019.jpg', '/Users/francescoferrari/Downloads/junk_processed/1/f_0020.jpg', '/Users/francescoferrari/Downloads/junk_processed/1/f_0021.jpg', '/Users/francescoferrari/Downloads/junk_processed/1/f_0022.jpg', '/Users/francescoferrari/Downloads/junk_processed/1/f_0023.jpg', '/Users/francescoferrari/Downloads/junk_processed/1/f_0024.jpg', '/Users/francescoferrari/Downloads/junk_processed/1/f_0025.jpg']\n",
      "['/Users/francescoferrari/Downloads/junk_processed/2/f_0011.jpg', '/Users/francescoferrari/Downloads/junk_processed/2/f_0012.jpg', '/Users/francescoferrari/Downloads/junk_processed/2/f_0013.jpg', '/Users/francescoferrari/Downloads/junk_processed/2/f_0014.jpg', '/Users/francescoferrari/Downloads/junk_processed/2/f_0015.jpg', '/Users/francescoferrari/Downloads/junk_processed/2/f_0016.jpg', '/Users/francescoferrari/Downloads/junk_processed/2/f_0017.jpg', '/Users/francescoferrari/Downloads/junk_processed/2/f_0018.jpg', '/Users/francescoferrari/Downloads/junk_processed/2/f_0019.jpg', '/Users/francescoferrari/Downloads/junk_processed/2/f_0020.jpg', '/Users/francescoferrari/Downloads/junk_processed/2/f_0021.jpg', '/Users/francescoferrari/Downloads/junk_processed/2/f_0022.jpg', '/Users/francescoferrari/Downloads/junk_processed/2/f_0023.jpg', '/Users/francescoferrari/Downloads/junk_processed/2/f_0024.jpg', '/Users/francescoferrari/Downloads/junk_processed/2/f_0025.jpg']\n",
      "['/Users/francescoferrari/Downloads/junk_processed/2/f_0011.jpg', '/Users/francescoferrari/Downloads/junk_processed/2/f_0012.jpg', '/Users/francescoferrari/Downloads/junk_processed/2/f_0013.jpg', '/Users/francescoferrari/Downloads/junk_processed/2/f_0014.jpg', '/Users/francescoferrari/Downloads/junk_processed/2/f_0015.jpg', '/Users/francescoferrari/Downloads/junk_processed/2/f_0016.jpg', '/Users/francescoferrari/Downloads/junk_processed/2/f_0017.jpg', '/Users/francescoferrari/Downloads/junk_processed/2/f_0018.jpg', '/Users/francescoferrari/Downloads/junk_processed/2/f_0019.jpg', '/Users/francescoferrari/Downloads/junk_processed/2/f_0020.jpg', '/Users/francescoferrari/Downloads/junk_processed/2/f_0021.jpg', '/Users/francescoferrari/Downloads/junk_processed/2/f_0022.jpg', '/Users/francescoferrari/Downloads/junk_processed/2/f_0023.jpg', '/Users/francescoferrari/Downloads/junk_processed/2/f_0024.jpg', '/Users/francescoferrari/Downloads/junk_processed/2/f_0025.jpg']\n",
      "['/Users/francescoferrari/Downloads/junk_processed/3/f_0011.jpg', '/Users/francescoferrari/Downloads/junk_processed/3/f_0012.jpg', '/Users/francescoferrari/Downloads/junk_processed/3/f_0013.jpg', '/Users/francescoferrari/Downloads/junk_processed/3/f_0014.jpg', '/Users/francescoferrari/Downloads/junk_processed/3/f_0015.jpg', '/Users/francescoferrari/Downloads/junk_processed/3/f_0016.jpg', '/Users/francescoferrari/Downloads/junk_processed/3/f_0017.jpg', '/Users/francescoferrari/Downloads/junk_processed/3/f_0018.jpg', '/Users/francescoferrari/Downloads/junk_processed/3/f_0019.jpg', '/Users/francescoferrari/Downloads/junk_processed/3/f_0020.jpg', '/Users/francescoferrari/Downloads/junk_processed/3/f_0021.jpg', '/Users/francescoferrari/Downloads/junk_processed/3/f_0022.jpg', '/Users/francescoferrari/Downloads/junk_processed/3/f_0023.jpg', '/Users/francescoferrari/Downloads/junk_processed/3/f_0024.jpg', '/Users/francescoferrari/Downloads/junk_processed/3/f_0025.jpg']\n",
      "['/Users/francescoferrari/Downloads/junk_processed/3/f_0011.jpg', '/Users/francescoferrari/Downloads/junk_processed/3/f_0012.jpg', '/Users/francescoferrari/Downloads/junk_processed/3/f_0013.jpg', '/Users/francescoferrari/Downloads/junk_processed/3/f_0014.jpg', '/Users/francescoferrari/Downloads/junk_processed/3/f_0015.jpg', '/Users/francescoferrari/Downloads/junk_processed/3/f_0016.jpg', '/Users/francescoferrari/Downloads/junk_processed/3/f_0017.jpg', '/Users/francescoferrari/Downloads/junk_processed/3/f_0018.jpg', '/Users/francescoferrari/Downloads/junk_processed/3/f_0019.jpg', '/Users/francescoferrari/Downloads/junk_processed/3/f_0020.jpg', '/Users/francescoferrari/Downloads/junk_processed/3/f_0021.jpg', '/Users/francescoferrari/Downloads/junk_processed/3/f_0022.jpg', '/Users/francescoferrari/Downloads/junk_processed/3/f_0023.jpg', '/Users/francescoferrari/Downloads/junk_processed/3/f_0024.jpg', '/Users/francescoferrari/Downloads/junk_processed/3/f_0025.jpg']\n",
      "['/Users/francescoferrari/Downloads/junk_processed/4/f_0011.jpg', '/Users/francescoferrari/Downloads/junk_processed/4/f_0012.jpg', '/Users/francescoferrari/Downloads/junk_processed/4/f_0013.jpg', '/Users/francescoferrari/Downloads/junk_processed/4/f_0014.jpg', '/Users/francescoferrari/Downloads/junk_processed/4/f_0015.jpg', '/Users/francescoferrari/Downloads/junk_processed/4/f_0016.jpg', '/Users/francescoferrari/Downloads/junk_processed/4/f_0017.jpg', '/Users/francescoferrari/Downloads/junk_processed/4/f_0018.jpg', '/Users/francescoferrari/Downloads/junk_processed/4/f_0019.jpg', '/Users/francescoferrari/Downloads/junk_processed/4/f_0020.jpg', '/Users/francescoferrari/Downloads/junk_processed/4/f_0021.jpg', '/Users/francescoferrari/Downloads/junk_processed/4/f_0022.jpg', '/Users/francescoferrari/Downloads/junk_processed/4/f_0023.jpg', '/Users/francescoferrari/Downloads/junk_processed/4/f_0024.jpg', '/Users/francescoferrari/Downloads/junk_processed/4/f_0025.jpg']\n",
      "['/Users/francescoferrari/Downloads/junk_processed/4/f_0011.jpg', '/Users/francescoferrari/Downloads/junk_processed/4/f_0012.jpg', '/Users/francescoferrari/Downloads/junk_processed/4/f_0013.jpg', '/Users/francescoferrari/Downloads/junk_processed/4/f_0014.jpg', '/Users/francescoferrari/Downloads/junk_processed/4/f_0015.jpg', '/Users/francescoferrari/Downloads/junk_processed/4/f_0016.jpg', '/Users/francescoferrari/Downloads/junk_processed/4/f_0017.jpg', '/Users/francescoferrari/Downloads/junk_processed/4/f_0018.jpg', '/Users/francescoferrari/Downloads/junk_processed/4/f_0019.jpg', '/Users/francescoferrari/Downloads/junk_processed/4/f_0020.jpg', '/Users/francescoferrari/Downloads/junk_processed/4/f_0021.jpg', '/Users/francescoferrari/Downloads/junk_processed/4/f_0022.jpg', '/Users/francescoferrari/Downloads/junk_processed/4/f_0023.jpg', '/Users/francescoferrari/Downloads/junk_processed/4/f_0024.jpg', '/Users/francescoferrari/Downloads/junk_processed/4/f_0025.jpg']\n",
      "['/Users/francescoferrari/Downloads/junk_processed/5/f_0011.jpg', '/Users/francescoferrari/Downloads/junk_processed/5/f_0012.jpg', '/Users/francescoferrari/Downloads/junk_processed/5/f_0013.jpg', '/Users/francescoferrari/Downloads/junk_processed/5/f_0014.jpg', '/Users/francescoferrari/Downloads/junk_processed/5/f_0015.jpg', '/Users/francescoferrari/Downloads/junk_processed/5/f_0016.jpg', '/Users/francescoferrari/Downloads/junk_processed/5/f_0017.jpg', '/Users/francescoferrari/Downloads/junk_processed/5/f_0018.jpg', '/Users/francescoferrari/Downloads/junk_processed/5/f_0019.jpg', '/Users/francescoferrari/Downloads/junk_processed/5/f_0020.jpg', '/Users/francescoferrari/Downloads/junk_processed/5/f_0021.jpg', '/Users/francescoferrari/Downloads/junk_processed/5/f_0022.jpg', '/Users/francescoferrari/Downloads/junk_processed/5/f_0023.jpg', '/Users/francescoferrari/Downloads/junk_processed/5/f_0024.jpg', '/Users/francescoferrari/Downloads/junk_processed/5/f_0025.jpg']\n",
      "['/Users/francescoferrari/Downloads/junk_processed/5/f_0011.jpg', '/Users/francescoferrari/Downloads/junk_processed/5/f_0012.jpg', '/Users/francescoferrari/Downloads/junk_processed/5/f_0013.jpg', '/Users/francescoferrari/Downloads/junk_processed/5/f_0014.jpg', '/Users/francescoferrari/Downloads/junk_processed/5/f_0015.jpg', '/Users/francescoferrari/Downloads/junk_processed/5/f_0016.jpg', '/Users/francescoferrari/Downloads/junk_processed/5/f_0017.jpg', '/Users/francescoferrari/Downloads/junk_processed/5/f_0018.jpg', '/Users/francescoferrari/Downloads/junk_processed/5/f_0019.jpg', '/Users/francescoferrari/Downloads/junk_processed/5/f_0020.jpg', '/Users/francescoferrari/Downloads/junk_processed/5/f_0021.jpg', '/Users/francescoferrari/Downloads/junk_processed/5/f_0022.jpg', '/Users/francescoferrari/Downloads/junk_processed/5/f_0023.jpg', '/Users/francescoferrari/Downloads/junk_processed/5/f_0024.jpg', '/Users/francescoferrari/Downloads/junk_processed/5/f_0025.jpg']\n",
      "[]\n",
      "['/Users/francescoferrari/Downloads/junk_processed/7/f_0011.jpg', '/Users/francescoferrari/Downloads/junk_processed/7/f_0012.jpg', '/Users/francescoferrari/Downloads/junk_processed/7/f_0013.jpg', '/Users/francescoferrari/Downloads/junk_processed/7/f_0014.jpg', '/Users/francescoferrari/Downloads/junk_processed/7/f_0015.jpg', '/Users/francescoferrari/Downloads/junk_processed/7/f_0016.jpg', '/Users/francescoferrari/Downloads/junk_processed/7/f_0017.jpg', '/Users/francescoferrari/Downloads/junk_processed/7/f_0018.jpg', '/Users/francescoferrari/Downloads/junk_processed/7/f_0019.jpg', '/Users/francescoferrari/Downloads/junk_processed/7/f_0020.jpg', '/Users/francescoferrari/Downloads/junk_processed/7/f_0021.jpg', '/Users/francescoferrari/Downloads/junk_processed/7/f_0022.jpg', '/Users/francescoferrari/Downloads/junk_processed/7/f_0023.jpg', '/Users/francescoferrari/Downloads/junk_processed/7/f_0024.jpg', '/Users/francescoferrari/Downloads/junk_processed/7/f_0025.jpg']\n",
      "['/Users/francescoferrari/Downloads/junk_processed/7/f_0011.jpg', '/Users/francescoferrari/Downloads/junk_processed/7/f_0012.jpg', '/Users/francescoferrari/Downloads/junk_processed/7/f_0013.jpg', '/Users/francescoferrari/Downloads/junk_processed/7/f_0014.jpg', '/Users/francescoferrari/Downloads/junk_processed/7/f_0015.jpg', '/Users/francescoferrari/Downloads/junk_processed/7/f_0016.jpg', '/Users/francescoferrari/Downloads/junk_processed/7/f_0017.jpg', '/Users/francescoferrari/Downloads/junk_processed/7/f_0018.jpg', '/Users/francescoferrari/Downloads/junk_processed/7/f_0019.jpg', '/Users/francescoferrari/Downloads/junk_processed/7/f_0020.jpg', '/Users/francescoferrari/Downloads/junk_processed/7/f_0021.jpg', '/Users/francescoferrari/Downloads/junk_processed/7/f_0022.jpg', '/Users/francescoferrari/Downloads/junk_processed/7/f_0023.jpg', '/Users/francescoferrari/Downloads/junk_processed/7/f_0024.jpg', '/Users/francescoferrari/Downloads/junk_processed/7/f_0025.jpg']\n",
      "[]\n",
      "['/Users/francescoferrari/Downloads/junk_processed/9/f_0011.jpg', '/Users/francescoferrari/Downloads/junk_processed/9/f_0012.jpg', '/Users/francescoferrari/Downloads/junk_processed/9/f_0013.jpg', '/Users/francescoferrari/Downloads/junk_processed/9/f_0014.jpg', '/Users/francescoferrari/Downloads/junk_processed/9/f_0015.jpg', '/Users/francescoferrari/Downloads/junk_processed/9/f_0016.jpg', '/Users/francescoferrari/Downloads/junk_processed/9/f_0017.jpg', '/Users/francescoferrari/Downloads/junk_processed/9/f_0018.jpg', '/Users/francescoferrari/Downloads/junk_processed/9/f_0019.jpg', '/Users/francescoferrari/Downloads/junk_processed/9/f_0020.jpg', '/Users/francescoferrari/Downloads/junk_processed/9/f_0021.jpg', '/Users/francescoferrari/Downloads/junk_processed/9/f_0022.jpg', '/Users/francescoferrari/Downloads/junk_processed/9/f_0023.jpg', '/Users/francescoferrari/Downloads/junk_processed/9/f_0024.jpg', '/Users/francescoferrari/Downloads/junk_processed/9/f_0025.jpg']\n",
      "['/Users/francescoferrari/Downloads/junk_processed/9/f_0011.jpg', '/Users/francescoferrari/Downloads/junk_processed/9/f_0012.jpg', '/Users/francescoferrari/Downloads/junk_processed/9/f_0013.jpg', '/Users/francescoferrari/Downloads/junk_processed/9/f_0014.jpg', '/Users/francescoferrari/Downloads/junk_processed/9/f_0015.jpg', '/Users/francescoferrari/Downloads/junk_processed/9/f_0016.jpg', '/Users/francescoferrari/Downloads/junk_processed/9/f_0017.jpg', '/Users/francescoferrari/Downloads/junk_processed/9/f_0018.jpg', '/Users/francescoferrari/Downloads/junk_processed/9/f_0019.jpg', '/Users/francescoferrari/Downloads/junk_processed/9/f_0020.jpg', '/Users/francescoferrari/Downloads/junk_processed/9/f_0021.jpg', '/Users/francescoferrari/Downloads/junk_processed/9/f_0022.jpg', '/Users/francescoferrari/Downloads/junk_processed/9/f_0023.jpg', '/Users/francescoferrari/Downloads/junk_processed/9/f_0024.jpg', '/Users/francescoferrari/Downloads/junk_processed/9/f_0025.jpg']\n",
      "['/Users/francescoferrari/Downloads/junk_processed/10/f_0011.jpg', '/Users/francescoferrari/Downloads/junk_processed/10/f_0012.jpg', '/Users/francescoferrari/Downloads/junk_processed/10/f_0013.jpg', '/Users/francescoferrari/Downloads/junk_processed/10/f_0014.jpg', '/Users/francescoferrari/Downloads/junk_processed/10/f_0015.jpg', '/Users/francescoferrari/Downloads/junk_processed/10/f_0016.jpg', '/Users/francescoferrari/Downloads/junk_processed/10/f_0017.jpg', '/Users/francescoferrari/Downloads/junk_processed/10/f_0018.jpg', '/Users/francescoferrari/Downloads/junk_processed/10/f_0019.jpg', '/Users/francescoferrari/Downloads/junk_processed/10/f_0020.jpg', '/Users/francescoferrari/Downloads/junk_processed/10/f_0021.jpg', '/Users/francescoferrari/Downloads/junk_processed/10/f_0022.jpg', '/Users/francescoferrari/Downloads/junk_processed/10/f_0023.jpg', '/Users/francescoferrari/Downloads/junk_processed/10/f_0024.jpg', '/Users/francescoferrari/Downloads/junk_processed/10/f_0025.jpg']\n",
      "['/Users/francescoferrari/Downloads/junk_processed/10/f_0011.jpg', '/Users/francescoferrari/Downloads/junk_processed/10/f_0012.jpg', '/Users/francescoferrari/Downloads/junk_processed/10/f_0013.jpg', '/Users/francescoferrari/Downloads/junk_processed/10/f_0014.jpg', '/Users/francescoferrari/Downloads/junk_processed/10/f_0015.jpg', '/Users/francescoferrari/Downloads/junk_processed/10/f_0016.jpg', '/Users/francescoferrari/Downloads/junk_processed/10/f_0017.jpg', '/Users/francescoferrari/Downloads/junk_processed/10/f_0018.jpg', '/Users/francescoferrari/Downloads/junk_processed/10/f_0019.jpg', '/Users/francescoferrari/Downloads/junk_processed/10/f_0020.jpg', '/Users/francescoferrari/Downloads/junk_processed/10/f_0021.jpg', '/Users/francescoferrari/Downloads/junk_processed/10/f_0022.jpg', '/Users/francescoferrari/Downloads/junk_processed/10/f_0023.jpg', '/Users/francescoferrari/Downloads/junk_processed/10/f_0024.jpg', '/Users/francescoferrari/Downloads/junk_processed/10/f_0025.jpg']\n",
      "['/Users/francescoferrari/Downloads/junk_processed/11/f_0011.jpg', '/Users/francescoferrari/Downloads/junk_processed/11/f_0012.jpg', '/Users/francescoferrari/Downloads/junk_processed/11/f_0013.jpg', '/Users/francescoferrari/Downloads/junk_processed/11/f_0014.jpg', '/Users/francescoferrari/Downloads/junk_processed/11/f_0015.jpg', '/Users/francescoferrari/Downloads/junk_processed/11/f_0016.jpg', '/Users/francescoferrari/Downloads/junk_processed/11/f_0017.jpg', '/Users/francescoferrari/Downloads/junk_processed/11/f_0018.jpg', '/Users/francescoferrari/Downloads/junk_processed/11/f_0019.jpg', '/Users/francescoferrari/Downloads/junk_processed/11/f_0020.jpg', '/Users/francescoferrari/Downloads/junk_processed/11/f_0021.jpg', '/Users/francescoferrari/Downloads/junk_processed/11/f_0022.jpg', '/Users/francescoferrari/Downloads/junk_processed/11/f_0023.jpg', '/Users/francescoferrari/Downloads/junk_processed/11/f_0024.jpg', '/Users/francescoferrari/Downloads/junk_processed/11/f_0025.jpg']\n",
      "['/Users/francescoferrari/Downloads/junk_processed/11/f_0011.jpg', '/Users/francescoferrari/Downloads/junk_processed/11/f_0012.jpg', '/Users/francescoferrari/Downloads/junk_processed/11/f_0013.jpg', '/Users/francescoferrari/Downloads/junk_processed/11/f_0014.jpg', '/Users/francescoferrari/Downloads/junk_processed/11/f_0015.jpg', '/Users/francescoferrari/Downloads/junk_processed/11/f_0016.jpg', '/Users/francescoferrari/Downloads/junk_processed/11/f_0017.jpg', '/Users/francescoferrari/Downloads/junk_processed/11/f_0018.jpg', '/Users/francescoferrari/Downloads/junk_processed/11/f_0019.jpg', '/Users/francescoferrari/Downloads/junk_processed/11/f_0020.jpg', '/Users/francescoferrari/Downloads/junk_processed/11/f_0021.jpg', '/Users/francescoferrari/Downloads/junk_processed/11/f_0022.jpg', '/Users/francescoferrari/Downloads/junk_processed/11/f_0023.jpg', '/Users/francescoferrari/Downloads/junk_processed/11/f_0024.jpg', '/Users/francescoferrari/Downloads/junk_processed/11/f_0025.jpg']\n",
      "['/Users/francescoferrari/Downloads/junk_processed/12/f_0011.jpg', '/Users/francescoferrari/Downloads/junk_processed/12/f_0012.jpg', '/Users/francescoferrari/Downloads/junk_processed/12/f_0013.jpg', '/Users/francescoferrari/Downloads/junk_processed/12/f_0014.jpg', '/Users/francescoferrari/Downloads/junk_processed/12/f_0015.jpg', '/Users/francescoferrari/Downloads/junk_processed/12/f_0016.jpg', '/Users/francescoferrari/Downloads/junk_processed/12/f_0017.jpg', '/Users/francescoferrari/Downloads/junk_processed/12/f_0018.jpg', '/Users/francescoferrari/Downloads/junk_processed/12/f_0019.jpg', '/Users/francescoferrari/Downloads/junk_processed/12/f_0020.jpg', '/Users/francescoferrari/Downloads/junk_processed/12/f_0021.jpg', '/Users/francescoferrari/Downloads/junk_processed/12/f_0022.jpg', '/Users/francescoferrari/Downloads/junk_processed/12/f_0023.jpg', '/Users/francescoferrari/Downloads/junk_processed/12/f_0024.jpg', '/Users/francescoferrari/Downloads/junk_processed/12/f_0025.jpg']\n",
      "['/Users/francescoferrari/Downloads/junk_processed/12/f_0011.jpg', '/Users/francescoferrari/Downloads/junk_processed/12/f_0012.jpg', '/Users/francescoferrari/Downloads/junk_processed/12/f_0013.jpg', '/Users/francescoferrari/Downloads/junk_processed/12/f_0014.jpg', '/Users/francescoferrari/Downloads/junk_processed/12/f_0015.jpg', '/Users/francescoferrari/Downloads/junk_processed/12/f_0016.jpg', '/Users/francescoferrari/Downloads/junk_processed/12/f_0017.jpg', '/Users/francescoferrari/Downloads/junk_processed/12/f_0018.jpg', '/Users/francescoferrari/Downloads/junk_processed/12/f_0019.jpg', '/Users/francescoferrari/Downloads/junk_processed/12/f_0020.jpg', '/Users/francescoferrari/Downloads/junk_processed/12/f_0021.jpg', '/Users/francescoferrari/Downloads/junk_processed/12/f_0022.jpg', '/Users/francescoferrari/Downloads/junk_processed/12/f_0023.jpg', '/Users/francescoferrari/Downloads/junk_processed/12/f_0024.jpg', '/Users/francescoferrari/Downloads/junk_processed/12/f_0025.jpg']\n",
      "[]\n",
      "['/Users/francescoferrari/Downloads/junk_processed/14/f_0011.jpg', '/Users/francescoferrari/Downloads/junk_processed/14/f_0012.jpg', '/Users/francescoferrari/Downloads/junk_processed/14/f_0013.jpg', '/Users/francescoferrari/Downloads/junk_processed/14/f_0014.jpg', '/Users/francescoferrari/Downloads/junk_processed/14/f_0015.jpg', '/Users/francescoferrari/Downloads/junk_processed/14/f_0016.jpg', '/Users/francescoferrari/Downloads/junk_processed/14/f_0017.jpg', '/Users/francescoferrari/Downloads/junk_processed/14/f_0018.jpg', '/Users/francescoferrari/Downloads/junk_processed/14/f_0019.jpg', '/Users/francescoferrari/Downloads/junk_processed/14/f_0020.jpg', '/Users/francescoferrari/Downloads/junk_processed/14/f_0021.jpg', '/Users/francescoferrari/Downloads/junk_processed/14/f_0022.jpg', '/Users/francescoferrari/Downloads/junk_processed/14/f_0023.jpg', '/Users/francescoferrari/Downloads/junk_processed/14/f_0024.jpg', '/Users/francescoferrari/Downloads/junk_processed/14/f_0025.jpg']\n",
      "['/Users/francescoferrari/Downloads/junk_processed/14/f_0011.jpg', '/Users/francescoferrari/Downloads/junk_processed/14/f_0012.jpg', '/Users/francescoferrari/Downloads/junk_processed/14/f_0013.jpg', '/Users/francescoferrari/Downloads/junk_processed/14/f_0014.jpg', '/Users/francescoferrari/Downloads/junk_processed/14/f_0015.jpg', '/Users/francescoferrari/Downloads/junk_processed/14/f_0016.jpg', '/Users/francescoferrari/Downloads/junk_processed/14/f_0017.jpg', '/Users/francescoferrari/Downloads/junk_processed/14/f_0018.jpg', '/Users/francescoferrari/Downloads/junk_processed/14/f_0019.jpg', '/Users/francescoferrari/Downloads/junk_processed/14/f_0020.jpg', '/Users/francescoferrari/Downloads/junk_processed/14/f_0021.jpg', '/Users/francescoferrari/Downloads/junk_processed/14/f_0022.jpg', '/Users/francescoferrari/Downloads/junk_processed/14/f_0023.jpg', '/Users/francescoferrari/Downloads/junk_processed/14/f_0024.jpg', '/Users/francescoferrari/Downloads/junk_processed/14/f_0025.jpg']\n",
      "['/Users/francescoferrari/Downloads/junk_processed/15/f_0011.jpg', '/Users/francescoferrari/Downloads/junk_processed/15/f_0012.jpg', '/Users/francescoferrari/Downloads/junk_processed/15/f_0013.jpg', '/Users/francescoferrari/Downloads/junk_processed/15/f_0014.jpg', '/Users/francescoferrari/Downloads/junk_processed/15/f_0015.jpg', '/Users/francescoferrari/Downloads/junk_processed/15/f_0016.jpg', '/Users/francescoferrari/Downloads/junk_processed/15/f_0017.jpg', '/Users/francescoferrari/Downloads/junk_processed/15/f_0018.jpg', '/Users/francescoferrari/Downloads/junk_processed/15/f_0019.jpg', '/Users/francescoferrari/Downloads/junk_processed/15/f_0020.jpg', '/Users/francescoferrari/Downloads/junk_processed/15/f_0021.jpg', '/Users/francescoferrari/Downloads/junk_processed/15/f_0022.jpg', '/Users/francescoferrari/Downloads/junk_processed/15/f_0023.jpg', '/Users/francescoferrari/Downloads/junk_processed/15/f_0024.jpg', '/Users/francescoferrari/Downloads/junk_processed/15/f_0025.jpg']\n",
      "['/Users/francescoferrari/Downloads/junk_processed/15/f_0011.jpg', '/Users/francescoferrari/Downloads/junk_processed/15/f_0012.jpg', '/Users/francescoferrari/Downloads/junk_processed/15/f_0013.jpg', '/Users/francescoferrari/Downloads/junk_processed/15/f_0014.jpg', '/Users/francescoferrari/Downloads/junk_processed/15/f_0015.jpg', '/Users/francescoferrari/Downloads/junk_processed/15/f_0016.jpg', '/Users/francescoferrari/Downloads/junk_processed/15/f_0017.jpg', '/Users/francescoferrari/Downloads/junk_processed/15/f_0018.jpg', '/Users/francescoferrari/Downloads/junk_processed/15/f_0019.jpg', '/Users/francescoferrari/Downloads/junk_processed/15/f_0020.jpg', '/Users/francescoferrari/Downloads/junk_processed/15/f_0021.jpg', '/Users/francescoferrari/Downloads/junk_processed/15/f_0022.jpg', '/Users/francescoferrari/Downloads/junk_processed/15/f_0023.jpg', '/Users/francescoferrari/Downloads/junk_processed/15/f_0024.jpg', '/Users/francescoferrari/Downloads/junk_processed/15/f_0025.jpg']\n",
      "['/Users/francescoferrari/Downloads/junk_processed/16/f_0011.jpg', '/Users/francescoferrari/Downloads/junk_processed/16/f_0012.jpg', '/Users/francescoferrari/Downloads/junk_processed/16/f_0013.jpg', '/Users/francescoferrari/Downloads/junk_processed/16/f_0014.jpg', '/Users/francescoferrari/Downloads/junk_processed/16/f_0015.jpg', '/Users/francescoferrari/Downloads/junk_processed/16/f_0016.jpg', '/Users/francescoferrari/Downloads/junk_processed/16/f_0017.jpg', '/Users/francescoferrari/Downloads/junk_processed/16/f_0018.jpg', '/Users/francescoferrari/Downloads/junk_processed/16/f_0019.jpg', '/Users/francescoferrari/Downloads/junk_processed/16/f_0020.jpg', '/Users/francescoferrari/Downloads/junk_processed/16/f_0021.jpg', '/Users/francescoferrari/Downloads/junk_processed/16/f_0022.jpg', '/Users/francescoferrari/Downloads/junk_processed/16/f_0023.jpg', '/Users/francescoferrari/Downloads/junk_processed/16/f_0024.jpg', '/Users/francescoferrari/Downloads/junk_processed/16/f_0025.jpg']\n",
      "['/Users/francescoferrari/Downloads/junk_processed/16/f_0011.jpg', '/Users/francescoferrari/Downloads/junk_processed/16/f_0012.jpg', '/Users/francescoferrari/Downloads/junk_processed/16/f_0013.jpg', '/Users/francescoferrari/Downloads/junk_processed/16/f_0014.jpg', '/Users/francescoferrari/Downloads/junk_processed/16/f_0015.jpg', '/Users/francescoferrari/Downloads/junk_processed/16/f_0016.jpg', '/Users/francescoferrari/Downloads/junk_processed/16/f_0017.jpg', '/Users/francescoferrari/Downloads/junk_processed/16/f_0018.jpg', '/Users/francescoferrari/Downloads/junk_processed/16/f_0019.jpg', '/Users/francescoferrari/Downloads/junk_processed/16/f_0020.jpg', '/Users/francescoferrari/Downloads/junk_processed/16/f_0021.jpg', '/Users/francescoferrari/Downloads/junk_processed/16/f_0022.jpg', '/Users/francescoferrari/Downloads/junk_processed/16/f_0023.jpg', '/Users/francescoferrari/Downloads/junk_processed/16/f_0024.jpg', '/Users/francescoferrari/Downloads/junk_processed/16/f_0025.jpg']\n",
      "['/Users/francescoferrari/Downloads/junk_processed/17/f_0011.jpg', '/Users/francescoferrari/Downloads/junk_processed/17/f_0012.jpg', '/Users/francescoferrari/Downloads/junk_processed/17/f_0013.jpg', '/Users/francescoferrari/Downloads/junk_processed/17/f_0014.jpg', '/Users/francescoferrari/Downloads/junk_processed/17/f_0015.jpg', '/Users/francescoferrari/Downloads/junk_processed/17/f_0016.jpg', '/Users/francescoferrari/Downloads/junk_processed/17/f_0017.jpg', '/Users/francescoferrari/Downloads/junk_processed/17/f_0018.jpg', '/Users/francescoferrari/Downloads/junk_processed/17/f_0019.jpg', '/Users/francescoferrari/Downloads/junk_processed/17/f_0020.jpg', '/Users/francescoferrari/Downloads/junk_processed/17/f_0021.jpg', '/Users/francescoferrari/Downloads/junk_processed/17/f_0022.jpg', '/Users/francescoferrari/Downloads/junk_processed/17/f_0023.jpg', '/Users/francescoferrari/Downloads/junk_processed/17/f_0024.jpg', '/Users/francescoferrari/Downloads/junk_processed/17/f_0025.jpg']\n",
      "['/Users/francescoferrari/Downloads/junk_processed/17/f_0011.jpg', '/Users/francescoferrari/Downloads/junk_processed/17/f_0012.jpg', '/Users/francescoferrari/Downloads/junk_processed/17/f_0013.jpg', '/Users/francescoferrari/Downloads/junk_processed/17/f_0014.jpg', '/Users/francescoferrari/Downloads/junk_processed/17/f_0015.jpg', '/Users/francescoferrari/Downloads/junk_processed/17/f_0016.jpg', '/Users/francescoferrari/Downloads/junk_processed/17/f_0017.jpg', '/Users/francescoferrari/Downloads/junk_processed/17/f_0018.jpg', '/Users/francescoferrari/Downloads/junk_processed/17/f_0019.jpg', '/Users/francescoferrari/Downloads/junk_processed/17/f_0020.jpg', '/Users/francescoferrari/Downloads/junk_processed/17/f_0021.jpg', '/Users/francescoferrari/Downloads/junk_processed/17/f_0022.jpg', '/Users/francescoferrari/Downloads/junk_processed/17/f_0023.jpg', '/Users/francescoferrari/Downloads/junk_processed/17/f_0024.jpg', '/Users/francescoferrari/Downloads/junk_processed/17/f_0025.jpg']\n"
     ]
    }
   ],
   "source": [
    "y6_X6 = np.array([load_frames_test_frames(\"/Users/francescoferrari/Downloads/junk_processed/\"+str(x)+\"/\",1) for x in range(18) if len(load_frames_test_frames(\"/Users/francescoferrari/Downloads/junk_processed/\"+str(x)+\"/\",1)) == max_frames]\n",
    "                 +[load_frames_test_frames(\"/Users/francescoferrari/Downloads/junk_processed/\"+str(x)+\"/\",6) for x in range(18) if len(load_frames_test_frames(\"/Users/francescoferrari/Downloads/junk_processed/\"+str(x)+\"/\",6)) == max_frames]\n",
    "                +[load_frames_test_frames(\"/Users/francescoferrari/Downloads/junk_processed/\"+str(x)+\"/\",11) for x in range(18) if len(load_frames_test_frames(\"/Users/francescoferrari/Downloads/junk_processed/\"+str(x)+\"/\",11)) > 0]\n",
    "                )"
   ]
  },
  {
   "cell_type": "code",
   "execution_count": 10,
   "metadata": {
    "collapsed": false,
    "scrolled": true
   },
   "outputs": [
    {
     "name": "stdout",
     "output_type": "stream",
     "text": [
      "['junk_processed/0/f_0011.jpg', 'junk_processed/0/f_0012.jpg', 'junk_processed/0/f_0013.jpg', 'junk_processed/0/f_0014.jpg', 'junk_processed/0/f_0015.jpg', 'junk_processed/0/f_0016.jpg', 'junk_processed/0/f_0017.jpg', 'junk_processed/0/f_0018.jpg', 'junk_processed/0/f_0019.jpg', 'junk_processed/0/f_0020.jpg']\n",
      "['junk_processed/0/f_0011.jpg', 'junk_processed/0/f_0012.jpg', 'junk_processed/0/f_0013.jpg', 'junk_processed/0/f_0014.jpg', 'junk_processed/0/f_0015.jpg', 'junk_processed/0/f_0016.jpg', 'junk_processed/0/f_0017.jpg', 'junk_processed/0/f_0018.jpg', 'junk_processed/0/f_0019.jpg', 'junk_processed/0/f_0020.jpg']\n",
      "['junk_processed/1/f_0011.jpg', 'junk_processed/1/f_0012.jpg', 'junk_processed/1/f_0013.jpg', 'junk_processed/1/f_0014.jpg', 'junk_processed/1/f_0015.jpg', 'junk_processed/1/f_0016.jpg', 'junk_processed/1/f_0017.jpg', 'junk_processed/1/f_0018.jpg', 'junk_processed/1/f_0019.jpg', 'junk_processed/1/f_0020.jpg']\n",
      "['junk_processed/1/f_0011.jpg', 'junk_processed/1/f_0012.jpg', 'junk_processed/1/f_0013.jpg', 'junk_processed/1/f_0014.jpg', 'junk_processed/1/f_0015.jpg', 'junk_processed/1/f_0016.jpg', 'junk_processed/1/f_0017.jpg', 'junk_processed/1/f_0018.jpg', 'junk_processed/1/f_0019.jpg', 'junk_processed/1/f_0020.jpg']\n",
      "['junk_processed/2/f_0011.jpg', 'junk_processed/2/f_0012.jpg', 'junk_processed/2/f_0013.jpg', 'junk_processed/2/f_0014.jpg', 'junk_processed/2/f_0015.jpg', 'junk_processed/2/f_0016.jpg', 'junk_processed/2/f_0017.jpg', 'junk_processed/2/f_0018.jpg', 'junk_processed/2/f_0019.jpg', 'junk_processed/2/f_0020.jpg']\n",
      "['junk_processed/2/f_0011.jpg', 'junk_processed/2/f_0012.jpg', 'junk_processed/2/f_0013.jpg', 'junk_processed/2/f_0014.jpg', 'junk_processed/2/f_0015.jpg', 'junk_processed/2/f_0016.jpg', 'junk_processed/2/f_0017.jpg', 'junk_processed/2/f_0018.jpg', 'junk_processed/2/f_0019.jpg', 'junk_processed/2/f_0020.jpg']\n",
      "['junk_processed/3/f_0011.jpg', 'junk_processed/3/f_0012.jpg', 'junk_processed/3/f_0013.jpg', 'junk_processed/3/f_0014.jpg', 'junk_processed/3/f_0015.jpg', 'junk_processed/3/f_0016.jpg', 'junk_processed/3/f_0017.jpg', 'junk_processed/3/f_0018.jpg', 'junk_processed/3/f_0019.jpg', 'junk_processed/3/f_0020.jpg']\n",
      "['junk_processed/3/f_0011.jpg', 'junk_processed/3/f_0012.jpg', 'junk_processed/3/f_0013.jpg', 'junk_processed/3/f_0014.jpg', 'junk_processed/3/f_0015.jpg', 'junk_processed/3/f_0016.jpg', 'junk_processed/3/f_0017.jpg', 'junk_processed/3/f_0018.jpg', 'junk_processed/3/f_0019.jpg', 'junk_processed/3/f_0020.jpg']\n",
      "['junk_processed/4/f_0011.jpg', 'junk_processed/4/f_0012.jpg', 'junk_processed/4/f_0013.jpg', 'junk_processed/4/f_0014.jpg', 'junk_processed/4/f_0015.jpg', 'junk_processed/4/f_0016.jpg', 'junk_processed/4/f_0017.jpg', 'junk_processed/4/f_0018.jpg', 'junk_processed/4/f_0019.jpg', 'junk_processed/4/f_0020.jpg']\n",
      "['junk_processed/4/f_0011.jpg', 'junk_processed/4/f_0012.jpg', 'junk_processed/4/f_0013.jpg', 'junk_processed/4/f_0014.jpg', 'junk_processed/4/f_0015.jpg', 'junk_processed/4/f_0016.jpg', 'junk_processed/4/f_0017.jpg', 'junk_processed/4/f_0018.jpg', 'junk_processed/4/f_0019.jpg', 'junk_processed/4/f_0020.jpg']\n",
      "['junk_processed/5/f_0011.jpg', 'junk_processed/5/f_0012.jpg', 'junk_processed/5/f_0013.jpg', 'junk_processed/5/f_0014.jpg', 'junk_processed/5/f_0015.jpg', 'junk_processed/5/f_0016.jpg', 'junk_processed/5/f_0017.jpg', 'junk_processed/5/f_0018.jpg', 'junk_processed/5/f_0019.jpg', 'junk_processed/5/f_0020.jpg']\n",
      "['junk_processed/5/f_0011.jpg', 'junk_processed/5/f_0012.jpg', 'junk_processed/5/f_0013.jpg', 'junk_processed/5/f_0014.jpg', 'junk_processed/5/f_0015.jpg', 'junk_processed/5/f_0016.jpg', 'junk_processed/5/f_0017.jpg', 'junk_processed/5/f_0018.jpg', 'junk_processed/5/f_0019.jpg', 'junk_processed/5/f_0020.jpg']\n",
      "[]\n",
      "['junk_processed/7/f_0011.jpg', 'junk_processed/7/f_0012.jpg', 'junk_processed/7/f_0013.jpg', 'junk_processed/7/f_0014.jpg', 'junk_processed/7/f_0015.jpg', 'junk_processed/7/f_0016.jpg', 'junk_processed/7/f_0017.jpg', 'junk_processed/7/f_0018.jpg', 'junk_processed/7/f_0019.jpg', 'junk_processed/7/f_0020.jpg']\n",
      "['junk_processed/7/f_0011.jpg', 'junk_processed/7/f_0012.jpg', 'junk_processed/7/f_0013.jpg', 'junk_processed/7/f_0014.jpg', 'junk_processed/7/f_0015.jpg', 'junk_processed/7/f_0016.jpg', 'junk_processed/7/f_0017.jpg', 'junk_processed/7/f_0018.jpg', 'junk_processed/7/f_0019.jpg', 'junk_processed/7/f_0020.jpg']\n",
      "[]\n",
      "['junk_processed/9/f_0011.jpg', 'junk_processed/9/f_0012.jpg', 'junk_processed/9/f_0013.jpg', 'junk_processed/9/f_0014.jpg', 'junk_processed/9/f_0015.jpg', 'junk_processed/9/f_0016.jpg', 'junk_processed/9/f_0017.jpg', 'junk_processed/9/f_0018.jpg', 'junk_processed/9/f_0019.jpg', 'junk_processed/9/f_0020.jpg']\n",
      "['junk_processed/9/f_0011.jpg', 'junk_processed/9/f_0012.jpg', 'junk_processed/9/f_0013.jpg', 'junk_processed/9/f_0014.jpg', 'junk_processed/9/f_0015.jpg', 'junk_processed/9/f_0016.jpg', 'junk_processed/9/f_0017.jpg', 'junk_processed/9/f_0018.jpg', 'junk_processed/9/f_0019.jpg', 'junk_processed/9/f_0020.jpg']\n",
      "['junk_processed/10/f_0011.jpg', 'junk_processed/10/f_0012.jpg', 'junk_processed/10/f_0013.jpg', 'junk_processed/10/f_0014.jpg', 'junk_processed/10/f_0015.jpg', 'junk_processed/10/f_0016.jpg', 'junk_processed/10/f_0017.jpg', 'junk_processed/10/f_0018.jpg', 'junk_processed/10/f_0019.jpg', 'junk_processed/10/f_0020.jpg']\n",
      "['junk_processed/10/f_0011.jpg', 'junk_processed/10/f_0012.jpg', 'junk_processed/10/f_0013.jpg', 'junk_processed/10/f_0014.jpg', 'junk_processed/10/f_0015.jpg', 'junk_processed/10/f_0016.jpg', 'junk_processed/10/f_0017.jpg', 'junk_processed/10/f_0018.jpg', 'junk_processed/10/f_0019.jpg', 'junk_processed/10/f_0020.jpg']\n",
      "['junk_processed/11/f_0011.jpg', 'junk_processed/11/f_0012.jpg', 'junk_processed/11/f_0013.jpg', 'junk_processed/11/f_0014.jpg', 'junk_processed/11/f_0015.jpg', 'junk_processed/11/f_0016.jpg', 'junk_processed/11/f_0017.jpg', 'junk_processed/11/f_0018.jpg', 'junk_processed/11/f_0019.jpg', 'junk_processed/11/f_0020.jpg']\n",
      "['junk_processed/11/f_0011.jpg', 'junk_processed/11/f_0012.jpg', 'junk_processed/11/f_0013.jpg', 'junk_processed/11/f_0014.jpg', 'junk_processed/11/f_0015.jpg', 'junk_processed/11/f_0016.jpg', 'junk_processed/11/f_0017.jpg', 'junk_processed/11/f_0018.jpg', 'junk_processed/11/f_0019.jpg', 'junk_processed/11/f_0020.jpg']\n",
      "['junk_processed/12/f_0011.jpg', 'junk_processed/12/f_0012.jpg', 'junk_processed/12/f_0013.jpg', 'junk_processed/12/f_0014.jpg', 'junk_processed/12/f_0015.jpg', 'junk_processed/12/f_0016.jpg', 'junk_processed/12/f_0017.jpg', 'junk_processed/12/f_0018.jpg', 'junk_processed/12/f_0019.jpg', 'junk_processed/12/f_0020.jpg']\n",
      "['junk_processed/12/f_0011.jpg', 'junk_processed/12/f_0012.jpg', 'junk_processed/12/f_0013.jpg', 'junk_processed/12/f_0014.jpg', 'junk_processed/12/f_0015.jpg', 'junk_processed/12/f_0016.jpg', 'junk_processed/12/f_0017.jpg', 'junk_processed/12/f_0018.jpg', 'junk_processed/12/f_0019.jpg', 'junk_processed/12/f_0020.jpg']\n",
      "[]\n",
      "['junk_processed/14/f_0011.jpg', 'junk_processed/14/f_0012.jpg', 'junk_processed/14/f_0013.jpg', 'junk_processed/14/f_0014.jpg', 'junk_processed/14/f_0015.jpg', 'junk_processed/14/f_0016.jpg', 'junk_processed/14/f_0017.jpg', 'junk_processed/14/f_0018.jpg', 'junk_processed/14/f_0019.jpg', 'junk_processed/14/f_0020.jpg']\n",
      "['junk_processed/14/f_0011.jpg', 'junk_processed/14/f_0012.jpg', 'junk_processed/14/f_0013.jpg', 'junk_processed/14/f_0014.jpg', 'junk_processed/14/f_0015.jpg', 'junk_processed/14/f_0016.jpg', 'junk_processed/14/f_0017.jpg', 'junk_processed/14/f_0018.jpg', 'junk_processed/14/f_0019.jpg', 'junk_processed/14/f_0020.jpg']\n",
      "['junk_processed/15/f_0011.jpg', 'junk_processed/15/f_0012.jpg', 'junk_processed/15/f_0013.jpg', 'junk_processed/15/f_0014.jpg', 'junk_processed/15/f_0015.jpg', 'junk_processed/15/f_0016.jpg', 'junk_processed/15/f_0017.jpg', 'junk_processed/15/f_0018.jpg', 'junk_processed/15/f_0019.jpg', 'junk_processed/15/f_0020.jpg']\n",
      "['junk_processed/15/f_0011.jpg', 'junk_processed/15/f_0012.jpg', 'junk_processed/15/f_0013.jpg', 'junk_processed/15/f_0014.jpg', 'junk_processed/15/f_0015.jpg', 'junk_processed/15/f_0016.jpg', 'junk_processed/15/f_0017.jpg', 'junk_processed/15/f_0018.jpg', 'junk_processed/15/f_0019.jpg', 'junk_processed/15/f_0020.jpg']\n",
      "['junk_processed/16/f_0011.jpg', 'junk_processed/16/f_0012.jpg', 'junk_processed/16/f_0013.jpg', 'junk_processed/16/f_0014.jpg', 'junk_processed/16/f_0015.jpg', 'junk_processed/16/f_0016.jpg', 'junk_processed/16/f_0017.jpg', 'junk_processed/16/f_0018.jpg', 'junk_processed/16/f_0019.jpg', 'junk_processed/16/f_0020.jpg']\n",
      "['junk_processed/16/f_0011.jpg', 'junk_processed/16/f_0012.jpg', 'junk_processed/16/f_0013.jpg', 'junk_processed/16/f_0014.jpg', 'junk_processed/16/f_0015.jpg', 'junk_processed/16/f_0016.jpg', 'junk_processed/16/f_0017.jpg', 'junk_processed/16/f_0018.jpg', 'junk_processed/16/f_0019.jpg', 'junk_processed/16/f_0020.jpg']\n",
      "['junk_processed/17/f_0011.jpg', 'junk_processed/17/f_0012.jpg', 'junk_processed/17/f_0013.jpg', 'junk_processed/17/f_0014.jpg', 'junk_processed/17/f_0015.jpg', 'junk_processed/17/f_0016.jpg', 'junk_processed/17/f_0017.jpg', 'junk_processed/17/f_0018.jpg', 'junk_processed/17/f_0019.jpg', 'junk_processed/17/f_0020.jpg']\n",
      "['junk_processed/17/f_0011.jpg', 'junk_processed/17/f_0012.jpg', 'junk_processed/17/f_0013.jpg', 'junk_processed/17/f_0014.jpg', 'junk_processed/17/f_0015.jpg', 'junk_processed/17/f_0016.jpg', 'junk_processed/17/f_0017.jpg', 'junk_processed/17/f_0018.jpg', 'junk_processed/17/f_0019.jpg', 'junk_processed/17/f_0020.jpg']\n"
     ]
    }
   ],
   "source": [
    "y1,X1 = load_frames(0, cocacola_idxs, max_frames)\n",
    "y2,X2 = load_frames(1, pepsi_idxs, max_frames)\n",
    "y3,X3 = load_frames(2, apple_idxs, max_frames)\n",
    "#y4,X4 = load_frames(3, starbucks_idxs, max_frames)\n",
    "y5,X5 = load_frames(3, nike_idxs, max_frames)\n",
    "y6_X6 = np.array([load_frames_test_frames(\"junk_processed/\"+str(x)+\"/\",1) for x in range(18) if len(load_frames_test_frames(\"junk_processed/\"+str(x)+\"/\",1)) == max_frames]\n",
    "                 #[load_frames_test_frames(\"junk_processed/\"+str(x)+\"/\",6) for x in range(18) if len(load_frames_test_frames(\"junk_processed/\"+str(x)+\"/\",6)) == max_frames]\n",
    "                #[load_frames_test_frames(\"junk_processed/\"+str(x)+\"/\",11) for x in range(18) if len(load_frames_test_frames(\"junk_processed/\"+str(x)+\"/\",11)) > 0]\n",
    "                )"
   ]
  },
  {
   "cell_type": "code",
   "execution_count": null,
   "metadata": {
    "collapsed": true
   },
   "outputs": [],
   "source": []
  },
  {
   "cell_type": "code",
   "execution_count": null,
   "metadata": {
    "collapsed": true
   },
   "outputs": [],
   "source": [
    "[load_frames_test_frames(\"junk_processed/\"+str(x)+\"/\") for x in range(18) if len(load_frames_test_frames(\"junk_processed/\"+str(x)+\"/\")) > 0]"
   ]
  },
  {
   "cell_type": "code",
   "execution_count": 36,
   "metadata": {
    "collapsed": false
   },
   "outputs": [
    {
     "ename": "AttributeError",
     "evalue": "'list' object has no attribute 'shape'",
     "output_type": "error",
     "traceback": [
      "\u001b[0;31m---------------------------------------------------------------------------\u001b[0m",
      "\u001b[0;31mAttributeError\u001b[0m                            Traceback (most recent call last)",
      "\u001b[0;32m<ipython-input-36-248d4f997bdd>\u001b[0m in \u001b[0;36m<module>\u001b[0;34m()\u001b[0m\n\u001b[0;32m----> 1\u001b[0;31m \u001b[0mX5\u001b[0m\u001b[0;34m.\u001b[0m\u001b[0mshape\u001b[0m\u001b[0;34m\u001b[0m\u001b[0m\n\u001b[0m",
      "\u001b[0;31mAttributeError\u001b[0m: 'list' object has no attribute 'shape'"
     ]
    }
   ],
   "source": [
    "X5.shape"
   ]
  },
  {
   "cell_type": "code",
   "execution_count": 31,
   "metadata": {
    "collapsed": false
   },
   "outputs": [],
   "source": [
    "y6 = (np.zeros((len(y6_X6), number_of_brands)))\n",
    "y6[:,number_of_brands-1] = 1\n",
    "y6 = list(y6)\n",
    "X6 = list(y6_X6)"
   ]
  },
  {
   "cell_type": "code",
   "execution_count": 32,
   "metadata": {
    "collapsed": false
   },
   "outputs": [
    {
     "data": {
      "text/plain": [
       "[array([ 0.,  0.,  0.,  0.,  0.,  0.,  1.]),\n",
       " array([ 0.,  0.,  0.,  0.,  0.,  0.,  1.]),\n",
       " array([ 0.,  0.,  0.,  0.,  0.,  0.,  1.]),\n",
       " array([ 0.,  0.,  0.,  0.,  0.,  0.,  1.]),\n",
       " array([ 0.,  0.,  0.,  0.,  0.,  0.,  1.]),\n",
       " array([ 0.,  0.,  0.,  0.,  0.,  0.,  1.]),\n",
       " array([ 0.,  0.,  0.,  0.,  0.,  0.,  1.]),\n",
       " array([ 0.,  0.,  0.,  0.,  0.,  0.,  1.]),\n",
       " array([ 0.,  0.,  0.,  0.,  0.,  0.,  1.]),\n",
       " array([ 0.,  0.,  0.,  0.,  0.,  0.,  1.]),\n",
       " array([ 0.,  0.,  0.,  0.,  0.,  0.,  1.]),\n",
       " array([ 0.,  0.,  0.,  0.,  0.,  0.,  1.]),\n",
       " array([ 0.,  0.,  0.,  0.,  0.,  0.,  1.]),\n",
       " array([ 0.,  0.,  0.,  0.,  0.,  0.,  1.]),\n",
       " array([ 0.,  0.,  0.,  0.,  0.,  0.,  1.]),\n",
       " array([ 0.,  0.,  0.,  0.,  0.,  0.,  1.]),\n",
       " array([ 0.,  0.,  0.,  0.,  0.,  0.,  1.]),\n",
       " array([ 0.,  0.,  0.,  0.,  0.,  0.,  1.]),\n",
       " array([ 0.,  0.,  0.,  0.,  0.,  0.,  1.]),\n",
       " array([ 0.,  0.,  0.,  0.,  0.,  0.,  1.]),\n",
       " array([ 0.,  0.,  0.,  0.,  0.,  0.,  1.]),\n",
       " array([ 0.,  0.,  0.,  0.,  0.,  0.,  1.]),\n",
       " array([ 0.,  0.,  0.,  0.,  0.,  0.,  1.]),\n",
       " array([ 0.,  0.,  0.,  0.,  0.,  0.,  1.]),\n",
       " array([ 0.,  0.,  0.,  0.,  0.,  0.,  1.]),\n",
       " array([ 0.,  0.,  0.,  0.,  0.,  0.,  1.]),\n",
       " array([ 0.,  0.,  0.,  0.,  0.,  0.,  1.]),\n",
       " array([ 0.,  0.,  0.,  0.,  0.,  0.,  1.]),\n",
       " array([ 0.,  0.,  0.,  0.,  0.,  0.,  1.]),\n",
       " array([ 0.,  0.,  0.,  0.,  0.,  0.,  1.]),\n",
       " array([ 0.,  0.,  0.,  0.,  0.,  0.,  1.]),\n",
       " array([ 0.,  0.,  0.,  0.,  0.,  0.,  1.]),\n",
       " array([ 0.,  0.,  0.,  0.,  0.,  0.,  1.]),\n",
       " array([ 0.,  0.,  0.,  0.,  0.,  0.,  1.]),\n",
       " array([ 0.,  0.,  0.,  0.,  0.,  0.,  1.]),\n",
       " array([ 0.,  0.,  0.,  0.,  0.,  0.,  1.]),\n",
       " array([ 0.,  0.,  0.,  0.,  0.,  0.,  1.]),\n",
       " array([ 0.,  0.,  0.,  0.,  0.,  0.,  1.]),\n",
       " array([ 0.,  0.,  0.,  0.,  0.,  0.,  1.]),\n",
       " array([ 0.,  0.,  0.,  0.,  0.,  0.,  1.]),\n",
       " array([ 0.,  0.,  0.,  0.,  0.,  0.,  1.]),\n",
       " array([ 0.,  0.,  0.,  0.,  0.,  0.,  1.]),\n",
       " array([ 0.,  0.,  0.,  0.,  0.,  0.,  1.]),\n",
       " array([ 0.,  0.,  0.,  0.,  0.,  0.,  1.]),\n",
       " array([ 0.,  0.,  0.,  0.,  0.,  0.,  1.])]"
      ]
     },
     "execution_count": 32,
     "metadata": {},
     "output_type": "execute_result"
    }
   ],
   "source": [
    "y6"
   ]
  },
  {
   "cell_type": "code",
   "execution_count": 67,
   "metadata": {
    "collapsed": false
   },
   "outputs": [
    {
     "ename": "NameError",
     "evalue": "name 'X2' is not defined",
     "output_type": "error",
     "traceback": [
      "\u001b[0;31m---------------------------------------------------------------------------\u001b[0m",
      "\u001b[0;31mNameError\u001b[0m                                 Traceback (most recent call last)",
      "\u001b[0;32m<ipython-input-67-dafdf1acfd97>\u001b[0m in \u001b[0;36m<module>\u001b[0;34m()\u001b[0m\n\u001b[0;32m----> 1\u001b[0;31m \u001b[0mX\u001b[0m \u001b[0;34m=\u001b[0m \u001b[0mX1\u001b[0m\u001b[0;34m+\u001b[0m\u001b[0mX2\u001b[0m\u001b[0;34m+\u001b[0m\u001b[0mX3\u001b[0m\u001b[0;34m+\u001b[0m\u001b[0mX5\u001b[0m\u001b[0;34m+\u001b[0m\u001b[0mX6\u001b[0m\u001b[0;34m\u001b[0m\u001b[0m\n\u001b[0m\u001b[1;32m      2\u001b[0m \u001b[0my\u001b[0m \u001b[0;34m=\u001b[0m \u001b[0my1\u001b[0m\u001b[0;34m+\u001b[0m\u001b[0my2\u001b[0m\u001b[0;34m+\u001b[0m\u001b[0my3\u001b[0m\u001b[0;34m+\u001b[0m\u001b[0my5\u001b[0m\u001b[0;34m+\u001b[0m\u001b[0my6\u001b[0m\u001b[0;34m\u001b[0m\u001b[0m\n",
      "\u001b[0;31mNameError\u001b[0m: name 'X2' is not defined"
     ]
    }
   ],
   "source": [
    "X = X1+X2+X3+X5+X6\n",
    "y = y1+y2+y3+y5+y6"
   ]
  },
  {
   "cell_type": "code",
   "execution_count": 33,
   "metadata": {
    "collapsed": true
   },
   "outputs": [],
   "source": [
    "X = X1+X6\n",
    "y = y1+y6"
   ]
  },
  {
   "cell_type": "code",
   "execution_count": 34,
   "metadata": {
    "collapsed": false
   },
   "outputs": [
    {
     "data": {
      "text/plain": [
       "729"
      ]
     },
     "execution_count": 34,
     "metadata": {},
     "output_type": "execute_result"
    }
   ],
   "source": [
    "len(X)"
   ]
  },
  {
   "cell_type": "code",
   "execution_count": 37,
   "metadata": {
    "collapsed": false
   },
   "outputs": [],
   "source": [
    "data = list(zip(y, X))"
   ]
  },
  {
   "cell_type": "code",
   "execution_count": null,
   "metadata": {
    "collapsed": true
   },
   "outputs": [],
   "source": []
  },
  {
   "cell_type": "code",
   "execution_count": 38,
   "metadata": {
    "collapsed": false
   },
   "outputs": [],
   "source": [
    "random.shuffle(data)"
   ]
  },
  {
   "cell_type": "code",
   "execution_count": 39,
   "metadata": {
    "collapsed": false
   },
   "outputs": [],
   "source": [
    "X = [x[1] for x in data]\n",
    "y = [x[0] for x in data]"
   ]
  },
  {
   "cell_type": "code",
   "execution_count": 40,
   "metadata": {
    "collapsed": false
   },
   "outputs": [],
   "source": [
    "X = np.array(X)\n",
    "y = np.array(y)"
   ]
  },
  {
   "cell_type": "code",
   "execution_count": 41,
   "metadata": {
    "collapsed": false,
    "scrolled": false
   },
   "outputs": [
    {
     "data": {
      "text/plain": [
       "(729, 15, 224, 224, 3)"
      ]
     },
     "execution_count": 41,
     "metadata": {},
     "output_type": "execute_result"
    }
   ],
   "source": [
    "X.shape"
   ]
  },
  {
   "cell_type": "code",
   "execution_count": 42,
   "metadata": {
    "collapsed": false
   },
   "outputs": [],
   "source": [
    "x_mean = X.mean()"
   ]
  },
  {
   "cell_type": "code",
   "execution_count": 43,
   "metadata": {
    "collapsed": false
   },
   "outputs": [
    {
     "data": {
      "text/plain": [
       "0.44021639613396263"
      ]
     },
     "execution_count": 43,
     "metadata": {},
     "output_type": "execute_result"
    }
   ],
   "source": [
    "x_mean"
   ]
  },
  {
   "cell_type": "code",
   "execution_count": 44,
   "metadata": {
    "collapsed": false
   },
   "outputs": [],
   "source": [
    "for i in range(len(X)):\n",
    "    X[i] -= x_mean"
   ]
  },
  {
   "cell_type": "code",
   "execution_count": 46,
   "metadata": {
    "collapsed": false
   },
   "outputs": [
    {
     "data": {
      "text/plain": [
       "array([[[[-0.43629483, -0.43629483, -0.43629483],\n",
       "         [-0.43629483, -0.43629483, -0.43629483],\n",
       "         [-0.43629483, -0.43629483, -0.43629483],\n",
       "         ..., \n",
       "         [-0.43629483, -0.43629483, -0.43629483],\n",
       "         [-0.43629483, -0.43629483, -0.43629483],\n",
       "         [-0.43629483, -0.43629483, -0.43629483]],\n",
       "\n",
       "        [[-0.43629483, -0.43629483, -0.43629483],\n",
       "         [-0.43629483, -0.43629483, -0.43629483],\n",
       "         [-0.43629483, -0.43629483, -0.43629483],\n",
       "         ..., \n",
       "         [-0.43629483, -0.43629483, -0.43629483],\n",
       "         [-0.43629483, -0.43629483, -0.43629483],\n",
       "         [-0.43629483, -0.43629483, -0.43629483]],\n",
       "\n",
       "        [[-0.43629483, -0.43629483, -0.43629483],\n",
       "         [-0.43629483, -0.43629483, -0.43629483],\n",
       "         [-0.43629483, -0.43629483, -0.43629483],\n",
       "         ..., \n",
       "         [-0.43629483, -0.43629483, -0.43629483],\n",
       "         [-0.43629483, -0.43629483, -0.43629483],\n",
       "         [-0.43629483, -0.43629483, -0.43629483]],\n",
       "\n",
       "        ..., \n",
       "        [[-0.43629483, -0.43629483, -0.43629483],\n",
       "         [-0.43629483, -0.43629483, -0.43629483],\n",
       "         [-0.43629483, -0.43629483, -0.43629483],\n",
       "         ..., \n",
       "         [-0.43629483, -0.43629483, -0.43629483],\n",
       "         [-0.43629483, -0.43629483, -0.43629483],\n",
       "         [-0.43629483, -0.43629483, -0.43629483]],\n",
       "\n",
       "        [[-0.43629483, -0.43629483, -0.43629483],\n",
       "         [-0.43629483, -0.43629483, -0.43629483],\n",
       "         [-0.43629483, -0.43629483, -0.43629483],\n",
       "         ..., \n",
       "         [-0.43629483, -0.43629483, -0.43629483],\n",
       "         [-0.43629483, -0.43629483, -0.43629483],\n",
       "         [-0.43629483, -0.43629483, -0.43629483]],\n",
       "\n",
       "        [[-0.43629483, -0.43629483, -0.43629483],\n",
       "         [-0.43629483, -0.43629483, -0.43629483],\n",
       "         [-0.43629483, -0.43629483, -0.43629483],\n",
       "         ..., \n",
       "         [-0.43629483, -0.43629483, -0.43629483],\n",
       "         [-0.43629483, -0.43629483, -0.43629483],\n",
       "         [-0.43629483, -0.43629483, -0.43629483]]],\n",
       "\n",
       "\n",
       "       [[[-0.43629483, -0.43629483, -0.43629483],\n",
       "         [-0.43629483, -0.43629483, -0.43629483],\n",
       "         [-0.43629483, -0.43629483, -0.43629483],\n",
       "         ..., \n",
       "         [-0.43629483, -0.43629483, -0.43629483],\n",
       "         [-0.43629483, -0.43629483, -0.43629483],\n",
       "         [-0.43629483, -0.43629483, -0.43629483]],\n",
       "\n",
       "        [[-0.43629483, -0.43629483, -0.43629483],\n",
       "         [-0.43629483, -0.43629483, -0.43629483],\n",
       "         [-0.43629483, -0.43629483, -0.43629483],\n",
       "         ..., \n",
       "         [-0.43629483, -0.43629483, -0.43629483],\n",
       "         [-0.43629483, -0.43629483, -0.43629483],\n",
       "         [-0.43629483, -0.43629483, -0.43629483]],\n",
       "\n",
       "        [[-0.43629483, -0.43629483, -0.43629483],\n",
       "         [-0.43629483, -0.43629483, -0.43629483],\n",
       "         [-0.43629483, -0.43629483, -0.43629483],\n",
       "         ..., \n",
       "         [-0.43629483, -0.43629483, -0.43629483],\n",
       "         [-0.43629483, -0.43629483, -0.43629483],\n",
       "         [-0.43629483, -0.43629483, -0.43629483]],\n",
       "\n",
       "        ..., \n",
       "        [[-0.43629483, -0.43629483, -0.43629483],\n",
       "         [-0.43629483, -0.43629483, -0.43629483],\n",
       "         [-0.43629483, -0.43629483, -0.43629483],\n",
       "         ..., \n",
       "         [-0.43629483, -0.43629483, -0.43629483],\n",
       "         [-0.43629483, -0.43629483, -0.43629483],\n",
       "         [-0.43629483, -0.43629483, -0.43629483]],\n",
       "\n",
       "        [[-0.43629483, -0.43629483, -0.43629483],\n",
       "         [-0.43629483, -0.43629483, -0.43629483],\n",
       "         [-0.43629483, -0.43629483, -0.43629483],\n",
       "         ..., \n",
       "         [-0.43629483, -0.43629483, -0.43629483],\n",
       "         [-0.43629483, -0.43629483, -0.43629483],\n",
       "         [-0.43629483, -0.43629483, -0.43629483]],\n",
       "\n",
       "        [[-0.43629483, -0.43629483, -0.43629483],\n",
       "         [-0.43629483, -0.43629483, -0.43629483],\n",
       "         [-0.43629483, -0.43629483, -0.43629483],\n",
       "         ..., \n",
       "         [-0.43629483, -0.43629483, -0.43629483],\n",
       "         [-0.43629483, -0.43629483, -0.43629483],\n",
       "         [-0.43629483, -0.43629483, -0.43629483]]],\n",
       "\n",
       "\n",
       "       [[[-0.43629483, -0.43629483, -0.43629483],\n",
       "         [-0.43629483, -0.43629483, -0.43629483],\n",
       "         [-0.43629483, -0.43629483, -0.43629483],\n",
       "         ..., \n",
       "         [-0.43629483, -0.43629483, -0.43629483],\n",
       "         [-0.43629483, -0.43629483, -0.43629483],\n",
       "         [-0.43629483, -0.43629483, -0.43629483]],\n",
       "\n",
       "        [[-0.43629483, -0.43629483, -0.43629483],\n",
       "         [-0.43629483, -0.43629483, -0.43629483],\n",
       "         [-0.43629483, -0.43629483, -0.43629483],\n",
       "         ..., \n",
       "         [-0.43629483, -0.43629483, -0.43629483],\n",
       "         [-0.43629483, -0.43629483, -0.43629483],\n",
       "         [-0.43629483, -0.43629483, -0.43629483]],\n",
       "\n",
       "        [[-0.43629483, -0.43629483, -0.43629483],\n",
       "         [-0.43629483, -0.43629483, -0.43629483],\n",
       "         [-0.43629483, -0.43629483, -0.43629483],\n",
       "         ..., \n",
       "         [-0.43629483, -0.43629483, -0.43629483],\n",
       "         [-0.43629483, -0.43629483, -0.43629483],\n",
       "         [-0.43629483, -0.43629483, -0.43629483]],\n",
       "\n",
       "        ..., \n",
       "        [[-0.43629483, -0.43629483, -0.43629483],\n",
       "         [-0.43629483, -0.43629483, -0.43629483],\n",
       "         [-0.43629483, -0.43629483, -0.43629483],\n",
       "         ..., \n",
       "         [-0.43629483, -0.43629483, -0.43629483],\n",
       "         [-0.43629483, -0.43629483, -0.43629483],\n",
       "         [-0.43629483, -0.43629483, -0.43629483]],\n",
       "\n",
       "        [[-0.43629483, -0.43629483, -0.43629483],\n",
       "         [-0.43629483, -0.43629483, -0.43629483],\n",
       "         [-0.43629483, -0.43629483, -0.43629483],\n",
       "         ..., \n",
       "         [-0.43629483, -0.43629483, -0.43629483],\n",
       "         [-0.43629483, -0.43629483, -0.43629483],\n",
       "         [-0.43629483, -0.43629483, -0.43629483]],\n",
       "\n",
       "        [[-0.43629483, -0.43629483, -0.43629483],\n",
       "         [-0.43629483, -0.43629483, -0.43629483],\n",
       "         [-0.43629483, -0.43629483, -0.43629483],\n",
       "         ..., \n",
       "         [-0.43629483, -0.43629483, -0.43629483],\n",
       "         [-0.43629483, -0.43629483, -0.43629483],\n",
       "         [-0.43629483, -0.43629483, -0.43629483]]],\n",
       "\n",
       "\n",
       "       ..., \n",
       "       [[[ 0.2225287 ,  0.26174439,  0.23037184],\n",
       "         [ 0.22645027,  0.26566596,  0.23429341],\n",
       "         [ 0.22645027,  0.26566596,  0.23429341],\n",
       "         ..., \n",
       "         [-0.35786345, -0.34217718, -0.33825561],\n",
       "         [-0.35394189, -0.33825561, -0.33433404],\n",
       "         [-0.35394189, -0.33825561, -0.33433404]],\n",
       "\n",
       "        [[ 0.21468556,  0.25390125,  0.2225287 ],\n",
       "         [ 0.21860713,  0.25782282,  0.22645027],\n",
       "         [ 0.2225287 ,  0.26174439,  0.23037184],\n",
       "         ..., \n",
       "         [-0.35786345, -0.34217718, -0.33825561],\n",
       "         [-0.35394189, -0.33825561, -0.33433404],\n",
       "         [-0.35394189, -0.33825561, -0.33433404]],\n",
       "\n",
       "        [[ 0.20684243,  0.24605811,  0.21468556],\n",
       "         [ 0.20684243,  0.24605811,  0.21468556],\n",
       "         [ 0.210764  ,  0.24997968,  0.21860713],\n",
       "         ..., \n",
       "         [-0.35786345, -0.34217718, -0.33825561],\n",
       "         [-0.35394189, -0.33825561, -0.33433404],\n",
       "         [-0.35394189, -0.33825561, -0.33433404]],\n",
       "\n",
       "        ..., \n",
       "        [[-0.36962816, -0.37354973, -0.38139287],\n",
       "         [-0.36178502, -0.36570659, -0.37354973],\n",
       "         [-0.36570659, -0.36570659, -0.37354973],\n",
       "         ..., \n",
       "         [-0.389236  , -0.3774713 , -0.35002032],\n",
       "         [-0.389236  , -0.3774713 , -0.35002032],\n",
       "         [-0.39315757, -0.38139287, -0.35394189]],\n",
       "\n",
       "        [[-0.36178502, -0.36570659, -0.37354973],\n",
       "         [-0.35786345, -0.36178502, -0.36962816],\n",
       "         [-0.36962816, -0.36962816, -0.3774713 ],\n",
       "         ..., \n",
       "         [-0.36962816, -0.35786345, -0.33041247],\n",
       "         [-0.38139287, -0.36962816, -0.34217718],\n",
       "         [-0.389236  , -0.3774713 , -0.35002032]],\n",
       "\n",
       "        [[-0.35394189, -0.35786345, -0.36570659],\n",
       "         [-0.35786345, -0.36178502, -0.36962816],\n",
       "         [-0.36962816, -0.36962816, -0.3774713 ],\n",
       "         ..., \n",
       "         [-0.39707914, -0.3774713 , -0.35394189],\n",
       "         [-0.39707914, -0.3774713 , -0.35394189],\n",
       "         [-0.39315757, -0.37354973, -0.35002032]]],\n",
       "\n",
       "\n",
       "       [[[-0.09903993, -0.05982424, -0.06374581],\n",
       "         [-0.09903993, -0.05982424, -0.06374581],\n",
       "         [-0.10296149, -0.06374581, -0.06766738],\n",
       "         ..., \n",
       "         [-0.24805953, -0.23237326, -0.22845169],\n",
       "         [-0.24805953, -0.23237326, -0.22845169],\n",
       "         [-0.24805953, -0.23237326, -0.22845169]],\n",
       "\n",
       "        [[-0.09903993, -0.05982424, -0.06374581],\n",
       "         [-0.09903993, -0.05982424, -0.06374581],\n",
       "         [-0.10296149, -0.06374581, -0.06766738],\n",
       "         ..., \n",
       "         [-0.24805953, -0.23237326, -0.22845169],\n",
       "         [-0.24805953, -0.23237326, -0.22845169],\n",
       "         [-0.24805953, -0.23237326, -0.22845169]],\n",
       "\n",
       "        [[-0.09903993, -0.05982424, -0.06374581],\n",
       "         [-0.10296149, -0.06374581, -0.06766738],\n",
       "         [-0.10688306, -0.06766738, -0.07158895],\n",
       "         ..., \n",
       "         [-0.24805953, -0.23237326, -0.22845169],\n",
       "         [-0.24805953, -0.23237326, -0.22845169],\n",
       "         [-0.2519811 , -0.23629483, -0.23237326]],\n",
       "\n",
       "        ..., \n",
       "        [[ 0.52841105,  0.52841105,  0.52841105],\n",
       "         [ 0.52841105,  0.52841105,  0.52841105],\n",
       "         [ 0.52841105,  0.52841105,  0.52841105],\n",
       "         ..., \n",
       "         [ 0.5480189 ,  0.5480189 ,  0.5480189 ],\n",
       "         [ 0.5480189 ,  0.5480189 ,  0.5480189 ],\n",
       "         [ 0.5480189 ,  0.5480189 ,  0.5480189 ]],\n",
       "\n",
       "        [[ 0.53233262,  0.53233262,  0.53233262],\n",
       "         [ 0.53233262,  0.53233262,  0.53233262],\n",
       "         [ 0.53233262,  0.53233262,  0.53233262],\n",
       "         ..., \n",
       "         [ 0.55194047,  0.55194047,  0.55194047],\n",
       "         [ 0.55194047,  0.55194047,  0.55194047],\n",
       "         [ 0.55194047,  0.55194047,  0.55194047]],\n",
       "\n",
       "        [[ 0.53233262,  0.53233262,  0.53233262],\n",
       "         [ 0.53233262,  0.53233262,  0.53233262],\n",
       "         [ 0.53233262,  0.53233262,  0.53233262],\n",
       "         ..., \n",
       "         [ 0.55194047,  0.55194047,  0.55194047],\n",
       "         [ 0.55194047,  0.55194047,  0.55194047],\n",
       "         [ 0.55194047,  0.55194047,  0.55194047]]],\n",
       "\n",
       "\n",
       "       [[[-0.10296149, -0.06766738, -0.07158895],\n",
       "         [-0.10296149, -0.06766738, -0.07158895],\n",
       "         [-0.10688306, -0.07158895, -0.07551051],\n",
       "         ..., \n",
       "         [-0.24805953, -0.23237326, -0.22845169],\n",
       "         [-0.24805953, -0.23237326, -0.22845169],\n",
       "         [-0.2519811 , -0.23629483, -0.23237326]],\n",
       "\n",
       "        [[-0.10296149, -0.06766738, -0.07158895],\n",
       "         [-0.10688306, -0.07158895, -0.07551051],\n",
       "         [-0.10688306, -0.07158895, -0.07551051],\n",
       "         ..., \n",
       "         [-0.24805953, -0.23237326, -0.22845169],\n",
       "         [-0.2519811 , -0.23629483, -0.23237326],\n",
       "         [-0.2519811 , -0.23629483, -0.23237326]],\n",
       "\n",
       "        [[-0.10296149, -0.06766738, -0.07158895],\n",
       "         [-0.10688306, -0.07158895, -0.07551051],\n",
       "         [-0.10688306, -0.07158895, -0.07551051],\n",
       "         ..., \n",
       "         [-0.24805953, -0.23237326, -0.22845169],\n",
       "         [-0.2519811 , -0.23629483, -0.23237326],\n",
       "         [-0.2519811 , -0.23629483, -0.23237326]],\n",
       "\n",
       "        ..., \n",
       "        [[ 0.53233262,  0.53233262,  0.53233262],\n",
       "         [ 0.53233262,  0.53233262,  0.53233262],\n",
       "         [ 0.53233262,  0.53233262,  0.53233262],\n",
       "         ..., \n",
       "         [ 0.5480189 ,  0.5480189 ,  0.5480189 ],\n",
       "         [ 0.5480189 ,  0.5480189 ,  0.5480189 ],\n",
       "         [ 0.5480189 ,  0.5480189 ,  0.5480189 ]],\n",
       "\n",
       "        [[ 0.53625419,  0.53625419,  0.53625419],\n",
       "         [ 0.53625419,  0.53625419,  0.53625419],\n",
       "         [ 0.53625419,  0.53625419,  0.53625419],\n",
       "         ..., \n",
       "         [ 0.55194047,  0.55194047,  0.55194047],\n",
       "         [ 0.55194047,  0.55194047,  0.55194047],\n",
       "         [ 0.55194047,  0.55194047,  0.55194047]],\n",
       "\n",
       "        [[ 0.53625419,  0.53625419,  0.53625419],\n",
       "         [ 0.53625419,  0.53625419,  0.53625419],\n",
       "         [ 0.53625419,  0.53625419,  0.53625419],\n",
       "         ..., \n",
       "         [ 0.55194047,  0.55194047,  0.55194047],\n",
       "         [ 0.55194047,  0.55194047,  0.55194047],\n",
       "         [ 0.55194047,  0.55194047,  0.55194047]]]])"
      ]
     },
     "execution_count": 46,
     "metadata": {},
     "output_type": "execute_result"
    }
   ],
   "source": [
    "X[3]"
   ]
  },
  {
   "cell_type": "code",
   "execution_count": 49,
   "metadata": {
    "collapsed": true
   },
   "outputs": [],
   "source": [
    "limit = int(len(X)/10*8)"
   ]
  },
  {
   "cell_type": "code",
   "execution_count": 50,
   "metadata": {
    "collapsed": false
   },
   "outputs": [],
   "source": [
    "X_train = X[:limit]\n",
    "X_val = X[limit:]\n",
    "y_train = y[:limit]\n",
    "y_val = y[limit:]"
   ]
  },
  {
   "cell_type": "code",
   "execution_count": 51,
   "metadata": {
    "collapsed": false
   },
   "outputs": [
    {
     "data": {
      "text/plain": [
       "(583, 7)"
      ]
     },
     "execution_count": 51,
     "metadata": {},
     "output_type": "execute_result"
    }
   ],
   "source": [
    "y_train.shape"
   ]
  },
  {
   "cell_type": "code",
   "execution_count": 31,
   "metadata": {
    "collapsed": true
   },
   "outputs": [],
   "source": [
    "labels_dict = {'apple': 2, 'cocacola': 0, 'nike': 4, 'pepsi': 1, 'starbucks': 3, 'noise':5}"
   ]
  },
  {
   "cell_type": "code",
   "execution_count": 52,
   "metadata": {
    "collapsed": false
   },
   "outputs": [
    {
     "ename": "SyntaxError",
     "evalue": "invalid syntax (<ipython-input-52-74b84e91fdcf>, line 16)",
     "output_type": "error",
     "traceback": [
      "\u001b[0;36m  File \u001b[0;32m\"<ipython-input-52-74b84e91fdcf>\"\u001b[0;36m, line \u001b[0;32m16\u001b[0m\n\u001b[0;31m    4:100.;\u001b[0m\n\u001b[0m          ^\u001b[0m\n\u001b[0;31mSyntaxError\u001b[0m\u001b[0;31m:\u001b[0m invalid syntax\n"
     ]
    }
   ],
   "source": [
    "model_rnn3=Sequential()\n",
    "\n",
    "model_rnn3.add(TimeDistributed(trained_model, input_shape=(max_frames,224,224,3)))\n",
    "model_rnn3.add(GRU(output_dim=200,return_sequences=True))\n",
    "model_rnn3.add(GRU(output_dim=100,return_sequences=True))\n",
    "model_rnn3.add(GRU(output_dim=50,return_sequences=False))\n",
    "model_rnn3.add(Dropout(.2))\n",
    "model_rnn3.add(Dense(number_of_brands,activation='softmax'))\n",
    "#model_rnn3.add(Lambda(lambda x: x / 2.0))\n",
    "model_rnn3.compile(optimizer='adam', loss='categorical_crossentropy',metrics=['accuracy', 'categorical_crossentropy'])\n",
    "\n",
    "class_weight = {0 : 100.,\n",
    "    1: 100.,\n",
    "    2: 100.,\n",
    "    3:100.,\n",
    "    4:100.;\n",
    "    5:100.,\n",
    "    6:1.}"
   ]
  },
  {
   "cell_type": "code",
   "execution_count": 82,
   "metadata": {
    "collapsed": true
   },
   "outputs": [],
   "source": [
    "filepath=\"RNN-LOGO4-{epoch:02d}-{val_acc:.4f}.hdf5\"\n",
    "checkpoint = ModelCheckpoint(filepath, monitor='val_acc', verbose=1, save_best_only=True, mode='max')\n",
    "    \n",
    "earlyStopping=EarlyStopping(monitor='val_acc', patience=4, verbose=0, mode='auto')\n",
    "callbacks_list = [earlyStopping, checkpoint]"
   ]
  },
  {
   "cell_type": "code",
   "execution_count": null,
   "metadata": {
    "collapsed": false
   },
   "outputs": [
    {
     "name": "stdout",
     "output_type": "stream",
     "text": [
      "Train on 96 samples, validate on 32 samples\n",
      "Epoch 1/10\n"
     ]
    }
   ],
   "source": [
    "m = model_rnn3.fit(X_train, y_train, validation_data=(X_val, y_val),\n",
    "              batch_size=16, nb_epoch=10, verbose=1, callbacks=callbacks_list, class_weight=class_weight)"
   ]
  },
  {
   "cell_type": "code",
   "execution_count": 36,
   "metadata": {
    "collapsed": false
   },
   "outputs": [
    {
     "data": {
      "text/plain": [
       "10"
      ]
     },
     "execution_count": 36,
     "metadata": {},
     "output_type": "execute_result"
    }
   ],
   "source": [
    "max_frames"
   ]
  },
  {
   "cell_type": "code",
   "execution_count": 49,
   "metadata": {
    "collapsed": false
   },
   "outputs": [
    {
     "data": {
      "text/plain": [
       "Counter({0: 17, 1: 33, 2: 43, 3: 3, 4: 64})"
      ]
     },
     "execution_count": 49,
     "metadata": {},
     "output_type": "execute_result"
    }
   ],
   "source": [
    "from collections import *\n",
    "Counter([np.argmax(x) for x in y_train])"
   ]
  },
  {
   "cell_type": "code",
   "execution_count": 61,
   "metadata": {
    "collapsed": false
   },
   "outputs": [
    {
     "data": {
      "text/html": [
       "<iframe id=\"igraph\" scrolling=\"no\" style=\"border:none;\" seamless=\"seamless\" src=\"https://plot.ly/~fraferra/1650.embed\" height=\"525px\" width=\"100%\"></iframe>"
      ],
      "text/plain": [
       "<plotly.tools.PlotlyDisplay object>"
      ]
     },
     "execution_count": 61,
     "metadata": {},
     "output_type": "execute_result"
    }
   ],
   "source": [
    "import plotly.plotly as py\n",
    "import plotly.graph_objs as go\n",
    "\n",
    "# Add data\n",
    "month = range(200)\n",
    "n_100_train = h[\"acc\"]\n",
    "n_100_val = h[\"val_acc\"]\n",
    "\n",
    "# Create and sth150.history[\"loss\"]yle traces\n",
    "trace0 = go.Scatter(\n",
    "    x = month,\n",
    "    y = n_100_train,\n",
    "    name = 'train',\n",
    "    line = dict(\n",
    "        color = ('rgb(205, 12, 24)'),\n",
    "        width = 4)\n",
    ")\n",
    "trace1 = go.Scatter(\n",
    "    x = month,\n",
    "    y = n_100_val,\n",
    "    name = 'val',\n",
    "    line = dict(\n",
    "        color = ('rgb(22, 96, 167)'),\n",
    "        width = 4,)\n",
    ")\n",
    "\n",
    "data = [trace0, trace1]\n",
    "\n",
    "# Edit the layout\n",
    "layout = dict(title = 'Accuracy vs Epochs - RNN Accuracy over 5 frames (dense layer)',\n",
    "              xaxis = dict(title = 'Epochs'),\n",
    "              yaxis = dict(title = 'Accuracy'),\n",
    "              )\n",
    "\n",
    "fig = dict(data=data, layout=layout)\n",
    "py.iplot(fig, filename='cse253/final_project/fig2_rnn_denselayer')"
   ]
  },
  {
   "cell_type": "code",
   "execution_count": 13,
   "metadata": {
    "collapsed": true
   },
   "outputs": [],
   "source": [
    "## Testing"
   ]
  },
  {
   "cell_type": "code",
   "execution_count": 8,
   "metadata": {
    "collapsed": true
   },
   "outputs": [],
   "source": [
    "rnn_model = load_rnn_model('RNN-05-0.8704.hdf5')"
   ]
  },
  {
   "cell_type": "code",
   "execution_count": 56,
   "metadata": {
    "collapsed": false,
    "scrolled": true
   },
   "outputs": [
    {
     "name": "stdout",
     "output_type": "stream",
     "text": [
      "['junk_processed/0/f_0011.jpg', 'junk_processed/0/f_0012.jpg', 'junk_processed/0/f_0013.jpg', 'junk_processed/0/f_0014.jpg', 'junk_processed/0/f_0015.jpg']\n",
      "['junk_processed/0/f_0011.jpg', 'junk_processed/0/f_0012.jpg', 'junk_processed/0/f_0013.jpg', 'junk_processed/0/f_0014.jpg', 'junk_processed/0/f_0015.jpg']\n",
      "['junk_processed/1/f_0011.jpg', 'junk_processed/1/f_0012.jpg', 'junk_processed/1/f_0013.jpg', 'junk_processed/1/f_0014.jpg', 'junk_processed/1/f_0015.jpg']\n",
      "['junk_processed/1/f_0011.jpg', 'junk_processed/1/f_0012.jpg', 'junk_processed/1/f_0013.jpg', 'junk_processed/1/f_0014.jpg', 'junk_processed/1/f_0015.jpg']\n",
      "['junk_processed/2/f_0011.jpg', 'junk_processed/2/f_0012.jpg', 'junk_processed/2/f_0013.jpg', 'junk_processed/2/f_0014.jpg', 'junk_processed/2/f_0015.jpg']\n",
      "['junk_processed/2/f_0011.jpg', 'junk_processed/2/f_0012.jpg', 'junk_processed/2/f_0013.jpg', 'junk_processed/2/f_0014.jpg', 'junk_processed/2/f_0015.jpg']\n",
      "['junk_processed/3/f_0011.jpg', 'junk_processed/3/f_0012.jpg', 'junk_processed/3/f_0013.jpg', 'junk_processed/3/f_0014.jpg', 'junk_processed/3/f_0015.jpg']\n",
      "['junk_processed/3/f_0011.jpg', 'junk_processed/3/f_0012.jpg', 'junk_processed/3/f_0013.jpg', 'junk_processed/3/f_0014.jpg', 'junk_processed/3/f_0015.jpg']\n",
      "['junk_processed/4/f_0011.jpg', 'junk_processed/4/f_0012.jpg', 'junk_processed/4/f_0013.jpg', 'junk_processed/4/f_0014.jpg', 'junk_processed/4/f_0015.jpg']\n",
      "['junk_processed/4/f_0011.jpg', 'junk_processed/4/f_0012.jpg', 'junk_processed/4/f_0013.jpg', 'junk_processed/4/f_0014.jpg', 'junk_processed/4/f_0015.jpg']\n",
      "['junk_processed/5/f_0011.jpg', 'junk_processed/5/f_0012.jpg', 'junk_processed/5/f_0013.jpg', 'junk_processed/5/f_0014.jpg', 'junk_processed/5/f_0015.jpg']\n",
      "['junk_processed/5/f_0011.jpg', 'junk_processed/5/f_0012.jpg', 'junk_processed/5/f_0013.jpg', 'junk_processed/5/f_0014.jpg', 'junk_processed/5/f_0015.jpg']\n",
      "[]\n",
      "['junk_processed/7/f_0011.jpg', 'junk_processed/7/f_0012.jpg', 'junk_processed/7/f_0013.jpg', 'junk_processed/7/f_0014.jpg', 'junk_processed/7/f_0015.jpg']\n",
      "['junk_processed/7/f_0011.jpg', 'junk_processed/7/f_0012.jpg', 'junk_processed/7/f_0013.jpg', 'junk_processed/7/f_0014.jpg', 'junk_processed/7/f_0015.jpg']\n",
      "[]\n",
      "['junk_processed/9/f_0011.jpg', 'junk_processed/9/f_0012.jpg', 'junk_processed/9/f_0013.jpg', 'junk_processed/9/f_0014.jpg', 'junk_processed/9/f_0015.jpg']\n",
      "['junk_processed/9/f_0011.jpg', 'junk_processed/9/f_0012.jpg', 'junk_processed/9/f_0013.jpg', 'junk_processed/9/f_0014.jpg', 'junk_processed/9/f_0015.jpg']\n",
      "['junk_processed/10/f_0011.jpg', 'junk_processed/10/f_0012.jpg', 'junk_processed/10/f_0013.jpg', 'junk_processed/10/f_0014.jpg', 'junk_processed/10/f_0015.jpg']\n",
      "['junk_processed/10/f_0011.jpg', 'junk_processed/10/f_0012.jpg', 'junk_processed/10/f_0013.jpg', 'junk_processed/10/f_0014.jpg', 'junk_processed/10/f_0015.jpg']\n",
      "['junk_processed/11/f_0011.jpg', 'junk_processed/11/f_0012.jpg', 'junk_processed/11/f_0013.jpg', 'junk_processed/11/f_0014.jpg', 'junk_processed/11/f_0015.jpg']\n",
      "['junk_processed/11/f_0011.jpg', 'junk_processed/11/f_0012.jpg', 'junk_processed/11/f_0013.jpg', 'junk_processed/11/f_0014.jpg', 'junk_processed/11/f_0015.jpg']\n",
      "['junk_processed/12/f_0011.jpg', 'junk_processed/12/f_0012.jpg', 'junk_processed/12/f_0013.jpg', 'junk_processed/12/f_0014.jpg', 'junk_processed/12/f_0015.jpg']\n",
      "['junk_processed/12/f_0011.jpg', 'junk_processed/12/f_0012.jpg', 'junk_processed/12/f_0013.jpg', 'junk_processed/12/f_0014.jpg', 'junk_processed/12/f_0015.jpg']\n",
      "[]\n",
      "['junk_processed/14/f_0011.jpg', 'junk_processed/14/f_0012.jpg', 'junk_processed/14/f_0013.jpg', 'junk_processed/14/f_0014.jpg', 'junk_processed/14/f_0015.jpg']\n",
      "['junk_processed/14/f_0011.jpg', 'junk_processed/14/f_0012.jpg', 'junk_processed/14/f_0013.jpg', 'junk_processed/14/f_0014.jpg', 'junk_processed/14/f_0015.jpg']\n",
      "['junk_processed/15/f_0011.jpg', 'junk_processed/15/f_0012.jpg', 'junk_processed/15/f_0013.jpg', 'junk_processed/15/f_0014.jpg', 'junk_processed/15/f_0015.jpg']\n",
      "['junk_processed/15/f_0011.jpg', 'junk_processed/15/f_0012.jpg', 'junk_processed/15/f_0013.jpg', 'junk_processed/15/f_0014.jpg', 'junk_processed/15/f_0015.jpg']\n",
      "['junk_processed/16/f_0011.jpg', 'junk_processed/16/f_0012.jpg', 'junk_processed/16/f_0013.jpg', 'junk_processed/16/f_0014.jpg', 'junk_processed/16/f_0015.jpg']\n",
      "['junk_processed/16/f_0011.jpg', 'junk_processed/16/f_0012.jpg', 'junk_processed/16/f_0013.jpg', 'junk_processed/16/f_0014.jpg', 'junk_processed/16/f_0015.jpg']\n",
      "['junk_processed/17/f_0011.jpg', 'junk_processed/17/f_0012.jpg', 'junk_processed/17/f_0013.jpg', 'junk_processed/17/f_0014.jpg', 'junk_processed/17/f_0015.jpg']\n",
      "['junk_processed/17/f_0011.jpg', 'junk_processed/17/f_0012.jpg', 'junk_processed/17/f_0013.jpg', 'junk_processed/17/f_0014.jpg', 'junk_processed/17/f_0015.jpg']\n",
      "['junk_processed/0/f_0011.jpg', 'junk_processed/0/f_0012.jpg', 'junk_processed/0/f_0013.jpg', 'junk_processed/0/f_0014.jpg', 'junk_processed/0/f_0015.jpg']\n",
      "['junk_processed/1/f_0011.jpg', 'junk_processed/1/f_0012.jpg', 'junk_processed/1/f_0013.jpg', 'junk_processed/1/f_0014.jpg', 'junk_processed/1/f_0015.jpg']\n",
      "['junk_processed/2/f_0011.jpg', 'junk_processed/2/f_0012.jpg', 'junk_processed/2/f_0013.jpg', 'junk_processed/2/f_0014.jpg', 'junk_processed/2/f_0015.jpg']\n",
      "['junk_processed/3/f_0011.jpg', 'junk_processed/3/f_0012.jpg', 'junk_processed/3/f_0013.jpg', 'junk_processed/3/f_0014.jpg', 'junk_processed/3/f_0015.jpg']\n",
      "['junk_processed/4/f_0011.jpg', 'junk_processed/4/f_0012.jpg', 'junk_processed/4/f_0013.jpg', 'junk_processed/4/f_0014.jpg', 'junk_processed/4/f_0015.jpg']\n",
      "['junk_processed/5/f_0011.jpg', 'junk_processed/5/f_0012.jpg', 'junk_processed/5/f_0013.jpg', 'junk_processed/5/f_0014.jpg', 'junk_processed/5/f_0015.jpg']\n",
      "[]\n",
      "['junk_processed/7/f_0011.jpg', 'junk_processed/7/f_0012.jpg', 'junk_processed/7/f_0013.jpg', 'junk_processed/7/f_0014.jpg', 'junk_processed/7/f_0015.jpg']\n",
      "[]\n",
      "['junk_processed/9/f_0011.jpg', 'junk_processed/9/f_0012.jpg', 'junk_processed/9/f_0013.jpg', 'junk_processed/9/f_0014.jpg', 'junk_processed/9/f_0015.jpg']\n",
      "['junk_processed/10/f_0011.jpg', 'junk_processed/10/f_0012.jpg', 'junk_processed/10/f_0013.jpg', 'junk_processed/10/f_0014.jpg', 'junk_processed/10/f_0015.jpg']\n",
      "['junk_processed/11/f_0011.jpg', 'junk_processed/11/f_0012.jpg', 'junk_processed/11/f_0013.jpg', 'junk_processed/11/f_0014.jpg', 'junk_processed/11/f_0015.jpg']\n",
      "['junk_processed/12/f_0011.jpg', 'junk_processed/12/f_0012.jpg', 'junk_processed/12/f_0013.jpg', 'junk_processed/12/f_0014.jpg', 'junk_processed/12/f_0015.jpg']\n",
      "[]\n",
      "['junk_processed/14/f_0011.jpg', 'junk_processed/14/f_0012.jpg', 'junk_processed/14/f_0013.jpg', 'junk_processed/14/f_0014.jpg', 'junk_processed/14/f_0015.jpg']\n",
      "['junk_processed/15/f_0011.jpg', 'junk_processed/15/f_0012.jpg', 'junk_processed/15/f_0013.jpg', 'junk_processed/15/f_0014.jpg', 'junk_processed/15/f_0015.jpg']\n",
      "['junk_processed/16/f_0011.jpg', 'junk_processed/16/f_0012.jpg', 'junk_processed/16/f_0013.jpg', 'junk_processed/16/f_0014.jpg', 'junk_processed/16/f_0015.jpg']\n",
      "['junk_processed/17/f_0011.jpg', 'junk_processed/17/f_0012.jpg', 'junk_processed/17/f_0013.jpg', 'junk_processed/17/f_0014.jpg', 'junk_processed/17/f_0015.jpg']\n"
     ]
    }
   ],
   "source": [
    "test_frames = np.array([load_frames_test_frames(\"junk_processed/\"+str(x)+\"/\") for x in range(18) if len(load_frames_test_frames(\"junk_processed/\"+str(x)+\"/\")) > 0])\n",
    "ids = np.array([x for x in range(18) if len(load_frames_test_frames(\"junk_processed/\"+str(x)+\"/\")) > 0])\n",
    "test_frames = test_frames - x_mean"
   ]
  },
  {
   "cell_type": "code",
   "execution_count": 39,
   "metadata": {
    "collapsed": false
   },
   "outputs": [
    {
     "data": {
      "text/plain": [
       "array([ array([[[[ 0.        ,  0.00392157,  0.02745098],\n",
       "         [ 0.        ,  0.00392157,  0.03921569],\n",
       "         [ 0.        ,  0.00392157,  0.04705882],\n",
       "         ..., \n",
       "         [ 0.02745098,  0.02352941,  0.01568627],\n",
       "         [ 0.02352941,  0.01960784,  0.01176471],\n",
       "         [ 0.02745098,  0.02352941,  0.01568627]],\n",
       "\n",
       "        [[ 0.        ,  0.01568627,  0.03921569],\n",
       "         [ 0.        ,  0.01176471,  0.04705882],\n",
       "         [ 0.        ,  0.01568627,  0.05882353],\n",
       "         ..., \n",
       "         [ 0.02745098,  0.02352941,  0.01568627],\n",
       "         [ 0.02745098,  0.02352941,  0.01568627],\n",
       "         [ 0.02745098,  0.02352941,  0.01568627]],\n",
       "\n",
       "        [[ 0.00392157,  0.02352941,  0.04705882],\n",
       "         [ 0.00784314,  0.02352941,  0.05882353],\n",
       "         [ 0.00784314,  0.02352941,  0.06666667],\n",
       "         ..., \n",
       "         [ 0.03137255,  0.02745098,  0.01960784],\n",
       "         [ 0.02745098,  0.02352941,  0.01568627],\n",
       "         [ 0.03137255,  0.02745098,  0.01960784]],\n",
       "\n",
       "        ..., \n",
       "        [[ 0.01568627,  0.03529412,  0.05882353],\n",
       "         [ 0.01568627,  0.03137255,  0.06666667],\n",
       "         [ 0.01568627,  0.03137255,  0.0745098 ],\n",
       "         ..., \n",
       "         [ 0.9254902 ,  0.89411765,  0.94509804],\n",
       "         [ 0.93333333,  0.89019608,  0.94509804],\n",
       "         [ 0.93333333,  0.89019608,  0.94509804]],\n",
       "\n",
       "        [[ 0.01568627,  0.03529412,  0.05882353],\n",
       "         [ 0.01568627,  0.03137255,  0.06666667],\n",
       "         [ 0.01568627,  0.03137255,  0.0745098 ],\n",
       "         ..., \n",
       "         [ 0.93333333,  0.89019608,  0.94509804],\n",
       "         [ 0.92941176,  0.88627451,  0.94117647],\n",
       "         [ 0.92941176,  0.88627451,  0.94117647]],\n",
       "\n",
       "        [[ 0.01568627,  0.03529412,  0.05882353],\n",
       "         [ 0.01568627,  0.03137255,  0.06666667],\n",
       "         [ 0.01568627,  0.03137255,  0.0745098 ],\n",
       "         ..., \n",
       "         [ 0.93333333,  0.89019608,  0.94509804],\n",
       "         [ 0.92941176,  0.88627451,  0.94117647],\n",
       "         [ 0.92941176,  0.88627451,  0.94117647]]],\n",
       "\n",
       "\n",
       "       [[[ 0.01176471,  0.03137255,  0.04313725],\n",
       "         [ 0.01176471,  0.03137255,  0.04313725],\n",
       "         [ 0.01568627,  0.03529412,  0.05882353],\n",
       "         ..., \n",
       "         [ 0.00392157,  0.00392157,  0.        ],\n",
       "         [ 0.00784314,  0.00784314,  0.        ],\n",
       "         [ 0.00784314,  0.00784314,  0.        ]],\n",
       "\n",
       "        [[ 0.01176471,  0.03137255,  0.04705882],\n",
       "         [ 0.01176471,  0.03137255,  0.04705882],\n",
       "         [ 0.01568627,  0.03529412,  0.05882353],\n",
       "         ..., \n",
       "         [ 0.01176471,  0.01176471,  0.00392157],\n",
       "         [ 0.01176471,  0.01176471,  0.00392157],\n",
       "         [ 0.01568627,  0.01568627,  0.00784314]],\n",
       "\n",
       "        [[ 0.01176471,  0.03137255,  0.05490196],\n",
       "         [ 0.01176471,  0.02745098,  0.0627451 ],\n",
       "         [ 0.01568627,  0.03137255,  0.0745098 ],\n",
       "         ..., \n",
       "         [ 0.02352941,  0.02352941,  0.01568627],\n",
       "         [ 0.02352941,  0.02352941,  0.01568627],\n",
       "         [ 0.02352941,  0.02352941,  0.01568627]],\n",
       "\n",
       "        ..., \n",
       "        [[ 0.01568627,  0.03137255,  0.06666667],\n",
       "         [ 0.01568627,  0.03137255,  0.06666667],\n",
       "         [ 0.01568627,  0.03137255,  0.0745098 ],\n",
       "         ..., \n",
       "         [ 0.92156863,  0.89803922,  0.94509804],\n",
       "         [ 0.92156863,  0.89803922,  0.9372549 ],\n",
       "         [ 0.92156863,  0.89803922,  0.9372549 ]],\n",
       "\n",
       "        [[ 0.01176471,  0.02745098,  0.0627451 ],\n",
       "         [ 0.01176471,  0.02745098,  0.0627451 ],\n",
       "         [ 0.01568627,  0.03137255,  0.0745098 ],\n",
       "         ..., \n",
       "         [ 0.92156863,  0.89803922,  0.94509804],\n",
       "         [ 0.92156863,  0.89803922,  0.9372549 ],\n",
       "         [ 0.92156863,  0.89803922,  0.9372549 ]],\n",
       "\n",
       "        [[ 0.00784314,  0.02352941,  0.05882353],\n",
       "         [ 0.00784314,  0.02352941,  0.05882353],\n",
       "         [ 0.01176471,  0.02745098,  0.07058824],\n",
       "         ..., \n",
       "         [ 0.92156863,  0.89803922,  0.94509804],\n",
       "         [ 0.92156863,  0.89803922,  0.9372549 ],\n",
       "         [ 0.92156863,  0.89803922,  0.9372549 ]]],\n",
       "\n",
       "\n",
       "       [[[ 0.        ,  0.01960784,  0.03137255],\n",
       "         [ 0.00392157,  0.02352941,  0.03921569],\n",
       "         [ 0.00784314,  0.02745098,  0.05098039],\n",
       "         ..., \n",
       "         [ 0.01568627,  0.01568627,  0.00784314],\n",
       "         [ 0.01176471,  0.01176471,  0.00392157],\n",
       "         [ 0.01568627,  0.01568627,  0.00784314]],\n",
       "\n",
       "        [[ 0.00392157,  0.02352941,  0.03921569],\n",
       "         [ 0.00784314,  0.02745098,  0.05098039],\n",
       "         [ 0.01176471,  0.02745098,  0.0627451 ],\n",
       "         ..., \n",
       "         [ 0.02352941,  0.02352941,  0.01568627],\n",
       "         [ 0.01960784,  0.01960784,  0.01176471],\n",
       "         [ 0.02352941,  0.02352941,  0.01568627]],\n",
       "\n",
       "        [[ 0.00784314,  0.02745098,  0.05098039],\n",
       "         [ 0.00784314,  0.02745098,  0.05098039],\n",
       "         [ 0.01568627,  0.03137255,  0.0745098 ],\n",
       "         ..., \n",
       "         [ 0.02745098,  0.02745098,  0.01960784],\n",
       "         [ 0.02745098,  0.02745098,  0.01960784],\n",
       "         [ 0.02745098,  0.02745098,  0.01960784]],\n",
       "\n",
       "        ..., \n",
       "        [[ 0.01568627,  0.03137255,  0.06666667],\n",
       "         [ 0.01568627,  0.03137255,  0.06666667],\n",
       "         [ 0.01960784,  0.03529412,  0.07843137],\n",
       "         ..., \n",
       "         [ 0.92156863,  0.89803922,  0.94509804],\n",
       "         [ 0.92156863,  0.89803922,  0.9372549 ],\n",
       "         [ 0.92156863,  0.89803922,  0.9372549 ]],\n",
       "\n",
       "        [[ 0.01568627,  0.03529412,  0.05882353],\n",
       "         [ 0.01568627,  0.03137255,  0.06666667],\n",
       "         [ 0.01960784,  0.03529412,  0.07843137],\n",
       "         ..., \n",
       "         [ 0.92156863,  0.89803922,  0.94509804],\n",
       "         [ 0.92156863,  0.89803922,  0.9372549 ],\n",
       "         [ 0.92156863,  0.89803922,  0.9372549 ]],\n",
       "\n",
       "        [[ 0.01568627,  0.03529412,  0.05882353],\n",
       "         [ 0.01568627,  0.03529412,  0.05882353],\n",
       "         [ 0.01960784,  0.03529412,  0.07058824],\n",
       "         ..., \n",
       "         [ 0.92156863,  0.89803922,  0.94509804],\n",
       "         [ 0.92156863,  0.89803922,  0.9372549 ],\n",
       "         [ 0.92156863,  0.89803922,  0.9372549 ]]],\n",
       "\n",
       "\n",
       "       [[[ 0.        ,  0.00392157,  0.01568627],\n",
       "         [ 0.        ,  0.00784314,  0.01960784],\n",
       "         [ 0.        ,  0.01176471,  0.03529412],\n",
       "         ..., \n",
       "         [ 0.01568627,  0.01568627,  0.00784314],\n",
       "         [ 0.01176471,  0.01176471,  0.00392157],\n",
       "         [ 0.01568627,  0.01568627,  0.00784314]],\n",
       "\n",
       "        [[ 0.        ,  0.01176471,  0.02352941],\n",
       "         [ 0.        ,  0.01568627,  0.03137255],\n",
       "         [ 0.        ,  0.01960784,  0.04313725],\n",
       "         ..., \n",
       "         [ 0.02352941,  0.02352941,  0.01568627],\n",
       "         [ 0.01960784,  0.01960784,  0.01176471],\n",
       "         [ 0.02352941,  0.02352941,  0.01568627]],\n",
       "\n",
       "        [[ 0.        ,  0.01960784,  0.03137255],\n",
       "         [ 0.00392157,  0.02352941,  0.03921569],\n",
       "         [ 0.01176471,  0.03137255,  0.05490196],\n",
       "         ..., \n",
       "         [ 0.02745098,  0.02745098,  0.01960784],\n",
       "         [ 0.02745098,  0.02745098,  0.01960784],\n",
       "         [ 0.02745098,  0.02745098,  0.01960784]],\n",
       "\n",
       "        ..., \n",
       "        [[ 0.01568627,  0.03137255,  0.06666667],\n",
       "         [ 0.01568627,  0.03137255,  0.06666667],\n",
       "         [ 0.01960784,  0.03529412,  0.07843137],\n",
       "         ..., \n",
       "         [ 0.92156863,  0.89803922,  0.94509804],\n",
       "         [ 0.92156863,  0.89803922,  0.9372549 ],\n",
       "         [ 0.92156863,  0.89803922,  0.9372549 ]],\n",
       "\n",
       "        [[ 0.01568627,  0.03529412,  0.05882353],\n",
       "         [ 0.01568627,  0.03137255,  0.06666667],\n",
       "         [ 0.01960784,  0.03529412,  0.07058824],\n",
       "         ..., \n",
       "         [ 0.92156863,  0.89803922,  0.94509804],\n",
       "         [ 0.92156863,  0.89803922,  0.9372549 ],\n",
       "         [ 0.92156863,  0.89803922,  0.9372549 ]],\n",
       "\n",
       "        [[ 0.01568627,  0.03529412,  0.05882353],\n",
       "         [ 0.01568627,  0.03529412,  0.05882353],\n",
       "         [ 0.01960784,  0.03529412,  0.07058824],\n",
       "         ..., \n",
       "         [ 0.92156863,  0.89803922,  0.94509804],\n",
       "         [ 0.92156863,  0.89803922,  0.9372549 ],\n",
       "         [ 0.92156863,  0.89803922,  0.9372549 ]]],\n",
       "\n",
       "\n",
       "       [[[ 0.00392157,  0.02352941,  0.04705882],\n",
       "         [ 0.00784314,  0.02352941,  0.05882353],\n",
       "         [ 0.00784314,  0.02352941,  0.06666667],\n",
       "         ..., \n",
       "         [ 0.01176471,  0.01176471,  0.00392157],\n",
       "         [ 0.00784314,  0.00784314,  0.        ],\n",
       "         [ 0.00392157,  0.00392157,  0.        ]],\n",
       "\n",
       "        [[ 0.01568627,  0.03137255,  0.06666667],\n",
       "         [ 0.01568627,  0.03137255,  0.06666667],\n",
       "         [ 0.01960784,  0.03529412,  0.07843137],\n",
       "         ..., \n",
       "         [ 0.01568627,  0.01568627,  0.00784314],\n",
       "         [ 0.01176471,  0.01176471,  0.00392157],\n",
       "         [ 0.01176471,  0.01176471,  0.00392157]],\n",
       "\n",
       "        [[ 0.01960784,  0.03529412,  0.07058824],\n",
       "         [ 0.02352941,  0.03921569,  0.08235294],\n",
       "         [ 0.02352941,  0.03921569,  0.08627451],\n",
       "         ..., \n",
       "         [ 0.02352941,  0.02352941,  0.01568627],\n",
       "         [ 0.01960784,  0.01960784,  0.01176471],\n",
       "         [ 0.01960784,  0.01960784,  0.01176471]],\n",
       "\n",
       "        ..., \n",
       "        [[ 0.01568627,  0.03137255,  0.06666667],\n",
       "         [ 0.01568627,  0.03137255,  0.0745098 ],\n",
       "         [ 0.01568627,  0.03137255,  0.07843137],\n",
       "         ..., \n",
       "         [ 0.92156863,  0.89803922,  0.94509804],\n",
       "         [ 0.92156863,  0.89803922,  0.9372549 ],\n",
       "         [ 0.92156863,  0.89803922,  0.9372549 ]],\n",
       "\n",
       "        [[ 0.01176471,  0.02745098,  0.0627451 ],\n",
       "         [ 0.01176471,  0.02745098,  0.0627451 ],\n",
       "         [ 0.01176471,  0.02745098,  0.07058824],\n",
       "         ..., \n",
       "         [ 0.92156863,  0.89803922,  0.94509804],\n",
       "         [ 0.92156863,  0.89803922,  0.9372549 ],\n",
       "         [ 0.92156863,  0.89803922,  0.9372549 ]],\n",
       "\n",
       "        [[ 0.00784314,  0.02352941,  0.05882353],\n",
       "         [ 0.00784314,  0.02352941,  0.05882353],\n",
       "         [ 0.01176471,  0.02745098,  0.07058824],\n",
       "         ..., \n",
       "         [ 0.92156863,  0.89803922,  0.94509804],\n",
       "         [ 0.92156863,  0.89803922,  0.9372549 ],\n",
       "         [ 0.92156863,  0.89803922,  0.9372549 ]]]])], dtype=object)"
      ]
     },
     "execution_count": 39,
     "metadata": {},
     "output_type": "execute_result"
    }
   ],
   "source": [
    "test_frames[0]"
   ]
  },
  {
   "cell_type": "code",
   "execution_count": 57,
   "metadata": {
    "collapsed": false,
    "scrolled": true
   },
   "outputs": [
    {
     "data": {
      "text/plain": [
       "[(0,\n",
       "  array([ 0.02990815,  0.87141144,  0.03884432,  0.01783795,  0.04199824], dtype=float32)),\n",
       " (1,\n",
       "  array([ 0.05284804,  0.85617864,  0.02813121,  0.01266972,  0.05017231], dtype=float32)),\n",
       " (2,\n",
       "  array([ 0.02113564,  0.79115915,  0.13195661,  0.01407295,  0.04167565], dtype=float32)),\n",
       " (3,\n",
       "  array([ 0.04125538,  0.66306341,  0.25089926,  0.01138087,  0.03340105], dtype=float32)),\n",
       " (4,\n",
       "  array([ 0.05142019,  0.26781598,  0.6499601 ,  0.00649989,  0.0243038 ], dtype=float32)),\n",
       " (5,\n",
       "  array([ 0.00897984,  0.04401732,  0.93387884,  0.00136466,  0.01175937], dtype=float32)),\n",
       " (7,\n",
       "  array([ 0.00194785,  0.00265935,  0.03473446,  0.00238633,  0.95827204], dtype=float32)),\n",
       " (9,\n",
       "  array([ 0.00781901,  0.04496627,  0.93763733,  0.00115217,  0.00842521], dtype=float32)),\n",
       " (10,\n",
       "  array([ 0.04500297,  0.73338723,  0.08002244,  0.02114916,  0.12043814], dtype=float32)),\n",
       " (11,\n",
       "  array([ 0.01730857,  0.0263928 ,  0.63424027,  0.00629761,  0.3157607 ], dtype=float32)),\n",
       " (12,\n",
       "  array([ 0.01106732,  0.06290718,  0.91401315,  0.00156097,  0.0104514 ], dtype=float32)),\n",
       " (14,\n",
       "  array([ 0.79252052,  0.01468985,  0.09459341,  0.01967671,  0.07851952], dtype=float32)),\n",
       " (15,\n",
       "  array([ 0.01850782,  0.03239763,  0.9041155 ,  0.00248229,  0.04249686], dtype=float32)),\n",
       " (16,\n",
       "  array([ 0.02863734,  0.87412447,  0.03863466,  0.01760404,  0.04099936], dtype=float32)),\n",
       " (17,\n",
       "  array([ 0.00194962,  0.00266432,  0.0347136 ,  0.00238503,  0.95828736], dtype=float32))]"
      ]
     },
     "execution_count": 57,
     "metadata": {},
     "output_type": "execute_result"
    }
   ],
   "source": [
    "zip(ids,rnn_model.predict(test_frames))"
   ]
  },
  {
   "cell_type": "code",
   "execution_count": 29,
   "metadata": {
    "collapsed": false
   },
   "outputs": [
    {
     "data": {
      "text/plain": [
       "{'apple': 2, 'cocacola': 0, 'nike': 4, 'pepsi': 1, 'starbucks': 3}"
      ]
     },
     "execution_count": 29,
     "metadata": {},
     "output_type": "execute_result"
    }
   ],
   "source": [
    "labels_dict"
   ]
  },
  {
   "cell_type": "code",
   "execution_count": 16,
   "metadata": {
    "collapsed": false
   },
   "outputs": [
    {
     "data": {
      "image/svg+xml": [
       "<svg height=\"410pt\" viewBox=\"0.00 0.00 320.00 410.00\" width=\"320pt\" xmlns=\"http://www.w3.org/2000/svg\" xmlns:xlink=\"http://www.w3.org/1999/xlink\">\n",
       "<g class=\"graph\" id=\"graph0\" transform=\"scale(1 1) rotate(0) translate(4 406)\">\n",
       "<title>G</title>\n",
       "<polygon fill=\"white\" points=\"-4,4 -4,-406 316,-406 316,4 -4,4\" stroke=\"none\"/>\n",
       "<!-- 140665667052368 -->\n",
       "<g class=\"node\" id=\"node1\"><title>140665667052368</title>\n",
       "<polygon fill=\"none\" points=\"48.5,-365.5 48.5,-401.5 263.5,-401.5 263.5,-365.5 48.5,-365.5\" stroke=\"black\"/>\n",
       "<text font-family=\"Times,serif\" font-size=\"14.00\" text-anchor=\"middle\" x=\"156\" y=\"-379.8\">timedistributed_input_2: InputLayer</text>\n",
       "</g>\n",
       "<!-- 140665585267088 -->\n",
       "<g class=\"node\" id=\"node2\"><title>140665585267088</title>\n",
       "<polygon fill=\"none\" points=\"0,-292.5 0,-328.5 312,-328.5 312,-292.5 0,-292.5\" stroke=\"black\"/>\n",
       "<text font-family=\"Times,serif\" font-size=\"14.00\" text-anchor=\"middle\" x=\"156\" y=\"-306.8\">timedistributed_2(model_1): TimeDistributed(Model)</text>\n",
       "</g>\n",
       "<!-- 140665667052368&#45;&gt;140665585267088 -->\n",
       "<g class=\"edge\" id=\"edge1\"><title>140665667052368-&gt;140665585267088</title>\n",
       "<path d=\"M156,-365.313C156,-357.289 156,-347.547 156,-338.569\" fill=\"none\" stroke=\"black\"/>\n",
       "<polygon fill=\"black\" points=\"159.5,-338.529 156,-328.529 152.5,-338.529 159.5,-338.529\" stroke=\"black\"/>\n",
       "</g>\n",
       "<!-- 140665589833616 -->\n",
       "<g class=\"node\" id=\"node3\"><title>140665589833616</title>\n",
       "<polygon fill=\"none\" points=\"114,-219.5 114,-255.5 198,-255.5 198,-219.5 114,-219.5\" stroke=\"black\"/>\n",
       "<text font-family=\"Times,serif\" font-size=\"14.00\" text-anchor=\"middle\" x=\"156\" y=\"-233.8\">gru_3: GRU</text>\n",
       "</g>\n",
       "<!-- 140665585267088&#45;&gt;140665589833616 -->\n",
       "<g class=\"edge\" id=\"edge2\"><title>140665585267088-&gt;140665589833616</title>\n",
       "<path d=\"M156,-292.313C156,-284.289 156,-274.547 156,-265.569\" fill=\"none\" stroke=\"black\"/>\n",
       "<polygon fill=\"black\" points=\"159.5,-265.529 156,-255.529 152.5,-265.529 159.5,-265.529\" stroke=\"black\"/>\n",
       "</g>\n",
       "<!-- 140665578936784 -->\n",
       "<g class=\"node\" id=\"node4\"><title>140665578936784</title>\n",
       "<polygon fill=\"none\" points=\"114,-146.5 114,-182.5 198,-182.5 198,-146.5 114,-146.5\" stroke=\"black\"/>\n",
       "<text font-family=\"Times,serif\" font-size=\"14.00\" text-anchor=\"middle\" x=\"156\" y=\"-160.8\">gru_4: GRU</text>\n",
       "</g>\n",
       "<!-- 140665589833616&#45;&gt;140665578936784 -->\n",
       "<g class=\"edge\" id=\"edge3\"><title>140665589833616-&gt;140665578936784</title>\n",
       "<path d=\"M156,-219.313C156,-211.289 156,-201.547 156,-192.569\" fill=\"none\" stroke=\"black\"/>\n",
       "<polygon fill=\"black\" points=\"159.5,-192.529 156,-182.529 152.5,-192.529 159.5,-192.529\" stroke=\"black\"/>\n",
       "</g>\n",
       "<!-- 140665577035344 -->\n",
       "<g class=\"node\" id=\"node5\"><title>140665577035344</title>\n",
       "<polygon fill=\"none\" points=\"93.5,-73.5 93.5,-109.5 218.5,-109.5 218.5,-73.5 93.5,-73.5\" stroke=\"black\"/>\n",
       "<text font-family=\"Times,serif\" font-size=\"14.00\" text-anchor=\"middle\" x=\"156\" y=\"-87.8\">dropout_2: Dropout</text>\n",
       "</g>\n",
       "<!-- 140665578936784&#45;&gt;140665577035344 -->\n",
       "<g class=\"edge\" id=\"edge4\"><title>140665578936784-&gt;140665577035344</title>\n",
       "<path d=\"M156,-146.313C156,-138.289 156,-128.547 156,-119.569\" fill=\"none\" stroke=\"black\"/>\n",
       "<polygon fill=\"black\" points=\"159.5,-119.529 156,-109.529 152.5,-119.529 159.5,-119.529\" stroke=\"black\"/>\n",
       "</g>\n",
       "<!-- 140665578033872 -->\n",
       "<g class=\"node\" id=\"node6\"><title>140665578033872</title>\n",
       "<polygon fill=\"none\" points=\"105,-0.5 105,-36.5 207,-36.5 207,-0.5 105,-0.5\" stroke=\"black\"/>\n",
       "<text font-family=\"Times,serif\" font-size=\"14.00\" text-anchor=\"middle\" x=\"156\" y=\"-14.8\">dense_4: Dense</text>\n",
       "</g>\n",
       "<!-- 140665577035344&#45;&gt;140665578033872 -->\n",
       "<g class=\"edge\" id=\"edge5\"><title>140665577035344-&gt;140665578033872</title>\n",
       "<path d=\"M156,-73.3129C156,-65.2895 156,-55.5475 156,-46.5691\" fill=\"none\" stroke=\"black\"/>\n",
       "<polygon fill=\"black\" points=\"159.5,-46.5288 156,-36.5288 152.5,-46.5289 159.5,-46.5288\" stroke=\"black\"/>\n",
       "</g>\n",
       "</g>\n",
       "</svg>"
      ],
      "text/plain": [
       "<IPython.core.display.SVG object>"
      ]
     },
     "execution_count": 16,
     "metadata": {},
     "output_type": "execute_result"
    }
   ],
   "source": [
    "from IPython.display import SVG\n",
    "from keras.utils.visualize_util import model_to_dot, plot\n",
    "\n",
    "SVG(model_to_dot(rnn_model).create(prog='dot', format='svg'))#plot_model(rnn_model, to_file='model.png')"
   ]
  },
  {
   "cell_type": "code",
   "execution_count": 9,
   "metadata": {
    "collapsed": false
   },
   "outputs": [],
   "source": [
    "from keras import utils"
   ]
  },
  {
   "cell_type": "code",
   "execution_count": 19,
   "metadata": {
    "collapsed": false
   },
   "outputs": [],
   "source": [
    "plot(rnn_model, to_file='rnn.png')\n",
    "plot(trained_model, to_file='cnn.png')\n",
    "\n"
   ]
  },
  {
   "cell_type": "code",
   "execution_count": 12,
   "metadata": {
    "collapsed": false
   },
   "outputs": [
    {
     "data": {
      "text/plain": [
       "['Activation',\n",
       " 'ActivityRegularization',\n",
       " 'AtrousConv1D',\n",
       " 'AtrousConv2D',\n",
       " 'AtrousConvolution1D',\n",
       " 'AtrousConvolution2D',\n",
       " 'AveragePooling1D',\n",
       " 'AveragePooling2D',\n",
       " 'AveragePooling3D',\n",
       " 'BatchNormalization',\n",
       " 'Bidirectional',\n",
       " 'Conv1D',\n",
       " 'Conv2D',\n",
       " 'Conv3D',\n",
       " 'ConvLSTM2D',\n",
       " 'ConvRecurrent2D',\n",
       " 'Convolution1D',\n",
       " 'Convolution2D',\n",
       " 'Convolution3D',\n",
       " 'Cropping1D',\n",
       " 'Cropping2D',\n",
       " 'Cropping3D',\n",
       " 'Deconv2D',\n",
       " 'Deconvolution2D',\n",
       " 'Dense',\n",
       " 'Dropout',\n",
       " 'ELU',\n",
       " 'Embedding',\n",
       " 'Flatten',\n",
       " 'GRU',\n",
       " 'GaussianDropout',\n",
       " 'GaussianNoise',\n",
       " 'GlobalAveragePooling1D',\n",
       " 'GlobalAveragePooling2D',\n",
       " 'GlobalAveragePooling3D',\n",
       " 'GlobalMaxPooling1D',\n",
       " 'GlobalMaxPooling2D',\n",
       " 'GlobalMaxPooling3D',\n",
       " 'Highway',\n",
       " 'Input',\n",
       " 'InputLayer',\n",
       " 'InputSpec',\n",
       " 'K',\n",
       " 'LSTM',\n",
       " 'Lambda',\n",
       " 'Layer',\n",
       " 'LeakyReLU',\n",
       " 'LocallyConnected1D',\n",
       " 'LocallyConnected2D',\n",
       " 'Masking',\n",
       " 'MaxPooling1D',\n",
       " 'MaxPooling2D',\n",
       " 'MaxPooling3D',\n",
       " 'MaxoutDense',\n",
       " 'Merge',\n",
       " 'Model',\n",
       " 'PReLU',\n",
       " 'ParametricSoftplus',\n",
       " 'Permute',\n",
       " 'Recurrent',\n",
       " 'RepeatVector',\n",
       " 'Reshape',\n",
       " 'SReLU',\n",
       " 'SeparableConv2D',\n",
       " 'SeparableConvolution2D',\n",
       " 'Sequential',\n",
       " 'SimpleRNN',\n",
       " 'SpatialDropout1D',\n",
       " 'SpatialDropout2D',\n",
       " 'SpatialDropout3D',\n",
       " 'ThresholdedReLU',\n",
       " 'TimeDistributed',\n",
       " 'TimeDistributedDense',\n",
       " 'UpSampling1D',\n",
       " 'UpSampling2D',\n",
       " 'UpSampling3D',\n",
       " 'Wrapper',\n",
       " 'ZeroPadding1D',\n",
       " 'ZeroPadding2D',\n",
       " 'ZeroPadding3D',\n",
       " '__builtins__',\n",
       " '__doc__',\n",
       " '__file__',\n",
       " '__name__',\n",
       " '__package__',\n",
       " 'absolute_import',\n",
       " 'activations',\n",
       " 'advanced_activations',\n",
       " 'constraints',\n",
       " 'conv_input_length',\n",
       " 'conv_output_length',\n",
       " 'convert_all_kernels_in_model',\n",
       " 'convert_kernel',\n",
       " 'convolutional',\n",
       " 'convolutional_recurrent',\n",
       " 'copy',\n",
       " 'core',\n",
       " 'count_total_params',\n",
       " 'division',\n",
       " 'embeddings',\n",
       " 'func_dump',\n",
       " 'func_load',\n",
       " 'functools',\n",
       " 'get_custom_objects',\n",
       " 'get_from_module',\n",
       " 'initializations',\n",
       " 'inspect',\n",
       " 'layer_from_config',\n",
       " 'local',\n",
       " 'merge',\n",
       " 'noise',\n",
       " 'normalization',\n",
       " 'np',\n",
       " 'pooling',\n",
       " 'print_function',\n",
       " 'print_summary',\n",
       " 'python_types',\n",
       " 'recurrent',\n",
       " 'regularizers',\n",
       " 'time_distributed_dense',\n",
       " 'warnings',\n",
       " 'wrappers']"
      ]
     },
     "execution_count": 12,
     "metadata": {},
     "output_type": "execute_result"
    }
   ],
   "source": [
    "dir(utils.layer_utils)"
   ]
  },
  {
   "cell_type": "code",
   "execution_count": null,
   "metadata": {
    "collapsed": true
   },
   "outputs": [],
   "source": []
  }
 ],
 "metadata": {
  "anaconda-cloud": {},
  "kernelspec": {
   "display_name": "Python 3",
   "language": "python",
   "name": "python3"
  },
  "language_info": {
   "codemirror_mode": {
    "name": "ipython",
    "version": 3
   },
   "file_extension": ".py",
   "mimetype": "text/x-python",
   "name": "python",
   "nbconvert_exporter": "python",
   "pygments_lexer": "ipython3",
   "version": "3.5.2"
  }
 },
 "nbformat": 4,
 "nbformat_minor": 1
}
